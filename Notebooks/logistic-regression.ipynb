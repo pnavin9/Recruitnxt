{
 "cells": [
  {
   "cell_type": "code",
   "execution_count": 1,
   "id": "0a161d00",
   "metadata": {
    "_cell_guid": "b1076dfc-b9ad-4769-8c92-a6c4dae69d19",
    "_uuid": "8f2839f25d086af736a60e9eeb907d3b93b6e0e5",
    "execution": {
     "iopub.execute_input": "2024-04-11T02:20:17.879388Z",
     "iopub.status.busy": "2024-04-11T02:20:17.878550Z",
     "iopub.status.idle": "2024-04-11T02:20:22.257789Z",
     "shell.execute_reply": "2024-04-11T02:20:22.256493Z"
    },
    "papermill": {
     "duration": 4.390668,
     "end_time": "2024-04-11T02:20:22.260693",
     "exception": false,
     "start_time": "2024-04-11T02:20:17.870025",
     "status": "completed"
    },
    "tags": []
   },
   "outputs": [],
   "source": [
    "import pandas as pd\n",
    "import numpy as np\n",
    "from sklearn.preprocessing import OneHotEncoder\n",
    "import re\n",
    "import optuna\n",
    "from optuna import Trial, visualization\n",
    "from sklearn.model_selection import StratifiedKFold, KFold,cross_val_predict,cross_val_score,cross_validate\n",
    "from sklearn.linear_model import LogisticRegression\n",
    "\n",
    "\n",
    "# Load train and test data\n",
    "train_data = pd.read_csv('/kaggle/input/primal2-0/final_train.csv')\n",
    "test_data = pd.read_csv('/kaggle/input/primal2-0/final_test.csv')\n",
    "\n",
    "# Concatenate train and test data for preprocessing\n",
    "combined_data = pd.concat([train_data, test_data], ignore_index=True)\n",
    "\n",
    "value_mapping = {\n",
    "    'a': 6,  # Example: 10 lakhs\n",
    "}\n",
    "# Replace values in the 'ticket size' column using the mapping\n",
    "combined_data['Previous_Organizations'] = test_data['Previous_Organizations'].replace(value_mapping)\n",
    "\n",
    "# Drop specified columns\n",
    "combined_data.drop(columns=['Designation', 'DOJ', 'R_District', 'B_District', 'Company_1', 'Company_2', 'Skill'], inplace=True)\n",
    "\n",
    "# Replace Graduation and Qualification values\n",
    "combined_data['Graduation'] = combined_data['Graduation'].fillna(0).map({'full time': 1, 'part time': 0, 0: 0})\n",
    "combined_data['Qualification'] = combined_data['Qualification'].map({'graduate': 2, 'under graduate': 1, 'post graduate': 3, 'others': 0, 'diploma holders': 4}).fillna(-1)\n",
    "\n",
    "# Set 'Previous_Organizations' as type int, treating NaN as 0\n",
    "combined_data['Previous_Organizations'] = combined_data['Previous_Organizations'].fillna(0).astype(int)\n",
    "\n",
    "# One-hot encoding for categorical variables\n",
    "columns_to_encode = ['Industry', 'Source', 'Department', 'R_Region', 'B_Region']\n",
    "combined_data_encoded = pd.get_dummies(combined_data, columns=columns_to_encode)\n",
    "\n",
    "# Create indicator variables for states\n",
    "states = list(combined_data['R_State']) + list(combined_data['B_State'])\n",
    "for state in states:\n",
    "    combined_data_encoded[state] = ((combined_data['R_State'] == state) | (combined_data['B_State'] == state)).astype(int)\n",
    "\n",
    "# Drop 'R_State' and 'B_State'\n",
    "combined_data_encoded.drop(columns=['R_State', 'B_State', 'Unnamed: 0'], inplace=True)\n",
    "combined_data_encoded.columns = [re.sub(r'\\W+', '_', col) for col in combined_data_encoded.columns]\n",
    "\n",
    "# Separate back into train and test data\n",
    "train_data_processed = combined_data_encoded.iloc[:len(train_data)]\n",
    "test_data_processed = combined_data_encoded.iloc[len(train_data):].drop(columns='Performance')  # Assuming 'Target' is the target column"
   ]
  },
  {
   "cell_type": "code",
   "execution_count": 2,
   "id": "e5781c31",
   "metadata": {
    "execution": {
     "iopub.execute_input": "2024-04-11T02:20:22.275051Z",
     "iopub.status.busy": "2024-04-11T02:20:22.274656Z",
     "iopub.status.idle": "2024-04-11T02:20:22.286585Z",
     "shell.execute_reply": "2024-04-11T02:20:22.285426Z"
    },
    "papermill": {
     "duration": 0.022886,
     "end_time": "2024-04-11T02:20:22.289706",
     "exception": false,
     "start_time": "2024-04-11T02:20:22.266820",
     "status": "completed"
    },
    "tags": []
   },
   "outputs": [],
   "source": [
    "df_all = train_data_processed\n",
    "df_test = test_data_processed\n",
    "df_submission = pd.read_csv(\"/kaggle/input/sample/sample.csv\")"
   ]
  },
  {
   "cell_type": "code",
   "execution_count": 3,
   "id": "fbdb4c1f",
   "metadata": {
    "execution": {
     "iopub.execute_input": "2024-04-11T02:20:22.303181Z",
     "iopub.status.busy": "2024-04-11T02:20:22.302771Z",
     "iopub.status.idle": "2024-04-11T02:20:22.316375Z",
     "shell.execute_reply": "2024-04-11T02:20:22.315242Z"
    },
    "papermill": {
     "duration": 0.0234,
     "end_time": "2024-04-11T02:20:22.319001",
     "exception": false,
     "start_time": "2024-04-11T02:20:22.295601",
     "status": "completed"
    },
    "tags": []
   },
   "outputs": [],
   "source": [
    "X = df_all.drop(labels=['CandidateID','Performance'],axis=1,inplace=False).copy()\n",
    "y = df_all['Performance'].values\n",
    "X_test = df_test.drop(labels=['CandidateID'],axis=1,inplace=False).copy()\n",
    "random_seed = 0"
   ]
  },
  {
   "cell_type": "code",
   "execution_count": 4,
   "id": "3aa03d80",
   "metadata": {
    "execution": {
     "iopub.execute_input": "2024-04-11T02:20:22.332483Z",
     "iopub.status.busy": "2024-04-11T02:20:22.332046Z",
     "iopub.status.idle": "2024-04-11T02:20:22.461179Z",
     "shell.execute_reply": "2024-04-11T02:20:22.460108Z"
    },
    "papermill": {
     "duration": 0.139354,
     "end_time": "2024-04-11T02:20:22.464228",
     "exception": false,
     "start_time": "2024-04-11T02:20:22.324874",
     "status": "completed"
    },
    "tags": []
   },
   "outputs": [],
   "source": [
    "encoder = OneHotEncoder()\n",
    "all_encoded = encoder.fit_transform(pd.concat([X,X_test]))\n",
    "#X = all_encoded[0:len(X)]\n",
    "#X_test = all_encoded[len(X):]\n",
    "X = all_encoded.tocsr()[0:len(X)]\n",
    "X_test = all_encoded [len(df_all):]"
   ]
  },
  {
   "cell_type": "code",
   "execution_count": 5,
   "id": "a05f1128",
   "metadata": {
    "execution": {
     "iopub.execute_input": "2024-04-11T02:20:22.477536Z",
     "iopub.status.busy": "2024-04-11T02:20:22.477130Z",
     "iopub.status.idle": "2024-04-11T02:20:22.491728Z",
     "shell.execute_reply": "2024-04-11T02:20:22.490600Z"
    },
    "papermill": {
     "duration": 0.024394,
     "end_time": "2024-04-11T02:20:22.494475",
     "exception": false,
     "start_time": "2024-04-11T02:20:22.470081",
     "status": "completed"
    },
    "tags": []
   },
   "outputs": [
    {
     "data": {
      "text/plain": [
       "Performance\n",
       "0.0    450\n",
       "1.0    295\n",
       "Name: count, dtype: int64"
      ]
     },
     "execution_count": 5,
     "metadata": {},
     "output_type": "execute_result"
    }
   ],
   "source": [
    "df_all['Performance'].value_counts()"
   ]
  },
  {
   "cell_type": "code",
   "execution_count": 6,
   "id": "1936b7fb",
   "metadata": {
    "execution": {
     "iopub.execute_input": "2024-04-11T02:20:22.508310Z",
     "iopub.status.busy": "2024-04-11T02:20:22.507920Z",
     "iopub.status.idle": "2024-04-11T02:20:22.520094Z",
     "shell.execute_reply": "2024-04-11T02:20:22.519084Z"
    },
    "papermill": {
     "duration": 0.022233,
     "end_time": "2024-04-11T02:20:22.522753",
     "exception": false,
     "start_time": "2024-04-11T02:20:22.500520",
     "status": "completed"
    },
    "tags": []
   },
   "outputs": [],
   "source": [
    "X = df_all.drop(labels=['CandidateID','Performance'],axis=1,inplace=False).copy()\n",
    "y = df_all['Performance'].values\n",
    "X_test = df_test.drop(labels=['CandidateID'],axis=1,inplace=False).copy()\n",
    "random_seed = 0"
   ]
  },
  {
   "cell_type": "code",
   "execution_count": 7,
   "id": "fb87c7df",
   "metadata": {
    "execution": {
     "iopub.execute_input": "2024-04-11T02:20:22.536451Z",
     "iopub.status.busy": "2024-04-11T02:20:22.535999Z",
     "iopub.status.idle": "2024-04-11T02:20:22.661366Z",
     "shell.execute_reply": "2024-04-11T02:20:22.659779Z"
    },
    "papermill": {
     "duration": 0.135573,
     "end_time": "2024-04-11T02:20:22.664226",
     "exception": false,
     "start_time": "2024-04-11T02:20:22.528653",
     "status": "completed"
    },
    "tags": []
   },
   "outputs": [],
   "source": [
    "encoder = OneHotEncoder()\n",
    "all_encoded = encoder.fit_transform(pd.concat([X,X_test]))\n",
    "#X = all_encoded[0:len(X)]\n",
    "#X_test = all_encoded[len(X):]\n",
    "X = all_encoded.tocsr()[0:len(X)]\n",
    "X_test = all_encoded [len(df_all):]"
   ]
  },
  {
   "cell_type": "code",
   "execution_count": 8,
   "id": "2886c9f5",
   "metadata": {
    "execution": {
     "iopub.execute_input": "2024-04-11T02:20:22.679038Z",
     "iopub.status.busy": "2024-04-11T02:20:22.678594Z",
     "iopub.status.idle": "2024-04-11T02:20:22.692279Z",
     "shell.execute_reply": "2024-04-11T02:20:22.690935Z"
    },
    "papermill": {
     "duration": 0.023931,
     "end_time": "2024-04-11T02:20:22.694694",
     "exception": false,
     "start_time": "2024-04-11T02:20:22.670763",
     "status": "completed"
    },
    "tags": []
   },
   "outputs": [],
   "source": [
    "from sklearn.metrics import f1_score\n",
    "\n",
    "def objective(trial, data=X, target=y):\n",
    "    param_space = {\n",
    "        'C': trial.suggest_float('C', 1e-3, 1e2, log = True),\n",
    "        'penalty': trial.suggest_categorical('penalty', ['l2']),\n",
    "        'solver': trial.suggest_categorical('solver', ['newton-cg', 'lbfgs', 'sag']),\n",
    "        'multi_class': trial.suggest_categorical('multi_class', ['ovr', 'multinomial']),\n",
    "        'max_iter': 10000,\n",
    "        'class_weight': trial.suggest_categorical('class_weight', ['balanced', None]),\n",
    "        'tol' : trial.suggest_float('C', 1e-5, 1e-1, log = True),\n",
    "    }\n",
    "    \n",
    "    k = 5\n",
    "    seed_list = [0]\n",
    "    kf = StratifiedKFold(n_splits=k, shuffle=True, random_state=random_seed)\n",
    "    oof = np.zeros((len(df_all), 2))\n",
    "    score_list = []\n",
    "    fold = 1\n",
    "    \n",
    "    splits = list(kf.split(X, y))\n",
    "    for train_idx, val_idx in splits:\n",
    "        X_train, X_val = X[train_idx, :], X[val_idx, :]\n",
    "        y_train, y_val = y[train_idx], y[val_idx]\n",
    "        \n",
    "        val_preds_list = []\n",
    "        \n",
    "        for seed in seed_list:\n",
    "            param_space['random_state'] = seed\n",
    "            model = LogisticRegression(**param_space)\n",
    "            model.fit(X_train, y=y_train)\n",
    "            val_preds_list.append(model.predict_proba(X_val))\n",
    "            \n",
    "        oof[val_idx] = np.mean(val_preds_list, axis=0)\n",
    "        # Calculate F1 score instead of log loss\n",
    "        score = f1_score(y_val, np.argmax(oof[val_idx], axis=1), average='weighted')\n",
    "        print(f\"fold: {fold}, F1 score: {score}\")\n",
    "        score_list.append(score)\n",
    "        fold += 1\n",
    "    \n",
    "    cv_f1_score = np.mean(score_list)\n",
    "    \n",
    "    return cv_f1_score"
   ]
  },
  {
   "cell_type": "code",
   "execution_count": 9,
   "id": "b08217ac",
   "metadata": {
    "execution": {
     "iopub.execute_input": "2024-04-11T02:20:22.709736Z",
     "iopub.status.busy": "2024-04-11T02:20:22.708523Z",
     "iopub.status.idle": "2024-04-11T02:21:17.996172Z",
     "shell.execute_reply": "2024-04-11T02:21:17.994992Z"
    },
    "papermill": {
     "duration": 55.298163,
     "end_time": "2024-04-11T02:21:17.998799",
     "exception": false,
     "start_time": "2024-04-11T02:20:22.700636",
     "status": "completed"
    },
    "tags": []
   },
   "outputs": [
    {
     "name": "stderr",
     "output_type": "stream",
     "text": [
      "[I 2024-04-11 02:20:22,712] A new study created in memory with name: no-name-cf0179f4-b08a-4ca6-9f2a-6a2dc9dfe5ce\n",
      "/opt/conda/lib/python3.10/site-packages/optuna/trial/_trial.py:676: RuntimeWarning: Inconsistent parameter values for distribution with name \"C\"! This might be a configuration mistake. Optuna allows to call the same distribution with the same name more than once in a trial. When the parameter values are inconsistent optuna only uses the values of the first call and ignores all following. Using these values: {'step': None, 'low': 0.001, 'high': 100.0, 'log': True}\n",
      "  warnings.warn(\n"
     ]
    },
    {
     "name": "stdout",
     "output_type": "stream",
     "text": [
      "fold: 1, F1 score: 0.6364509131229797\n",
      "fold: 2, F1 score: 0.5813491978786993\n",
      "fold: 3, F1 score: 0.5973154362416108\n"
     ]
    },
    {
     "name": "stderr",
     "output_type": "stream",
     "text": [
      "[I 2024-04-11 02:20:23,127] Trial 0 finished with value: 0.6035823891892196 and parameters: {'C': 3.0750807843227044, 'penalty': 'l2', 'solver': 'newton-cg', 'multi_class': 'ovr', 'class_weight': None}. Best is trial 0 with value: 0.6035823891892196.\n",
      "/opt/conda/lib/python3.10/site-packages/optuna/trial/_trial.py:676: RuntimeWarning: Inconsistent parameter values for distribution with name \"C\"! This might be a configuration mistake. Optuna allows to call the same distribution with the same name more than once in a trial. When the parameter values are inconsistent optuna only uses the values of the first call and ignores all following. Using these values: {'step': None, 'low': 0.001, 'high': 100.0, 'log': True}\n",
      "  warnings.warn(\n",
      "[I 2024-04-11 02:20:23,193] Trial 1 finished with value: 0.49136875091257304 and parameters: {'C': 28.576918510129694, 'penalty': 'l2', 'solver': 'sag', 'multi_class': 'ovr', 'class_weight': 'balanced'}. Best is trial 0 with value: 0.6035823891892196.\n"
     ]
    },
    {
     "name": "stdout",
     "output_type": "stream",
     "text": [
      "fold: 4, F1 score: 0.6251816102355279\n",
      "fold: 5, F1 score: 0.5776147884672802\n",
      "fold: 1, F1 score: 0.23899914241320722\n",
      "fold: 2, F1 score: 0.5427224250872695\n",
      "fold: 3, F1 score: 0.6125472994797906\n",
      "fold: 4, F1 score: 0.4632340260016659\n",
      "fold: 5, F1 score: 0.599340861580932\n"
     ]
    },
    {
     "name": "stderr",
     "output_type": "stream",
     "text": [
      "/opt/conda/lib/python3.10/site-packages/optuna/trial/_trial.py:676: RuntimeWarning: Inconsistent parameter values for distribution with name \"C\"! This might be a configuration mistake. Optuna allows to call the same distribution with the same name more than once in a trial. When the parameter values are inconsistent optuna only uses the values of the first call and ignores all following. Using these values: {'step': None, 'low': 0.001, 'high': 100.0, 'log': True}\n",
      "  warnings.warn(\n"
     ]
    },
    {
     "name": "stdout",
     "output_type": "stream",
     "text": [
      "fold: 1, F1 score: 0.599340861580932\n",
      "fold: 2, F1 score: 0.5540905809899712\n",
      "fold: 3, F1 score: 0.5874254597526019\n",
      "fold: 4, F1 score: 0.5867854663272392\n"
     ]
    },
    {
     "name": "stderr",
     "output_type": "stream",
     "text": [
      "[I 2024-04-11 02:20:23,513] Trial 2 finished with value: 0.5788070868614384 and parameters: {'C': 3.4915116324368967, 'penalty': 'l2', 'solver': 'newton-cg', 'multi_class': 'multinomial', 'class_weight': 'balanced'}. Best is trial 0 with value: 0.6035823891892196.\n"
     ]
    },
    {
     "name": "stdout",
     "output_type": "stream",
     "text": [
      "fold: 5, F1 score: 0.5663930656564475\n",
      "fold: 1, F1 score: 0.6262673706284029\n",
      "fold: 2, F1 score: 0.59339841366687\n",
      "fold: 3, F1 score: 0.6397369626741913\n",
      "fold: 4, F1 score: 0.6425712877965243\n"
     ]
    },
    {
     "name": "stderr",
     "output_type": "stream",
     "text": [
      "/opt/conda/lib/python3.10/site-packages/optuna/trial/_trial.py:676: RuntimeWarning: Inconsistent parameter values for distribution with name \"C\"! This might be a configuration mistake. Optuna allows to call the same distribution with the same name more than once in a trial. When the parameter values are inconsistent optuna only uses the values of the first call and ignores all following. Using these values: {'step': None, 'low': 0.001, 'high': 100.0, 'log': True}\n",
      "  warnings.warn(\n",
      "[I 2024-04-11 02:20:23,721] Trial 3 finished with value: 0.6240929622892224 and parameters: {'C': 13.643544703015806, 'penalty': 'l2', 'solver': 'lbfgs', 'multi_class': 'multinomial', 'class_weight': None}. Best is trial 3 with value: 0.6240929622892224.\n",
      "/opt/conda/lib/python3.10/site-packages/optuna/trial/_trial.py:676: RuntimeWarning: Inconsistent parameter values for distribution with name \"C\"! This might be a configuration mistake. Optuna allows to call the same distribution with the same name more than once in a trial. When the parameter values are inconsistent optuna only uses the values of the first call and ignores all following. Using these values: {'step': None, 'low': 0.001, 'high': 100.0, 'log': True}\n",
      "  warnings.warn(\n",
      "[I 2024-04-11 02:20:23,783] Trial 4 finished with value: 0.5463334526013336 and parameters: {'C': 0.31416783351227123, 'penalty': 'l2', 'solver': 'sag', 'multi_class': 'ovr', 'class_weight': None}. Best is trial 3 with value: 0.6240929622892224.\n"
     ]
    },
    {
     "name": "stdout",
     "output_type": "stream",
     "text": [
      "fold: 5, F1 score: 0.618490776680124\n",
      "fold: 1, F1 score: 0.6187234625393782\n",
      "fold: 2, F1 score: 0.5141393755117991\n",
      "fold: 3, F1 score: 0.4929639626495477\n",
      "fold: 4, F1 score: 0.5876172676189667\n",
      "fold: 5, F1 score: 0.5182231946869762\n",
      "fold: 1, F1 score: 0.6012016383734703\n",
      "fold: 2, F1 score: 0.5663930656564475\n",
      "fold: 3, F1 score: 0.6280846670108415\n"
     ]
    },
    {
     "name": "stderr",
     "output_type": "stream",
     "text": [
      "/opt/conda/lib/python3.10/site-packages/optuna/trial/_trial.py:676: RuntimeWarning: Inconsistent parameter values for distribution with name \"C\"! This might be a configuration mistake. Optuna allows to call the same distribution with the same name more than once in a trial. When the parameter values are inconsistent optuna only uses the values of the first call and ignores all following. Using these values: {'step': None, 'low': 0.001, 'high': 100.0, 'log': True}\n",
      "  warnings.warn(\n",
      "[I 2024-04-11 02:20:23,988] Trial 5 finished with value: 0.6127735017447424 and parameters: {'C': 0.0030759475091679624, 'penalty': 'l2', 'solver': 'sag', 'multi_class': 'multinomial', 'class_weight': 'balanced'}. Best is trial 3 with value: 0.6240929622892224.\n",
      "/opt/conda/lib/python3.10/site-packages/optuna/trial/_trial.py:676: RuntimeWarning: Inconsistent parameter values for distribution with name \"C\"! This might be a configuration mistake. Optuna allows to call the same distribution with the same name more than once in a trial. When the parameter values are inconsistent optuna only uses the values of the first call and ignores all following. Using these values: {'step': None, 'low': 0.001, 'high': 100.0, 'log': True}\n",
      "  warnings.warn(\n",
      "[I 2024-04-11 02:20:24,036] Trial 6 finished with value: 0.5272546808549045 and parameters: {'C': 71.9911075797846, 'penalty': 'l2', 'solver': 'sag', 'multi_class': 'multinomial', 'class_weight': 'balanced'}. Best is trial 3 with value: 0.6240929622892224.\n"
     ]
    },
    {
     "name": "stdout",
     "output_type": "stream",
     "text": [
      "fold: 4, F1 score: 0.6401034706721114\n",
      "fold: 5, F1 score: 0.6280846670108415\n",
      "fold: 1, F1 score: 0.45175117026676437\n",
      "fold: 2, F1 score: 0.5317238623782644\n",
      "fold: 3, F1 score: 0.4700261312578723\n",
      "fold: 4, F1 score: 0.6076370443097651\n",
      "fold: 5, F1 score: 0.5751351960618558\n",
      "fold: 1, F1 score: 0.6267739695858934\n",
      "fold: 2, F1 score: 0.5556622271503086\n"
     ]
    },
    {
     "name": "stderr",
     "output_type": "stream",
     "text": [
      "/opt/conda/lib/python3.10/site-packages/optuna/trial/_trial.py:676: RuntimeWarning: Inconsistent parameter values for distribution with name \"C\"! This might be a configuration mistake. Optuna allows to call the same distribution with the same name more than once in a trial. When the parameter values are inconsistent optuna only uses the values of the first call and ignores all following. Using these values: {'step': None, 'low': 0.001, 'high': 100.0, 'log': True}\n",
      "  warnings.warn(\n",
      "[I 2024-04-11 02:20:24,297] Trial 7 finished with value: 0.5988303167054504 and parameters: {'C': 0.7360837524591816, 'penalty': 'l2', 'solver': 'lbfgs', 'multi_class': 'ovr', 'class_weight': 'balanced'}. Best is trial 3 with value: 0.6240929622892224.\n"
     ]
    },
    {
     "name": "stdout",
     "output_type": "stream",
     "text": [
      "fold: 3, F1 score: 0.599340861580932\n",
      "fold: 4, F1 score: 0.6273520281636404\n",
      "fold: 5, F1 score: 0.5850224970464771\n",
      "fold: 1, F1 score: 0.45491561596136026\n",
      "fold: 2, F1 score: 0.45491561596136026\n",
      "fold: 3, F1 score: 0.45491561596136026\n",
      "fold: 4, F1 score: 0.45491561596136026\n"
     ]
    },
    {
     "name": "stderr",
     "output_type": "stream",
     "text": [
      "/opt/conda/lib/python3.10/site-packages/optuna/trial/_trial.py:676: RuntimeWarning: Inconsistent parameter values for distribution with name \"C\"! This might be a configuration mistake. Optuna allows to call the same distribution with the same name more than once in a trial. When the parameter values are inconsistent optuna only uses the values of the first call and ignores all following. Using these values: {'step': None, 'low': 0.001, 'high': 100.0, 'log': True}\n",
      "  warnings.warn(\n",
      "[I 2024-04-11 02:20:24,406] Trial 8 finished with value: 0.4549156159613602 and parameters: {'C': 53.294291442454295, 'penalty': 'l2', 'solver': 'lbfgs', 'multi_class': 'multinomial', 'class_weight': 'balanced'}. Best is trial 3 with value: 0.6240929622892224.\n",
      "/opt/conda/lib/python3.10/site-packages/optuna/trial/_trial.py:676: RuntimeWarning: Inconsistent parameter values for distribution with name \"C\"! This might be a configuration mistake. Optuna allows to call the same distribution with the same name more than once in a trial. When the parameter values are inconsistent optuna only uses the values of the first call and ignores all following. Using these values: {'step': None, 'low': 0.001, 'high': 100.0, 'log': True}\n",
      "  warnings.warn(\n"
     ]
    },
    {
     "name": "stdout",
     "output_type": "stream",
     "text": [
      "fold: 5, F1 score: 0.45491561596136026\n",
      "fold: 1, F1 score: 0.5867854663272392\n",
      "fold: 2, F1 score: 0.5592749477390252\n",
      "fold: 3, F1 score: 0.6134444684996753\n",
      "fold: 4, F1 score: 0.6007343158896148\n"
     ]
    },
    {
     "name": "stderr",
     "output_type": "stream",
     "text": [
      "[I 2024-04-11 02:20:24,650] Trial 9 finished with value: 0.5950082350004995 and parameters: {'C': 0.058367644767863464, 'penalty': 'l2', 'solver': 'lbfgs', 'multi_class': 'ovr', 'class_weight': 'balanced'}. Best is trial 3 with value: 0.6240929622892224.\n"
     ]
    },
    {
     "name": "stdout",
     "output_type": "stream",
     "text": [
      "fold: 5, F1 score: 0.6148019765469431\n",
      "fold: 1, F1 score: 0.6092438403200173\n"
     ]
    },
    {
     "name": "stderr",
     "output_type": "stream",
     "text": [
      "/opt/conda/lib/python3.10/site-packages/optuna/trial/_trial.py:676: RuntimeWarning: Inconsistent parameter values for distribution with name \"C\"! This might be a configuration mistake. Optuna allows to call the same distribution with the same name more than once in a trial. When the parameter values are inconsistent optuna only uses the values of the first call and ignores all following. Using these values: {'step': None, 'low': 0.001, 'high': 100.0, 'log': True}\n",
      "  warnings.warn(\n"
     ]
    },
    {
     "name": "stdout",
     "output_type": "stream",
     "text": [
      "fold: 2, F1 score: 0.6164473110781836\n",
      "fold: 3, F1 score: 0.6147240562180742\n"
     ]
    },
    {
     "name": "stderr",
     "output_type": "stream",
     "text": [
      "[I 2024-04-11 02:20:25,602] Trial 10 finished with value: 0.6108140576906056 and parameters: {'C': 0.015650216542266535, 'penalty': 'l2', 'solver': 'lbfgs', 'multi_class': 'multinomial', 'class_weight': None}. Best is trial 3 with value: 0.6240929622892224.\n"
     ]
    },
    {
     "name": "stdout",
     "output_type": "stream",
     "text": [
      "fold: 4, F1 score: 0.6459593706612669\n",
      "fold: 5, F1 score: 0.5676957101754861\n",
      "fold: 1, F1 score: 0.45491561596136026\n"
     ]
    },
    {
     "name": "stderr",
     "output_type": "stream",
     "text": [
      "/opt/conda/lib/python3.10/site-packages/optuna/trial/_trial.py:676: RuntimeWarning: Inconsistent parameter values for distribution with name \"C\"! This might be a configuration mistake. Optuna allows to call the same distribution with the same name more than once in a trial. When the parameter values are inconsistent optuna only uses the values of the first call and ignores all following. Using these values: {'step': None, 'low': 0.001, 'high': 100.0, 'log': True}\n",
      "  warnings.warn(\n",
      "[I 2024-04-11 02:20:25,810] Trial 11 finished with value: 0.4549156159613602 and parameters: {'C': 0.0013228215241274067, 'penalty': 'l2', 'solver': 'sag', 'multi_class': 'multinomial', 'class_weight': None}. Best is trial 3 with value: 0.6240929622892224.\n"
     ]
    },
    {
     "name": "stdout",
     "output_type": "stream",
     "text": [
      "fold: 2, F1 score: 0.45491561596136026\n",
      "fold: 3, F1 score: 0.45491561596136026\n",
      "fold: 4, F1 score: 0.45491561596136026\n",
      "fold: 5, F1 score: 0.45491561596136026\n",
      "fold: 1, F1 score: 0.45491561596136026\n"
     ]
    },
    {
     "name": "stderr",
     "output_type": "stream",
     "text": [
      "/opt/conda/lib/python3.10/site-packages/optuna/trial/_trial.py:676: RuntimeWarning: Inconsistent parameter values for distribution with name \"C\"! This might be a configuration mistake. Optuna allows to call the same distribution with the same name more than once in a trial. When the parameter values are inconsistent optuna only uses the values of the first call and ignores all following. Using these values: {'step': None, 'low': 0.001, 'high': 100.0, 'log': True}\n",
      "  warnings.warn(\n",
      "[I 2024-04-11 02:20:26,020] Trial 12 finished with value: 0.4549156159613602 and parameters: {'C': 0.0011628153919556532, 'penalty': 'l2', 'solver': 'sag', 'multi_class': 'multinomial', 'class_weight': None}. Best is trial 3 with value: 0.6240929622892224.\n"
     ]
    },
    {
     "name": "stdout",
     "output_type": "stream",
     "text": [
      "fold: 2, F1 score: 0.45491561596136026\n",
      "fold: 3, F1 score: 0.45491561596136026\n",
      "fold: 4, F1 score: 0.45491561596136026\n",
      "fold: 5, F1 score: 0.45491561596136026\n"
     ]
    },
    {
     "name": "stderr",
     "output_type": "stream",
     "text": [
      "/opt/conda/lib/python3.10/site-packages/optuna/trial/_trial.py:676: RuntimeWarning: Inconsistent parameter values for distribution with name \"C\"! This might be a configuration mistake. Optuna allows to call the same distribution with the same name more than once in a trial. When the parameter values are inconsistent optuna only uses the values of the first call and ignores all following. Using these values: {'step': None, 'low': 0.001, 'high': 100.0, 'log': True}\n",
      "  warnings.warn(\n"
     ]
    },
    {
     "name": "stdout",
     "output_type": "stream",
     "text": [
      "fold: 1, F1 score: 0.5428468163898512\n",
      "fold: 2, F1 score: 0.6285707838377078\n",
      "fold: 3, F1 score: 0.6070525919011932\n",
      "fold: 4, F1 score: 0.6469918347159224\n"
     ]
    },
    {
     "name": "stderr",
     "output_type": "stream",
     "text": [
      "[I 2024-04-11 02:20:26,731] Trial 13 finished with value: 0.5914928913609632 and parameters: {'C': 0.010789850395216006, 'penalty': 'l2', 'solver': 'lbfgs', 'multi_class': 'multinomial', 'class_weight': None}. Best is trial 3 with value: 0.6240929622892224.\n",
      "/opt/conda/lib/python3.10/site-packages/optuna/trial/_trial.py:676: RuntimeWarning: Inconsistent parameter values for distribution with name \"C\"! This might be a configuration mistake. Optuna allows to call the same distribution with the same name more than once in a trial. When the parameter values are inconsistent optuna only uses the values of the first call and ignores all following. Using these values: {'step': None, 'low': 0.001, 'high': 100.0, 'log': True}\n",
      "  warnings.warn(\n",
      "[I 2024-04-11 02:20:26,915] Trial 14 finished with value: 0.5813563662318804 and parameters: {'C': 8.313046448340629, 'penalty': 'l2', 'solver': 'newton-cg', 'multi_class': 'multinomial', 'class_weight': 'balanced'}. Best is trial 3 with value: 0.6240929622892224.\n"
     ]
    },
    {
     "name": "stdout",
     "output_type": "stream",
     "text": [
      "fold: 5, F1 score: 0.5320024299601409\n",
      "fold: 1, F1 score: 0.6179884424243246\n",
      "fold: 2, F1 score: 0.5464637887278501\n",
      "fold: 3, F1 score: 0.6076370443097651\n",
      "fold: 4, F1 score: 0.5949829936929257\n",
      "fold: 5, F1 score: 0.5397095620045366\n"
     ]
    },
    {
     "name": "stderr",
     "output_type": "stream",
     "text": [
      "/opt/conda/lib/python3.10/site-packages/optuna/trial/_trial.py:676: RuntimeWarning: Inconsistent parameter values for distribution with name \"C\"! This might be a configuration mistake. Optuna allows to call the same distribution with the same name more than once in a trial. When the parameter values are inconsistent optuna only uses the values of the first call and ignores all following. Using these values: {'step': None, 'low': 0.001, 'high': 100.0, 'log': True}\n",
      "  warnings.warn(\n"
     ]
    },
    {
     "name": "stdout",
     "output_type": "stream",
     "text": [
      "fold: 1, F1 score: 0.6125472994797906\n",
      "fold: 2, F1 score: 0.6029606080824731\n",
      "fold: 3, F1 score: 0.6045845281234236\n",
      "fold: 4, F1 score: 0.6385679812985446\n"
     ]
    },
    {
     "name": "stderr",
     "output_type": "stream",
     "text": [
      "[I 2024-04-11 02:20:27,535] Trial 15 finished with value: 0.6091532559940352 and parameters: {'C': 0.23764725496475209, 'penalty': 'l2', 'solver': 'lbfgs', 'multi_class': 'multinomial', 'class_weight': None}. Best is trial 3 with value: 0.6240929622892224.\n"
     ]
    },
    {
     "name": "stdout",
     "output_type": "stream",
     "text": [
      "fold: 5, F1 score: 0.587105862985944\n",
      "fold: 1, F1 score: 0.6071030763859254\n",
      "fold: 2, F1 score: 0.5592749477390252\n",
      "fold: 3, F1 score: 0.6213100870626893\n",
      "fold: 4, F1 score: 0.6273520281636404\n"
     ]
    },
    {
     "name": "stderr",
     "output_type": "stream",
     "text": [
      "/opt/conda/lib/python3.10/site-packages/optuna/trial/_trial.py:676: RuntimeWarning: Inconsistent parameter values for distribution with name \"C\"! This might be a configuration mistake. Optuna allows to call the same distribution with the same name more than once in a trial. When the parameter values are inconsistent optuna only uses the values of the first call and ignores all following. Using these values: {'step': None, 'low': 0.001, 'high': 100.0, 'log': True}\n",
      "  warnings.warn(\n",
      "[I 2024-04-11 02:20:27,773] Trial 16 finished with value: 0.6059684231796447 and parameters: {'C': 0.007934262771319723, 'penalty': 'l2', 'solver': 'sag', 'multi_class': 'multinomial', 'class_weight': 'balanced'}. Best is trial 3 with value: 0.6240929622892224.\n"
     ]
    },
    {
     "name": "stdout",
     "output_type": "stream",
     "text": [
      "fold: 5, F1 score: 0.6148019765469431\n",
      "fold: 1, F1 score: 0.614632138786881\n",
      "fold: 2, F1 score: 0.5622380495822491\n",
      "fold: 3, F1 score: 0.6243727739218526\n"
     ]
    },
    {
     "name": "stderr",
     "output_type": "stream",
     "text": [
      "/opt/conda/lib/python3.10/site-packages/optuna/trial/_trial.py:676: RuntimeWarning: Inconsistent parameter values for distribution with name \"C\"! This might be a configuration mistake. Optuna allows to call the same distribution with the same name more than once in a trial. When the parameter values are inconsistent optuna only uses the values of the first call and ignores all following. Using these values: {'step': None, 'low': 0.001, 'high': 100.0, 'log': True}\n",
      "  warnings.warn(\n",
      "[I 2024-04-11 02:20:28,093] Trial 17 finished with value: 0.6116616972023956 and parameters: {'C': 0.06556647210635301, 'penalty': 'l2', 'solver': 'sag', 'multi_class': 'multinomial', 'class_weight': None}. Best is trial 3 with value: 0.6240929622892224.\n"
     ]
    },
    {
     "name": "stdout",
     "output_type": "stream",
     "text": [
      "fold: 4, F1 score: 0.657724662140063\n",
      "fold: 5, F1 score: 0.599340861580932\n",
      "fold: 1, F1 score: 0.6189500719650357\n"
     ]
    },
    {
     "name": "stderr",
     "output_type": "stream",
     "text": [
      "/opt/conda/lib/python3.10/site-packages/optuna/trial/_trial.py:676: RuntimeWarning: Inconsistent parameter values for distribution with name \"C\"! This might be a configuration mistake. Optuna allows to call the same distribution with the same name more than once in a trial. When the parameter values are inconsistent optuna only uses the values of the first call and ignores all following. Using these values: {'step': None, 'low': 0.001, 'high': 100.0, 'log': True}\n",
      "  warnings.warn(\n"
     ]
    },
    {
     "name": "stdout",
     "output_type": "stream",
     "text": [
      "fold: 2, F1 score: 0.5616440322032844\n",
      "fold: 3, F1 score: 0.585985556966963\n",
      "fold: 4, F1 score: 0.6197600729602694\n"
     ]
    },
    {
     "name": "stderr",
     "output_type": "stream",
     "text": [
      "[I 2024-04-11 02:20:28,667] Trial 18 finished with value: 0.5895967532597673 and parameters: {'C': 1.290012119611728, 'penalty': 'l2', 'solver': 'lbfgs', 'multi_class': 'multinomial', 'class_weight': 'balanced'}. Best is trial 3 with value: 0.6240929622892224.\n"
     ]
    },
    {
     "name": "stdout",
     "output_type": "stream",
     "text": [
      "fold: 5, F1 score: 0.5616440322032844\n",
      "fold: 1, F1 score: 0.6134444684996753\n",
      "fold: 2, F1 score: 0.5208145269960882\n",
      "fold: 3, F1 score: 0.5899853995074433\n",
      "fold: 4, F1 score: 0.6447962710261262\n"
     ]
    },
    {
     "name": "stderr",
     "output_type": "stream",
     "text": [
      "/opt/conda/lib/python3.10/site-packages/optuna/trial/_trial.py:676: RuntimeWarning: Inconsistent parameter values for distribution with name \"C\"! This might be a configuration mistake. Optuna allows to call the same distribution with the same name more than once in a trial. When the parameter values are inconsistent optuna only uses the values of the first call and ignores all following. Using these values: {'step': None, 'low': 0.001, 'high': 100.0, 'log': True}\n",
      "  warnings.warn(\n",
      "[I 2024-04-11 02:20:28,910] Trial 19 finished with value: 0.5903264910341064 and parameters: {'C': 14.55534061056354, 'penalty': 'l2', 'solver': 'newton-cg', 'multi_class': 'multinomial', 'class_weight': None}. Best is trial 3 with value: 0.6240929622892224.\n"
     ]
    },
    {
     "name": "stdout",
     "output_type": "stream",
     "text": [
      "fold: 5, F1 score: 0.5825917891411989\n",
      "fold: 1, F1 score: 0.6204534879292329\n",
      "fold: 2, F1 score: 0.5875872340019285\n"
     ]
    },
    {
     "name": "stderr",
     "output_type": "stream",
     "text": [
      "/opt/conda/lib/python3.10/site-packages/optuna/trial/_trial.py:676: RuntimeWarning: Inconsistent parameter values for distribution with name \"C\"! This might be a configuration mistake. Optuna allows to call the same distribution with the same name more than once in a trial. When the parameter values are inconsistent optuna only uses the values of the first call and ignores all following. Using these values: {'step': None, 'low': 0.001, 'high': 100.0, 'log': True}\n",
      "  warnings.warn(\n",
      "[I 2024-04-11 02:20:29,218] Trial 20 finished with value: 0.6048761009627058 and parameters: {'C': 0.08119360632721288, 'penalty': 'l2', 'solver': 'sag', 'multi_class': 'multinomial', 'class_weight': None}. Best is trial 3 with value: 0.6240929622892224.\n"
     ]
    },
    {
     "name": "stdout",
     "output_type": "stream",
     "text": [
      "fold: 3, F1 score: 0.6351650208099765\n",
      "fold: 4, F1 score: 0.6582001853270271\n",
      "fold: 5, F1 score: 0.5229745767453641\n",
      "fold: 1, F1 score: 0.604602109300096\n"
     ]
    },
    {
     "name": "stderr",
     "output_type": "stream",
     "text": [
      "/opt/conda/lib/python3.10/site-packages/optuna/trial/_trial.py:676: RuntimeWarning: Inconsistent parameter values for distribution with name \"C\"! This might be a configuration mistake. Optuna allows to call the same distribution with the same name more than once in a trial. When the parameter values are inconsistent optuna only uses the values of the first call and ignores all following. Using these values: {'step': None, 'low': 0.001, 'high': 100.0, 'log': True}\n",
      "  warnings.warn(\n",
      "[I 2024-04-11 02:20:29,508] Trial 21 finished with value: 0.6051259090082632 and parameters: {'C': 0.042101574536131864, 'penalty': 'l2', 'solver': 'sag', 'multi_class': 'multinomial', 'class_weight': None}. Best is trial 3 with value: 0.6240929622892224.\n"
     ]
    },
    {
     "name": "stdout",
     "output_type": "stream",
     "text": [
      "fold: 2, F1 score: 0.5708625835434376\n",
      "fold: 3, F1 score: 0.615595535932111\n",
      "fold: 4, F1 score: 0.6637067327222339\n",
      "fold: 5, F1 score: 0.5708625835434376\n"
     ]
    },
    {
     "name": "stderr",
     "output_type": "stream",
     "text": [
      "/opt/conda/lib/python3.10/site-packages/optuna/trial/_trial.py:676: RuntimeWarning: Inconsistent parameter values for distribution with name \"C\"! This might be a configuration mistake. Optuna allows to call the same distribution with the same name more than once in a trial. When the parameter values are inconsistent optuna only uses the values of the first call and ignores all following. Using these values: {'step': None, 'low': 0.001, 'high': 100.0, 'log': True}\n",
      "  warnings.warn(\n",
      "[I 2024-04-11 02:20:29,730] Trial 22 finished with value: 0.47548467872922134 and parameters: {'C': 0.0030636816057707057, 'penalty': 'l2', 'solver': 'sag', 'multi_class': 'multinomial', 'class_weight': None}. Best is trial 3 with value: 0.6240929622892224.\n"
     ]
    },
    {
     "name": "stdout",
     "output_type": "stream",
     "text": [
      "fold: 1, F1 score: 0.45491561596136026\n",
      "fold: 2, F1 score: 0.5049957790574778\n",
      "fold: 3, F1 score: 0.4775187051354408\n",
      "fold: 4, F1 score: 0.4914332731027362\n",
      "fold: 5, F1 score: 0.44856002038909176\n"
     ]
    },
    {
     "name": "stderr",
     "output_type": "stream",
     "text": [
      "/opt/conda/lib/python3.10/site-packages/optuna/trial/_trial.py:676: RuntimeWarning: Inconsistent parameter values for distribution with name \"C\"! This might be a configuration mistake. Optuna allows to call the same distribution with the same name more than once in a trial. When the parameter values are inconsistent optuna only uses the values of the first call and ignores all following. Using these values: {'step': None, 'low': 0.001, 'high': 100.0, 'log': True}\n",
      "  warnings.warn(\n"
     ]
    },
    {
     "name": "stdout",
     "output_type": "stream",
     "text": [
      "fold: 1, F1 score: 0.6015626730458281\n",
      "fold: 2, F1 score: 0.6081008832059449\n",
      "fold: 3, F1 score: 0.6157925775799056\n",
      "fold: 4, F1 score: 0.66539416702584\n"
     ]
    },
    {
     "name": "stderr",
     "output_type": "stream",
     "text": [
      "[I 2024-04-11 02:20:30,027] Trial 23 finished with value: 0.6077318024497986 and parameters: {'C': 0.027501292305153652, 'penalty': 'l2', 'solver': 'sag', 'multi_class': 'multinomial', 'class_weight': None}. Best is trial 3 with value: 0.6240929622892224.\n"
     ]
    },
    {
     "name": "stdout",
     "output_type": "stream",
     "text": [
      "fold: 5, F1 score: 0.547808711391475\n",
      "fold: 1, F1 score: 0.604602109300096\n",
      "fold: 2, F1 score: 0.5622380495822491\n",
      "fold: 3, F1 score: 0.610738255033557\n"
     ]
    },
    {
     "name": "stderr",
     "output_type": "stream",
     "text": [
      "/opt/conda/lib/python3.10/site-packages/optuna/trial/_trial.py:676: RuntimeWarning: Inconsistent parameter values for distribution with name \"C\"! This might be a configuration mistake. Optuna allows to call the same distribution with the same name more than once in a trial. When the parameter values are inconsistent optuna only uses the values of the first call and ignores all following. Using these values: {'step': None, 'low': 0.001, 'high': 100.0, 'log': True}\n",
      "  warnings.warn(\n",
      "[I 2024-04-11 02:20:30,279] Trial 24 finished with value: 0.6048102083589628 and parameters: {'C': 0.12635927228058866, 'penalty': 'l2', 'solver': 'sag', 'multi_class': 'multinomial', 'class_weight': None}. Best is trial 3 with value: 0.6240929622892224.\n"
     ]
    },
    {
     "name": "stdout",
     "output_type": "stream",
     "text": [
      "fold: 4, F1 score: 0.6593667648929679\n",
      "fold: 5, F1 score: 0.587105862985944\n",
      "fold: 1, F1 score: 0.4775187051354408\n"
     ]
    },
    {
     "name": "stderr",
     "output_type": "stream",
     "text": [
      "/opt/conda/lib/python3.10/site-packages/optuna/trial/_trial.py:676: RuntimeWarning: Inconsistent parameter values for distribution with name \"C\"! This might be a configuration mistake. Optuna allows to call the same distribution with the same name more than once in a trial. When the parameter values are inconsistent optuna only uses the values of the first call and ignores all following. Using these values: {'step': None, 'low': 0.001, 'high': 100.0, 'log': True}\n",
      "  warnings.warn(\n"
     ]
    },
    {
     "name": "stdout",
     "output_type": "stream",
     "text": [
      "fold: 2, F1 score: 0.5140817311507485\n",
      "fold: 3, F1 score: 0.5010168802115111\n"
     ]
    },
    {
     "name": "stderr",
     "output_type": "stream",
     "text": [
      "[I 2024-04-11 02:20:30,820] Trial 25 finished with value: 0.4958523693035371 and parameters: {'C': 0.0038599215777959427, 'penalty': 'l2', 'solver': 'lbfgs', 'multi_class': 'multinomial', 'class_weight': None}. Best is trial 3 with value: 0.6240929622892224.\n",
      "/opt/conda/lib/python3.10/site-packages/optuna/trial/_trial.py:676: RuntimeWarning: Inconsistent parameter values for distribution with name \"C\"! This might be a configuration mistake. Optuna allows to call the same distribution with the same name more than once in a trial. When the parameter values are inconsistent optuna only uses the values of the first call and ignores all following. Using these values: {'step': None, 'low': 0.001, 'high': 100.0, 'log': True}\n",
      "  warnings.warn(\n",
      "[I 2024-04-11 02:20:30,892] Trial 26 finished with value: 0.5251915081537265 and parameters: {'C': 0.5460084522428618, 'penalty': 'l2', 'solver': 'sag', 'multi_class': 'ovr', 'class_weight': 'balanced'}. Best is trial 3 with value: 0.6240929622892224.\n"
     ]
    },
    {
     "name": "stdout",
     "output_type": "stream",
     "text": [
      "fold: 4, F1 score: 0.5268370552189361\n",
      "fold: 5, F1 score: 0.45980747480104894\n",
      "fold: 1, F1 score: 0.6184492553410537\n",
      "fold: 2, F1 score: 0.5186075881991454\n",
      "fold: 3, F1 score: 0.5129411658042246\n",
      "fold: 4, F1 score: 0.5210439154628488\n",
      "fold: 5, F1 score: 0.45491561596136026\n"
     ]
    },
    {
     "name": "stderr",
     "output_type": "stream",
     "text": [
      "/opt/conda/lib/python3.10/site-packages/optuna/trial/_trial.py:676: RuntimeWarning: Inconsistent parameter values for distribution with name \"C\"! This might be a configuration mistake. Optuna allows to call the same distribution with the same name more than once in a trial. When the parameter values are inconsistent optuna only uses the values of the first call and ignores all following. Using these values: {'step': None, 'low': 0.001, 'high': 100.0, 'log': True}\n",
      "  warnings.warn(\n",
      "[I 2024-04-11 02:20:31,147] Trial 27 finished with value: 0.5958760767723176 and parameters: {'C': 0.15620225641190236, 'penalty': 'l2', 'solver': 'sag', 'multi_class': 'multinomial', 'class_weight': None}. Best is trial 3 with value: 0.6240929622892224.\n"
     ]
    },
    {
     "name": "stdout",
     "output_type": "stream",
     "text": [
      "fold: 1, F1 score: 0.6101981616170169\n",
      "fold: 2, F1 score: 0.5704697986577181\n",
      "fold: 3, F1 score: 0.5811987613910391\n",
      "fold: 4, F1 score: 0.6397369626741913\n",
      "fold: 5, F1 score: 0.5777766995216219\n"
     ]
    },
    {
     "name": "stderr",
     "output_type": "stream",
     "text": [
      "/opt/conda/lib/python3.10/site-packages/optuna/trial/_trial.py:676: RuntimeWarning: Inconsistent parameter values for distribution with name \"C\"! This might be a configuration mistake. Optuna allows to call the same distribution with the same name more than once in a trial. When the parameter values are inconsistent optuna only uses the values of the first call and ignores all following. Using these values: {'step': None, 'low': 0.001, 'high': 100.0, 'log': True}\n",
      "  warnings.warn(\n"
     ]
    },
    {
     "name": "stdout",
     "output_type": "stream",
     "text": [
      "fold: 1, F1 score: 0.5943366051338249\n",
      "fold: 2, F1 score: 0.5654693803110056\n",
      "fold: 3, F1 score: 0.6348207320182117\n"
     ]
    },
    {
     "name": "stderr",
     "output_type": "stream",
     "text": [
      "[I 2024-04-11 02:20:31,666] Trial 28 finished with value: 0.6112080550395687 and parameters: {'C': 0.003987464113105593, 'penalty': 'l2', 'solver': 'newton-cg', 'multi_class': 'multinomial', 'class_weight': 'balanced'}. Best is trial 3 with value: 0.6240929622892224.\n"
     ]
    },
    {
     "name": "stdout",
     "output_type": "stream",
     "text": [
      "fold: 4, F1 score: 0.6401034706721114\n",
      "fold: 5, F1 score: 0.6213100870626893\n"
     ]
    },
    {
     "name": "stderr",
     "output_type": "stream",
     "text": [
      "/opt/conda/lib/python3.10/site-packages/optuna/trial/_trial.py:676: RuntimeWarning: Inconsistent parameter values for distribution with name \"C\"! This might be a configuration mistake. Optuna allows to call the same distribution with the same name more than once in a trial. When the parameter values are inconsistent optuna only uses the values of the first call and ignores all following. Using these values: {'step': None, 'low': 0.001, 'high': 100.0, 'log': True}\n",
      "  warnings.warn(\n"
     ]
    },
    {
     "name": "stdout",
     "output_type": "stream",
     "text": [
      "fold: 1, F1 score: 0.6364509131229797\n",
      "fold: 2, F1 score: 0.5765396394183779\n",
      "fold: 3, F1 score: 0.6095213511320894\n"
     ]
    },
    {
     "name": "stderr",
     "output_type": "stream",
     "text": [
      "[I 2024-04-11 02:20:32,117] Trial 29 finished with value: 0.6028823471473995 and parameters: {'C': 2.7610373740886667, 'penalty': 'l2', 'solver': 'lbfgs', 'multi_class': 'ovr', 'class_weight': None}. Best is trial 3 with value: 0.6240929622892224.\n"
     ]
    },
    {
     "name": "stdout",
     "output_type": "stream",
     "text": [
      "fold: 4, F1 score: 0.6323202448785433\n",
      "fold: 5, F1 score: 0.559579587185007\n"
     ]
    },
    {
     "name": "stderr",
     "output_type": "stream",
     "text": [
      "/opt/conda/lib/python3.10/site-packages/optuna/trial/_trial.py:676: RuntimeWarning: Inconsistent parameter values for distribution with name \"C\"! This might be a configuration mistake. Optuna allows to call the same distribution with the same name more than once in a trial. When the parameter values are inconsistent optuna only uses the values of the first call and ignores all following. Using these values: {'step': None, 'low': 0.001, 'high': 100.0, 'log': True}\n",
      "  warnings.warn(\n"
     ]
    },
    {
     "name": "stdout",
     "output_type": "stream",
     "text": [
      "fold: 1, F1 score: 0.6364509131229797\n",
      "fold: 2, F1 score: 0.5639894590629989\n"
     ]
    },
    {
     "name": "stderr",
     "output_type": "stream",
     "text": [
      "[I 2024-04-11 02:20:32,669] Trial 30 finished with value: 0.5975593476598916 and parameters: {'C': 1.959622609274862, 'penalty': 'l2', 'solver': 'newton-cg', 'multi_class': 'multinomial', 'class_weight': None}. Best is trial 3 with value: 0.6240929622892224.\n"
     ]
    },
    {
     "name": "stdout",
     "output_type": "stream",
     "text": [
      "fold: 3, F1 score: 0.5973154362416108\n",
      "fold: 4, F1 score: 0.6260514708088698\n",
      "fold: 5, F1 score: 0.5639894590629989\n"
     ]
    },
    {
     "name": "stderr",
     "output_type": "stream",
     "text": [
      "/opt/conda/lib/python3.10/site-packages/optuna/trial/_trial.py:676: RuntimeWarning: Inconsistent parameter values for distribution with name \"C\"! This might be a configuration mistake. Optuna allows to call the same distribution with the same name more than once in a trial. When the parameter values are inconsistent optuna only uses the values of the first call and ignores all following. Using these values: {'step': None, 'low': 0.001, 'high': 100.0, 'log': True}\n",
      "  warnings.warn(\n"
     ]
    },
    {
     "name": "stdout",
     "output_type": "stream",
     "text": [
      "fold: 1, F1 score: 0.6007343158896148\n",
      "fold: 2, F1 score: 0.573455965241021\n",
      "fold: 3, F1 score: 0.6348207320182117\n"
     ]
    },
    {
     "name": "stderr",
     "output_type": "stream",
     "text": [
      "[I 2024-04-11 02:20:33,160] Trial 31 finished with value: 0.615332217025162 and parameters: {'C': 0.0021157737880055497, 'penalty': 'l2', 'solver': 'newton-cg', 'multi_class': 'multinomial', 'class_weight': 'balanced'}. Best is trial 3 with value: 0.6240929622892224.\n"
     ]
    },
    {
     "name": "stdout",
     "output_type": "stream",
     "text": [
      "fold: 4, F1 score: 0.6394067754228387\n",
      "fold: 5, F1 score: 0.6282432965541238\n"
     ]
    },
    {
     "name": "stderr",
     "output_type": "stream",
     "text": [
      "/opt/conda/lib/python3.10/site-packages/optuna/trial/_trial.py:676: RuntimeWarning: Inconsistent parameter values for distribution with name \"C\"! This might be a configuration mistake. Optuna allows to call the same distribution with the same name more than once in a trial. When the parameter values are inconsistent optuna only uses the values of the first call and ignores all following. Using these values: {'step': None, 'low': 0.001, 'high': 100.0, 'log': True}\n",
      "  warnings.warn(\n"
     ]
    },
    {
     "name": "stdout",
     "output_type": "stream",
     "text": [
      "fold: 1, F1 score: 0.6007343158896148\n",
      "fold: 2, F1 score: 0.573455965241021\n",
      "fold: 3, F1 score: 0.6348207320182117\n"
     ]
    },
    {
     "name": "stderr",
     "output_type": "stream",
     "text": [
      "[I 2024-04-11 02:20:33,622] Trial 32 finished with value: 0.615332217025162 and parameters: {'C': 0.0020301136223900102, 'penalty': 'l2', 'solver': 'newton-cg', 'multi_class': 'multinomial', 'class_weight': 'balanced'}. Best is trial 3 with value: 0.6240929622892224.\n"
     ]
    },
    {
     "name": "stdout",
     "output_type": "stream",
     "text": [
      "fold: 4, F1 score: 0.6394067754228387\n",
      "fold: 5, F1 score: 0.6282432965541238\n",
      "fold: 1, F1 score: 0.6007343158896148\n"
     ]
    },
    {
     "name": "stderr",
     "output_type": "stream",
     "text": [
      "/opt/conda/lib/python3.10/site-packages/optuna/trial/_trial.py:676: RuntimeWarning: Inconsistent parameter values for distribution with name \"C\"! This might be a configuration mistake. Optuna allows to call the same distribution with the same name more than once in a trial. When the parameter values are inconsistent optuna only uses the values of the first call and ignores all following. Using these values: {'step': None, 'low': 0.001, 'high': 100.0, 'log': True}\n",
      "  warnings.warn(\n"
     ]
    },
    {
     "name": "stdout",
     "output_type": "stream",
     "text": [
      "fold: 2, F1 score: 0.573455965241021\n",
      "fold: 3, F1 score: 0.6348207320182117\n",
      "fold: 4, F1 score: 0.6394067754228387\n"
     ]
    },
    {
     "name": "stderr",
     "output_type": "stream",
     "text": [
      "[I 2024-04-11 02:20:34,082] Trial 33 finished with value: 0.615332217025162 and parameters: {'C': 0.002017824454826896, 'penalty': 'l2', 'solver': 'newton-cg', 'multi_class': 'multinomial', 'class_weight': 'balanced'}. Best is trial 3 with value: 0.6240929622892224.\n"
     ]
    },
    {
     "name": "stdout",
     "output_type": "stream",
     "text": [
      "fold: 5, F1 score: 0.6282432965541238\n",
      "fold: 1, F1 score: 0.5947353563302464\n",
      "fold: 2, F1 score: 0.573455965241021\n"
     ]
    },
    {
     "name": "stderr",
     "output_type": "stream",
     "text": [
      "/opt/conda/lib/python3.10/site-packages/optuna/trial/_trial.py:676: RuntimeWarning: Inconsistent parameter values for distribution with name \"C\"! This might be a configuration mistake. Optuna allows to call the same distribution with the same name more than once in a trial. When the parameter values are inconsistent optuna only uses the values of the first call and ignores all following. Using these values: {'step': None, 'low': 0.001, 'high': 100.0, 'log': True}\n",
      "  warnings.warn(\n",
      "[I 2024-04-11 02:20:34,449] Trial 34 finished with value: 0.6086938714202537 and parameters: {'C': 0.001512356969275454, 'penalty': 'l2', 'solver': 'newton-cg', 'multi_class': 'ovr', 'class_weight': 'balanced'}. Best is trial 3 with value: 0.6240929622892224.\n"
     ]
    },
    {
     "name": "stdout",
     "output_type": "stream",
     "text": [
      "fold: 3, F1 score: 0.6280846670108415\n",
      "fold: 4, F1 score: 0.6189500719650357\n",
      "fold: 5, F1 score: 0.6282432965541238\n"
     ]
    },
    {
     "name": "stderr",
     "output_type": "stream",
     "text": [
      "/opt/conda/lib/python3.10/site-packages/optuna/trial/_trial.py:676: RuntimeWarning: Inconsistent parameter values for distribution with name \"C\"! This might be a configuration mistake. Optuna allows to call the same distribution with the same name more than once in a trial. When the parameter values are inconsistent optuna only uses the values of the first call and ignores all following. Using these values: {'step': None, 'low': 0.001, 'high': 100.0, 'log': True}\n",
      "  warnings.warn(\n"
     ]
    },
    {
     "name": "stdout",
     "output_type": "stream",
     "text": [
      "fold: 1, F1 score: 0.6007343158896148\n",
      "fold: 2, F1 score: 0.5592749477390252\n",
      "fold: 3, F1 score: 0.6277881958152389\n",
      "fold: 4, F1 score: 0.6273520281636404\n"
     ]
    },
    {
     "name": "stderr",
     "output_type": "stream",
     "text": [
      "[I 2024-04-11 02:20:35,030] Trial 35 finished with value: 0.6046823454817747 and parameters: {'C': 0.007529400842720235, 'penalty': 'l2', 'solver': 'newton-cg', 'multi_class': 'multinomial', 'class_weight': 'balanced'}. Best is trial 3 with value: 0.6240929622892224.\n"
     ]
    },
    {
     "name": "stdout",
     "output_type": "stream",
     "text": [
      "fold: 5, F1 score: 0.6082622398013542\n",
      "fold: 1, F1 score: 0.5874254597526019\n"
     ]
    },
    {
     "name": "stderr",
     "output_type": "stream",
     "text": [
      "/opt/conda/lib/python3.10/site-packages/optuna/trial/_trial.py:676: RuntimeWarning: Inconsistent parameter values for distribution with name \"C\"! This might be a configuration mistake. Optuna allows to call the same distribution with the same name more than once in a trial. When the parameter values are inconsistent optuna only uses the values of the first call and ignores all following. Using these values: {'step': None, 'low': 0.001, 'high': 100.0, 'log': True}\n",
      "  warnings.warn(\n"
     ]
    },
    {
     "name": "stdout",
     "output_type": "stream",
     "text": [
      "fold: 2, F1 score: 0.5592749477390252\n",
      "fold: 3, F1 score: 0.6140431720266276\n"
     ]
    },
    {
     "name": "stderr",
     "output_type": "stream",
     "text": [
      "[I 2024-04-11 02:20:35,656] Trial 36 finished with value: 0.5937762537256359 and parameters: {'C': 0.022932319700877994, 'penalty': 'l2', 'solver': 'newton-cg', 'multi_class': 'multinomial', 'class_weight': 'balanced'}. Best is trial 3 with value: 0.6240929622892224.\n"
     ]
    },
    {
     "name": "stdout",
     "output_type": "stream",
     "text": [
      "fold: 4, F1 score: 0.6001149674134572\n",
      "fold: 5, F1 score: 0.6080227216964679\n"
     ]
    },
    {
     "name": "stderr",
     "output_type": "stream",
     "text": [
      "/opt/conda/lib/python3.10/site-packages/optuna/trial/_trial.py:676: RuntimeWarning: Inconsistent parameter values for distribution with name \"C\"! This might be a configuration mistake. Optuna allows to call the same distribution with the same name more than once in a trial. When the parameter values are inconsistent optuna only uses the values of the first call and ignores all following. Using these values: {'step': None, 'low': 0.001, 'high': 100.0, 'log': True}\n",
      "  warnings.warn(\n"
     ]
    },
    {
     "name": "stdout",
     "output_type": "stream",
     "text": [
      "fold: 1, F1 score: 0.5943366051338249\n",
      "fold: 2, F1 score: 0.5601264641548029\n",
      "fold: 3, F1 score: 0.6280846670108415\n"
     ]
    },
    {
     "name": "stderr",
     "output_type": "stream",
     "text": [
      "[I 2024-04-11 02:20:36,170] Trial 37 finished with value: 0.6100395616552865 and parameters: {'C': 0.0025486116063608167, 'penalty': 'l2', 'solver': 'newton-cg', 'multi_class': 'multinomial', 'class_weight': 'balanced'}. Best is trial 3 with value: 0.6240929622892224.\n"
     ]
    },
    {
     "name": "stdout",
     "output_type": "stream",
     "text": [
      "fold: 4, F1 score: 0.6394067754228387\n",
      "fold: 5, F1 score: 0.6282432965541238\n",
      "fold: 1, F1 score: 0.6064183211343139\n",
      "fold: 2, F1 score: 0.5464637887278501\n"
     ]
    },
    {
     "name": "stderr",
     "output_type": "stream",
     "text": [
      "/opt/conda/lib/python3.10/site-packages/optuna/trial/_trial.py:676: RuntimeWarning: Inconsistent parameter values for distribution with name \"C\"! This might be a configuration mistake. Optuna allows to call the same distribution with the same name more than once in a trial. When the parameter values are inconsistent optuna only uses the values of the first call and ignores all following. Using these values: {'step': None, 'low': 0.001, 'high': 100.0, 'log': True}\n",
      "  warnings.warn(\n",
      "[I 2024-04-11 02:20:36,362] Trial 38 finished with value: 0.5786610570969648 and parameters: {'C': 6.48479601817297, 'penalty': 'l2', 'solver': 'newton-cg', 'multi_class': 'ovr', 'class_weight': 'balanced'}. Best is trial 3 with value: 0.6240929622892224.\n",
      "/opt/conda/lib/python3.10/site-packages/optuna/trial/_trial.py:676: RuntimeWarning: Inconsistent parameter values for distribution with name \"C\"! This might be a configuration mistake. Optuna allows to call the same distribution with the same name more than once in a trial. When the parameter values are inconsistent optuna only uses the values of the first call and ignores all following. Using these values: {'step': None, 'low': 0.001, 'high': 100.0, 'log': True}\n",
      "  warnings.warn(\n",
      "[I 2024-04-11 02:20:36,421] Trial 39 finished with value: 0.4549156159613602 and parameters: {'C': 34.933945800908816, 'penalty': 'l2', 'solver': 'newton-cg', 'multi_class': 'multinomial', 'class_weight': 'balanced'}. Best is trial 3 with value: 0.6240929622892224.\n"
     ]
    },
    {
     "name": "stdout",
     "output_type": "stream",
     "text": [
      "fold: 3, F1 score: 0.6076370443097651\n",
      "fold: 4, F1 score: 0.5930765693083585\n",
      "fold: 5, F1 score: 0.5397095620045366\n",
      "fold: 1, F1 score: 0.45491561596136026\n",
      "fold: 2, F1 score: 0.45491561596136026\n",
      "fold: 3, F1 score: 0.45491561596136026\n",
      "fold: 4, F1 score: 0.45491561596136026\n",
      "fold: 5, F1 score: 0.45491561596136026\n"
     ]
    },
    {
     "name": "stderr",
     "output_type": "stream",
     "text": [
      "/opt/conda/lib/python3.10/site-packages/optuna/trial/_trial.py:676: RuntimeWarning: Inconsistent parameter values for distribution with name \"C\"! This might be a configuration mistake. Optuna allows to call the same distribution with the same name more than once in a trial. When the parameter values are inconsistent optuna only uses the values of the first call and ignores all following. Using these values: {'step': None, 'low': 0.001, 'high': 100.0, 'log': True}\n",
      "  warnings.warn(\n"
     ]
    },
    {
     "name": "stdout",
     "output_type": "stream",
     "text": [
      "fold: 1, F1 score: 0.5943366051338249\n",
      "fold: 2, F1 score: 0.5592749477390252\n",
      "fold: 3, F1 score: 0.6345974524289109\n"
     ]
    },
    {
     "name": "stderr",
     "output_type": "stream",
     "text": [
      "[I 2024-04-11 02:20:36,938] Trial 40 finished with value: 0.6086518496634864 and parameters: {'C': 0.005113137856268943, 'penalty': 'l2', 'solver': 'newton-cg', 'multi_class': 'multinomial', 'class_weight': 'balanced'}. Best is trial 3 with value: 0.6240929622892224.\n"
     ]
    },
    {
     "name": "stdout",
     "output_type": "stream",
     "text": [
      "fold: 4, F1 score: 0.6337401559529814\n",
      "fold: 5, F1 score: 0.6213100870626893\n"
     ]
    },
    {
     "name": "stderr",
     "output_type": "stream",
     "text": [
      "/opt/conda/lib/python3.10/site-packages/optuna/trial/_trial.py:676: RuntimeWarning: Inconsistent parameter values for distribution with name \"C\"! This might be a configuration mistake. Optuna allows to call the same distribution with the same name more than once in a trial. When the parameter values are inconsistent optuna only uses the values of the first call and ignores all following. Using these values: {'step': None, 'low': 0.001, 'high': 100.0, 'log': True}\n",
      "  warnings.warn(\n"
     ]
    },
    {
     "name": "stdout",
     "output_type": "stream",
     "text": [
      "fold: 1, F1 score: 0.6012016383734703\n",
      "fold: 2, F1 score: 0.573455965241021\n",
      "fold: 3, F1 score: 0.64136735747474\n"
     ]
    },
    {
     "name": "stderr",
     "output_type": "stream",
     "text": [
      "[I 2024-04-11 02:20:37,434] Trial 41 finished with value: 0.6167350066132388 and parameters: {'C': 0.0018035322596961602, 'penalty': 'l2', 'solver': 'newton-cg', 'multi_class': 'multinomial', 'class_weight': 'balanced'}. Best is trial 3 with value: 0.6240929622892224.\n"
     ]
    },
    {
     "name": "stdout",
     "output_type": "stream",
     "text": [
      "fold: 4, F1 score: 0.6394067754228387\n",
      "fold: 5, F1 score: 0.6282432965541238\n",
      "fold: 1, F1 score: 0.6007343158896148\n"
     ]
    },
    {
     "name": "stderr",
     "output_type": "stream",
     "text": [
      "/opt/conda/lib/python3.10/site-packages/optuna/trial/_trial.py:676: RuntimeWarning: Inconsistent parameter values for distribution with name \"C\"! This might be a configuration mistake. Optuna allows to call the same distribution with the same name more than once in a trial. When the parameter values are inconsistent optuna only uses the values of the first call and ignores all following. Using these values: {'step': None, 'low': 0.001, 'high': 100.0, 'log': True}\n",
      "  warnings.warn(\n"
     ]
    },
    {
     "name": "stdout",
     "output_type": "stream",
     "text": [
      "fold: 2, F1 score: 0.573455965241021\n",
      "fold: 3, F1 score: 0.6348207320182117\n",
      "fold: 4, F1 score: 0.6394067754228387\n"
     ]
    },
    {
     "name": "stderr",
     "output_type": "stream",
     "text": [
      "[I 2024-04-11 02:20:37,898] Trial 42 finished with value: 0.615332217025162 and parameters: {'C': 0.0020009121548784222, 'penalty': 'l2', 'solver': 'newton-cg', 'multi_class': 'multinomial', 'class_weight': 'balanced'}. Best is trial 3 with value: 0.6240929622892224.\n"
     ]
    },
    {
     "name": "stdout",
     "output_type": "stream",
     "text": [
      "fold: 5, F1 score: 0.6282432965541238\n",
      "fold: 1, F1 score: 0.5874254597526019\n"
     ]
    },
    {
     "name": "stderr",
     "output_type": "stream",
     "text": [
      "/opt/conda/lib/python3.10/site-packages/optuna/trial/_trial.py:676: RuntimeWarning: Inconsistent parameter values for distribution with name \"C\"! This might be a configuration mistake. Optuna allows to call the same distribution with the same name more than once in a trial. When the parameter values are inconsistent optuna only uses the values of the first call and ignores all following. Using these values: {'step': None, 'low': 0.001, 'high': 100.0, 'log': True}\n",
      "  warnings.warn(\n"
     ]
    },
    {
     "name": "stdout",
     "output_type": "stream",
     "text": [
      "fold: 2, F1 score: 0.5592749477390252\n",
      "fold: 3, F1 score: 0.6345974524289109\n"
     ]
    },
    {
     "name": "stderr",
     "output_type": "stream",
     "text": [
      "[I 2024-04-11 02:20:38,405] Trial 43 finished with value: 0.6047232319030471 and parameters: {'C': 0.006214009191166978, 'penalty': 'l2', 'solver': 'newton-cg', 'multi_class': 'multinomial', 'class_weight': 'balanced'}. Best is trial 3 with value: 0.6240929622892224.\n"
     ]
    },
    {
     "name": "stdout",
     "output_type": "stream",
     "text": [
      "fold: 4, F1 score: 0.6273520281636404\n",
      "fold: 5, F1 score: 0.6149662714310569\n"
     ]
    },
    {
     "name": "stderr",
     "output_type": "stream",
     "text": [
      "/opt/conda/lib/python3.10/site-packages/optuna/trial/_trial.py:676: RuntimeWarning: Inconsistent parameter values for distribution with name \"C\"! This might be a configuration mistake. Optuna allows to call the same distribution with the same name more than once in a trial. When the parameter values are inconsistent optuna only uses the values of the first call and ignores all following. Using these values: {'step': None, 'low': 0.001, 'high': 100.0, 'log': True}\n",
      "  warnings.warn(\n"
     ]
    },
    {
     "name": "stdout",
     "output_type": "stream",
     "text": [
      "fold: 1, F1 score: 0.6071030763859254\n",
      "fold: 2, F1 score: 0.553051313830492\n",
      "fold: 3, F1 score: 0.6406608843006533\n",
      "fold: 4, F1 score: 0.6204216161694535\n"
     ]
    },
    {
     "name": "stderr",
     "output_type": "stream",
     "text": [
      "[I 2024-04-11 02:20:39,055] Trial 44 finished with value: 0.6044877058119988 and parameters: {'C': 0.014129599192851573, 'penalty': 'l2', 'solver': 'newton-cg', 'multi_class': 'multinomial', 'class_weight': 'balanced'}. Best is trial 3 with value: 0.6240929622892224.\n"
     ]
    },
    {
     "name": "stdout",
     "output_type": "stream",
     "text": [
      "fold: 5, F1 score: 0.6012016383734703\n",
      "fold: 1, F1 score: 0.6012016383734703\n"
     ]
    },
    {
     "name": "stderr",
     "output_type": "stream",
     "text": [
      "/opt/conda/lib/python3.10/site-packages/optuna/trial/_trial.py:676: RuntimeWarning: Inconsistent parameter values for distribution with name \"C\"! This might be a configuration mistake. Optuna allows to call the same distribution with the same name more than once in a trial. When the parameter values are inconsistent optuna only uses the values of the first call and ignores all following. Using these values: {'step': None, 'low': 0.001, 'high': 100.0, 'log': True}\n",
      "  warnings.warn(\n"
     ]
    },
    {
     "name": "stdout",
     "output_type": "stream",
     "text": [
      "fold: 2, F1 score: 0.573455965241021\n",
      "fold: 3, F1 score: 0.64136735747474\n",
      "fold: 4, F1 score: 0.6394067754228387\n"
     ]
    },
    {
     "name": "stderr",
     "output_type": "stream",
     "text": [
      "[I 2024-04-11 02:20:39,544] Trial 45 finished with value: 0.6167350066132388 and parameters: {'C': 0.0018234647376218882, 'penalty': 'l2', 'solver': 'newton-cg', 'multi_class': 'multinomial', 'class_weight': 'balanced'}. Best is trial 3 with value: 0.6240929622892224.\n"
     ]
    },
    {
     "name": "stdout",
     "output_type": "stream",
     "text": [
      "fold: 5, F1 score: 0.6282432965541238\n",
      "fold: 1, F1 score: 0.6015192860830445\n",
      "fold: 2, F1 score: 0.5671474570353416\n"
     ]
    },
    {
     "name": "stderr",
     "output_type": "stream",
     "text": [
      "/opt/conda/lib/python3.10/site-packages/optuna/trial/_trial.py:676: RuntimeWarning: Inconsistent parameter values for distribution with name \"C\"! This might be a configuration mistake. Optuna allows to call the same distribution with the same name more than once in a trial. When the parameter values are inconsistent optuna only uses the values of the first call and ignores all following. Using these values: {'step': None, 'low': 0.001, 'high': 100.0, 'log': True}\n",
      "  warnings.warn(\n",
      "[I 2024-04-11 02:20:39,903] Trial 46 finished with value: 0.6113507504765934 and parameters: {'C': 0.0011258400275426475, 'penalty': 'l2', 'solver': 'newton-cg', 'multi_class': 'ovr', 'class_weight': 'balanced'}. Best is trial 3 with value: 0.6240929622892224.\n"
     ]
    },
    {
     "name": "stdout",
     "output_type": "stream",
     "text": [
      "fold: 3, F1 score: 0.6348207320182117\n",
      "fold: 4, F1 score: 0.6251816102355279\n",
      "fold: 5, F1 score: 0.6280846670108415\n"
     ]
    },
    {
     "name": "stderr",
     "output_type": "stream",
     "text": [
      "/opt/conda/lib/python3.10/site-packages/optuna/trial/_trial.py:676: RuntimeWarning: Inconsistent parameter values for distribution with name \"C\"! This might be a configuration mistake. Optuna allows to call the same distribution with the same name more than once in a trial. When the parameter values are inconsistent optuna only uses the values of the first call and ignores all following. Using these values: {'step': None, 'low': 0.001, 'high': 100.0, 'log': True}\n",
      "  warnings.warn(\n"
     ]
    },
    {
     "name": "stdout",
     "output_type": "stream",
     "text": [
      "fold: 1, F1 score: 0.5947353563302464\n",
      "fold: 2, F1 score: 0.573455965241021\n",
      "fold: 3, F1 score: 0.6280846670108415\n"
     ]
    },
    {
     "name": "stderr",
     "output_type": "stream",
     "text": [
      "[I 2024-04-11 02:20:40,300] Trial 47 finished with value: 0.6086938714202537 and parameters: {'C': 0.0010482948728677216, 'penalty': 'l2', 'solver': 'newton-cg', 'multi_class': 'multinomial', 'class_weight': 'balanced'}. Best is trial 3 with value: 0.6240929622892224.\n"
     ]
    },
    {
     "name": "stdout",
     "output_type": "stream",
     "text": [
      "fold: 4, F1 score: 0.6189500719650357\n",
      "fold: 5, F1 score: 0.6282432965541238\n",
      "fold: 1, F1 score: 0.6071030763859254\n"
     ]
    },
    {
     "name": "stderr",
     "output_type": "stream",
     "text": [
      "/opt/conda/lib/python3.10/site-packages/optuna/trial/_trial.py:676: RuntimeWarning: Inconsistent parameter values for distribution with name \"C\"! This might be a configuration mistake. Optuna allows to call the same distribution with the same name more than once in a trial. When the parameter values are inconsistent optuna only uses the values of the first call and ignores all following. Using these values: {'step': None, 'low': 0.001, 'high': 100.0, 'log': True}\n",
      "  warnings.warn(\n"
     ]
    },
    {
     "name": "stdout",
     "output_type": "stream",
     "text": [
      "fold: 2, F1 score: 0.5459196431250563\n",
      "fold: 3, F1 score: 0.6277881958152389\n",
      "fold: 4, F1 score: 0.6204216161694535\n"
     ]
    },
    {
     "name": "stderr",
     "output_type": "stream",
     "text": [
      "[I 2024-04-11 02:20:40,790] Trial 48 finished with value: 0.6018989542594056 and parameters: {'C': 0.011520180749810491, 'penalty': 'l2', 'solver': 'lbfgs', 'multi_class': 'multinomial', 'class_weight': 'balanced'}. Best is trial 3 with value: 0.6240929622892224.\n"
     ]
    },
    {
     "name": "stdout",
     "output_type": "stream",
     "text": [
      "fold: 5, F1 score: 0.6082622398013542\n",
      "fold: 1, F1 score: 0.5943366051338249\n"
     ]
    },
    {
     "name": "stderr",
     "output_type": "stream",
     "text": [
      "/opt/conda/lib/python3.10/site-packages/optuna/trial/_trial.py:676: RuntimeWarning: Inconsistent parameter values for distribution with name \"C\"! This might be a configuration mistake. Optuna allows to call the same distribution with the same name more than once in a trial. When the parameter values are inconsistent optuna only uses the values of the first call and ignores all following. Using these values: {'step': None, 'low': 0.001, 'high': 100.0, 'log': True}\n",
      "  warnings.warn(\n"
     ]
    },
    {
     "name": "stdout",
     "output_type": "stream",
     "text": [
      "fold: 2, F1 score: 0.5663930656564475\n",
      "fold: 3, F1 score: 0.6280846670108415\n"
     ]
    },
    {
     "name": "stderr",
     "output_type": "stream",
     "text": [
      "[I 2024-04-11 02:20:41,305] Trial 49 finished with value: 0.6112928819556153 and parameters: {'C': 0.0028256859932128627, 'penalty': 'l2', 'solver': 'newton-cg', 'multi_class': 'multinomial', 'class_weight': 'balanced'}. Best is trial 3 with value: 0.6240929622892224.\n"
     ]
    },
    {
     "name": "stdout",
     "output_type": "stream",
     "text": [
      "fold: 4, F1 score: 0.6394067754228387\n",
      "fold: 5, F1 score: 0.6282432965541238\n",
      "fold: 1, F1 score: 0.6189500719650357\n",
      "fold: 2, F1 score: 0.5867854663272392\n"
     ]
    },
    {
     "name": "stderr",
     "output_type": "stream",
     "text": [
      "/opt/conda/lib/python3.10/site-packages/optuna/trial/_trial.py:676: RuntimeWarning: Inconsistent parameter values for distribution with name \"C\"! This might be a configuration mistake. Optuna allows to call the same distribution with the same name more than once in a trial. When the parameter values are inconsistent optuna only uses the values of the first call and ignores all following. Using these values: {'step': None, 'low': 0.001, 'high': 100.0, 'log': True}\n",
      "  warnings.warn(\n",
      "[I 2024-04-11 02:20:41,579] Trial 50 finished with value: 0.623134579440699 and parameters: {'C': 14.783709901257401, 'penalty': 'l2', 'solver': 'lbfgs', 'multi_class': 'multinomial', 'class_weight': 'balanced'}. Best is trial 3 with value: 0.6240929622892224.\n"
     ]
    },
    {
     "name": "stdout",
     "output_type": "stream",
     "text": [
      "fold: 3, F1 score: 0.6216334001568902\n",
      "fold: 4, F1 score: 0.6667624728445477\n",
      "fold: 5, F1 score: 0.621541485909783\n",
      "fold: 1, F1 score: 0.45491561596136026\n"
     ]
    },
    {
     "name": "stderr",
     "output_type": "stream",
     "text": [
      "/opt/conda/lib/python3.10/site-packages/optuna/trial/_trial.py:676: RuntimeWarning: Inconsistent parameter values for distribution with name \"C\"! This might be a configuration mistake. Optuna allows to call the same distribution with the same name more than once in a trial. When the parameter values are inconsistent optuna only uses the values of the first call and ignores all following. Using these values: {'step': None, 'low': 0.001, 'high': 100.0, 'log': True}\n",
      "  warnings.warn(\n",
      "[I 2024-04-11 02:20:41,699] Trial 51 finished with value: 0.4549156159613602 and parameters: {'C': 91.12255515961682, 'penalty': 'l2', 'solver': 'lbfgs', 'multi_class': 'multinomial', 'class_weight': 'balanced'}. Best is trial 3 with value: 0.6240929622892224.\n",
      "/opt/conda/lib/python3.10/site-packages/optuna/trial/_trial.py:676: RuntimeWarning: Inconsistent parameter values for distribution with name \"C\"! This might be a configuration mistake. Optuna allows to call the same distribution with the same name more than once in a trial. When the parameter values are inconsistent optuna only uses the values of the first call and ignores all following. Using these values: {'step': None, 'low': 0.001, 'high': 100.0, 'log': True}\n",
      "  warnings.warn(\n"
     ]
    },
    {
     "name": "stdout",
     "output_type": "stream",
     "text": [
      "fold: 2, F1 score: 0.45491561596136026\n",
      "fold: 3, F1 score: 0.45491561596136026\n",
      "fold: 4, F1 score: 0.45491561596136026\n",
      "fold: 5, F1 score: 0.45491561596136026\n",
      "fold: 1, F1 score: 0.6082622398013542\n",
      "fold: 2, F1 score: 0.579734817482403\n",
      "fold: 3, F1 score: 0.6216334001568902\n",
      "fold: 4, F1 score: 0.6313923567252253\n"
     ]
    },
    {
     "name": "stderr",
     "output_type": "stream",
     "text": [
      "[I 2024-04-11 02:20:41,843] Trial 52 finished with value: 0.6111035462520455 and parameters: {'C': 19.547432262341086, 'penalty': 'l2', 'solver': 'lbfgs', 'multi_class': 'multinomial', 'class_weight': 'balanced'}. Best is trial 3 with value: 0.6240929622892224.\n",
      "/opt/conda/lib/python3.10/site-packages/optuna/trial/_trial.py:676: RuntimeWarning: Inconsistent parameter values for distribution with name \"C\"! This might be a configuration mistake. Optuna allows to call the same distribution with the same name more than once in a trial. When the parameter values are inconsistent optuna only uses the values of the first call and ignores all following. Using these values: {'step': None, 'low': 0.001, 'high': 100.0, 'log': True}\n",
      "  warnings.warn(\n"
     ]
    },
    {
     "name": "stdout",
     "output_type": "stream",
     "text": [
      "fold: 5, F1 score: 0.6144949170943546\n",
      "fold: 1, F1 score: 0.5874254597526019\n",
      "fold: 2, F1 score: 0.5616440322032844\n",
      "fold: 3, F1 score: 0.5749539051552475\n"
     ]
    },
    {
     "name": "stderr",
     "output_type": "stream",
     "text": [
      "[I 2024-04-11 02:20:42,135] Trial 53 finished with value: 0.5846895437819666 and parameters: {'C': 5.895503392928477, 'penalty': 'l2', 'solver': 'lbfgs', 'multi_class': 'multinomial', 'class_weight': 'balanced'}. Best is trial 3 with value: 0.6240929622892224.\n"
     ]
    },
    {
     "name": "stdout",
     "output_type": "stream",
     "text": [
      "fold: 4, F1 score: 0.6277881958152389\n",
      "fold: 5, F1 score: 0.5716361259834603\n",
      "fold: 1, F1 score: 0.6045845281234236\n"
     ]
    },
    {
     "name": "stderr",
     "output_type": "stream",
     "text": [
      "/opt/conda/lib/python3.10/site-packages/optuna/trial/_trial.py:676: RuntimeWarning: Inconsistent parameter values for distribution with name \"C\"! This might be a configuration mistake. Optuna allows to call the same distribution with the same name more than once in a trial. When the parameter values are inconsistent optuna only uses the values of the first call and ignores all following. Using these values: {'step': None, 'low': 0.001, 'high': 100.0, 'log': True}\n",
      "  warnings.warn(\n",
      "[I 2024-04-11 02:20:42,426] Trial 54 finished with value: 0.6162055519887993 and parameters: {'C': 11.554378068643205, 'penalty': 'l2', 'solver': 'lbfgs', 'multi_class': 'multinomial', 'class_weight': 'balanced'}. Best is trial 3 with value: 0.6240929622892224.\n"
     ]
    },
    {
     "name": "stdout",
     "output_type": "stream",
     "text": [
      "fold: 2, F1 score: 0.5867854663272392\n",
      "fold: 3, F1 score: 0.6080227216964679\n",
      "fold: 4, F1 score: 0.6667624728445477\n",
      "fold: 5, F1 score: 0.6148725709523183\n",
      "fold: 1, F1 score: 0.6189500719650357\n",
      "fold: 2, F1 score: 0.5867854663272392\n"
     ]
    },
    {
     "name": "stderr",
     "output_type": "stream",
     "text": [
      "/opt/conda/lib/python3.10/site-packages/optuna/trial/_trial.py:676: RuntimeWarning: Inconsistent parameter values for distribution with name \"C\"! This might be a configuration mistake. Optuna allows to call the same distribution with the same name more than once in a trial. When the parameter values are inconsistent optuna only uses the values of the first call and ignores all following. Using these values: {'step': None, 'low': 0.001, 'high': 100.0, 'log': True}\n",
      "  warnings.warn(\n",
      "[I 2024-04-11 02:20:42,605] Trial 55 finished with value: 0.623134579440699 and parameters: {'C': 14.698064873937495, 'penalty': 'l2', 'solver': 'lbfgs', 'multi_class': 'multinomial', 'class_weight': 'balanced'}. Best is trial 3 with value: 0.6240929622892224.\n",
      "/opt/conda/lib/python3.10/site-packages/optuna/trial/_trial.py:676: RuntimeWarning: Inconsistent parameter values for distribution with name \"C\"! This might be a configuration mistake. Optuna allows to call the same distribution with the same name more than once in a trial. When the parameter values are inconsistent optuna only uses the values of the first call and ignores all following. Using these values: {'step': None, 'low': 0.001, 'high': 100.0, 'log': True}\n",
      "  warnings.warn(\n"
     ]
    },
    {
     "name": "stdout",
     "output_type": "stream",
     "text": [
      "fold: 3, F1 score: 0.6216334001568902\n",
      "fold: 4, F1 score: 0.6667624728445477\n",
      "fold: 5, F1 score: 0.621541485909783\n",
      "fold: 1, F1 score: 0.6045845281234236\n",
      "fold: 2, F1 score: 0.5867854663272392\n",
      "fold: 3, F1 score: 0.573455965241021\n"
     ]
    },
    {
     "name": "stderr",
     "output_type": "stream",
     "text": [
      "[I 2024-04-11 02:20:42,809] Trial 56 finished with value: 0.60929220069771 and parameters: {'C': 10.920540263353946, 'penalty': 'l2', 'solver': 'lbfgs', 'multi_class': 'multinomial', 'class_weight': 'balanced'}. Best is trial 3 with value: 0.6240929622892224.\n"
     ]
    },
    {
     "name": "stdout",
     "output_type": "stream",
     "text": [
      "fold: 4, F1 score: 0.6667624728445477\n",
      "fold: 5, F1 score: 0.6148725709523183\n",
      "fold: 1, F1 score: 0.6082622398013542\n",
      "fold: 2, F1 score: 0.579734817482403\n",
      "fold: 3, F1 score: 0.6216334001568902\n"
     ]
    },
    {
     "name": "stderr",
     "output_type": "stream",
     "text": [
      "/opt/conda/lib/python3.10/site-packages/optuna/trial/_trial.py:676: RuntimeWarning: Inconsistent parameter values for distribution with name \"C\"! This might be a configuration mistake. Optuna allows to call the same distribution with the same name more than once in a trial. When the parameter values are inconsistent optuna only uses the values of the first call and ignores all following. Using these values: {'step': None, 'low': 0.001, 'high': 100.0, 'log': True}\n",
      "  warnings.warn(\n",
      "[I 2024-04-11 02:20:43,038] Trial 57 finished with value: 0.6111035462520455 and parameters: {'C': 22.390742849159427, 'penalty': 'l2', 'solver': 'lbfgs', 'multi_class': 'multinomial', 'class_weight': 'balanced'}. Best is trial 3 with value: 0.6240929622892224.\n",
      "/opt/conda/lib/python3.10/site-packages/optuna/trial/_trial.py:676: RuntimeWarning: Inconsistent parameter values for distribution with name \"C\"! This might be a configuration mistake. Optuna allows to call the same distribution with the same name more than once in a trial. When the parameter values are inconsistent optuna only uses the values of the first call and ignores all following. Using these values: {'step': None, 'low': 0.001, 'high': 100.0, 'log': True}\n",
      "  warnings.warn(\n",
      "[I 2024-04-11 02:20:43,177] Trial 58 finished with value: 0.4549156159613602 and parameters: {'C': 53.225839448653126, 'penalty': 'l2', 'solver': 'lbfgs', 'multi_class': 'multinomial', 'class_weight': 'balanced'}. Best is trial 3 with value: 0.6240929622892224.\n"
     ]
    },
    {
     "name": "stdout",
     "output_type": "stream",
     "text": [
      "fold: 4, F1 score: 0.6313923567252253\n",
      "fold: 5, F1 score: 0.6144949170943546\n",
      "fold: 1, F1 score: 0.45491561596136026\n",
      "fold: 2, F1 score: 0.45491561596136026\n",
      "fold: 3, F1 score: 0.45491561596136026\n",
      "fold: 4, F1 score: 0.45491561596136026\n",
      "fold: 5, F1 score: 0.45491561596136026\n",
      "fold: 1, F1 score: 0.45491561596136026\n"
     ]
    },
    {
     "name": "stderr",
     "output_type": "stream",
     "text": [
      "/opt/conda/lib/python3.10/site-packages/optuna/trial/_trial.py:676: RuntimeWarning: Inconsistent parameter values for distribution with name \"C\"! This might be a configuration mistake. Optuna allows to call the same distribution with the same name more than once in a trial. When the parameter values are inconsistent optuna only uses the values of the first call and ignores all following. Using these values: {'step': None, 'low': 0.001, 'high': 100.0, 'log': True}\n",
      "  warnings.warn(\n",
      "[I 2024-04-11 02:20:43,267] Trial 59 finished with value: 0.4549156159613602 and parameters: {'C': 40.589416678724724, 'penalty': 'l2', 'solver': 'lbfgs', 'multi_class': 'ovr', 'class_weight': 'balanced'}. Best is trial 3 with value: 0.6240929622892224.\n",
      "/opt/conda/lib/python3.10/site-packages/optuna/trial/_trial.py:676: RuntimeWarning: Inconsistent parameter values for distribution with name \"C\"! This might be a configuration mistake. Optuna allows to call the same distribution with the same name more than once in a trial. When the parameter values are inconsistent optuna only uses the values of the first call and ignores all following. Using these values: {'step': None, 'low': 0.001, 'high': 100.0, 'log': True}\n",
      "  warnings.warn(\n"
     ]
    },
    {
     "name": "stdout",
     "output_type": "stream",
     "text": [
      "fold: 2, F1 score: 0.45491561596136026\n",
      "fold: 3, F1 score: 0.45491561596136026\n",
      "fold: 4, F1 score: 0.45491561596136026\n",
      "fold: 5, F1 score: 0.45491561596136026\n",
      "fold: 1, F1 score: 0.6007343158896148\n"
     ]
    },
    {
     "name": "stderr",
     "output_type": "stream",
     "text": [
      "[I 2024-04-11 02:20:43,613] Trial 60 finished with value: 0.5850850156127063 and parameters: {'C': 3.617238631632595, 'penalty': 'l2', 'solver': 'lbfgs', 'multi_class': 'multinomial', 'class_weight': 'balanced'}. Best is trial 3 with value: 0.6240929622892224.\n"
     ]
    },
    {
     "name": "stdout",
     "output_type": "stream",
     "text": [
      "fold: 2, F1 score: 0.5755785810536781\n",
      "fold: 3, F1 score: 0.6012016383734703\n",
      "fold: 4, F1 score: 0.5879083596525859\n",
      "fold: 5, F1 score: 0.5600021830941828\n"
     ]
    },
    {
     "name": "stderr",
     "output_type": "stream",
     "text": [
      "/opt/conda/lib/python3.10/site-packages/optuna/trial/_trial.py:676: RuntimeWarning: Inconsistent parameter values for distribution with name \"C\"! This might be a configuration mistake. Optuna allows to call the same distribution with the same name more than once in a trial. When the parameter values are inconsistent optuna only uses the values of the first call and ignores all following. Using these values: {'step': None, 'low': 0.001, 'high': 100.0, 'log': True}\n",
      "  warnings.warn(\n",
      "[I 2024-04-11 02:20:43,819] Trial 61 finished with value: 0.6162055519887993 and parameters: {'C': 13.264586042326554, 'penalty': 'l2', 'solver': 'lbfgs', 'multi_class': 'multinomial', 'class_weight': 'balanced'}. Best is trial 3 with value: 0.6240929622892224.\n"
     ]
    },
    {
     "name": "stdout",
     "output_type": "stream",
     "text": [
      "fold: 1, F1 score: 0.6045845281234236\n",
      "fold: 2, F1 score: 0.5867854663272392\n",
      "fold: 3, F1 score: 0.6080227216964679\n",
      "fold: 4, F1 score: 0.6667624728445477\n",
      "fold: 5, F1 score: 0.6148725709523183\n"
     ]
    },
    {
     "name": "stderr",
     "output_type": "stream",
     "text": [
      "/opt/conda/lib/python3.10/site-packages/optuna/trial/_trial.py:676: RuntimeWarning: Inconsistent parameter values for distribution with name \"C\"! This might be a configuration mistake. Optuna allows to call the same distribution with the same name more than once in a trial. When the parameter values are inconsistent optuna only uses the values of the first call and ignores all following. Using these values: {'step': None, 'low': 0.001, 'high': 100.0, 'log': True}\n",
      "  warnings.warn(\n",
      "[I 2024-04-11 02:20:44,134] Trial 62 finished with value: 0.6162055519887993 and parameters: {'C': 12.677539640881532, 'penalty': 'l2', 'solver': 'lbfgs', 'multi_class': 'multinomial', 'class_weight': 'balanced'}. Best is trial 3 with value: 0.6240929622892224.\n"
     ]
    },
    {
     "name": "stdout",
     "output_type": "stream",
     "text": [
      "fold: 1, F1 score: 0.6045845281234236\n",
      "fold: 2, F1 score: 0.5867854663272392\n",
      "fold: 3, F1 score: 0.6080227216964679\n",
      "fold: 4, F1 score: 0.6667624728445477\n",
      "fold: 5, F1 score: 0.6148725709523183\n"
     ]
    },
    {
     "name": "stderr",
     "output_type": "stream",
     "text": [
      "/opt/conda/lib/python3.10/site-packages/optuna/trial/_trial.py:676: RuntimeWarning: Inconsistent parameter values for distribution with name \"C\"! This might be a configuration mistake. Optuna allows to call the same distribution with the same name more than once in a trial. When the parameter values are inconsistent optuna only uses the values of the first call and ignores all following. Using these values: {'step': None, 'low': 0.001, 'high': 100.0, 'log': True}\n",
      "  warnings.warn(\n"
     ]
    },
    {
     "name": "stdout",
     "output_type": "stream",
     "text": [
      "fold: 1, F1 score: 0.6007343158896148\n",
      "fold: 2, F1 score: 0.5735405774605157\n",
      "fold: 3, F1 score: 0.5749539051552475\n",
      "fold: 4, F1 score: 0.6213100870626893\n"
     ]
    },
    {
     "name": "stderr",
     "output_type": "stream",
     "text": [
      "[I 2024-04-11 02:20:44,441] Trial 63 finished with value: 0.5872016531758145 and parameters: {'C': 4.895603139948912, 'penalty': 'l2', 'solver': 'lbfgs', 'multi_class': 'multinomial', 'class_weight': 'balanced'}. Best is trial 3 with value: 0.6240929622892224.\n",
      "/opt/conda/lib/python3.10/site-packages/optuna/trial/_trial.py:676: RuntimeWarning: Inconsistent parameter values for distribution with name \"C\"! This might be a configuration mistake. Optuna allows to call the same distribution with the same name more than once in a trial. When the parameter values are inconsistent optuna only uses the values of the first call and ignores all following. Using these values: {'step': None, 'low': 0.001, 'high': 100.0, 'log': True}\n",
      "  warnings.warn(\n",
      "[I 2024-04-11 02:20:44,581] Trial 64 finished with value: 0.6111035462520455 and parameters: {'C': 19.277222007998095, 'penalty': 'l2', 'solver': 'lbfgs', 'multi_class': 'multinomial', 'class_weight': 'balanced'}. Best is trial 3 with value: 0.6240929622892224.\n"
     ]
    },
    {
     "name": "stdout",
     "output_type": "stream",
     "text": [
      "fold: 5, F1 score: 0.5654693803110056\n",
      "fold: 1, F1 score: 0.6082622398013542\n",
      "fold: 2, F1 score: 0.579734817482403\n",
      "fold: 3, F1 score: 0.6216334001568902\n",
      "fold: 4, F1 score: 0.6313923567252253\n",
      "fold: 5, F1 score: 0.6144949170943546\n"
     ]
    },
    {
     "name": "stderr",
     "output_type": "stream",
     "text": [
      "/opt/conda/lib/python3.10/site-packages/optuna/trial/_trial.py:676: RuntimeWarning: Inconsistent parameter values for distribution with name \"C\"! This might be a configuration mistake. Optuna allows to call the same distribution with the same name more than once in a trial. When the parameter values are inconsistent optuna only uses the values of the first call and ignores all following. Using these values: {'step': None, 'low': 0.001, 'high': 100.0, 'log': True}\n",
      "  warnings.warn(\n"
     ]
    },
    {
     "name": "stdout",
     "output_type": "stream",
     "text": [
      "fold: 1, F1 score: 0.621652614173309\n",
      "fold: 2, F1 score: 0.5658924318807411\n",
      "fold: 3, F1 score: 0.5984088681094939\n",
      "fold: 4, F1 score: 0.6189500719650357\n"
     ]
    },
    {
     "name": "stderr",
     "output_type": "stream",
     "text": [
      "[I 2024-04-11 02:20:45,316] Trial 65 finished with value: 0.5956889127178191 and parameters: {'C': 1.0455104381856877, 'penalty': 'l2', 'solver': 'lbfgs', 'multi_class': 'multinomial', 'class_weight': None}. Best is trial 3 with value: 0.6240929622892224.\n"
     ]
    },
    {
     "name": "stdout",
     "output_type": "stream",
     "text": [
      "fold: 5, F1 score: 0.5735405774605157\n",
      "fold: 1, F1 score: 0.6055798990515281\n",
      "fold: 2, F1 score: 0.5540905809899712\n",
      "fold: 3, F1 score: 0.573455965241021\n"
     ]
    },
    {
     "name": "stderr",
     "output_type": "stream",
     "text": [
      "/opt/conda/lib/python3.10/site-packages/optuna/trial/_trial.py:676: RuntimeWarning: Inconsistent parameter values for distribution with name \"C\"! This might be a configuration mistake. Optuna allows to call the same distribution with the same name more than once in a trial. When the parameter values are inconsistent optuna only uses the values of the first call and ignores all following. Using these values: {'step': None, 'low': 0.001, 'high': 100.0, 'log': True}\n",
      "  warnings.warn(\n",
      "[I 2024-04-11 02:20:45,594] Trial 66 finished with value: 0.5857106271921597 and parameters: {'C': 8.879877713006252, 'penalty': 'l2', 'solver': 'lbfgs', 'multi_class': 'multinomial', 'class_weight': 'balanced'}. Best is trial 3 with value: 0.6240929622892224.\n",
      "/opt/conda/lib/python3.10/site-packages/optuna/trial/_trial.py:676: RuntimeWarning: Inconsistent parameter values for distribution with name \"C\"! This might be a configuration mistake. Optuna allows to call the same distribution with the same name more than once in a trial. When the parameter values are inconsistent optuna only uses the values of the first call and ignores all following. Using these values: {'step': None, 'low': 0.001, 'high': 100.0, 'log': True}\n",
      "  warnings.warn(\n",
      "[I 2024-04-11 02:20:45,739] Trial 67 finished with value: 0.5016494927319007 and parameters: {'C': 27.72271775872014, 'penalty': 'l2', 'solver': 'lbfgs', 'multi_class': 'multinomial', 'class_weight': 'balanced'}. Best is trial 3 with value: 0.6240929622892224.\n"
     ]
    },
    {
     "name": "stdout",
     "output_type": "stream",
     "text": [
      "fold: 4, F1 score: 0.6213100870626893\n",
      "fold: 5, F1 score: 0.574116603615589\n",
      "fold: 1, F1 score: 0.45491561596136026\n",
      "fold: 2, F1 score: 0.5351910339079703\n",
      "fold: 3, F1 score: 0.45491561596136026\n",
      "fold: 4, F1 score: 0.45491561596136026\n",
      "fold: 5, F1 score: 0.6083095818674522\n"
     ]
    },
    {
     "name": "stderr",
     "output_type": "stream",
     "text": [
      "/opt/conda/lib/python3.10/site-packages/optuna/trial/_trial.py:676: RuntimeWarning: Inconsistent parameter values for distribution with name \"C\"! This might be a configuration mistake. Optuna allows to call the same distribution with the same name more than once in a trial. When the parameter values are inconsistent optuna only uses the values of the first call and ignores all following. Using these values: {'step': None, 'low': 0.001, 'high': 100.0, 'log': True}\n",
      "  warnings.warn(\n"
     ]
    },
    {
     "name": "stdout",
     "output_type": "stream",
     "text": [
      "fold: 1, F1 score: 0.6117952391725109\n",
      "fold: 2, F1 score: 0.5733427250854755\n",
      "fold: 3, F1 score: 0.5973154362416108\n"
     ]
    },
    {
     "name": "stderr",
     "output_type": "stream",
     "text": [
      "[I 2024-04-11 02:20:46,310] Trial 68 finished with value: 0.5909458307759011 and parameters: {'C': 1.9840544988049778, 'penalty': 'l2', 'solver': 'lbfgs', 'multi_class': 'multinomial', 'class_weight': None}. Best is trial 3 with value: 0.6240929622892224.\n"
     ]
    },
    {
     "name": "stdout",
     "output_type": "stream",
     "text": [
      "fold: 4, F1 score: 0.612696166194901\n",
      "fold: 5, F1 score: 0.559579587185007\n"
     ]
    },
    {
     "name": "stderr",
     "output_type": "stream",
     "text": [
      "/opt/conda/lib/python3.10/site-packages/optuna/trial/_trial.py:676: RuntimeWarning: Inconsistent parameter values for distribution with name \"C\"! This might be a configuration mistake. Optuna allows to call the same distribution with the same name more than once in a trial. When the parameter values are inconsistent optuna only uses the values of the first call and ignores all following. Using these values: {'step': None, 'low': 0.001, 'high': 100.0, 'log': True}\n",
      "  warnings.warn(\n",
      "[I 2024-04-11 02:20:46,502] Trial 69 finished with value: 0.623134579440699 and parameters: {'C': 14.665399983411266, 'penalty': 'l2', 'solver': 'lbfgs', 'multi_class': 'multinomial', 'class_weight': 'balanced'}. Best is trial 3 with value: 0.6240929622892224.\n",
      "/opt/conda/lib/python3.10/site-packages/optuna/trial/_trial.py:676: RuntimeWarning: Inconsistent parameter values for distribution with name \"C\"! This might be a configuration mistake. Optuna allows to call the same distribution with the same name more than once in a trial. When the parameter values are inconsistent optuna only uses the values of the first call and ignores all following. Using these values: {'step': None, 'low': 0.001, 'high': 100.0, 'log': True}\n",
      "  warnings.warn(\n"
     ]
    },
    {
     "name": "stdout",
     "output_type": "stream",
     "text": [
      "fold: 1, F1 score: 0.6189500719650357\n",
      "fold: 2, F1 score: 0.5867854663272392\n",
      "fold: 3, F1 score: 0.6216334001568902\n",
      "fold: 4, F1 score: 0.6667624728445477\n",
      "fold: 5, F1 score: 0.621541485909783\n",
      "fold: 1, F1 score: 0.45491561596136026\n"
     ]
    },
    {
     "name": "stderr",
     "output_type": "stream",
     "text": [
      "[I 2024-04-11 02:20:46,673] Trial 70 finished with value: 0.4549156159613602 and parameters: {'C': 55.44858629227309, 'penalty': 'l2', 'solver': 'lbfgs', 'multi_class': 'multinomial', 'class_weight': None}. Best is trial 3 with value: 0.6240929622892224.\n",
      "/opt/conda/lib/python3.10/site-packages/optuna/trial/_trial.py:676: RuntimeWarning: Inconsistent parameter values for distribution with name \"C\"! This might be a configuration mistake. Optuna allows to call the same distribution with the same name more than once in a trial. When the parameter values are inconsistent optuna only uses the values of the first call and ignores all following. Using these values: {'step': None, 'low': 0.001, 'high': 100.0, 'log': True}\n",
      "  warnings.warn(\n"
     ]
    },
    {
     "name": "stdout",
     "output_type": "stream",
     "text": [
      "fold: 2, F1 score: 0.45491561596136026\n",
      "fold: 3, F1 score: 0.45491561596136026\n",
      "fold: 4, F1 score: 0.45491561596136026\n",
      "fold: 5, F1 score: 0.45491561596136026\n",
      "fold: 1, F1 score: 0.6189500719650357\n",
      "fold: 2, F1 score: 0.5867854663272392\n"
     ]
    },
    {
     "name": "stderr",
     "output_type": "stream",
     "text": [
      "[I 2024-04-11 02:20:46,881] Trial 71 finished with value: 0.6204124437486147 and parameters: {'C': 14.304348684380296, 'penalty': 'l2', 'solver': 'lbfgs', 'multi_class': 'multinomial', 'class_weight': 'balanced'}. Best is trial 3 with value: 0.6240929622892224.\n"
     ]
    },
    {
     "name": "stdout",
     "output_type": "stream",
     "text": [
      "fold: 3, F1 score: 0.6080227216964679\n",
      "fold: 4, F1 score: 0.6667624728445477\n",
      "fold: 5, F1 score: 0.621541485909783\n",
      "fold: 1, F1 score: 0.6055798990515281\n"
     ]
    },
    {
     "name": "stderr",
     "output_type": "stream",
     "text": [
      "/opt/conda/lib/python3.10/site-packages/optuna/trial/_trial.py:676: RuntimeWarning: Inconsistent parameter values for distribution with name \"C\"! This might be a configuration mistake. Optuna allows to call the same distribution with the same name more than once in a trial. When the parameter values are inconsistent optuna only uses the values of the first call and ignores all following. Using these values: {'step': None, 'low': 0.001, 'high': 100.0, 'log': True}\n",
      "  warnings.warn(\n",
      "[I 2024-04-11 02:20:47,240] Trial 72 finished with value: 0.5844344518254309 and parameters: {'C': 8.224454734414778, 'penalty': 'l2', 'solver': 'lbfgs', 'multi_class': 'multinomial', 'class_weight': 'balanced'}. Best is trial 3 with value: 0.6240929622892224.\n"
     ]
    },
    {
     "name": "stdout",
     "output_type": "stream",
     "text": [
      "fold: 2, F1 score: 0.5540905809899712\n",
      "fold: 3, F1 score: 0.573455965241021\n",
      "fold: 4, F1 score: 0.6213100870626893\n",
      "fold: 5, F1 score: 0.5677357267819446\n",
      "fold: 1, F1 score: 0.6007343158896148\n"
     ]
    },
    {
     "name": "stderr",
     "output_type": "stream",
     "text": [
      "/opt/conda/lib/python3.10/site-packages/optuna/trial/_trial.py:676: RuntimeWarning: Inconsistent parameter values for distribution with name \"C\"! This might be a configuration mistake. Optuna allows to call the same distribution with the same name more than once in a trial. When the parameter values are inconsistent optuna only uses the values of the first call and ignores all following. Using these values: {'step': None, 'low': 0.001, 'high': 100.0, 'log': True}\n",
      "  warnings.warn(\n",
      "[I 2024-04-11 02:20:47,606] Trial 73 finished with value: 0.5836920978715959 and parameters: {'C': 4.20824597910334, 'penalty': 'l2', 'solver': 'lbfgs', 'multi_class': 'multinomial', 'class_weight': 'balanced'}. Best is trial 3 with value: 0.6240929622892224.\n"
     ]
    },
    {
     "name": "stdout",
     "output_type": "stream",
     "text": [
      "fold: 2, F1 score: 0.5776147884672802\n",
      "fold: 3, F1 score: 0.6012016383734703\n",
      "fold: 4, F1 score: 0.5943366051338249\n",
      "fold: 5, F1 score: 0.5445731414937891\n"
     ]
    },
    {
     "name": "stderr",
     "output_type": "stream",
     "text": [
      "/opt/conda/lib/python3.10/site-packages/optuna/trial/_trial.py:676: RuntimeWarning: Inconsistent parameter values for distribution with name \"C\"! This might be a configuration mistake. Optuna allows to call the same distribution with the same name more than once in a trial. When the parameter values are inconsistent optuna only uses the values of the first call and ignores all following. Using these values: {'step': None, 'low': 0.001, 'high': 100.0, 'log': True}\n",
      "  warnings.warn(\n",
      "[I 2024-04-11 02:20:47,782] Trial 74 finished with value: 0.6160605562168348 and parameters: {'C': 15.611880424465598, 'penalty': 'l2', 'solver': 'lbfgs', 'multi_class': 'multinomial', 'class_weight': 'balanced'}. Best is trial 3 with value: 0.6240929622892224.\n",
      "/opt/conda/lib/python3.10/site-packages/optuna/trial/_trial.py:676: RuntimeWarning: Inconsistent parameter values for distribution with name \"C\"! This might be a configuration mistake. Optuna allows to call the same distribution with the same name more than once in a trial. When the parameter values are inconsistent optuna only uses the values of the first call and ignores all following. Using these values: {'step': None, 'low': 0.001, 'high': 100.0, 'log': True}\n",
      "  warnings.warn(\n"
     ]
    },
    {
     "name": "stdout",
     "output_type": "stream",
     "text": [
      "fold: 1, F1 score: 0.6189500719650357\n",
      "fold: 2, F1 score: 0.5867854663272392\n",
      "fold: 3, F1 score: 0.6216334001568902\n",
      "fold: 4, F1 score: 0.6313923567252253\n",
      "fold: 5, F1 score: 0.621541485909783\n",
      "fold: 1, F1 score: 0.45491561596136026\n",
      "fold: 2, F1 score: 0.5351910339079703\n"
     ]
    },
    {
     "name": "stderr",
     "output_type": "stream",
     "text": [
      "[I 2024-04-11 02:20:48,003] Trial 75 finished with value: 0.5016494927319007 and parameters: {'C': 28.534256226067882, 'penalty': 'l2', 'solver': 'lbfgs', 'multi_class': 'multinomial', 'class_weight': 'balanced'}. Best is trial 3 with value: 0.6240929622892224.\n"
     ]
    },
    {
     "name": "stdout",
     "output_type": "stream",
     "text": [
      "fold: 3, F1 score: 0.45491561596136026\n",
      "fold: 4, F1 score: 0.45491561596136026\n",
      "fold: 5, F1 score: 0.6083095818674522\n"
     ]
    },
    {
     "name": "stderr",
     "output_type": "stream",
     "text": [
      "/opt/conda/lib/python3.10/site-packages/optuna/trial/_trial.py:676: RuntimeWarning: Inconsistent parameter values for distribution with name \"C\"! This might be a configuration mistake. Optuna allows to call the same distribution with the same name more than once in a trial. When the parameter values are inconsistent optuna only uses the values of the first call and ignores all following. Using these values: {'step': None, 'low': 0.001, 'high': 100.0, 'log': True}\n",
      "  warnings.warn(\n"
     ]
    },
    {
     "name": "stdout",
     "output_type": "stream",
     "text": [
      "fold: 1, F1 score: 0.6134444684996753\n",
      "fold: 2, F1 score: 0.5691270081457538\n",
      "fold: 3, F1 score: 0.599340861580932\n",
      "fold: 4, F1 score: 0.6273520281636404\n"
     ]
    },
    {
     "name": "stderr",
     "output_type": "stream",
     "text": [
      "[I 2024-04-11 02:20:48,622] Trial 76 finished with value: 0.6000889960425049 and parameters: {'C': 0.43960273000879063, 'penalty': 'l2', 'solver': 'lbfgs', 'multi_class': 'multinomial', 'class_weight': 'balanced'}. Best is trial 3 with value: 0.6240929622892224.\n"
     ]
    },
    {
     "name": "stdout",
     "output_type": "stream",
     "text": [
      "fold: 5, F1 score: 0.5911806138225227\n",
      "fold: 1, F1 score: 0.574116603615589\n",
      "fold: 2, F1 score: 0.5616440322032844\n",
      "fold: 3, F1 score: 0.6007343158896148\n",
      "fold: 4, F1 score: 0.6144949170943546\n"
     ]
    },
    {
     "name": "stderr",
     "output_type": "stream",
     "text": [
      "/opt/conda/lib/python3.10/site-packages/optuna/trial/_trial.py:676: RuntimeWarning: Inconsistent parameter values for distribution with name \"C\"! This might be a configuration mistake. Optuna allows to call the same distribution with the same name more than once in a trial. When the parameter values are inconsistent optuna only uses the values of the first call and ignores all following. Using these values: {'step': None, 'low': 0.001, 'high': 100.0, 'log': True}\n",
      "  warnings.warn(\n",
      "[I 2024-04-11 02:20:48,830] Trial 77 finished with value: 0.5828178129998598 and parameters: {'C': 2.7357692120393096, 'penalty': 'l2', 'solver': 'lbfgs', 'multi_class': 'ovr', 'class_weight': 'balanced'}. Best is trial 3 with value: 0.6240929622892224.\n"
     ]
    },
    {
     "name": "stdout",
     "output_type": "stream",
     "text": [
      "fold: 5, F1 score: 0.563099196196456\n",
      "fold: 1, F1 score: 0.6081402075366413\n",
      "fold: 2, F1 score: 0.5676229420714437\n",
      "fold: 3, F1 score: 0.6168716028184307\n"
     ]
    },
    {
     "name": "stderr",
     "output_type": "stream",
     "text": [
      "/opt/conda/lib/python3.10/site-packages/optuna/trial/_trial.py:676: RuntimeWarning: Inconsistent parameter values for distribution with name \"C\"! This might be a configuration mistake. Optuna allows to call the same distribution with the same name more than once in a trial. When the parameter values are inconsistent optuna only uses the values of the first call and ignores all following. Using these values: {'step': None, 'low': 0.001, 'high': 100.0, 'log': True}\n",
      "  warnings.warn(\n",
      "[I 2024-04-11 02:20:49,111] Trial 78 finished with value: 0.5976499427181664 and parameters: {'C': 7.4022580715817465, 'penalty': 'l2', 'solver': 'lbfgs', 'multi_class': 'multinomial', 'class_weight': None}. Best is trial 3 with value: 0.6240929622892224.\n"
     ]
    },
    {
     "name": "stdout",
     "output_type": "stream",
     "text": [
      "fold: 4, F1 score: 0.6385679812985446\n",
      "fold: 5, F1 score: 0.5570469798657718\n",
      "fold: 1, F1 score: 0.45491561596136026\n",
      "fold: 2, F1 score: 0.45491561596136026\n",
      "fold: 3, F1 score: 0.45491561596136026\n"
     ]
    },
    {
     "name": "stderr",
     "output_type": "stream",
     "text": [
      "/opt/conda/lib/python3.10/site-packages/optuna/trial/_trial.py:676: RuntimeWarning: Inconsistent parameter values for distribution with name \"C\"! This might be a configuration mistake. Optuna allows to call the same distribution with the same name more than once in a trial. When the parameter values are inconsistent optuna only uses the values of the first call and ignores all following. Using these values: {'step': None, 'low': 0.001, 'high': 100.0, 'log': True}\n",
      "  warnings.warn(\n",
      "[I 2024-04-11 02:20:49,332] Trial 79 finished with value: 0.4549156159613602 and parameters: {'C': 44.49153379148861, 'penalty': 'l2', 'solver': 'lbfgs', 'multi_class': 'multinomial', 'class_weight': 'balanced'}. Best is trial 3 with value: 0.6240929622892224.\n"
     ]
    },
    {
     "name": "stdout",
     "output_type": "stream",
     "text": [
      "fold: 4, F1 score: 0.45491561596136026\n",
      "fold: 5, F1 score: 0.45491561596136026\n",
      "fold: 1, F1 score: 0.6045845281234236\n",
      "fold: 2, F1 score: 0.5867854663272392\n",
      "fold: 3, F1 score: 0.573455965241021\n",
      "fold: 4, F1 score: 0.6667624728445477\n"
     ]
    },
    {
     "name": "stderr",
     "output_type": "stream",
     "text": [
      "/opt/conda/lib/python3.10/site-packages/optuna/trial/_trial.py:676: RuntimeWarning: Inconsistent parameter values for distribution with name \"C\"! This might be a configuration mistake. Optuna allows to call the same distribution with the same name more than once in a trial. When the parameter values are inconsistent optuna only uses the values of the first call and ignores all following. Using these values: {'step': None, 'low': 0.001, 'high': 100.0, 'log': True}\n",
      "  warnings.warn(\n",
      "[I 2024-04-11 02:20:49,539] Trial 80 finished with value: 0.60929220069771 and parameters: {'C': 10.929098324237735, 'penalty': 'l2', 'solver': 'lbfgs', 'multi_class': 'multinomial', 'class_weight': 'balanced'}. Best is trial 3 with value: 0.6240929622892224.\n",
      "/opt/conda/lib/python3.10/site-packages/optuna/trial/_trial.py:676: RuntimeWarning: Inconsistent parameter values for distribution with name \"C\"! This might be a configuration mistake. Optuna allows to call the same distribution with the same name more than once in a trial. When the parameter values are inconsistent optuna only uses the values of the first call and ignores all following. Using these values: {'step': None, 'low': 0.001, 'high': 100.0, 'log': True}\n",
      "  warnings.warn(\n",
      "[I 2024-04-11 02:20:49,739] Trial 81 finished with value: 0.6162055519887993 and parameters: {'C': 11.662905451472346, 'penalty': 'l2', 'solver': 'lbfgs', 'multi_class': 'multinomial', 'class_weight': 'balanced'}. Best is trial 3 with value: 0.6240929622892224.\n"
     ]
    },
    {
     "name": "stdout",
     "output_type": "stream",
     "text": [
      "fold: 5, F1 score: 0.6148725709523183\n",
      "fold: 1, F1 score: 0.6045845281234236\n",
      "fold: 2, F1 score: 0.5867854663272392\n",
      "fold: 3, F1 score: 0.6080227216964679\n",
      "fold: 4, F1 score: 0.6667624728445477\n",
      "fold: 5, F1 score: 0.6148725709523183\n"
     ]
    },
    {
     "name": "stderr",
     "output_type": "stream",
     "text": [
      "/opt/conda/lib/python3.10/site-packages/optuna/trial/_trial.py:676: RuntimeWarning: Inconsistent parameter values for distribution with name \"C\"! This might be a configuration mistake. Optuna allows to call the same distribution with the same name more than once in a trial. When the parameter values are inconsistent optuna only uses the values of the first call and ignores all following. Using these values: {'step': None, 'low': 0.001, 'high': 100.0, 'log': True}\n",
      "  warnings.warn(\n",
      "[I 2024-04-11 02:20:49,893] Trial 82 finished with value: 0.6146504264478674 and parameters: {'C': 16.164903408573295, 'penalty': 'l2', 'solver': 'lbfgs', 'multi_class': 'multinomial', 'class_weight': 'balanced'}. Best is trial 3 with value: 0.6240929622892224.\n",
      "/opt/conda/lib/python3.10/site-packages/optuna/trial/_trial.py:676: RuntimeWarning: Inconsistent parameter values for distribution with name \"C\"! This might be a configuration mistake. Optuna allows to call the same distribution with the same name more than once in a trial. When the parameter values are inconsistent optuna only uses the values of the first call and ignores all following. Using these values: {'step': None, 'low': 0.001, 'high': 100.0, 'log': True}\n",
      "  warnings.warn(\n"
     ]
    },
    {
     "name": "stdout",
     "output_type": "stream",
     "text": [
      "fold: 1, F1 score: 0.6189500719650357\n",
      "fold: 2, F1 score: 0.579734817482403\n",
      "fold: 3, F1 score: 0.6216334001568902\n",
      "fold: 4, F1 score: 0.6313923567252253\n",
      "fold: 5, F1 score: 0.621541485909783\n"
     ]
    },
    {
     "name": "stderr",
     "output_type": "stream",
     "text": [
      "[I 2024-04-11 02:20:50,112] Trial 83 finished with value: 0.4549156159613602 and parameters: {'C': 65.54939049009172, 'penalty': 'l2', 'solver': 'lbfgs', 'multi_class': 'multinomial', 'class_weight': 'balanced'}. Best is trial 3 with value: 0.6240929622892224.\n"
     ]
    },
    {
     "name": "stdout",
     "output_type": "stream",
     "text": [
      "fold: 1, F1 score: 0.45491561596136026\n",
      "fold: 2, F1 score: 0.45491561596136026\n",
      "fold: 3, F1 score: 0.45491561596136026\n",
      "fold: 4, F1 score: 0.45491561596136026\n",
      "fold: 5, F1 score: 0.45491561596136026\n",
      "fold: 1, F1 score: 0.6082622398013542\n",
      "fold: 2, F1 score: 0.579734817482403\n",
      "fold: 3, F1 score: 0.6216334001568902\n",
      "fold: 4, F1 score: 0.6313923567252253\n"
     ]
    },
    {
     "name": "stderr",
     "output_type": "stream",
     "text": [
      "/opt/conda/lib/python3.10/site-packages/optuna/trial/_trial.py:676: RuntimeWarning: Inconsistent parameter values for distribution with name \"C\"! This might be a configuration mistake. Optuna allows to call the same distribution with the same name more than once in a trial. When the parameter values are inconsistent optuna only uses the values of the first call and ignores all following. Using these values: {'step': None, 'low': 0.001, 'high': 100.0, 'log': True}\n",
      "  warnings.warn(\n",
      "[I 2024-04-11 02:20:50,252] Trial 84 finished with value: 0.609866479206665 and parameters: {'C': 23.88643160492568, 'penalty': 'l2', 'solver': 'lbfgs', 'multi_class': 'multinomial', 'class_weight': 'balanced'}. Best is trial 3 with value: 0.6240929622892224.\n",
      "/opt/conda/lib/python3.10/site-packages/optuna/trial/_trial.py:676: RuntimeWarning: Inconsistent parameter values for distribution with name \"C\"! This might be a configuration mistake. Optuna allows to call the same distribution with the same name more than once in a trial. When the parameter values are inconsistent optuna only uses the values of the first call and ignores all following. Using these values: {'step': None, 'low': 0.001, 'high': 100.0, 'log': True}\n",
      "  warnings.warn(\n",
      "[I 2024-04-11 02:20:50,377] Trial 85 finished with value: 0.4549156159613602 and parameters: {'C': 34.62010274769643, 'penalty': 'l2', 'solver': 'lbfgs', 'multi_class': 'multinomial', 'class_weight': 'balanced'}. Best is trial 3 with value: 0.6240929622892224.\n",
      "/opt/conda/lib/python3.10/site-packages/optuna/trial/_trial.py:676: RuntimeWarning: Inconsistent parameter values for distribution with name \"C\"! This might be a configuration mistake. Optuna allows to call the same distribution with the same name more than once in a trial. When the parameter values are inconsistent optuna only uses the values of the first call and ignores all following. Using these values: {'step': None, 'low': 0.001, 'high': 100.0, 'log': True}\n",
      "  warnings.warn(\n",
      "[I 2024-04-11 02:20:50,438] Trial 86 finished with value: 0.525750265475643 and parameters: {'C': 5.720058174323552, 'penalty': 'l2', 'solver': 'sag', 'multi_class': 'multinomial', 'class_weight': 'balanced'}. Best is trial 3 with value: 0.6240929622892224.\n"
     ]
    },
    {
     "name": "stdout",
     "output_type": "stream",
     "text": [
      "fold: 5, F1 score: 0.6083095818674522\n",
      "fold: 1, F1 score: 0.45491561596136026\n",
      "fold: 2, F1 score: 0.45491561596136026\n",
      "fold: 3, F1 score: 0.45491561596136026\n",
      "fold: 4, F1 score: 0.45491561596136026\n",
      "fold: 5, F1 score: 0.45491561596136026\n",
      "fold: 1, F1 score: 0.45175117026676437\n",
      "fold: 2, F1 score: 0.5317238623782644\n",
      "fold: 3, F1 score: 0.4700261312578723\n",
      "fold: 4, F1 score: 0.6001149674134572\n",
      "fold: 5, F1 score: 0.5751351960618558\n"
     ]
    },
    {
     "name": "stderr",
     "output_type": "stream",
     "text": [
      "/opt/conda/lib/python3.10/site-packages/optuna/trial/_trial.py:676: RuntimeWarning: Inconsistent parameter values for distribution with name \"C\"! This might be a configuration mistake. Optuna allows to call the same distribution with the same name more than once in a trial. When the parameter values are inconsistent optuna only uses the values of the first call and ignores all following. Using these values: {'step': None, 'low': 0.001, 'high': 100.0, 'log': True}\n",
      "  warnings.warn(\n"
     ]
    },
    {
     "name": "stdout",
     "output_type": "stream",
     "text": [
      "fold: 1, F1 score: 0.5869432580841977\n",
      "fold: 2, F1 score: 0.6056014455343314\n",
      "fold: 3, F1 score: 0.6074191580231848\n",
      "fold: 4, F1 score: 0.614632138786881\n"
     ]
    },
    {
     "name": "stderr",
     "output_type": "stream",
     "text": [
      "[I 2024-04-11 02:20:50,729] Trial 87 finished with value: 0.6083477801768737 and parameters: {'C': 17.308684835340056, 'penalty': 'l2', 'solver': 'lbfgs', 'multi_class': 'multinomial', 'class_weight': None}. Best is trial 3 with value: 0.6240929622892224.\n",
      "/opt/conda/lib/python3.10/site-packages/optuna/trial/_trial.py:676: RuntimeWarning: Inconsistent parameter values for distribution with name \"C\"! This might be a configuration mistake. Optuna allows to call the same distribution with the same name more than once in a trial. When the parameter values are inconsistent optuna only uses the values of the first call and ignores all following. Using these values: {'step': None, 'low': 0.001, 'high': 100.0, 'log': True}\n",
      "  warnings.warn(\n",
      "[I 2024-04-11 02:20:50,832] Trial 88 finished with value: 0.6070133917723854 and parameters: {'C': 13.699809728015381, 'penalty': 'l2', 'solver': 'lbfgs', 'multi_class': 'ovr', 'class_weight': 'balanced'}. Best is trial 3 with value: 0.6240929622892224.\n"
     ]
    },
    {
     "name": "stdout",
     "output_type": "stream",
     "text": [
      "fold: 5, F1 score: 0.6271429004557735\n",
      "fold: 1, F1 score: 0.6082622398013542\n",
      "fold: 2, F1 score: 0.5654693803110056\n",
      "fold: 3, F1 score: 0.6216334001568902\n",
      "fold: 4, F1 score: 0.6313923567252253\n",
      "fold: 5, F1 score: 0.6083095818674522\n",
      "fold: 1, F1 score: 0.6012016383734703\n"
     ]
    },
    {
     "name": "stderr",
     "output_type": "stream",
     "text": [
      "/opt/conda/lib/python3.10/site-packages/optuna/trial/_trial.py:676: RuntimeWarning: Inconsistent parameter values for distribution with name \"C\"! This might be a configuration mistake. Optuna allows to call the same distribution with the same name more than once in a trial. When the parameter values are inconsistent optuna only uses the values of the first call and ignores all following. Using these values: {'step': None, 'low': 0.001, 'high': 100.0, 'log': True}\n",
      "  warnings.warn(\n"
     ]
    },
    {
     "name": "stdout",
     "output_type": "stream",
     "text": [
      "fold: 2, F1 score: 0.573455965241021\n",
      "fold: 3, F1 score: 0.6348207320182117\n",
      "fold: 4, F1 score: 0.6323202448785433\n"
     ]
    },
    {
     "name": "stderr",
     "output_type": "stream",
     "text": [
      "[I 2024-04-11 02:20:51,303] Trial 89 finished with value: 0.6126680132842057 and parameters: {'C': 0.0014529105887821237, 'penalty': 'l2', 'solver': 'newton-cg', 'multi_class': 'multinomial', 'class_weight': 'balanced'}. Best is trial 3 with value: 0.6240929622892224.\n"
     ]
    },
    {
     "name": "stdout",
     "output_type": "stream",
     "text": [
      "fold: 5, F1 score: 0.621541485909783\n",
      "fold: 1, F1 score: 0.6055798990515281\n",
      "fold: 2, F1 score: 0.5540905809899712\n",
      "fold: 3, F1 score: 0.573455965241021\n"
     ]
    },
    {
     "name": "stderr",
     "output_type": "stream",
     "text": [
      "/opt/conda/lib/python3.10/site-packages/optuna/trial/_trial.py:676: RuntimeWarning: Inconsistent parameter values for distribution with name \"C\"! This might be a configuration mistake. Optuna allows to call the same distribution with the same name more than once in a trial. When the parameter values are inconsistent optuna only uses the values of the first call and ignores all following. Using these values: {'step': None, 'low': 0.001, 'high': 100.0, 'log': True}\n",
      "  warnings.warn(\n",
      "[I 2024-04-11 02:20:51,569] Trial 90 finished with value: 0.5857106271921597 and parameters: {'C': 9.18730996479303, 'penalty': 'l2', 'solver': 'lbfgs', 'multi_class': 'multinomial', 'class_weight': 'balanced'}. Best is trial 3 with value: 0.6240929622892224.\n"
     ]
    },
    {
     "name": "stdout",
     "output_type": "stream",
     "text": [
      "fold: 4, F1 score: 0.6213100870626893\n",
      "fold: 5, F1 score: 0.574116603615589\n",
      "fold: 1, F1 score: 0.6045845281234236\n",
      "fold: 2, F1 score: 0.5867854663272392\n",
      "fold: 3, F1 score: 0.6080227216964679\n"
     ]
    },
    {
     "name": "stderr",
     "output_type": "stream",
     "text": [
      "/opt/conda/lib/python3.10/site-packages/optuna/trial/_trial.py:676: RuntimeWarning: Inconsistent parameter values for distribution with name \"C\"! This might be a configuration mistake. Optuna allows to call the same distribution with the same name more than once in a trial. When the parameter values are inconsistent optuna only uses the values of the first call and ignores all following. Using these values: {'step': None, 'low': 0.001, 'high': 100.0, 'log': True}\n",
      "  warnings.warn(\n",
      "[I 2024-04-11 02:20:51,776] Trial 91 finished with value: 0.6162055519887993 and parameters: {'C': 12.723925870637917, 'penalty': 'l2', 'solver': 'lbfgs', 'multi_class': 'multinomial', 'class_weight': 'balanced'}. Best is trial 3 with value: 0.6240929622892224.\n"
     ]
    },
    {
     "name": "stdout",
     "output_type": "stream",
     "text": [
      "fold: 4, F1 score: 0.6667624728445477\n",
      "fold: 5, F1 score: 0.6148725709523183\n",
      "fold: 1, F1 score: 0.6082622398013542\n",
      "fold: 2, F1 score: 0.579734817482403\n"
     ]
    },
    {
     "name": "stderr",
     "output_type": "stream",
     "text": [
      "/opt/conda/lib/python3.10/site-packages/optuna/trial/_trial.py:676: RuntimeWarning: Inconsistent parameter values for distribution with name \"C\"! This might be a configuration mistake. Optuna allows to call the same distribution with the same name more than once in a trial. When the parameter values are inconsistent optuna only uses the values of the first call and ignores all following. Using these values: {'step': None, 'low': 0.001, 'high': 100.0, 'log': True}\n",
      "  warnings.warn(\n",
      "[I 2024-04-11 02:20:52,006] Trial 92 finished with value: 0.609866479206665 and parameters: {'C': 23.45075432530034, 'penalty': 'l2', 'solver': 'lbfgs', 'multi_class': 'multinomial', 'class_weight': 'balanced'}. Best is trial 3 with value: 0.6240929622892224.\n"
     ]
    },
    {
     "name": "stdout",
     "output_type": "stream",
     "text": [
      "fold: 3, F1 score: 0.6216334001568902\n",
      "fold: 4, F1 score: 0.6313923567252253\n",
      "fold: 5, F1 score: 0.6083095818674522\n",
      "fold: 1, F1 score: 0.6331018247862249\n"
     ]
    },
    {
     "name": "stderr",
     "output_type": "stream",
     "text": [
      "/opt/conda/lib/python3.10/site-packages/optuna/trial/_trial.py:676: RuntimeWarning: Inconsistent parameter values for distribution with name \"C\"! This might be a configuration mistake. Optuna allows to call the same distribution with the same name more than once in a trial. When the parameter values are inconsistent optuna only uses the values of the first call and ignores all following. Using these values: {'step': None, 'low': 0.001, 'high': 100.0, 'log': True}\n",
      "  warnings.warn(\n"
     ]
    },
    {
     "name": "stdout",
     "output_type": "stream",
     "text": [
      "fold: 2, F1 score: 0.575131908135491\n",
      "fold: 3, F1 score: 0.5930765693083585\n"
     ]
    },
    {
     "name": "stderr",
     "output_type": "stream",
     "text": [
      "[I 2024-04-11 02:20:52,662] Trial 93 finished with value: 0.6015003767236455 and parameters: {'C': 0.2473123227084004, 'penalty': 'l2', 'solver': 'lbfgs', 'multi_class': 'multinomial', 'class_weight': 'balanced'}. Best is trial 3 with value: 0.6240929622892224.\n"
     ]
    },
    {
     "name": "stdout",
     "output_type": "stream",
     "text": [
      "fold: 4, F1 score: 0.6273520281636404\n",
      "fold: 5, F1 score: 0.5788395532245131\n",
      "fold: 1, F1 score: 0.45491561596136026\n",
      "fold: 2, F1 score: 0.45491561596136026\n",
      "fold: 3, F1 score: 0.45491561596136026\n"
     ]
    },
    {
     "name": "stderr",
     "output_type": "stream",
     "text": [
      "/opt/conda/lib/python3.10/site-packages/optuna/trial/_trial.py:676: RuntimeWarning: Inconsistent parameter values for distribution with name \"C\"! This might be a configuration mistake. Optuna allows to call the same distribution with the same name more than once in a trial. When the parameter values are inconsistent optuna only uses the values of the first call and ignores all following. Using these values: {'step': None, 'low': 0.001, 'high': 100.0, 'log': True}\n",
      "  warnings.warn(\n",
      "[I 2024-04-11 02:20:52,789] Trial 94 finished with value: 0.4549156159613602 and parameters: {'C': 32.83376498480653, 'penalty': 'l2', 'solver': 'lbfgs', 'multi_class': 'multinomial', 'class_weight': 'balanced'}. Best is trial 3 with value: 0.6240929622892224.\n",
      "/opt/conda/lib/python3.10/site-packages/optuna/trial/_trial.py:676: RuntimeWarning: Inconsistent parameter values for distribution with name \"C\"! This might be a configuration mistake. Optuna allows to call the same distribution with the same name more than once in a trial. When the parameter values are inconsistent optuna only uses the values of the first call and ignores all following. Using these values: {'step': None, 'low': 0.001, 'high': 100.0, 'log': True}\n",
      "  warnings.warn(\n"
     ]
    },
    {
     "name": "stdout",
     "output_type": "stream",
     "text": [
      "fold: 4, F1 score: 0.45491561596136026\n",
      "fold: 5, F1 score: 0.45491561596136026\n",
      "fold: 1, F1 score: 0.5874254597526019\n",
      "fold: 2, F1 score: 0.5600021830941828\n"
     ]
    },
    {
     "name": "stderr",
     "output_type": "stream",
     "text": [
      "[I 2024-04-11 02:20:53,171] Trial 95 finished with value: 0.5843611739601463 and parameters: {'C': 7.147724076423897, 'penalty': 'l2', 'solver': 'lbfgs', 'multi_class': 'multinomial', 'class_weight': 'balanced'}. Best is trial 3 with value: 0.6240929622892224.\n"
     ]
    },
    {
     "name": "stdout",
     "output_type": "stream",
     "text": [
      "fold: 3, F1 score: 0.5749539051552475\n",
      "fold: 4, F1 score: 0.6277881958152389\n",
      "fold: 5, F1 score: 0.5716361259834603\n"
     ]
    },
    {
     "name": "stderr",
     "output_type": "stream",
     "text": [
      "/opt/conda/lib/python3.10/site-packages/optuna/trial/_trial.py:676: RuntimeWarning: Inconsistent parameter values for distribution with name \"C\"! This might be a configuration mistake. Optuna allows to call the same distribution with the same name more than once in a trial. When the parameter values are inconsistent optuna only uses the values of the first call and ignores all following. Using these values: {'step': None, 'low': 0.001, 'high': 100.0, 'log': True}\n",
      "  warnings.warn(\n",
      "[I 2024-04-11 02:20:53,338] Trial 96 finished with value: 0.5784383882705795 and parameters: {'C': 12.373461190927012, 'penalty': 'l2', 'solver': 'newton-cg', 'multi_class': 'multinomial', 'class_weight': 'balanced'}. Best is trial 3 with value: 0.6240929622892224.\n",
      "/opt/conda/lib/python3.10/site-packages/optuna/trial/_trial.py:676: RuntimeWarning: Inconsistent parameter values for distribution with name \"C\"! This might be a configuration mistake. Optuna allows to call the same distribution with the same name more than once in a trial. When the parameter values are inconsistent optuna only uses the values of the first call and ignores all following. Using these values: {'step': None, 'low': 0.001, 'high': 100.0, 'log': True}\n",
      "  warnings.warn(\n"
     ]
    },
    {
     "name": "stdout",
     "output_type": "stream",
     "text": [
      "fold: 1, F1 score: 0.6179884424243246\n",
      "fold: 2, F1 score: 0.5464637887278501\n",
      "fold: 3, F1 score: 0.5601264641548029\n",
      "fold: 4, F1 score: 0.5949829936929257\n",
      "fold: 5, F1 score: 0.5726302523529941\n",
      "fold: 1, F1 score: 0.5654693803110056\n"
     ]
    },
    {
     "name": "stderr",
     "output_type": "stream",
     "text": [
      "[I 2024-04-11 02:20:53,671] Trial 97 finished with value: 0.5854631827922943 and parameters: {'C': 4.843246271814893, 'penalty': 'l2', 'solver': 'lbfgs', 'multi_class': 'multinomial', 'class_weight': None}. Best is trial 3 with value: 0.6240929622892224.\n"
     ]
    },
    {
     "name": "stdout",
     "output_type": "stream",
     "text": [
      "fold: 2, F1 score: 0.5912401178715615\n",
      "fold: 3, F1 score: 0.573455965241021\n",
      "fold: 4, F1 score: 0.6401034706721114\n",
      "fold: 5, F1 score: 0.5570469798657718\n"
     ]
    },
    {
     "name": "stderr",
     "output_type": "stream",
     "text": [
      "/opt/conda/lib/python3.10/site-packages/optuna/trial/_trial.py:676: RuntimeWarning: Inconsistent parameter values for distribution with name \"C\"! This might be a configuration mistake. Optuna allows to call the same distribution with the same name more than once in a trial. When the parameter values are inconsistent optuna only uses the values of the first call and ignores all following. Using these values: {'step': None, 'low': 0.001, 'high': 100.0, 'log': True}\n",
      "  warnings.warn(\n",
      "[I 2024-04-11 02:20:53,896] Trial 98 finished with value: 0.6112975192552415 and parameters: {'C': 0.004070702870886341, 'penalty': 'l2', 'solver': 'sag', 'multi_class': 'multinomial', 'class_weight': 'balanced'}. Best is trial 3 with value: 0.6240929622892224.\n"
     ]
    },
    {
     "name": "stdout",
     "output_type": "stream",
     "text": [
      "fold: 1, F1 score: 0.6012016383734703\n",
      "fold: 2, F1 score: 0.5592749477390252\n",
      "fold: 3, F1 score: 0.6345974524289109\n",
      "fold: 4, F1 score: 0.6401034706721114\n",
      "fold: 5, F1 score: 0.6213100870626893\n"
     ]
    },
    {
     "name": "stderr",
     "output_type": "stream",
     "text": [
      "/opt/conda/lib/python3.10/site-packages/optuna/trial/_trial.py:676: RuntimeWarning: Inconsistent parameter values for distribution with name \"C\"! This might be a configuration mistake. Optuna allows to call the same distribution with the same name more than once in a trial. When the parameter values are inconsistent optuna only uses the values of the first call and ignores all following. Using these values: {'step': None, 'low': 0.001, 'high': 100.0, 'log': True}\n",
      "  warnings.warn(\n"
     ]
    },
    {
     "name": "stdout",
     "output_type": "stream",
     "text": [
      "fold: 1, F1 score: 0.6323202448785433\n",
      "fold: 2, F1 score: 0.5691270081457538\n",
      "fold: 3, F1 score: 0.579734817482403\n"
     ]
    },
    {
     "name": "stderr",
     "output_type": "stream",
     "text": [
      "[I 2024-04-11 02:20:54,332] Trial 99 finished with value: 0.599177197997443 and parameters: {'C': 0.10361684437118716, 'penalty': 'l2', 'solver': 'newton-cg', 'multi_class': 'multinomial', 'class_weight': 'balanced'}. Best is trial 3 with value: 0.6240929622892224.\n"
     ]
    },
    {
     "name": "stdout",
     "output_type": "stream",
     "text": [
      "fold: 4, F1 score: 0.6342379226616455\n",
      "fold: 5, F1 score: 0.5804659968188696\n",
      "fold: 1, F1 score: 0.5930765693083585\n",
      "fold: 2, F1 score: 0.5436241610738255\n",
      "fold: 3, F1 score: 0.6216334001568902\n",
      "fold: 4, F1 score: 0.6313923567252253\n"
     ]
    },
    {
     "name": "stderr",
     "output_type": "stream",
     "text": [
      "/opt/conda/lib/python3.10/site-packages/optuna/trial/_trial.py:676: RuntimeWarning: Inconsistent parameter values for distribution with name \"C\"! This might be a configuration mistake. Optuna allows to call the same distribution with the same name more than once in a trial. When the parameter values are inconsistent optuna only uses the values of the first call and ignores all following. Using these values: {'step': None, 'low': 0.001, 'high': 100.0, 'log': True}\n",
      "  warnings.warn(\n",
      "[I 2024-04-11 02:20:54,456] Trial 100 finished with value: 0.5929360784839094 and parameters: {'C': 9.849271294969096, 'penalty': 'l2', 'solver': 'lbfgs', 'multi_class': 'ovr', 'class_weight': 'balanced'}. Best is trial 3 with value: 0.6240929622892224.\n",
      "/opt/conda/lib/python3.10/site-packages/optuna/trial/_trial.py:676: RuntimeWarning: Inconsistent parameter values for distribution with name \"C\"! This might be a configuration mistake. Optuna allows to call the same distribution with the same name more than once in a trial. When the parameter values are inconsistent optuna only uses the values of the first call and ignores all following. Using these values: {'step': None, 'low': 0.001, 'high': 100.0, 'log': True}\n",
      "  warnings.warn(\n"
     ]
    },
    {
     "name": "stdout",
     "output_type": "stream",
     "text": [
      "fold: 5, F1 score: 0.5749539051552475\n",
      "fold: 1, F1 score: 0.6045845281234236\n",
      "fold: 2, F1 score: 0.5867854663272392\n",
      "fold: 3, F1 score: 0.6080227216964679\n",
      "fold: 4, F1 score: 0.6667624728445477\n"
     ]
    },
    {
     "name": "stderr",
     "output_type": "stream",
     "text": [
      "[I 2024-04-11 02:20:54,665] Trial 101 finished with value: 0.6175393349802922 and parameters: {'C': 13.633974913440008, 'penalty': 'l2', 'solver': 'lbfgs', 'multi_class': 'multinomial', 'class_weight': 'balanced'}. Best is trial 3 with value: 0.6240929622892224.\n"
     ]
    },
    {
     "name": "stdout",
     "output_type": "stream",
     "text": [
      "fold: 5, F1 score: 0.621541485909783\n",
      "fold: 1, F1 score: 0.6012016383734703\n",
      "fold: 2, F1 score: 0.579734817482403\n",
      "fold: 3, F1 score: 0.6216334001568902\n"
     ]
    },
    {
     "name": "stderr",
     "output_type": "stream",
     "text": [
      "/opt/conda/lib/python3.10/site-packages/optuna/trial/_trial.py:676: RuntimeWarning: Inconsistent parameter values for distribution with name \"C\"! This might be a configuration mistake. Optuna allows to call the same distribution with the same name more than once in a trial. When the parameter values are inconsistent optuna only uses the values of the first call and ignores all following. Using these values: {'step': None, 'low': 0.001, 'high': 100.0, 'log': True}\n",
      "  warnings.warn(\n",
      "[I 2024-04-11 02:20:54,908] Trial 102 finished with value: 0.6096914259664686 and parameters: {'C': 17.54696913558825, 'penalty': 'l2', 'solver': 'lbfgs', 'multi_class': 'multinomial', 'class_weight': 'balanced'}. Best is trial 3 with value: 0.6240929622892224.\n",
      "/opt/conda/lib/python3.10/site-packages/optuna/trial/_trial.py:676: RuntimeWarning: Inconsistent parameter values for distribution with name \"C\"! This might be a configuration mistake. Optuna allows to call the same distribution with the same name more than once in a trial. When the parameter values are inconsistent optuna only uses the values of the first call and ignores all following. Using these values: {'step': None, 'low': 0.001, 'high': 100.0, 'log': True}\n",
      "  warnings.warn(\n",
      "[I 2024-04-11 02:20:55,030] Trial 103 finished with value: 0.4549156159613602 and parameters: {'C': 91.85589749194487, 'penalty': 'l2', 'solver': 'lbfgs', 'multi_class': 'multinomial', 'class_weight': 'balanced'}. Best is trial 3 with value: 0.6240929622892224.\n"
     ]
    },
    {
     "name": "stdout",
     "output_type": "stream",
     "text": [
      "fold: 4, F1 score: 0.6313923567252253\n",
      "fold: 5, F1 score: 0.6144949170943546\n",
      "fold: 1, F1 score: 0.45491561596136026\n",
      "fold: 2, F1 score: 0.45491561596136026\n",
      "fold: 3, F1 score: 0.45491561596136026\n",
      "fold: 4, F1 score: 0.45491561596136026\n",
      "fold: 5, F1 score: 0.45491561596136026\n",
      "fold: 1, F1 score: 0.6082622398013542\n"
     ]
    },
    {
     "name": "stderr",
     "output_type": "stream",
     "text": [
      "/opt/conda/lib/python3.10/site-packages/optuna/trial/_trial.py:676: RuntimeWarning: Inconsistent parameter values for distribution with name \"C\"! This might be a configuration mistake. Optuna allows to call the same distribution with the same name more than once in a trial. When the parameter values are inconsistent optuna only uses the values of the first call and ignores all following. Using these values: {'step': None, 'low': 0.001, 'high': 100.0, 'log': True}\n",
      "  warnings.warn(\n",
      "[I 2024-04-11 02:20:55,178] Trial 104 finished with value: 0.6111035462520455 and parameters: {'C': 21.081953647776054, 'penalty': 'l2', 'solver': 'lbfgs', 'multi_class': 'multinomial', 'class_weight': 'balanced'}. Best is trial 3 with value: 0.6240929622892224.\n",
      "/opt/conda/lib/python3.10/site-packages/optuna/trial/_trial.py:676: RuntimeWarning: Inconsistent parameter values for distribution with name \"C\"! This might be a configuration mistake. Optuna allows to call the same distribution with the same name more than once in a trial. When the parameter values are inconsistent optuna only uses the values of the first call and ignores all following. Using these values: {'step': None, 'low': 0.001, 'high': 100.0, 'log': True}\n",
      "  warnings.warn(\n"
     ]
    },
    {
     "name": "stdout",
     "output_type": "stream",
     "text": [
      "fold: 2, F1 score: 0.579734817482403\n",
      "fold: 3, F1 score: 0.6216334001568902\n",
      "fold: 4, F1 score: 0.6313923567252253\n",
      "fold: 5, F1 score: 0.6144949170943546\n",
      "fold: 1, F1 score: 0.5930765693083585\n",
      "fold: 2, F1 score: 0.553051313830492\n",
      "fold: 3, F1 score: 0.6134444684996753\n",
      "fold: 4, F1 score: 0.6076370443097651\n"
     ]
    },
    {
     "name": "stderr",
     "output_type": "stream",
     "text": [
      "[I 2024-04-11 02:20:55,937] Trial 105 finished with value: 0.595094327149929 and parameters: {'C': 0.033799476630179334, 'penalty': 'l2', 'solver': 'lbfgs', 'multi_class': 'multinomial', 'class_weight': 'balanced'}. Best is trial 3 with value: 0.6240929622892224.\n",
      "/opt/conda/lib/python3.10/site-packages/optuna/trial/_trial.py:676: RuntimeWarning: Inconsistent parameter values for distribution with name \"C\"! This might be a configuration mistake. Optuna allows to call the same distribution with the same name more than once in a trial. When the parameter values are inconsistent optuna only uses the values of the first call and ignores all following. Using these values: {'step': None, 'low': 0.001, 'high': 100.0, 'log': True}\n",
      "  warnings.warn(\n",
      "[I 2024-04-11 02:20:56,125] Trial 106 finished with value: 0.623134579440699 and parameters: {'C': 14.620434857604524, 'penalty': 'l2', 'solver': 'lbfgs', 'multi_class': 'multinomial', 'class_weight': 'balanced'}. Best is trial 3 with value: 0.6240929622892224.\n"
     ]
    },
    {
     "name": "stdout",
     "output_type": "stream",
     "text": [
      "fold: 5, F1 score: 0.6082622398013542\n",
      "fold: 1, F1 score: 0.6189500719650357\n",
      "fold: 2, F1 score: 0.5867854663272392\n",
      "fold: 3, F1 score: 0.6216334001568902\n",
      "fold: 4, F1 score: 0.6667624728445477\n",
      "fold: 5, F1 score: 0.621541485909783\n"
     ]
    },
    {
     "name": "stderr",
     "output_type": "stream",
     "text": [
      "/opt/conda/lib/python3.10/site-packages/optuna/trial/_trial.py:676: RuntimeWarning: Inconsistent parameter values for distribution with name \"C\"! This might be a configuration mistake. Optuna allows to call the same distribution with the same name more than once in a trial. When the parameter values are inconsistent optuna only uses the values of the first call and ignores all following. Using these values: {'step': None, 'low': 0.001, 'high': 100.0, 'log': True}\n",
      "  warnings.warn(\n"
     ]
    },
    {
     "name": "stdout",
     "output_type": "stream",
     "text": [
      "fold: 1, F1 score: 0.6425712877965243\n",
      "fold: 2, F1 score: 0.5834498813995151\n",
      "fold: 3, F1 score: 0.5973154362416108\n",
      "fold: 4, F1 score: 0.6179884424243246\n"
     ]
    },
    {
     "name": "stderr",
     "output_type": "stream",
     "text": [
      "[I 2024-04-11 02:20:56,713] Trial 107 finished with value: 0.6010629013849947 and parameters: {'C': 3.161004193942711, 'penalty': 'l2', 'solver': 'newton-cg', 'multi_class': 'multinomial', 'class_weight': None}. Best is trial 3 with value: 0.6240929622892224.\n"
     ]
    },
    {
     "name": "stdout",
     "output_type": "stream",
     "text": [
      "fold: 5, F1 score: 0.5639894590629989\n",
      "fold: 1, F1 score: 0.5874254597526019\n",
      "fold: 2, F1 score: 0.5600021830941828\n",
      "fold: 3, F1 score: 0.5749539051552475\n"
     ]
    },
    {
     "name": "stderr",
     "output_type": "stream",
     "text": [
      "/opt/conda/lib/python3.10/site-packages/optuna/trial/_trial.py:676: RuntimeWarning: Inconsistent parameter values for distribution with name \"C\"! This might be a configuration mistake. Optuna allows to call the same distribution with the same name more than once in a trial. When the parameter values are inconsistent optuna only uses the values of the first call and ignores all following. Using these values: {'step': None, 'low': 0.001, 'high': 100.0, 'log': True}\n",
      "  warnings.warn(\n",
      "[I 2024-04-11 02:20:56,992] Trial 108 finished with value: 0.5843611739601463 and parameters: {'C': 6.103834329288156, 'penalty': 'l2', 'solver': 'lbfgs', 'multi_class': 'multinomial', 'class_weight': 'balanced'}. Best is trial 3 with value: 0.6240929622892224.\n",
      "/opt/conda/lib/python3.10/site-packages/optuna/trial/_trial.py:676: RuntimeWarning: Inconsistent parameter values for distribution with name \"C\"! This might be a configuration mistake. Optuna allows to call the same distribution with the same name more than once in a trial. When the parameter values are inconsistent optuna only uses the values of the first call and ignores all following. Using these values: {'step': None, 'low': 0.001, 'high': 100.0, 'log': True}\n",
      "  warnings.warn(\n",
      "[I 2024-04-11 02:20:57,128] Trial 109 finished with value: 0.5702883977237796 and parameters: {'C': 26.953488971533226, 'penalty': 'l2', 'solver': 'lbfgs', 'multi_class': 'multinomial', 'class_weight': 'balanced'}. Best is trial 3 with value: 0.6240929622892224.\n"
     ]
    },
    {
     "name": "stdout",
     "output_type": "stream",
     "text": [
      "fold: 4, F1 score: 0.6277881958152389\n",
      "fold: 5, F1 score: 0.5716361259834603\n",
      "fold: 1, F1 score: 0.45491561596136026\n",
      "fold: 2, F1 score: 0.5351910339079703\n",
      "fold: 3, F1 score: 0.6216334001568902\n",
      "fold: 4, F1 score: 0.6313923567252253\n",
      "fold: 5, F1 score: 0.6083095818674522\n"
     ]
    },
    {
     "name": "stderr",
     "output_type": "stream",
     "text": [
      "/opt/conda/lib/python3.10/site-packages/optuna/trial/_trial.py:676: RuntimeWarning: Inconsistent parameter values for distribution with name \"C\"! This might be a configuration mistake. Optuna allows to call the same distribution with the same name more than once in a trial. When the parameter values are inconsistent optuna only uses the values of the first call and ignores all following. Using these values: {'step': None, 'low': 0.001, 'high': 100.0, 'log': True}\n",
      "  warnings.warn(\n",
      "[I 2024-04-11 02:20:57,396] Trial 110 finished with value: 0.6160605562168348 and parameters: {'C': 15.334238168822822, 'penalty': 'l2', 'solver': 'lbfgs', 'multi_class': 'multinomial', 'class_weight': 'balanced'}. Best is trial 3 with value: 0.6240929622892224.\n"
     ]
    },
    {
     "name": "stdout",
     "output_type": "stream",
     "text": [
      "fold: 1, F1 score: 0.6189500719650357\n",
      "fold: 2, F1 score: 0.5867854663272392\n",
      "fold: 3, F1 score: 0.6216334001568902\n",
      "fold: 4, F1 score: 0.6313923567252253\n",
      "fold: 5, F1 score: 0.621541485909783\n",
      "fold: 1, F1 score: 0.6055798990515281\n"
     ]
    },
    {
     "name": "stderr",
     "output_type": "stream",
     "text": [
      "/opt/conda/lib/python3.10/site-packages/optuna/trial/_trial.py:676: RuntimeWarning: Inconsistent parameter values for distribution with name \"C\"! This might be a configuration mistake. Optuna allows to call the same distribution with the same name more than once in a trial. When the parameter values are inconsistent optuna only uses the values of the first call and ignores all following. Using these values: {'step': None, 'low': 0.001, 'high': 100.0, 'log': True}\n",
      "  warnings.warn(\n",
      "[I 2024-04-11 02:20:57,624] Trial 111 finished with value: 0.601340081415985 and parameters: {'C': 9.823078973869482, 'penalty': 'l2', 'solver': 'lbfgs', 'multi_class': 'multinomial', 'class_weight': 'balanced'}. Best is trial 3 with value: 0.6240929622892224.\n"
     ]
    },
    {
     "name": "stdout",
     "output_type": "stream",
     "text": [
      "fold: 2, F1 score: 0.5867854663272392\n",
      "fold: 3, F1 score: 0.573455965241021\n",
      "fold: 4, F1 score: 0.6667624728445477\n",
      "fold: 5, F1 score: 0.574116603615589\n",
      "fold: 1, F1 score: 0.6045845281234236\n"
     ]
    },
    {
     "name": "stderr",
     "output_type": "stream",
     "text": [
      "/opt/conda/lib/python3.10/site-packages/optuna/trial/_trial.py:676: RuntimeWarning: Inconsistent parameter values for distribution with name \"C\"! This might be a configuration mistake. Optuna allows to call the same distribution with the same name more than once in a trial. When the parameter values are inconsistent optuna only uses the values of the first call and ignores all following. Using these values: {'step': None, 'low': 0.001, 'high': 100.0, 'log': True}\n",
      "  warnings.warn(\n",
      "[I 2024-04-11 02:20:57,831] Trial 112 finished with value: 0.6162055519887993 and parameters: {'C': 12.918987190570753, 'penalty': 'l2', 'solver': 'lbfgs', 'multi_class': 'multinomial', 'class_weight': 'balanced'}. Best is trial 3 with value: 0.6240929622892224.\n"
     ]
    },
    {
     "name": "stdout",
     "output_type": "stream",
     "text": [
      "fold: 2, F1 score: 0.5867854663272392\n",
      "fold: 3, F1 score: 0.6080227216964679\n",
      "fold: 4, F1 score: 0.6667624728445477\n",
      "fold: 5, F1 score: 0.6148725709523183\n",
      "fold: 1, F1 score: 0.5874254597526019\n"
     ]
    },
    {
     "name": "stderr",
     "output_type": "stream",
     "text": [
      "/opt/conda/lib/python3.10/site-packages/optuna/trial/_trial.py:676: RuntimeWarning: Inconsistent parameter values for distribution with name \"C\"! This might be a configuration mistake. Optuna allows to call the same distribution with the same name more than once in a trial. When the parameter values are inconsistent optuna only uses the values of the first call and ignores all following. Using these values: {'step': None, 'low': 0.001, 'high': 100.0, 'log': True}\n",
      "  warnings.warn(\n"
     ]
    },
    {
     "name": "stdout",
     "output_type": "stream",
     "text": [
      "fold: 2, F1 score: 0.5540905809899712\n",
      "fold: 3, F1 score: 0.5814479909640251\n",
      "fold: 4, F1 score: 0.6277881958152389\n"
     ]
    },
    {
     "name": "stderr",
     "output_type": "stream",
     "text": [
      "[I 2024-04-11 02:20:58,197] Trial 113 finished with value: 0.5836975908607563 and parameters: {'C': 7.8780384627308, 'penalty': 'l2', 'solver': 'lbfgs', 'multi_class': 'multinomial', 'class_weight': 'balanced'}. Best is trial 3 with value: 0.6240929622892224.\n",
      "/opt/conda/lib/python3.10/site-packages/optuna/trial/_trial.py:676: RuntimeWarning: Inconsistent parameter values for distribution with name \"C\"! This might be a configuration mistake. Optuna allows to call the same distribution with the same name more than once in a trial. When the parameter values are inconsistent optuna only uses the values of the first call and ignores all following. Using these values: {'step': None, 'low': 0.001, 'high': 100.0, 'log': True}\n",
      "  warnings.warn(\n",
      "[I 2024-04-11 02:20:58,373] Trial 114 finished with value: 0.6160605562168348 and parameters: {'C': 15.53690178635088, 'penalty': 'l2', 'solver': 'lbfgs', 'multi_class': 'multinomial', 'class_weight': 'balanced'}. Best is trial 3 with value: 0.6240929622892224.\n"
     ]
    },
    {
     "name": "stdout",
     "output_type": "stream",
     "text": [
      "fold: 5, F1 score: 0.5677357267819446\n",
      "fold: 1, F1 score: 0.6189500719650357\n",
      "fold: 2, F1 score: 0.5867854663272392\n",
      "fold: 3, F1 score: 0.6216334001568902\n",
      "fold: 4, F1 score: 0.6313923567252253\n",
      "fold: 5, F1 score: 0.621541485909783\n"
     ]
    },
    {
     "name": "stderr",
     "output_type": "stream",
     "text": [
      "/opt/conda/lib/python3.10/site-packages/optuna/trial/_trial.py:676: RuntimeWarning: Inconsistent parameter values for distribution with name \"C\"! This might be a configuration mistake. Optuna allows to call the same distribution with the same name more than once in a trial. When the parameter values are inconsistent optuna only uses the values of the first call and ignores all following. Using these values: {'step': None, 'low': 0.001, 'high': 100.0, 'log': True}\n",
      "  warnings.warn(\n",
      "[I 2024-04-11 02:20:58,500] Trial 115 finished with value: 0.4549156159613602 and parameters: {'C': 42.51834076775205, 'penalty': 'l2', 'solver': 'lbfgs', 'multi_class': 'multinomial', 'class_weight': 'balanced'}. Best is trial 3 with value: 0.6240929622892224.\n",
      "/opt/conda/lib/python3.10/site-packages/optuna/trial/_trial.py:676: RuntimeWarning: Inconsistent parameter values for distribution with name \"C\"! This might be a configuration mistake. Optuna allows to call the same distribution with the same name more than once in a trial. When the parameter values are inconsistent optuna only uses the values of the first call and ignores all following. Using these values: {'step': None, 'low': 0.001, 'high': 100.0, 'log': True}\n",
      "  warnings.warn(\n"
     ]
    },
    {
     "name": "stdout",
     "output_type": "stream",
     "text": [
      "fold: 1, F1 score: 0.45491561596136026\n",
      "fold: 2, F1 score: 0.45491561596136026\n",
      "fold: 3, F1 score: 0.45491561596136026\n",
      "fold: 4, F1 score: 0.45491561596136026\n",
      "fold: 5, F1 score: 0.45491561596136026\n",
      "fold: 1, F1 score: 0.5884369281436977\n",
      "fold: 2, F1 score: 0.5436241610738255\n",
      "fold: 3, F1 score: 0.5671474570353416\n",
      "fold: 4, F1 score: 0.5949829936929257\n"
     ]
    },
    {
     "name": "stderr",
     "output_type": "stream",
     "text": [
      "[I 2024-04-11 02:20:58,640] Trial 116 finished with value: 0.573364358459757 and parameters: {'C': 20.910197245155995, 'penalty': 'l2', 'solver': 'newton-cg', 'multi_class': 'multinomial', 'class_weight': 'balanced'}. Best is trial 3 with value: 0.6240929622892224.\n",
      "/opt/conda/lib/python3.10/site-packages/optuna/trial/_trial.py:676: RuntimeWarning: Inconsistent parameter values for distribution with name \"C\"! This might be a configuration mistake. Optuna allows to call the same distribution with the same name more than once in a trial. When the parameter values are inconsistent optuna only uses the values of the first call and ignores all following. Using these values: {'step': None, 'low': 0.001, 'high': 100.0, 'log': True}\n",
      "  warnings.warn(\n"
     ]
    },
    {
     "name": "stdout",
     "output_type": "stream",
     "text": [
      "fold: 5, F1 score: 0.5726302523529941\n",
      "fold: 1, F1 score: 0.5788395532245131\n",
      "fold: 2, F1 score: 0.5834498813995151\n",
      "fold: 3, F1 score: 0.573455965241021\n",
      "fold: 4, F1 score: 0.6401034706721114\n"
     ]
    },
    {
     "name": "stderr",
     "output_type": "stream",
     "text": [
      "[I 2024-04-11 02:20:59,061] Trial 117 finished with value: 0.5865791700805865 and parameters: {'C': 4.803458752790081, 'penalty': 'l2', 'solver': 'lbfgs', 'multi_class': 'multinomial', 'class_weight': None}. Best is trial 3 with value: 0.6240929622892224.\n",
      "/opt/conda/lib/python3.10/site-packages/optuna/trial/_trial.py:676: RuntimeWarning: Inconsistent parameter values for distribution with name \"C\"! This might be a configuration mistake. Optuna allows to call the same distribution with the same name more than once in a trial. When the parameter values are inconsistent optuna only uses the values of the first call and ignores all following. Using these values: {'step': None, 'low': 0.001, 'high': 100.0, 'log': True}\n",
      "  warnings.warn(\n",
      "[I 2024-04-11 02:20:59,191] Trial 118 finished with value: 0.5016494927319007 and parameters: {'C': 28.76546295272983, 'penalty': 'l2', 'solver': 'lbfgs', 'multi_class': 'multinomial', 'class_weight': 'balanced'}. Best is trial 3 with value: 0.6240929622892224.\n",
      "/opt/conda/lib/python3.10/site-packages/optuna/trial/_trial.py:676: RuntimeWarning: Inconsistent parameter values for distribution with name \"C\"! This might be a configuration mistake. Optuna allows to call the same distribution with the same name more than once in a trial. When the parameter values are inconsistent optuna only uses the values of the first call and ignores all following. Using these values: {'step': None, 'low': 0.001, 'high': 100.0, 'log': True}\n",
      "  warnings.warn(\n",
      "[I 2024-04-11 02:20:59,255] Trial 119 finished with value: 0.5285359063982769 and parameters: {'C': 10.937689585594601, 'penalty': 'l2', 'solver': 'sag', 'multi_class': 'multinomial', 'class_weight': 'balanced'}. Best is trial 3 with value: 0.6240929622892224.\n"
     ]
    },
    {
     "name": "stdout",
     "output_type": "stream",
     "text": [
      "fold: 5, F1 score: 0.5570469798657718\n",
      "fold: 1, F1 score: 0.45491561596136026\n",
      "fold: 2, F1 score: 0.5351910339079703\n",
      "fold: 3, F1 score: 0.45491561596136026\n",
      "fold: 4, F1 score: 0.45491561596136026\n",
      "fold: 5, F1 score: 0.6083095818674522\n",
      "fold: 1, F1 score: 0.45175117026676437\n",
      "fold: 2, F1 score: 0.5317238623782644\n",
      "fold: 3, F1 score: 0.4700261312578723\n",
      "fold: 4, F1 score: 0.6140431720266276\n",
      "fold: 5, F1 score: 0.5751351960618558\n"
     ]
    },
    {
     "name": "stderr",
     "output_type": "stream",
     "text": [
      "/opt/conda/lib/python3.10/site-packages/optuna/trial/_trial.py:676: RuntimeWarning: Inconsistent parameter values for distribution with name \"C\"! This might be a configuration mistake. Optuna allows to call the same distribution with the same name more than once in a trial. When the parameter values are inconsistent optuna only uses the values of the first call and ignores all following. Using these values: {'step': None, 'low': 0.001, 'high': 100.0, 'log': True}\n",
      "  warnings.warn(\n",
      "[I 2024-04-11 02:20:59,477] Trial 120 finished with value: 0.5852902305915738 and parameters: {'C': 2.1239663366405774, 'penalty': 'l2', 'solver': 'lbfgs', 'multi_class': 'ovr', 'class_weight': 'balanced'}. Best is trial 3 with value: 0.6240929622892224.\n"
     ]
    },
    {
     "name": "stdout",
     "output_type": "stream",
     "text": [
      "fold: 1, F1 score: 0.5930765693083585\n",
      "fold: 2, F1 score: 0.5503641296587177\n",
      "fold: 3, F1 score: 0.5930765693083585\n",
      "fold: 4, F1 score: 0.6148019765469431\n",
      "fold: 5, F1 score: 0.575131908135491\n"
     ]
    },
    {
     "name": "stderr",
     "output_type": "stream",
     "text": [
      "/opt/conda/lib/python3.10/site-packages/optuna/trial/_trial.py:676: RuntimeWarning: Inconsistent parameter values for distribution with name \"C\"! This might be a configuration mistake. Optuna allows to call the same distribution with the same name more than once in a trial. When the parameter values are inconsistent optuna only uses the values of the first call and ignores all following. Using these values: {'step': None, 'low': 0.001, 'high': 100.0, 'log': True}\n",
      "  warnings.warn(\n",
      "[I 2024-04-11 02:20:59,691] Trial 121 finished with value: 0.60929220069771 and parameters: {'C': 11.172488743225669, 'penalty': 'l2', 'solver': 'lbfgs', 'multi_class': 'multinomial', 'class_weight': 'balanced'}. Best is trial 3 with value: 0.6240929622892224.\n"
     ]
    },
    {
     "name": "stdout",
     "output_type": "stream",
     "text": [
      "fold: 1, F1 score: 0.6045845281234236\n",
      "fold: 2, F1 score: 0.5867854663272392\n",
      "fold: 3, F1 score: 0.573455965241021\n",
      "fold: 4, F1 score: 0.6667624728445477\n",
      "fold: 5, F1 score: 0.6148725709523183\n"
     ]
    },
    {
     "name": "stderr",
     "output_type": "stream",
     "text": [
      "/opt/conda/lib/python3.10/site-packages/optuna/trial/_trial.py:676: RuntimeWarning: Inconsistent parameter values for distribution with name \"C\"! This might be a configuration mistake. Optuna allows to call the same distribution with the same name more than once in a trial. When the parameter values are inconsistent optuna only uses the values of the first call and ignores all following. Using these values: {'step': None, 'low': 0.001, 'high': 100.0, 'log': True}\n",
      "  warnings.warn(\n"
     ]
    },
    {
     "name": "stdout",
     "output_type": "stream",
     "text": [
      "fold: 1, F1 score: 0.5874254597526019\n",
      "fold: 2, F1 score: 0.5600021830941828\n",
      "fold: 3, F1 score: 0.5749539051552475\n",
      "fold: 4, F1 score: 0.6277881958152389\n"
     ]
    },
    {
     "name": "stderr",
     "output_type": "stream",
     "text": [
      "[I 2024-04-11 02:21:00,053] Trial 122 finished with value: 0.5835810941198432 and parameters: {'C': 7.287443438237823, 'penalty': 'l2', 'solver': 'lbfgs', 'multi_class': 'multinomial', 'class_weight': 'balanced'}. Best is trial 3 with value: 0.6240929622892224.\n",
      "/opt/conda/lib/python3.10/site-packages/optuna/trial/_trial.py:676: RuntimeWarning: Inconsistent parameter values for distribution with name \"C\"! This might be a configuration mistake. Optuna allows to call the same distribution with the same name more than once in a trial. When the parameter values are inconsistent optuna only uses the values of the first call and ignores all following. Using these values: {'step': None, 'low': 0.001, 'high': 100.0, 'log': True}\n",
      "  warnings.warn(\n",
      "[I 2024-04-11 02:21:00,206] Trial 123 finished with value: 0.6096914259664686 and parameters: {'C': 18.304981238985224, 'penalty': 'l2', 'solver': 'lbfgs', 'multi_class': 'multinomial', 'class_weight': 'balanced'}. Best is trial 3 with value: 0.6240929622892224.\n"
     ]
    },
    {
     "name": "stdout",
     "output_type": "stream",
     "text": [
      "fold: 5, F1 score: 0.5677357267819446\n",
      "fold: 1, F1 score: 0.6012016383734703\n",
      "fold: 2, F1 score: 0.579734817482403\n",
      "fold: 3, F1 score: 0.6216334001568902\n",
      "fold: 4, F1 score: 0.6313923567252253\n",
      "fold: 5, F1 score: 0.6144949170943546\n"
     ]
    },
    {
     "name": "stderr",
     "output_type": "stream",
     "text": [
      "/opt/conda/lib/python3.10/site-packages/optuna/trial/_trial.py:676: RuntimeWarning: Inconsistent parameter values for distribution with name \"C\"! This might be a configuration mistake. Optuna allows to call the same distribution with the same name more than once in a trial. When the parameter values are inconsistent optuna only uses the values of the first call and ignores all following. Using these values: {'step': None, 'low': 0.001, 'high': 100.0, 'log': True}\n",
      "  warnings.warn(\n",
      "[I 2024-04-11 02:21:00,415] Trial 124 finished with value: 0.6162055519887993 and parameters: {'C': 12.616517324870605, 'penalty': 'l2', 'solver': 'lbfgs', 'multi_class': 'multinomial', 'class_weight': 'balanced'}. Best is trial 3 with value: 0.6240929622892224.\n"
     ]
    },
    {
     "name": "stdout",
     "output_type": "stream",
     "text": [
      "fold: 1, F1 score: 0.6045845281234236\n",
      "fold: 2, F1 score: 0.5867854663272392\n",
      "fold: 3, F1 score: 0.6080227216964679\n",
      "fold: 4, F1 score: 0.6667624728445477\n",
      "fold: 5, F1 score: 0.6148725709523183\n"
     ]
    },
    {
     "name": "stderr",
     "output_type": "stream",
     "text": [
      "/opt/conda/lib/python3.10/site-packages/optuna/trial/_trial.py:676: RuntimeWarning: Inconsistent parameter values for distribution with name \"C\"! This might be a configuration mistake. Optuna allows to call the same distribution with the same name more than once in a trial. When the parameter values are inconsistent optuna only uses the values of the first call and ignores all following. Using these values: {'step': None, 'low': 0.001, 'high': 100.0, 'log': True}\n",
      "  warnings.warn(\n"
     ]
    },
    {
     "name": "stdout",
     "output_type": "stream",
     "text": [
      "fold: 1, F1 score: 0.6055798990515281\n",
      "fold: 2, F1 score: 0.5540905809899712\n",
      "fold: 3, F1 score: 0.573455965241021\n",
      "fold: 4, F1 score: 0.6213100870626893\n"
     ]
    },
    {
     "name": "stderr",
     "output_type": "stream",
     "text": [
      "[I 2024-04-11 02:21:00,682] Trial 125 finished with value: 0.5857106271921597 and parameters: {'C': 8.711349553163604, 'penalty': 'l2', 'solver': 'lbfgs', 'multi_class': 'multinomial', 'class_weight': 'balanced'}. Best is trial 3 with value: 0.6240929622892224.\n",
      "/opt/conda/lib/python3.10/site-packages/optuna/trial/_trial.py:676: RuntimeWarning: Inconsistent parameter values for distribution with name \"C\"! This might be a configuration mistake. Optuna allows to call the same distribution with the same name more than once in a trial. When the parameter values are inconsistent optuna only uses the values of the first call and ignores all following. Using these values: {'step': None, 'low': 0.001, 'high': 100.0, 'log': True}\n",
      "  warnings.warn(\n",
      "[I 2024-04-11 02:21:00,821] Trial 126 finished with value: 0.573364358459757 and parameters: {'C': 14.921530570941206, 'penalty': 'l2', 'solver': 'newton-cg', 'multi_class': 'multinomial', 'class_weight': 'balanced'}. Best is trial 3 with value: 0.6240929622892224.\n"
     ]
    },
    {
     "name": "stdout",
     "output_type": "stream",
     "text": [
      "fold: 5, F1 score: 0.574116603615589\n",
      "fold: 1, F1 score: 0.5884369281436977\n",
      "fold: 2, F1 score: 0.5436241610738255\n",
      "fold: 3, F1 score: 0.5671474570353416\n",
      "fold: 4, F1 score: 0.5949829936929257\n",
      "fold: 5, F1 score: 0.5726302523529941\n",
      "fold: 1, F1 score: 0.5874254597526019\n"
     ]
    },
    {
     "name": "stderr",
     "output_type": "stream",
     "text": [
      "/opt/conda/lib/python3.10/site-packages/optuna/trial/_trial.py:676: RuntimeWarning: Inconsistent parameter values for distribution with name \"C\"! This might be a configuration mistake. Optuna allows to call the same distribution with the same name more than once in a trial. When the parameter values are inconsistent optuna only uses the values of the first call and ignores all following. Using these values: {'step': None, 'low': 0.001, 'high': 100.0, 'log': True}\n",
      "  warnings.warn(\n",
      "[I 2024-04-11 02:21:01,204] Trial 127 finished with value: 0.5858813348666374 and parameters: {'C': 5.841629616742454, 'penalty': 'l2', 'solver': 'lbfgs', 'multi_class': 'multinomial', 'class_weight': 'balanced'}. Best is trial 3 with value: 0.6240929622892224.\n"
     ]
    },
    {
     "name": "stdout",
     "output_type": "stream",
     "text": [
      "fold: 2, F1 score: 0.5676029876266387\n",
      "fold: 3, F1 score: 0.5749539051552475\n",
      "fold: 4, F1 score: 0.6277881958152389\n",
      "fold: 5, F1 score: 0.5716361259834603\n",
      "fold: 1, F1 score: 0.5869432580841977\n"
     ]
    },
    {
     "name": "stderr",
     "output_type": "stream",
     "text": [
      "/opt/conda/lib/python3.10/site-packages/optuna/trial/_trial.py:676: RuntimeWarning: Inconsistent parameter values for distribution with name \"C\"! This might be a configuration mistake. Optuna allows to call the same distribution with the same name more than once in a trial. When the parameter values are inconsistent optuna only uses the values of the first call and ignores all following. Using these values: {'step': None, 'low': 0.001, 'high': 100.0, 'log': True}\n",
      "  warnings.warn(\n",
      "[I 2024-04-11 02:21:01,398] Trial 128 finished with value: 0.6043291909880003 and parameters: {'C': 23.52975526026078, 'penalty': 'l2', 'solver': 'lbfgs', 'multi_class': 'multinomial', 'class_weight': None}. Best is trial 3 with value: 0.6240929622892224.\n",
      "/opt/conda/lib/python3.10/site-packages/optuna/trial/_trial.py:676: RuntimeWarning: Inconsistent parameter values for distribution with name \"C\"! This might be a configuration mistake. Optuna allows to call the same distribution with the same name more than once in a trial. When the parameter values are inconsistent optuna only uses the values of the first call and ignores all following. Using these values: {'step': None, 'low': 0.001, 'high': 100.0, 'log': True}\n",
      "  warnings.warn(\n"
     ]
    },
    {
     "name": "stdout",
     "output_type": "stream",
     "text": [
      "fold: 2, F1 score: 0.6056014455343314\n",
      "fold: 3, F1 score: 0.6126366011205281\n",
      "fold: 4, F1 score: 0.6181748416315079\n",
      "fold: 5, F1 score: 0.5982898085694367\n",
      "fold: 1, F1 score: 0.6134444684996753\n",
      "fold: 2, F1 score: 0.5616440322032844\n"
     ]
    },
    {
     "name": "stderr",
     "output_type": "stream",
     "text": [
      "[I 2024-04-11 02:21:01,974] Trial 129 finished with value: 0.5959508274447864 and parameters: {'C': 0.8078134426517413, 'penalty': 'l2', 'solver': 'lbfgs', 'multi_class': 'multinomial', 'class_weight': 'balanced'}. Best is trial 3 with value: 0.6240929622892224.\n"
     ]
    },
    {
     "name": "stdout",
     "output_type": "stream",
     "text": [
      "fold: 3, F1 score: 0.6001149674134572\n",
      "fold: 4, F1 score: 0.6267739695858934\n",
      "fold: 5, F1 score: 0.5777766995216219\n"
     ]
    },
    {
     "name": "stderr",
     "output_type": "stream",
     "text": [
      "/opt/conda/lib/python3.10/site-packages/optuna/trial/_trial.py:676: RuntimeWarning: Inconsistent parameter values for distribution with name \"C\"! This might be a configuration mistake. Optuna allows to call the same distribution with the same name more than once in a trial. When the parameter values are inconsistent optuna only uses the values of the first call and ignores all following. Using these values: {'step': None, 'low': 0.001, 'high': 100.0, 'log': True}\n",
      "  warnings.warn(\n"
     ]
    },
    {
     "name": "stdout",
     "output_type": "stream",
     "text": [
      "fold: 1, F1 score: 0.599340861580932\n",
      "fold: 2, F1 score: 0.5540905809899712\n",
      "fold: 3, F1 score: 0.6076370443097651\n",
      "fold: 4, F1 score: 0.5867854663272392\n"
     ]
    },
    {
     "name": "stderr",
     "output_type": "stream",
     "text": [
      "[I 2024-04-11 02:21:02,259] Trial 130 finished with value: 0.5828494037728711 and parameters: {'C': 3.8563270209575466, 'penalty': 'l2', 'solver': 'newton-cg', 'multi_class': 'multinomial', 'class_weight': 'balanced'}. Best is trial 3 with value: 0.6240929622892224.\n"
     ]
    },
    {
     "name": "stdout",
     "output_type": "stream",
     "text": [
      "fold: 5, F1 score: 0.5663930656564475\n",
      "fold: 1, F1 score: 0.6045845281234236\n",
      "fold: 2, F1 score: 0.5867854663272392\n",
      "fold: 3, F1 score: 0.6080227216964679\n"
     ]
    },
    {
     "name": "stderr",
     "output_type": "stream",
     "text": [
      "/opt/conda/lib/python3.10/site-packages/optuna/trial/_trial.py:676: RuntimeWarning: Inconsistent parameter values for distribution with name \"C\"! This might be a configuration mistake. Optuna allows to call the same distribution with the same name more than once in a trial. When the parameter values are inconsistent optuna only uses the values of the first call and ignores all following. Using these values: {'step': None, 'low': 0.001, 'high': 100.0, 'log': True}\n",
      "  warnings.warn(\n",
      "[I 2024-04-11 02:21:02,557] Trial 131 finished with value: 0.6162055519887993 and parameters: {'C': 12.686770445836045, 'penalty': 'l2', 'solver': 'lbfgs', 'multi_class': 'multinomial', 'class_weight': 'balanced'}. Best is trial 3 with value: 0.6240929622892224.\n"
     ]
    },
    {
     "name": "stdout",
     "output_type": "stream",
     "text": [
      "fold: 4, F1 score: 0.6667624728445477\n",
      "fold: 5, F1 score: 0.6148725709523183\n",
      "fold: 1, F1 score: 0.6055798990515281\n",
      "fold: 2, F1 score: 0.5867854663272392\n",
      "fold: 3, F1 score: 0.573455965241021\n"
     ]
    },
    {
     "name": "stderr",
     "output_type": "stream",
     "text": [
      "/opt/conda/lib/python3.10/site-packages/optuna/trial/_trial.py:676: RuntimeWarning: Inconsistent parameter values for distribution with name \"C\"! This might be a configuration mistake. Optuna allows to call the same distribution with the same name more than once in a trial. When the parameter values are inconsistent optuna only uses the values of the first call and ignores all following. Using these values: {'step': None, 'low': 0.001, 'high': 100.0, 'log': True}\n",
      "  warnings.warn(\n",
      "[I 2024-04-11 02:21:02,791] Trial 132 finished with value: 0.5922496042596134 and parameters: {'C': 9.31657603863029, 'penalty': 'l2', 'solver': 'lbfgs', 'multi_class': 'multinomial', 'class_weight': 'balanced'}. Best is trial 3 with value: 0.6240929622892224.\n",
      "/opt/conda/lib/python3.10/site-packages/optuna/trial/_trial.py:676: RuntimeWarning: Inconsistent parameter values for distribution with name \"C\"! This might be a configuration mistake. Optuna allows to call the same distribution with the same name more than once in a trial. When the parameter values are inconsistent optuna only uses the values of the first call and ignores all following. Using these values: {'step': None, 'low': 0.001, 'high': 100.0, 'log': True}\n",
      "  warnings.warn(\n",
      "[I 2024-04-11 02:21:02,919] Trial 133 finished with value: 0.4549156159613602 and parameters: {'C': 34.031149227955495, 'penalty': 'l2', 'solver': 'lbfgs', 'multi_class': 'multinomial', 'class_weight': 'balanced'}. Best is trial 3 with value: 0.6240929622892224.\n"
     ]
    },
    {
     "name": "stdout",
     "output_type": "stream",
     "text": [
      "fold: 4, F1 score: 0.6213100870626893\n",
      "fold: 5, F1 score: 0.574116603615589\n",
      "fold: 1, F1 score: 0.45491561596136026\n",
      "fold: 2, F1 score: 0.45491561596136026\n",
      "fold: 3, F1 score: 0.45491561596136026\n",
      "fold: 4, F1 score: 0.45491561596136026\n",
      "fold: 5, F1 score: 0.45491561596136026\n"
     ]
    },
    {
     "name": "stderr",
     "output_type": "stream",
     "text": [
      "/opt/conda/lib/python3.10/site-packages/optuna/trial/_trial.py:676: RuntimeWarning: Inconsistent parameter values for distribution with name \"C\"! This might be a configuration mistake. Optuna allows to call the same distribution with the same name more than once in a trial. When the parameter values are inconsistent optuna only uses the values of the first call and ignores all following. Using these values: {'step': None, 'low': 0.001, 'high': 100.0, 'log': True}\n",
      "  warnings.warn(\n",
      "[I 2024-04-11 02:21:03,077] Trial 134 finished with value: 0.6096914259664686 and parameters: {'C': 17.848105154570227, 'penalty': 'l2', 'solver': 'lbfgs', 'multi_class': 'multinomial', 'class_weight': 'balanced'}. Best is trial 3 with value: 0.6240929622892224.\n",
      "/opt/conda/lib/python3.10/site-packages/optuna/trial/_trial.py:676: RuntimeWarning: Inconsistent parameter values for distribution with name \"C\"! This might be a configuration mistake. Optuna allows to call the same distribution with the same name more than once in a trial. When the parameter values are inconsistent optuna only uses the values of the first call and ignores all following. Using these values: {'step': None, 'low': 0.001, 'high': 100.0, 'log': True}\n",
      "  warnings.warn(\n"
     ]
    },
    {
     "name": "stdout",
     "output_type": "stream",
     "text": [
      "fold: 1, F1 score: 0.6012016383734703\n",
      "fold: 2, F1 score: 0.579734817482403\n",
      "fold: 3, F1 score: 0.6216334001568902\n",
      "fold: 4, F1 score: 0.6313923567252253\n",
      "fold: 5, F1 score: 0.6144949170943546\n"
     ]
    },
    {
     "name": "stderr",
     "output_type": "stream",
     "text": [
      "[I 2024-04-11 02:21:03,396] Trial 135 finished with value: 0.6175393349802922 and parameters: {'C': 13.922934147388885, 'penalty': 'l2', 'solver': 'lbfgs', 'multi_class': 'multinomial', 'class_weight': 'balanced'}. Best is trial 3 with value: 0.6240929622892224.\n"
     ]
    },
    {
     "name": "stdout",
     "output_type": "stream",
     "text": [
      "fold: 1, F1 score: 0.6045845281234236\n",
      "fold: 2, F1 score: 0.5867854663272392\n",
      "fold: 3, F1 score: 0.6080227216964679\n",
      "fold: 4, F1 score: 0.6667624728445477\n",
      "fold: 5, F1 score: 0.621541485909783\n",
      "fold: 1, F1 score: 0.6082622398013542\n"
     ]
    },
    {
     "name": "stderr",
     "output_type": "stream",
     "text": [
      "/opt/conda/lib/python3.10/site-packages/optuna/trial/_trial.py:676: RuntimeWarning: Inconsistent parameter values for distribution with name \"C\"! This might be a configuration mistake. Optuna allows to call the same distribution with the same name more than once in a trial. When the parameter values are inconsistent optuna only uses the values of the first call and ignores all following. Using these values: {'step': None, 'low': 0.001, 'high': 100.0, 'log': True}\n",
      "  warnings.warn(\n",
      "[I 2024-04-11 02:21:03,542] Trial 136 finished with value: 0.6111035462520455 and parameters: {'C': 22.280339835257077, 'penalty': 'l2', 'solver': 'lbfgs', 'multi_class': 'multinomial', 'class_weight': 'balanced'}. Best is trial 3 with value: 0.6240929622892224.\n",
      "/opt/conda/lib/python3.10/site-packages/optuna/trial/_trial.py:676: RuntimeWarning: Inconsistent parameter values for distribution with name \"C\"! This might be a configuration mistake. Optuna allows to call the same distribution with the same name more than once in a trial. When the parameter values are inconsistent optuna only uses the values of the first call and ignores all following. Using these values: {'step': None, 'low': 0.001, 'high': 100.0, 'log': True}\n",
      "  warnings.warn(\n"
     ]
    },
    {
     "name": "stdout",
     "output_type": "stream",
     "text": [
      "fold: 2, F1 score: 0.579734817482403\n",
      "fold: 3, F1 score: 0.6216334001568902\n",
      "fold: 4, F1 score: 0.6313923567252253\n",
      "fold: 5, F1 score: 0.6144949170943546\n",
      "fold: 1, F1 score: 0.5937845366023975\n",
      "fold: 2, F1 score: 0.553051313830492\n",
      "fold: 3, F1 score: 0.6209374834857052\n",
      "fold: 4, F1 score: 0.6204216161694535\n"
     ]
    },
    {
     "name": "stderr",
     "output_type": "stream",
     "text": [
      "[I 2024-04-11 02:21:04,153] Trial 137 finished with value: 0.6005379734364805 and parameters: {'C': 0.018897507823112628, 'penalty': 'l2', 'solver': 'lbfgs', 'multi_class': 'multinomial', 'class_weight': 'balanced'}. Best is trial 3 with value: 0.6240929622892224.\n"
     ]
    },
    {
     "name": "stdout",
     "output_type": "stream",
     "text": [
      "fold: 5, F1 score: 0.6144949170943546\n",
      "fold: 1, F1 score: 0.6007343158896148\n"
     ]
    },
    {
     "name": "stderr",
     "output_type": "stream",
     "text": [
      "/opt/conda/lib/python3.10/site-packages/optuna/trial/_trial.py:676: RuntimeWarning: Inconsistent parameter values for distribution with name \"C\"! This might be a configuration mistake. Optuna allows to call the same distribution with the same name more than once in a trial. When the parameter values are inconsistent optuna only uses the values of the first call and ignores all following. Using these values: {'step': None, 'low': 0.001, 'high': 100.0, 'log': True}\n",
      "  warnings.warn(\n"
     ]
    },
    {
     "name": "stdout",
     "output_type": "stream",
     "text": [
      "fold: 2, F1 score: 0.573455965241021\n",
      "fold: 3, F1 score: 0.6348207320182117\n"
     ]
    },
    {
     "name": "stderr",
     "output_type": "stream",
     "text": [
      "[I 2024-04-11 02:21:04,659] Trial 138 finished with value: 0.615332217025162 and parameters: {'C': 0.002269880158703944, 'penalty': 'l2', 'solver': 'lbfgs', 'multi_class': 'multinomial', 'class_weight': 'balanced'}. Best is trial 3 with value: 0.6240929622892224.\n"
     ]
    },
    {
     "name": "stdout",
     "output_type": "stream",
     "text": [
      "fold: 4, F1 score: 0.6394067754228387\n",
      "fold: 5, F1 score: 0.6282432965541238\n",
      "fold: 1, F1 score: 0.45491561596136026\n"
     ]
    },
    {
     "name": "stderr",
     "output_type": "stream",
     "text": [
      "/opt/conda/lib/python3.10/site-packages/optuna/trial/_trial.py:676: RuntimeWarning: Inconsistent parameter values for distribution with name \"C\"! This might be a configuration mistake. Optuna allows to call the same distribution with the same name more than once in a trial. When the parameter values are inconsistent optuna only uses the values of the first call and ignores all following. Using these values: {'step': None, 'low': 0.001, 'high': 100.0, 'log': True}\n",
      "  warnings.warn(\n"
     ]
    },
    {
     "name": "stdout",
     "output_type": "stream",
     "text": [
      "fold: 2, F1 score: 0.45491561596136026\n",
      "fold: 3, F1 score: 0.45491561596136026\n",
      "fold: 4, F1 score: 0.45491561596136026\n"
     ]
    },
    {
     "name": "stderr",
     "output_type": "stream",
     "text": [
      "[I 2024-04-11 02:21:05,072] Trial 139 finished with value: 0.4549156159613602 and parameters: {'C': 0.001574818518748314, 'penalty': 'l2', 'solver': 'lbfgs', 'multi_class': 'multinomial', 'class_weight': None}. Best is trial 3 with value: 0.6240929622892224.\n",
      "/opt/conda/lib/python3.10/site-packages/optuna/trial/_trial.py:676: RuntimeWarning: Inconsistent parameter values for distribution with name \"C\"! This might be a configuration mistake. Optuna allows to call the same distribution with the same name more than once in a trial. When the parameter values are inconsistent optuna only uses the values of the first call and ignores all following. Using these values: {'step': None, 'low': 0.001, 'high': 100.0, 'log': True}\n",
      "  warnings.warn(\n",
      "[I 2024-04-11 02:21:05,255] Trial 140 finished with value: 0.580975081354967 and parameters: {'C': 7.176643961581373, 'penalty': 'l2', 'solver': 'newton-cg', 'multi_class': 'ovr', 'class_weight': 'balanced'}. Best is trial 3 with value: 0.6240929622892224.\n"
     ]
    },
    {
     "name": "stdout",
     "output_type": "stream",
     "text": [
      "fold: 5, F1 score: 0.45491561596136026\n",
      "fold: 1, F1 score: 0.6179884424243246\n",
      "fold: 2, F1 score: 0.5464637887278501\n",
      "fold: 3, F1 score: 0.6076370443097651\n",
      "fold: 4, F1 score: 0.5930765693083585\n",
      "fold: 5, F1 score: 0.5397095620045366\n"
     ]
    },
    {
     "name": "stderr",
     "output_type": "stream",
     "text": [
      "/opt/conda/lib/python3.10/site-packages/optuna/trial/_trial.py:676: RuntimeWarning: Inconsistent parameter values for distribution with name \"C\"! This might be a configuration mistake. Optuna allows to call the same distribution with the same name more than once in a trial. When the parameter values are inconsistent optuna only uses the values of the first call and ignores all following. Using these values: {'step': None, 'low': 0.001, 'high': 100.0, 'log': True}\n",
      "  warnings.warn(\n",
      "[I 2024-04-11 02:21:05,465] Trial 141 finished with value: 0.6162055519887993 and parameters: {'C': 12.592299634250407, 'penalty': 'l2', 'solver': 'lbfgs', 'multi_class': 'multinomial', 'class_weight': 'balanced'}. Best is trial 3 with value: 0.6240929622892224.\n"
     ]
    },
    {
     "name": "stdout",
     "output_type": "stream",
     "text": [
      "fold: 1, F1 score: 0.6045845281234236\n",
      "fold: 2, F1 score: 0.5867854663272392\n",
      "fold: 3, F1 score: 0.6080227216964679\n",
      "fold: 4, F1 score: 0.6667624728445477\n",
      "fold: 5, F1 score: 0.6148725709523183\n"
     ]
    },
    {
     "name": "stderr",
     "output_type": "stream",
     "text": [
      "/opt/conda/lib/python3.10/site-packages/optuna/trial/_trial.py:676: RuntimeWarning: Inconsistent parameter values for distribution with name \"C\"! This might be a configuration mistake. Optuna allows to call the same distribution with the same name more than once in a trial. When the parameter values are inconsistent optuna only uses the values of the first call and ignores all following. Using these values: {'step': None, 'low': 0.001, 'high': 100.0, 'log': True}\n",
      "  warnings.warn(\n"
     ]
    },
    {
     "name": "stdout",
     "output_type": "stream",
     "text": [
      "fold: 1, F1 score: 0.6189500719650357\n",
      "fold: 2, F1 score: 0.5867854663272392\n",
      "fold: 3, F1 score: 0.6216334001568902\n",
      "fold: 4, F1 score: 0.6667624728445477\n"
     ]
    },
    {
     "name": "stderr",
     "output_type": "stream",
     "text": [
      "[I 2024-04-11 02:21:05,748] Trial 142 finished with value: 0.623134579440699 and parameters: {'C': 15.062375242210239, 'penalty': 'l2', 'solver': 'lbfgs', 'multi_class': 'multinomial', 'class_weight': 'balanced'}. Best is trial 3 with value: 0.6240929622892224.\n",
      "/opt/conda/lib/python3.10/site-packages/optuna/trial/_trial.py:676: RuntimeWarning: Inconsistent parameter values for distribution with name \"C\"! This might be a configuration mistake. Optuna allows to call the same distribution with the same name more than once in a trial. When the parameter values are inconsistent optuna only uses the values of the first call and ignores all following. Using these values: {'step': None, 'low': 0.001, 'high': 100.0, 'log': True}\n",
      "  warnings.warn(\n",
      "[I 2024-04-11 02:21:05,900] Trial 143 finished with value: 0.6096914259664686 and parameters: {'C': 17.656258829172632, 'penalty': 'l2', 'solver': 'lbfgs', 'multi_class': 'multinomial', 'class_weight': 'balanced'}. Best is trial 3 with value: 0.6240929622892224.\n"
     ]
    },
    {
     "name": "stdout",
     "output_type": "stream",
     "text": [
      "fold: 5, F1 score: 0.621541485909783\n",
      "fold: 1, F1 score: 0.6012016383734703\n",
      "fold: 2, F1 score: 0.579734817482403\n",
      "fold: 3, F1 score: 0.6216334001568902\n",
      "fold: 4, F1 score: 0.6313923567252253\n",
      "fold: 5, F1 score: 0.6144949170943546\n",
      "fold: 1, F1 score: 0.45491561596136026\n"
     ]
    },
    {
     "name": "stderr",
     "output_type": "stream",
     "text": [
      "/opt/conda/lib/python3.10/site-packages/optuna/trial/_trial.py:676: RuntimeWarning: Inconsistent parameter values for distribution with name \"C\"! This might be a configuration mistake. Optuna allows to call the same distribution with the same name more than once in a trial. When the parameter values are inconsistent optuna only uses the values of the first call and ignores all following. Using these values: {'step': None, 'low': 0.001, 'high': 100.0, 'log': True}\n",
      "  warnings.warn(\n",
      "[I 2024-04-11 02:21:06,032] Trial 144 finished with value: 0.5016494927319007 and parameters: {'C': 28.15696150695206, 'penalty': 'l2', 'solver': 'lbfgs', 'multi_class': 'multinomial', 'class_weight': 'balanced'}. Best is trial 3 with value: 0.6240929622892224.\n",
      "/opt/conda/lib/python3.10/site-packages/optuna/trial/_trial.py:676: RuntimeWarning: Inconsistent parameter values for distribution with name \"C\"! This might be a configuration mistake. Optuna allows to call the same distribution with the same name more than once in a trial. When the parameter values are inconsistent optuna only uses the values of the first call and ignores all following. Using these values: {'step': None, 'low': 0.001, 'high': 100.0, 'log': True}\n",
      "  warnings.warn(\n"
     ]
    },
    {
     "name": "stdout",
     "output_type": "stream",
     "text": [
      "fold: 2, F1 score: 0.5351910339079703\n",
      "fold: 3, F1 score: 0.45491561596136026\n",
      "fold: 4, F1 score: 0.45491561596136026\n",
      "fold: 5, F1 score: 0.6083095818674522\n",
      "fold: 1, F1 score: 0.6055798990515281\n",
      "fold: 2, F1 score: 0.5867854663272392\n"
     ]
    },
    {
     "name": "stderr",
     "output_type": "stream",
     "text": [
      "[I 2024-04-11 02:21:06,256] Trial 145 finished with value: 0.601340081415985 and parameters: {'C': 9.759323706714461, 'penalty': 'l2', 'solver': 'lbfgs', 'multi_class': 'multinomial', 'class_weight': 'balanced'}. Best is trial 3 with value: 0.6240929622892224.\n"
     ]
    },
    {
     "name": "stdout",
     "output_type": "stream",
     "text": [
      "fold: 3, F1 score: 0.573455965241021\n",
      "fold: 4, F1 score: 0.6667624728445477\n",
      "fold: 5, F1 score: 0.574116603615589\n",
      "fold: 1, F1 score: 0.6189500719650357\n"
     ]
    },
    {
     "name": "stderr",
     "output_type": "stream",
     "text": [
      "/opt/conda/lib/python3.10/site-packages/optuna/trial/_trial.py:676: RuntimeWarning: Inconsistent parameter values for distribution with name \"C\"! This might be a configuration mistake. Optuna allows to call the same distribution with the same name more than once in a trial. When the parameter values are inconsistent optuna only uses the values of the first call and ignores all following. Using these values: {'step': None, 'low': 0.001, 'high': 100.0, 'log': True}\n",
      "  warnings.warn(\n",
      "[I 2024-04-11 02:21:06,536] Trial 146 finished with value: 0.623134579440699 and parameters: {'C': 14.553245099971797, 'penalty': 'l2', 'solver': 'lbfgs', 'multi_class': 'multinomial', 'class_weight': 'balanced'}. Best is trial 3 with value: 0.6240929622892224.\n"
     ]
    },
    {
     "name": "stdout",
     "output_type": "stream",
     "text": [
      "fold: 2, F1 score: 0.5867854663272392\n",
      "fold: 3, F1 score: 0.6216334001568902\n",
      "fold: 4, F1 score: 0.6667624728445477\n",
      "fold: 5, F1 score: 0.621541485909783\n",
      "fold: 1, F1 score: 0.45491561596136026\n",
      "fold: 2, F1 score: 0.45491561596136026\n",
      "fold: 3, F1 score: 0.45491561596136026\n",
      "fold: 4, F1 score: 0.45491561596136026\n"
     ]
    },
    {
     "name": "stderr",
     "output_type": "stream",
     "text": [
      "/opt/conda/lib/python3.10/site-packages/optuna/trial/_trial.py:676: RuntimeWarning: Inconsistent parameter values for distribution with name \"C\"! This might be a configuration mistake. Optuna allows to call the same distribution with the same name more than once in a trial. When the parameter values are inconsistent optuna only uses the values of the first call and ignores all following. Using these values: {'step': None, 'low': 0.001, 'high': 100.0, 'log': True}\n",
      "  warnings.warn(\n",
      "[I 2024-04-11 02:21:06,661] Trial 147 finished with value: 0.4549156159613602 and parameters: {'C': 51.1494997939093, 'penalty': 'l2', 'solver': 'lbfgs', 'multi_class': 'multinomial', 'class_weight': 'balanced'}. Best is trial 3 with value: 0.6240929622892224.\n",
      "/opt/conda/lib/python3.10/site-packages/optuna/trial/_trial.py:676: RuntimeWarning: Inconsistent parameter values for distribution with name \"C\"! This might be a configuration mistake. Optuna allows to call the same distribution with the same name more than once in a trial. When the parameter values are inconsistent optuna only uses the values of the first call and ignores all following. Using these values: {'step': None, 'low': 0.001, 'high': 100.0, 'log': True}\n",
      "  warnings.warn(\n",
      "[I 2024-04-11 02:21:06,725] Trial 148 finished with value: 0.5285359063982769 and parameters: {'C': 15.220306797954837, 'penalty': 'l2', 'solver': 'sag', 'multi_class': 'multinomial', 'class_weight': 'balanced'}. Best is trial 3 with value: 0.6240929622892224.\n",
      "/opt/conda/lib/python3.10/site-packages/optuna/trial/_trial.py:676: RuntimeWarning: Inconsistent parameter values for distribution with name \"C\"! This might be a configuration mistake. Optuna allows to call the same distribution with the same name more than once in a trial. When the parameter values are inconsistent optuna only uses the values of the first call and ignores all following. Using these values: {'step': None, 'low': 0.001, 'high': 100.0, 'log': True}\n",
      "  warnings.warn(\n"
     ]
    },
    {
     "name": "stdout",
     "output_type": "stream",
     "text": [
      "fold: 5, F1 score: 0.45491561596136026\n",
      "fold: 1, F1 score: 0.45175117026676437\n",
      "fold: 2, F1 score: 0.5317238623782644\n",
      "fold: 3, F1 score: 0.4700261312578723\n",
      "fold: 4, F1 score: 0.6140431720266276\n",
      "fold: 5, F1 score: 0.5751351960618558\n",
      "fold: 1, F1 score: 0.6082622398013542\n",
      "fold: 2, F1 score: 0.579734817482403\n",
      "fold: 3, F1 score: 0.6216334001568902\n",
      "fold: 4, F1 score: 0.6313923567252253\n"
     ]
    },
    {
     "name": "stderr",
     "output_type": "stream",
     "text": [
      "[I 2024-04-11 02:21:06,871] Trial 149 finished with value: 0.6111035462520455 and parameters: {'C': 20.42917915388701, 'penalty': 'l2', 'solver': 'lbfgs', 'multi_class': 'multinomial', 'class_weight': 'balanced'}. Best is trial 3 with value: 0.6240929622892224.\n",
      "/opt/conda/lib/python3.10/site-packages/optuna/trial/_trial.py:676: RuntimeWarning: Inconsistent parameter values for distribution with name \"C\"! This might be a configuration mistake. Optuna allows to call the same distribution with the same name more than once in a trial. When the parameter values are inconsistent optuna only uses the values of the first call and ignores all following. Using these values: {'step': None, 'low': 0.001, 'high': 100.0, 'log': True}\n",
      "  warnings.warn(\n"
     ]
    },
    {
     "name": "stdout",
     "output_type": "stream",
     "text": [
      "fold: 5, F1 score: 0.6144949170943546\n",
      "fold: 1, F1 score: 0.6012016383734703\n",
      "fold: 2, F1 score: 0.5654693803110056\n",
      "fold: 3, F1 score: 0.6348207320182117\n"
     ]
    },
    {
     "name": "stderr",
     "output_type": "stream",
     "text": [
      "[I 2024-04-11 02:21:07,454] Trial 150 finished with value: 0.6152357247737983 and parameters: {'C': 0.003277472543010584, 'penalty': 'l2', 'solver': 'lbfgs', 'multi_class': 'multinomial', 'class_weight': 'balanced'}. Best is trial 3 with value: 0.6240929622892224.\n"
     ]
    },
    {
     "name": "stdout",
     "output_type": "stream",
     "text": [
      "fold: 4, F1 score: 0.6464435766121803\n",
      "fold: 5, F1 score: 0.6282432965541238\n",
      "fold: 1, F1 score: 0.6045845281234236\n"
     ]
    },
    {
     "name": "stderr",
     "output_type": "stream",
     "text": [
      "/opt/conda/lib/python3.10/site-packages/optuna/trial/_trial.py:676: RuntimeWarning: Inconsistent parameter values for distribution with name \"C\"! This might be a configuration mistake. Optuna allows to call the same distribution with the same name more than once in a trial. When the parameter values are inconsistent optuna only uses the values of the first call and ignores all following. Using these values: {'step': None, 'low': 0.001, 'high': 100.0, 'log': True}\n",
      "  warnings.warn(\n",
      "[I 2024-04-11 02:21:07,661] Trial 151 finished with value: 0.60929220069771 and parameters: {'C': 11.115751359169032, 'penalty': 'l2', 'solver': 'lbfgs', 'multi_class': 'multinomial', 'class_weight': 'balanced'}. Best is trial 3 with value: 0.6240929622892224.\n"
     ]
    },
    {
     "name": "stdout",
     "output_type": "stream",
     "text": [
      "fold: 2, F1 score: 0.5867854663272392\n",
      "fold: 3, F1 score: 0.573455965241021\n",
      "fold: 4, F1 score: 0.6667624728445477\n",
      "fold: 5, F1 score: 0.6148725709523183\n",
      "fold: 1, F1 score: 0.6189500719650357\n"
     ]
    },
    {
     "name": "stderr",
     "output_type": "stream",
     "text": [
      "/opt/conda/lib/python3.10/site-packages/optuna/trial/_trial.py:676: RuntimeWarning: Inconsistent parameter values for distribution with name \"C\"! This might be a configuration mistake. Optuna allows to call the same distribution with the same name more than once in a trial. When the parameter values are inconsistent optuna only uses the values of the first call and ignores all following. Using these values: {'step': None, 'low': 0.001, 'high': 100.0, 'log': True}\n",
      "  warnings.warn(\n",
      "[I 2024-04-11 02:21:07,850] Trial 152 finished with value: 0.623134579440699 and parameters: {'C': 14.635717363688629, 'penalty': 'l2', 'solver': 'lbfgs', 'multi_class': 'multinomial', 'class_weight': 'balanced'}. Best is trial 3 with value: 0.6240929622892224.\n",
      "/opt/conda/lib/python3.10/site-packages/optuna/trial/_trial.py:676: RuntimeWarning: Inconsistent parameter values for distribution with name \"C\"! This might be a configuration mistake. Optuna allows to call the same distribution with the same name more than once in a trial. When the parameter values are inconsistent optuna only uses the values of the first call and ignores all following. Using these values: {'step': None, 'low': 0.001, 'high': 100.0, 'log': True}\n",
      "  warnings.warn(\n"
     ]
    },
    {
     "name": "stdout",
     "output_type": "stream",
     "text": [
      "fold: 2, F1 score: 0.5867854663272392\n",
      "fold: 3, F1 score: 0.6216334001568902\n",
      "fold: 4, F1 score: 0.6667624728445477\n",
      "fold: 5, F1 score: 0.621541485909783\n",
      "fold: 1, F1 score: 0.6251816102355279\n",
      "fold: 2, F1 score: 0.563099196196456\n",
      "fold: 3, F1 score: 0.5867854663272392\n",
      "fold: 4, F1 score: 0.6015192860830445\n"
     ]
    },
    {
     "name": "stderr",
     "output_type": "stream",
     "text": [
      "[I 2024-04-11 02:21:08,241] Trial 153 finished with value: 0.5928987836989708 and parameters: {'C': 0.062310377521160726, 'penalty': 'l2', 'solver': 'lbfgs', 'multi_class': 'multinomial', 'class_weight': 'balanced'}. Best is trial 3 with value: 0.6240929622892224.\n"
     ]
    },
    {
     "name": "stdout",
     "output_type": "stream",
     "text": [
      "fold: 5, F1 score: 0.5879083596525859\n",
      "fold: 1, F1 score: 0.6189500719650357\n",
      "fold: 2, F1 score: 0.5867854663272392\n"
     ]
    },
    {
     "name": "stderr",
     "output_type": "stream",
     "text": [
      "/opt/conda/lib/python3.10/site-packages/optuna/trial/_trial.py:676: RuntimeWarning: Inconsistent parameter values for distribution with name \"C\"! This might be a configuration mistake. Optuna allows to call the same distribution with the same name more than once in a trial. When the parameter values are inconsistent optuna only uses the values of the first call and ignores all following. Using these values: {'step': None, 'low': 0.001, 'high': 100.0, 'log': True}\n",
      "  warnings.warn(\n",
      "[I 2024-04-11 02:21:08,523] Trial 154 finished with value: 0.623134579440699 and parameters: {'C': 14.92873802438928, 'penalty': 'l2', 'solver': 'lbfgs', 'multi_class': 'multinomial', 'class_weight': 'balanced'}. Best is trial 3 with value: 0.6240929622892224.\n"
     ]
    },
    {
     "name": "stdout",
     "output_type": "stream",
     "text": [
      "fold: 3, F1 score: 0.6216334001568902\n",
      "fold: 4, F1 score: 0.6667624728445477\n",
      "fold: 5, F1 score: 0.621541485909783\n",
      "fold: 1, F1 score: 0.6189500719650357\n",
      "fold: 2, F1 score: 0.5867854663272392\n",
      "fold: 3, F1 score: 0.6216334001568902\n"
     ]
    },
    {
     "name": "stderr",
     "output_type": "stream",
     "text": [
      "/opt/conda/lib/python3.10/site-packages/optuna/trial/_trial.py:676: RuntimeWarning: Inconsistent parameter values for distribution with name \"C\"! This might be a configuration mistake. Optuna allows to call the same distribution with the same name more than once in a trial. When the parameter values are inconsistent optuna only uses the values of the first call and ignores all following. Using these values: {'step': None, 'low': 0.001, 'high': 100.0, 'log': True}\n",
      "  warnings.warn(\n",
      "[I 2024-04-11 02:21:08,709] Trial 155 finished with value: 0.623134579440699 and parameters: {'C': 15.190315932433105, 'penalty': 'l2', 'solver': 'lbfgs', 'multi_class': 'multinomial', 'class_weight': 'balanced'}. Best is trial 3 with value: 0.6240929622892224.\n",
      "/opt/conda/lib/python3.10/site-packages/optuna/trial/_trial.py:676: RuntimeWarning: Inconsistent parameter values for distribution with name \"C\"! This might be a configuration mistake. Optuna allows to call the same distribution with the same name more than once in a trial. When the parameter values are inconsistent optuna only uses the values of the first call and ignores all following. Using these values: {'step': None, 'low': 0.001, 'high': 100.0, 'log': True}\n",
      "  warnings.warn(\n",
      "[I 2024-04-11 02:21:08,836] Trial 156 finished with value: 0.4549156159613602 and parameters: {'C': 39.262581762585604, 'penalty': 'l2', 'solver': 'lbfgs', 'multi_class': 'multinomial', 'class_weight': 'balanced'}. Best is trial 3 with value: 0.6240929622892224.\n"
     ]
    },
    {
     "name": "stdout",
     "output_type": "stream",
     "text": [
      "fold: 4, F1 score: 0.6667624728445477\n",
      "fold: 5, F1 score: 0.621541485909783\n",
      "fold: 1, F1 score: 0.45491561596136026\n",
      "fold: 2, F1 score: 0.45491561596136026\n",
      "fold: 3, F1 score: 0.45491561596136026\n",
      "fold: 4, F1 score: 0.45491561596136026\n",
      "fold: 5, F1 score: 0.45491561596136026\n",
      "fold: 1, F1 score: 0.5884369281436977\n"
     ]
    },
    {
     "name": "stderr",
     "output_type": "stream",
     "text": [
      "/opt/conda/lib/python3.10/site-packages/optuna/trial/_trial.py:676: RuntimeWarning: Inconsistent parameter values for distribution with name \"C\"! This might be a configuration mistake. Optuna allows to call the same distribution with the same name more than once in a trial. When the parameter values are inconsistent optuna only uses the values of the first call and ignores all following. Using these values: {'step': None, 'low': 0.001, 'high': 100.0, 'log': True}\n",
      "  warnings.warn(\n",
      "[I 2024-04-11 02:21:08,973] Trial 157 finished with value: 0.573364358459757 and parameters: {'C': 24.658932945161716, 'penalty': 'l2', 'solver': 'newton-cg', 'multi_class': 'multinomial', 'class_weight': 'balanced'}. Best is trial 3 with value: 0.6240929622892224.\n",
      "/opt/conda/lib/python3.10/site-packages/optuna/trial/_trial.py:676: RuntimeWarning: Inconsistent parameter values for distribution with name \"C\"! This might be a configuration mistake. Optuna allows to call the same distribution with the same name more than once in a trial. When the parameter values are inconsistent optuna only uses the values of the first call and ignores all following. Using these values: {'step': None, 'low': 0.001, 'high': 100.0, 'log': True}\n",
      "  warnings.warn(\n"
     ]
    },
    {
     "name": "stdout",
     "output_type": "stream",
     "text": [
      "fold: 2, F1 score: 0.5436241610738255\n",
      "fold: 3, F1 score: 0.5671474570353416\n",
      "fold: 4, F1 score: 0.5949829936929257\n",
      "fold: 5, F1 score: 0.5726302523529941\n",
      "fold: 1, F1 score: 0.5869432580841977\n",
      "fold: 2, F1 score: 0.6056014455343314\n"
     ]
    },
    {
     "name": "stderr",
     "output_type": "stream",
     "text": [
      "[I 2024-04-11 02:21:09,266] Trial 158 finished with value: 0.6043291909880003 and parameters: {'C': 19.78917056316026, 'penalty': 'l2', 'solver': 'lbfgs', 'multi_class': 'multinomial', 'class_weight': None}. Best is trial 3 with value: 0.6240929622892224.\n"
     ]
    },
    {
     "name": "stdout",
     "output_type": "stream",
     "text": [
      "fold: 3, F1 score: 0.6126366011205281\n",
      "fold: 4, F1 score: 0.6181748416315079\n",
      "fold: 5, F1 score: 0.5982898085694367\n",
      "fold: 1, F1 score: 0.6189500719650357\n",
      "fold: 2, F1 score: 0.579734817482403\n",
      "fold: 3, F1 score: 0.6216334001568902\n",
      "fold: 4, F1 score: 0.6313923567252253\n"
     ]
    },
    {
     "name": "stderr",
     "output_type": "stream",
     "text": [
      "/opt/conda/lib/python3.10/site-packages/optuna/trial/_trial.py:676: RuntimeWarning: Inconsistent parameter values for distribution with name \"C\"! This might be a configuration mistake. Optuna allows to call the same distribution with the same name more than once in a trial. When the parameter values are inconsistent optuna only uses the values of the first call and ignores all following. Using these values: {'step': None, 'low': 0.001, 'high': 100.0, 'log': True}\n",
      "  warnings.warn(\n",
      "[I 2024-04-11 02:21:09,423] Trial 159 finished with value: 0.6132411126847817 and parameters: {'C': 16.40238084910855, 'penalty': 'l2', 'solver': 'lbfgs', 'multi_class': 'multinomial', 'class_weight': 'balanced'}. Best is trial 3 with value: 0.6240929622892224.\n",
      "/opt/conda/lib/python3.10/site-packages/optuna/trial/_trial.py:676: RuntimeWarning: Inconsistent parameter values for distribution with name \"C\"! This might be a configuration mistake. Optuna allows to call the same distribution with the same name more than once in a trial. When the parameter values are inconsistent optuna only uses the values of the first call and ignores all following. Using these values: {'step': None, 'low': 0.001, 'high': 100.0, 'log': True}\n",
      "  warnings.warn(\n",
      "[I 2024-04-11 02:21:09,611] Trial 160 finished with value: 0.623134579440699 and parameters: {'C': 14.40799289949316, 'penalty': 'l2', 'solver': 'lbfgs', 'multi_class': 'multinomial', 'class_weight': 'balanced'}. Best is trial 3 with value: 0.6240929622892224.\n"
     ]
    },
    {
     "name": "stdout",
     "output_type": "stream",
     "text": [
      "fold: 5, F1 score: 0.6144949170943546\n",
      "fold: 1, F1 score: 0.6189500719650357\n",
      "fold: 2, F1 score: 0.5867854663272392\n",
      "fold: 3, F1 score: 0.6216334001568902\n",
      "fold: 4, F1 score: 0.6667624728445477\n",
      "fold: 5, F1 score: 0.621541485909783\n"
     ]
    },
    {
     "name": "stderr",
     "output_type": "stream",
     "text": [
      "/opt/conda/lib/python3.10/site-packages/optuna/trial/_trial.py:676: RuntimeWarning: Inconsistent parameter values for distribution with name \"C\"! This might be a configuration mistake. Optuna allows to call the same distribution with the same name more than once in a trial. When the parameter values are inconsistent optuna only uses the values of the first call and ignores all following. Using these values: {'step': None, 'low': 0.001, 'high': 100.0, 'log': True}\n",
      "  warnings.warn(\n"
     ]
    },
    {
     "name": "stdout",
     "output_type": "stream",
     "text": [
      "fold: 1, F1 score: 0.6045845281234236\n",
      "fold: 2, F1 score: 0.5867854663272392\n",
      "fold: 3, F1 score: 0.6080227216964679\n",
      "fold: 4, F1 score: 0.6667624728445477\n"
     ]
    },
    {
     "name": "stderr",
     "output_type": "stream",
     "text": [
      "[I 2024-04-11 02:21:09,908] Trial 161 finished with value: 0.6175393349802922 and parameters: {'C': 13.686420229537351, 'penalty': 'l2', 'solver': 'lbfgs', 'multi_class': 'multinomial', 'class_weight': 'balanced'}. Best is trial 3 with value: 0.6240929622892224.\n"
     ]
    },
    {
     "name": "stdout",
     "output_type": "stream",
     "text": [
      "fold: 5, F1 score: 0.621541485909783\n",
      "fold: 1, F1 score: 0.6055798990515281\n",
      "fold: 2, F1 score: 0.5540905809899712\n",
      "fold: 3, F1 score: 0.573455965241021\n"
     ]
    },
    {
     "name": "stderr",
     "output_type": "stream",
     "text": [
      "/opt/conda/lib/python3.10/site-packages/optuna/trial/_trial.py:676: RuntimeWarning: Inconsistent parameter values for distribution with name \"C\"! This might be a configuration mistake. Optuna allows to call the same distribution with the same name more than once in a trial. When the parameter values are inconsistent optuna only uses the values of the first call and ignores all following. Using these values: {'step': None, 'low': 0.001, 'high': 100.0, 'log': True}\n",
      "  warnings.warn(\n",
      "[I 2024-04-11 02:21:10,174] Trial 162 finished with value: 0.5857106271921597 and parameters: {'C': 8.744960409243337, 'penalty': 'l2', 'solver': 'lbfgs', 'multi_class': 'multinomial', 'class_weight': 'balanced'}. Best is trial 3 with value: 0.6240929622892224.\n"
     ]
    },
    {
     "name": "stdout",
     "output_type": "stream",
     "text": [
      "fold: 4, F1 score: 0.6213100870626893\n",
      "fold: 5, F1 score: 0.574116603615589\n",
      "fold: 1, F1 score: 0.6189500719650357\n",
      "fold: 2, F1 score: 0.5867854663272392\n",
      "fold: 3, F1 score: 0.6216334001568902\n"
     ]
    },
    {
     "name": "stderr",
     "output_type": "stream",
     "text": [
      "/opt/conda/lib/python3.10/site-packages/optuna/trial/_trial.py:676: RuntimeWarning: Inconsistent parameter values for distribution with name \"C\"! This might be a configuration mistake. Optuna allows to call the same distribution with the same name more than once in a trial. When the parameter values are inconsistent optuna only uses the values of the first call and ignores all following. Using these values: {'step': None, 'low': 0.001, 'high': 100.0, 'log': True}\n",
      "  warnings.warn(\n",
      "[I 2024-04-11 02:21:10,366] Trial 163 finished with value: 0.623134579440699 and parameters: {'C': 14.765601258235597, 'penalty': 'l2', 'solver': 'lbfgs', 'multi_class': 'multinomial', 'class_weight': 'balanced'}. Best is trial 3 with value: 0.6240929622892224.\n",
      "/opt/conda/lib/python3.10/site-packages/optuna/trial/_trial.py:676: RuntimeWarning: Inconsistent parameter values for distribution with name \"C\"! This might be a configuration mistake. Optuna allows to call the same distribution with the same name more than once in a trial. When the parameter values are inconsistent optuna only uses the values of the first call and ignores all following. Using these values: {'step': None, 'low': 0.001, 'high': 100.0, 'log': True}\n",
      "  warnings.warn(\n",
      "[I 2024-04-11 02:21:10,528] Trial 164 finished with value: 0.6146504264478674 and parameters: {'C': 15.858538317623587, 'penalty': 'l2', 'solver': 'lbfgs', 'multi_class': 'multinomial', 'class_weight': 'balanced'}. Best is trial 3 with value: 0.6240929622892224.\n"
     ]
    },
    {
     "name": "stdout",
     "output_type": "stream",
     "text": [
      "fold: 4, F1 score: 0.6667624728445477\n",
      "fold: 5, F1 score: 0.621541485909783\n",
      "fold: 1, F1 score: 0.6189500719650357\n",
      "fold: 2, F1 score: 0.579734817482403\n",
      "fold: 3, F1 score: 0.6216334001568902\n",
      "fold: 4, F1 score: 0.6313923567252253\n",
      "fold: 5, F1 score: 0.621541485909783\n"
     ]
    },
    {
     "name": "stderr",
     "output_type": "stream",
     "text": [
      "/opt/conda/lib/python3.10/site-packages/optuna/trial/_trial.py:676: RuntimeWarning: Inconsistent parameter values for distribution with name \"C\"! This might be a configuration mistake. Optuna allows to call the same distribution with the same name more than once in a trial. When the parameter values are inconsistent optuna only uses the values of the first call and ignores all following. Using these values: {'step': None, 'low': 0.001, 'high': 100.0, 'log': True}\n",
      "  warnings.warn(\n"
     ]
    },
    {
     "name": "stdout",
     "output_type": "stream",
     "text": [
      "fold: 1, F1 score: 0.6045845281234236\n",
      "fold: 2, F1 score: 0.5867854663272392\n",
      "fold: 3, F1 score: 0.6080227216964679\n"
     ]
    },
    {
     "name": "stderr",
     "output_type": "stream",
     "text": [
      "[I 2024-04-11 02:21:10,828] Trial 165 finished with value: 0.6175393349802922 and parameters: {'C': 14.06971290561297, 'penalty': 'l2', 'solver': 'lbfgs', 'multi_class': 'multinomial', 'class_weight': 'balanced'}. Best is trial 3 with value: 0.6240929622892224.\n",
      "/opt/conda/lib/python3.10/site-packages/optuna/trial/_trial.py:676: RuntimeWarning: Inconsistent parameter values for distribution with name \"C\"! This might be a configuration mistake. Optuna allows to call the same distribution with the same name more than once in a trial. When the parameter values are inconsistent optuna only uses the values of the first call and ignores all following. Using these values: {'step': None, 'low': 0.001, 'high': 100.0, 'log': True}\n",
      "  warnings.warn(\n",
      "[I 2024-04-11 02:21:10,955] Trial 166 finished with value: 0.4855944091425787 and parameters: {'C': 32.07056150688191, 'penalty': 'l2', 'solver': 'lbfgs', 'multi_class': 'multinomial', 'class_weight': 'balanced'}. Best is trial 3 with value: 0.6240929622892224.\n"
     ]
    },
    {
     "name": "stdout",
     "output_type": "stream",
     "text": [
      "fold: 4, F1 score: 0.6667624728445477\n",
      "fold: 5, F1 score: 0.621541485909783\n",
      "fold: 1, F1 score: 0.45491561596136026\n",
      "fold: 2, F1 score: 0.45491561596136026\n",
      "fold: 3, F1 score: 0.45491561596136026\n",
      "fold: 4, F1 score: 0.45491561596136026\n",
      "fold: 5, F1 score: 0.6083095818674522\n"
     ]
    },
    {
     "name": "stderr",
     "output_type": "stream",
     "text": [
      "/opt/conda/lib/python3.10/site-packages/optuna/trial/_trial.py:676: RuntimeWarning: Inconsistent parameter values for distribution with name \"C\"! This might be a configuration mistake. Optuna allows to call the same distribution with the same name more than once in a trial. When the parameter values are inconsistent optuna only uses the values of the first call and ignores all following. Using these values: {'step': None, 'low': 0.001, 'high': 100.0, 'log': True}\n",
      "  warnings.warn(\n",
      "[I 2024-04-11 02:21:11,164] Trial 167 finished with value: 0.6204124437486147 and parameters: {'C': 14.216160857766951, 'penalty': 'l2', 'solver': 'lbfgs', 'multi_class': 'multinomial', 'class_weight': 'balanced'}. Best is trial 3 with value: 0.6240929622892224.\n"
     ]
    },
    {
     "name": "stdout",
     "output_type": "stream",
     "text": [
      "fold: 1, F1 score: 0.6189500719650357\n",
      "fold: 2, F1 score: 0.5867854663272392\n",
      "fold: 3, F1 score: 0.6080227216964679\n",
      "fold: 4, F1 score: 0.6667624728445477\n",
      "fold: 5, F1 score: 0.621541485909783\n",
      "fold: 1, F1 score: 0.6082622398013542\n"
     ]
    },
    {
     "name": "stderr",
     "output_type": "stream",
     "text": [
      "/opt/conda/lib/python3.10/site-packages/optuna/trial/_trial.py:676: RuntimeWarning: Inconsistent parameter values for distribution with name \"C\"! This might be a configuration mistake. Optuna allows to call the same distribution with the same name more than once in a trial. When the parameter values are inconsistent optuna only uses the values of the first call and ignores all following. Using these values: {'step': None, 'low': 0.001, 'high': 100.0, 'log': True}\n",
      "  warnings.warn(\n",
      "[I 2024-04-11 02:21:11,405] Trial 168 finished with value: 0.6111035462520455 and parameters: {'C': 21.678685412255184, 'penalty': 'l2', 'solver': 'lbfgs', 'multi_class': 'multinomial', 'class_weight': 'balanced'}. Best is trial 3 with value: 0.6240929622892224.\n"
     ]
    },
    {
     "name": "stdout",
     "output_type": "stream",
     "text": [
      "fold: 2, F1 score: 0.579734817482403\n",
      "fold: 3, F1 score: 0.6216334001568902\n",
      "fold: 4, F1 score: 0.6313923567252253\n",
      "fold: 5, F1 score: 0.6144949170943546\n"
     ]
    },
    {
     "name": "stderr",
     "output_type": "stream",
     "text": [
      "/opt/conda/lib/python3.10/site-packages/optuna/trial/_trial.py:676: RuntimeWarning: Inconsistent parameter values for distribution with name \"C\"! This might be a configuration mistake. Optuna allows to call the same distribution with the same name more than once in a trial. When the parameter values are inconsistent optuna only uses the values of the first call and ignores all following. Using these values: {'step': None, 'low': 0.001, 'high': 100.0, 'log': True}\n",
      "  warnings.warn(\n"
     ]
    },
    {
     "name": "stdout",
     "output_type": "stream",
     "text": [
      "fold: 1, F1 score: 0.5874254597526019\n",
      "fold: 2, F1 score: 0.5540905809899712\n",
      "fold: 3, F1 score: 0.5814479909640251\n",
      "fold: 4, F1 score: 0.6277881958152389\n"
     ]
    },
    {
     "name": "stderr",
     "output_type": "stream",
     "text": [
      "[I 2024-04-11 02:21:11,682] Trial 169 finished with value: 0.5836975908607563 and parameters: {'C': 7.952226060796286, 'penalty': 'l2', 'solver': 'lbfgs', 'multi_class': 'multinomial', 'class_weight': 'balanced'}. Best is trial 3 with value: 0.6240929622892224.\n"
     ]
    },
    {
     "name": "stdout",
     "output_type": "stream",
     "text": [
      "fold: 5, F1 score: 0.5677357267819446\n",
      "fold: 1, F1 score: 0.6055798990515281\n",
      "fold: 2, F1 score: 0.5867854663272392\n",
      "fold: 3, F1 score: 0.573455965241021\n",
      "fold: 4, F1 score: 0.6667624728445477\n"
     ]
    },
    {
     "name": "stderr",
     "output_type": "stream",
     "text": [
      "/opt/conda/lib/python3.10/site-packages/optuna/trial/_trial.py:676: RuntimeWarning: Inconsistent parameter values for distribution with name \"C\"! This might be a configuration mistake. Optuna allows to call the same distribution with the same name more than once in a trial. When the parameter values are inconsistent optuna only uses the values of the first call and ignores all following. Using these values: {'step': None, 'low': 0.001, 'high': 100.0, 'log': True}\n",
      "  warnings.warn(\n",
      "[I 2024-04-11 02:21:11,904] Trial 170 finished with value: 0.5974038182140682 and parameters: {'C': 10.257013774821031, 'penalty': 'l2', 'solver': 'lbfgs', 'multi_class': 'multinomial', 'class_weight': 'balanced'}. Best is trial 3 with value: 0.6240929622892224.\n",
      "/opt/conda/lib/python3.10/site-packages/optuna/trial/_trial.py:676: RuntimeWarning: Inconsistent parameter values for distribution with name \"C\"! This might be a configuration mistake. Optuna allows to call the same distribution with the same name more than once in a trial. When the parameter values are inconsistent optuna only uses the values of the first call and ignores all following. Using these values: {'step': None, 'low': 0.001, 'high': 100.0, 'log': True}\n",
      "  warnings.warn(\n",
      "[I 2024-04-11 02:21:12,091] Trial 171 finished with value: 0.623134579440699 and parameters: {'C': 15.212124979628344, 'penalty': 'l2', 'solver': 'lbfgs', 'multi_class': 'multinomial', 'class_weight': 'balanced'}. Best is trial 3 with value: 0.6240929622892224.\n"
     ]
    },
    {
     "name": "stdout",
     "output_type": "stream",
     "text": [
      "fold: 5, F1 score: 0.5544352876060044\n",
      "fold: 1, F1 score: 0.6189500719650357\n",
      "fold: 2, F1 score: 0.5867854663272392\n",
      "fold: 3, F1 score: 0.6216334001568902\n",
      "fold: 4, F1 score: 0.6667624728445477\n",
      "fold: 5, F1 score: 0.621541485909783\n"
     ]
    },
    {
     "name": "stderr",
     "output_type": "stream",
     "text": [
      "/opt/conda/lib/python3.10/site-packages/optuna/trial/_trial.py:676: RuntimeWarning: Inconsistent parameter values for distribution with name \"C\"! This might be a configuration mistake. Optuna allows to call the same distribution with the same name more than once in a trial. When the parameter values are inconsistent optuna only uses the values of the first call and ignores all following. Using these values: {'step': None, 'low': 0.001, 'high': 100.0, 'log': True}\n",
      "  warnings.warn(\n",
      "[I 2024-04-11 02:21:12,376] Trial 172 finished with value: 0.623134579440699 and parameters: {'C': 14.661790429841309, 'penalty': 'l2', 'solver': 'lbfgs', 'multi_class': 'multinomial', 'class_weight': 'balanced'}. Best is trial 3 with value: 0.6240929622892224.\n"
     ]
    },
    {
     "name": "stdout",
     "output_type": "stream",
     "text": [
      "fold: 1, F1 score: 0.6189500719650357\n",
      "fold: 2, F1 score: 0.5867854663272392\n",
      "fold: 3, F1 score: 0.6216334001568902\n",
      "fold: 4, F1 score: 0.6667624728445477\n",
      "fold: 5, F1 score: 0.621541485909783\n",
      "fold: 1, F1 score: 0.6080227216964679\n"
     ]
    },
    {
     "name": "stderr",
     "output_type": "stream",
     "text": [
      "/opt/conda/lib/python3.10/site-packages/optuna/trial/_trial.py:676: RuntimeWarning: Inconsistent parameter values for distribution with name \"C\"! This might be a configuration mistake. Optuna allows to call the same distribution with the same name more than once in a trial. When the parameter values are inconsistent optuna only uses the values of the first call and ignores all following. Using these values: {'step': None, 'low': 0.001, 'high': 100.0, 'log': True}\n",
      "  warnings.warn(\n",
      "[I 2024-04-11 02:21:12,525] Trial 173 finished with value: 0.6110556426310682 and parameters: {'C': 19.065677229064015, 'penalty': 'l2', 'solver': 'lbfgs', 'multi_class': 'multinomial', 'class_weight': 'balanced'}. Best is trial 3 with value: 0.6240929622892224.\n",
      "/opt/conda/lib/python3.10/site-packages/optuna/trial/_trial.py:676: RuntimeWarning: Inconsistent parameter values for distribution with name \"C\"! This might be a configuration mistake. Optuna allows to call the same distribution with the same name more than once in a trial. When the parameter values are inconsistent optuna only uses the values of the first call and ignores all following. Using these values: {'step': None, 'low': 0.001, 'high': 100.0, 'log': True}\n",
      "  warnings.warn(\n"
     ]
    },
    {
     "name": "stdout",
     "output_type": "stream",
     "text": [
      "fold: 2, F1 score: 0.579734817482403\n",
      "fold: 3, F1 score: 0.6216334001568902\n",
      "fold: 4, F1 score: 0.6313923567252253\n",
      "fold: 5, F1 score: 0.6144949170943546\n",
      "fold: 1, F1 score: 0.6082622398013542\n",
      "fold: 2, F1 score: 0.579734817482403\n",
      "fold: 3, F1 score: 0.6216334001568902\n",
      "fold: 4, F1 score: 0.6313923567252253\n"
     ]
    },
    {
     "name": "stderr",
     "output_type": "stream",
     "text": [
      "[I 2024-04-11 02:21:12,674] Trial 174 finished with value: 0.609866479206665 and parameters: {'C': 24.211769492387255, 'penalty': 'l2', 'solver': 'lbfgs', 'multi_class': 'multinomial', 'class_weight': 'balanced'}. Best is trial 3 with value: 0.6240929622892224.\n",
      "/opt/conda/lib/python3.10/site-packages/optuna/trial/_trial.py:676: RuntimeWarning: Inconsistent parameter values for distribution with name \"C\"! This might be a configuration mistake. Optuna allows to call the same distribution with the same name more than once in a trial. When the parameter values are inconsistent optuna only uses the values of the first call and ignores all following. Using these values: {'step': None, 'low': 0.001, 'high': 100.0, 'log': True}\n",
      "  warnings.warn(\n"
     ]
    },
    {
     "name": "stdout",
     "output_type": "stream",
     "text": [
      "fold: 5, F1 score: 0.6083095818674522\n",
      "fold: 1, F1 score: 0.6189500719650357\n",
      "fold: 2, F1 score: 0.5867854663272392\n"
     ]
    },
    {
     "name": "stderr",
     "output_type": "stream",
     "text": [
      "[I 2024-04-11 02:21:12,960] Trial 175 finished with value: 0.623134579440699 and parameters: {'C': 15.135695698956157, 'penalty': 'l2', 'solver': 'lbfgs', 'multi_class': 'multinomial', 'class_weight': 'balanced'}. Best is trial 3 with value: 0.6240929622892224.\n"
     ]
    },
    {
     "name": "stdout",
     "output_type": "stream",
     "text": [
      "fold: 3, F1 score: 0.6216334001568902\n",
      "fold: 4, F1 score: 0.6667624728445477\n",
      "fold: 5, F1 score: 0.621541485909783\n",
      "fold: 1, F1 score: 0.6045845281234236\n",
      "fold: 2, F1 score: 0.5867854663272392\n"
     ]
    },
    {
     "name": "stderr",
     "output_type": "stream",
     "text": [
      "/opt/conda/lib/python3.10/site-packages/optuna/trial/_trial.py:676: RuntimeWarning: Inconsistent parameter values for distribution with name \"C\"! This might be a configuration mistake. Optuna allows to call the same distribution with the same name more than once in a trial. When the parameter values are inconsistent optuna only uses the values of the first call and ignores all following. Using these values: {'step': None, 'low': 0.001, 'high': 100.0, 'log': True}\n",
      "  warnings.warn(\n",
      "[I 2024-04-11 02:21:13,196] Trial 176 finished with value: 0.60929220069771 and parameters: {'C': 10.833954356125721, 'penalty': 'l2', 'solver': 'lbfgs', 'multi_class': 'multinomial', 'class_weight': 'balanced'}. Best is trial 3 with value: 0.6240929622892224.\n",
      "/opt/conda/lib/python3.10/site-packages/optuna/trial/_trial.py:676: RuntimeWarning: Inconsistent parameter values for distribution with name \"C\"! This might be a configuration mistake. Optuna allows to call the same distribution with the same name more than once in a trial. When the parameter values are inconsistent optuna only uses the values of the first call and ignores all following. Using these values: {'step': None, 'low': 0.001, 'high': 100.0, 'log': True}\n",
      "  warnings.warn(\n",
      "[I 2024-04-11 02:21:13,291] Trial 177 finished with value: 0.6009577224917784 and parameters: {'C': 17.23245256345898, 'penalty': 'l2', 'solver': 'lbfgs', 'multi_class': 'ovr', 'class_weight': 'balanced'}. Best is trial 3 with value: 0.6240929622892224.\n"
     ]
    },
    {
     "name": "stdout",
     "output_type": "stream",
     "text": [
      "fold: 3, F1 score: 0.573455965241021\n",
      "fold: 4, F1 score: 0.6667624728445477\n",
      "fold: 5, F1 score: 0.6148725709523183\n",
      "fold: 1, F1 score: 0.6082622398013542\n",
      "fold: 2, F1 score: 0.5351910339079703\n",
      "fold: 3, F1 score: 0.6216334001568902\n",
      "fold: 4, F1 score: 0.6313923567252253\n",
      "fold: 5, F1 score: 0.6083095818674522\n"
     ]
    },
    {
     "name": "stderr",
     "output_type": "stream",
     "text": [
      "/opt/conda/lib/python3.10/site-packages/optuna/trial/_trial.py:676: RuntimeWarning: Inconsistent parameter values for distribution with name \"C\"! This might be a configuration mistake. Optuna allows to call the same distribution with the same name more than once in a trial. When the parameter values are inconsistent optuna only uses the values of the first call and ignores all following. Using these values: {'step': None, 'low': 0.001, 'high': 100.0, 'log': True}\n",
      "  warnings.warn(\n"
     ]
    },
    {
     "name": "stdout",
     "output_type": "stream",
     "text": [
      "fold: 1, F1 score: 0.6081402075366413\n",
      "fold: 2, F1 score: 0.5912401178715615\n",
      "fold: 3, F1 score: 0.573455965241021\n",
      "fold: 4, F1 score: 0.6401034706721114\n"
     ]
    },
    {
     "name": "stderr",
     "output_type": "stream",
     "text": [
      "[I 2024-04-11 02:21:13,604] Trial 178 finished with value: 0.5939973482374213 and parameters: {'C': 6.640446120233146, 'penalty': 'l2', 'solver': 'lbfgs', 'multi_class': 'multinomial', 'class_weight': None}. Best is trial 3 with value: 0.6240929622892224.\n"
     ]
    },
    {
     "name": "stdout",
     "output_type": "stream",
     "text": [
      "fold: 5, F1 score: 0.5570469798657718\n",
      "fold: 1, F1 score: 0.45491561596136026\n",
      "fold: 2, F1 score: 0.5351910339079703\n",
      "fold: 3, F1 score: 0.45491561596136026\n",
      "fold: 4, F1 score: 0.45491561596136026\n"
     ]
    },
    {
     "name": "stderr",
     "output_type": "stream",
     "text": [
      "/opt/conda/lib/python3.10/site-packages/optuna/trial/_trial.py:676: RuntimeWarning: Inconsistent parameter values for distribution with name \"C\"! This might be a configuration mistake. Optuna allows to call the same distribution with the same name more than once in a trial. When the parameter values are inconsistent optuna only uses the values of the first call and ignores all following. Using these values: {'step': None, 'low': 0.001, 'high': 100.0, 'log': True}\n",
      "  warnings.warn(\n",
      "[I 2024-04-11 02:21:13,824] Trial 179 finished with value: 0.5016494927319007 and parameters: {'C': 28.049884619127727, 'penalty': 'l2', 'solver': 'lbfgs', 'multi_class': 'multinomial', 'class_weight': 'balanced'}. Best is trial 3 with value: 0.6240929622892224.\n"
     ]
    },
    {
     "name": "stdout",
     "output_type": "stream",
     "text": [
      "fold: 5, F1 score: 0.6083095818674522\n",
      "fold: 1, F1 score: 0.6055798990515281\n",
      "fold: 2, F1 score: 0.5867854663272392\n",
      "fold: 3, F1 score: 0.573455965241021\n",
      "fold: 4, F1 score: 0.6667624728445477\n"
     ]
    },
    {
     "name": "stderr",
     "output_type": "stream",
     "text": [
      "/opt/conda/lib/python3.10/site-packages/optuna/trial/_trial.py:676: RuntimeWarning: Inconsistent parameter values for distribution with name \"C\"! This might be a configuration mistake. Optuna allows to call the same distribution with the same name more than once in a trial. When the parameter values are inconsistent optuna only uses the values of the first call and ignores all following. Using these values: {'step': None, 'low': 0.001, 'high': 100.0, 'log': True}\n",
      "  warnings.warn(\n",
      "[I 2024-04-11 02:21:14,050] Trial 180 finished with value: 0.601340081415985 and parameters: {'C': 9.387972098400919, 'penalty': 'l2', 'solver': 'lbfgs', 'multi_class': 'multinomial', 'class_weight': 'balanced'}. Best is trial 3 with value: 0.6240929622892224.\n",
      "/opt/conda/lib/python3.10/site-packages/optuna/trial/_trial.py:676: RuntimeWarning: Inconsistent parameter values for distribution with name \"C\"! This might be a configuration mistake. Optuna allows to call the same distribution with the same name more than once in a trial. When the parameter values are inconsistent optuna only uses the values of the first call and ignores all following. Using these values: {'step': None, 'low': 0.001, 'high': 100.0, 'log': True}\n",
      "  warnings.warn(\n",
      "[I 2024-04-11 02:21:14,243] Trial 181 finished with value: 0.623134579440699 and parameters: {'C': 14.666667677570217, 'penalty': 'l2', 'solver': 'lbfgs', 'multi_class': 'multinomial', 'class_weight': 'balanced'}. Best is trial 3 with value: 0.6240929622892224.\n"
     ]
    },
    {
     "name": "stdout",
     "output_type": "stream",
     "text": [
      "fold: 5, F1 score: 0.574116603615589\n",
      "fold: 1, F1 score: 0.6189500719650357\n",
      "fold: 2, F1 score: 0.5867854663272392\n",
      "fold: 3, F1 score: 0.6216334001568902\n",
      "fold: 4, F1 score: 0.6667624728445477\n",
      "fold: 5, F1 score: 0.621541485909783\n"
     ]
    },
    {
     "name": "stderr",
     "output_type": "stream",
     "text": [
      "/opt/conda/lib/python3.10/site-packages/optuna/trial/_trial.py:676: RuntimeWarning: Inconsistent parameter values for distribution with name \"C\"! This might be a configuration mistake. Optuna allows to call the same distribution with the same name more than once in a trial. When the parameter values are inconsistent optuna only uses the values of the first call and ignores all following. Using these values: {'step': None, 'low': 0.001, 'high': 100.0, 'log': True}\n",
      "  warnings.warn(\n",
      "[I 2024-04-11 02:21:14,451] Trial 182 finished with value: 0.6175393349802922 and parameters: {'C': 13.42958708324539, 'penalty': 'l2', 'solver': 'lbfgs', 'multi_class': 'multinomial', 'class_weight': 'balanced'}. Best is trial 3 with value: 0.6240929622892224.\n"
     ]
    },
    {
     "name": "stdout",
     "output_type": "stream",
     "text": [
      "fold: 1, F1 score: 0.6045845281234236\n",
      "fold: 2, F1 score: 0.5867854663272392\n",
      "fold: 3, F1 score: 0.6080227216964679\n",
      "fold: 4, F1 score: 0.6667624728445477\n",
      "fold: 5, F1 score: 0.621541485909783\n",
      "fold: 1, F1 score: 0.6012016383734703\n"
     ]
    },
    {
     "name": "stderr",
     "output_type": "stream",
     "text": [
      "/opt/conda/lib/python3.10/site-packages/optuna/trial/_trial.py:676: RuntimeWarning: Inconsistent parameter values for distribution with name \"C\"! This might be a configuration mistake. Optuna allows to call the same distribution with the same name more than once in a trial. When the parameter values are inconsistent optuna only uses the values of the first call and ignores all following. Using these values: {'step': None, 'low': 0.001, 'high': 100.0, 'log': True}\n",
      "  warnings.warn(\n",
      "[I 2024-04-11 02:21:14,693] Trial 183 finished with value: 0.6096914259664686 and parameters: {'C': 17.627053174551566, 'penalty': 'l2', 'solver': 'lbfgs', 'multi_class': 'multinomial', 'class_weight': 'balanced'}. Best is trial 3 with value: 0.6240929622892224.\n"
     ]
    },
    {
     "name": "stdout",
     "output_type": "stream",
     "text": [
      "fold: 2, F1 score: 0.579734817482403\n",
      "fold: 3, F1 score: 0.6216334001568902\n",
      "fold: 4, F1 score: 0.6313923567252253\n",
      "fold: 5, F1 score: 0.6144949170943546\n",
      "fold: 1, F1 score: 0.6082622398013542\n",
      "fold: 2, F1 score: 0.579734817482403\n",
      "fold: 3, F1 score: 0.6216334001568902\n",
      "fold: 4, F1 score: 0.6313923567252253\n"
     ]
    },
    {
     "name": "stderr",
     "output_type": "stream",
     "text": [
      "/opt/conda/lib/python3.10/site-packages/optuna/trial/_trial.py:676: RuntimeWarning: Inconsistent parameter values for distribution with name \"C\"! This might be a configuration mistake. Optuna allows to call the same distribution with the same name more than once in a trial. When the parameter values are inconsistent optuna only uses the values of the first call and ignores all following. Using these values: {'step': None, 'low': 0.001, 'high': 100.0, 'log': True}\n",
      "  warnings.warn(\n",
      "[I 2024-04-11 02:21:14,838] Trial 184 finished with value: 0.6111035462520455 and parameters: {'C': 21.851352805572496, 'penalty': 'l2', 'solver': 'lbfgs', 'multi_class': 'multinomial', 'class_weight': 'balanced'}. Best is trial 3 with value: 0.6240929622892224.\n",
      "/opt/conda/lib/python3.10/site-packages/optuna/trial/_trial.py:676: RuntimeWarning: Inconsistent parameter values for distribution with name \"C\"! This might be a configuration mistake. Optuna allows to call the same distribution with the same name more than once in a trial. When the parameter values are inconsistent optuna only uses the values of the first call and ignores all following. Using these values: {'step': None, 'low': 0.001, 'high': 100.0, 'log': True}\n",
      "  warnings.warn(\n"
     ]
    },
    {
     "name": "stdout",
     "output_type": "stream",
     "text": [
      "fold: 5, F1 score: 0.6144949170943546\n",
      "fold: 1, F1 score: 0.6045845281234236\n",
      "fold: 2, F1 score: 0.5867854663272392\n",
      "fold: 3, F1 score: 0.573455965241021\n",
      "fold: 4, F1 score: 0.6667624728445477\n"
     ]
    },
    {
     "name": "stderr",
     "output_type": "stream",
     "text": [
      "[I 2024-04-11 02:21:15,048] Trial 185 finished with value: 0.60929220069771 and parameters: {'C': 11.334565078153757, 'penalty': 'l2', 'solver': 'lbfgs', 'multi_class': 'multinomial', 'class_weight': 'balanced'}. Best is trial 3 with value: 0.6240929622892224.\n"
     ]
    },
    {
     "name": "stdout",
     "output_type": "stream",
     "text": [
      "fold: 5, F1 score: 0.6148725709523183\n",
      "fold: 1, F1 score: 0.6189500719650357\n",
      "fold: 2, F1 score: 0.579734817482403\n",
      "fold: 3, F1 score: 0.6216334001568902\n"
     ]
    },
    {
     "name": "stderr",
     "output_type": "stream",
     "text": [
      "/opt/conda/lib/python3.10/site-packages/optuna/trial/_trial.py:676: RuntimeWarning: Inconsistent parameter values for distribution with name \"C\"! This might be a configuration mistake. Optuna allows to call the same distribution with the same name more than once in a trial. When the parameter values are inconsistent optuna only uses the values of the first call and ignores all following. Using these values: {'step': None, 'low': 0.001, 'high': 100.0, 'log': True}\n",
      "  warnings.warn(\n",
      "[I 2024-04-11 02:21:15,295] Trial 186 finished with value: 0.6132411126847817 and parameters: {'C': 16.821663855558853, 'penalty': 'l2', 'solver': 'lbfgs', 'multi_class': 'multinomial', 'class_weight': 'balanced'}. Best is trial 3 with value: 0.6240929622892224.\n"
     ]
    },
    {
     "name": "stdout",
     "output_type": "stream",
     "text": [
      "fold: 4, F1 score: 0.6313923567252253\n",
      "fold: 5, F1 score: 0.6144949170943546\n",
      "fold: 1, F1 score: 0.6045845281234236\n",
      "fold: 2, F1 score: 0.5867854663272392\n",
      "fold: 3, F1 score: 0.6080227216964679\n",
      "fold: 4, F1 score: 0.6667624728445477\n"
     ]
    },
    {
     "name": "stderr",
     "output_type": "stream",
     "text": [
      "/opt/conda/lib/python3.10/site-packages/optuna/trial/_trial.py:676: RuntimeWarning: Inconsistent parameter values for distribution with name \"C\"! This might be a configuration mistake. Optuna allows to call the same distribution with the same name more than once in a trial. When the parameter values are inconsistent optuna only uses the values of the first call and ignores all following. Using these values: {'step': None, 'low': 0.001, 'high': 100.0, 'log': True}\n",
      "  warnings.warn(\n",
      "[I 2024-04-11 02:21:15,500] Trial 187 finished with value: 0.6175393349802922 and parameters: {'C': 13.782377246901628, 'penalty': 'l2', 'solver': 'lbfgs', 'multi_class': 'multinomial', 'class_weight': 'balanced'}. Best is trial 3 with value: 0.6240929622892224.\n"
     ]
    },
    {
     "name": "stdout",
     "output_type": "stream",
     "text": [
      "fold: 5, F1 score: 0.621541485909783\n",
      "fold: 1, F1 score: 0.6055798990515281\n",
      "fold: 2, F1 score: 0.5540905809899712\n",
      "fold: 3, F1 score: 0.573455965241021\n"
     ]
    },
    {
     "name": "stderr",
     "output_type": "stream",
     "text": [
      "/opt/conda/lib/python3.10/site-packages/optuna/trial/_trial.py:676: RuntimeWarning: Inconsistent parameter values for distribution with name \"C\"! This might be a configuration mistake. Optuna allows to call the same distribution with the same name more than once in a trial. When the parameter values are inconsistent optuna only uses the values of the first call and ignores all following. Using these values: {'step': None, 'low': 0.001, 'high': 100.0, 'log': True}\n",
      "  warnings.warn(\n",
      "[I 2024-04-11 02:21:15,759] Trial 188 finished with value: 0.5844344518254309 and parameters: {'C': 8.225806222887822, 'penalty': 'l2', 'solver': 'lbfgs', 'multi_class': 'multinomial', 'class_weight': 'balanced'}. Best is trial 3 with value: 0.6240929622892224.\n",
      "/opt/conda/lib/python3.10/site-packages/optuna/trial/_trial.py:676: RuntimeWarning: Inconsistent parameter values for distribution with name \"C\"! This might be a configuration mistake. Optuna allows to call the same distribution with the same name more than once in a trial. When the parameter values are inconsistent optuna only uses the values of the first call and ignores all following. Using these values: {'step': None, 'low': 0.001, 'high': 100.0, 'log': True}\n",
      "  warnings.warn(\n",
      "[I 2024-04-11 02:21:15,894] Trial 189 finished with value: 0.6009577224917784 and parameters: {'C': 25.055648376017484, 'penalty': 'l2', 'solver': 'lbfgs', 'multi_class': 'multinomial', 'class_weight': 'balanced'}. Best is trial 3 with value: 0.6240929622892224.\n"
     ]
    },
    {
     "name": "stdout",
     "output_type": "stream",
     "text": [
      "fold: 4, F1 score: 0.6213100870626893\n",
      "fold: 5, F1 score: 0.5677357267819446\n",
      "fold: 1, F1 score: 0.6082622398013542\n",
      "fold: 2, F1 score: 0.5351910339079703\n",
      "fold: 3, F1 score: 0.6216334001568902\n",
      "fold: 4, F1 score: 0.6313923567252253\n",
      "fold: 5, F1 score: 0.6083095818674522\n"
     ]
    },
    {
     "name": "stderr",
     "output_type": "stream",
     "text": [
      "/opt/conda/lib/python3.10/site-packages/optuna/trial/_trial.py:676: RuntimeWarning: Inconsistent parameter values for distribution with name \"C\"! This might be a configuration mistake. Optuna allows to call the same distribution with the same name more than once in a trial. When the parameter values are inconsistent optuna only uses the values of the first call and ignores all following. Using these values: {'step': None, 'low': 0.001, 'high': 100.0, 'log': True}\n",
      "  warnings.warn(\n",
      "[I 2024-04-11 02:21:16,191] Trial 190 finished with value: 0.60929220069771 and parameters: {'C': 10.828094363186908, 'penalty': 'l2', 'solver': 'lbfgs', 'multi_class': 'multinomial', 'class_weight': 'balanced'}. Best is trial 3 with value: 0.6240929622892224.\n"
     ]
    },
    {
     "name": "stdout",
     "output_type": "stream",
     "text": [
      "fold: 1, F1 score: 0.6045845281234236\n",
      "fold: 2, F1 score: 0.5867854663272392\n",
      "fold: 3, F1 score: 0.573455965241021\n",
      "fold: 4, F1 score: 0.6667624728445477\n",
      "fold: 5, F1 score: 0.6148725709523183\n"
     ]
    },
    {
     "name": "stderr",
     "output_type": "stream",
     "text": [
      "/opt/conda/lib/python3.10/site-packages/optuna/trial/_trial.py:676: RuntimeWarning: Inconsistent parameter values for distribution with name \"C\"! This might be a configuration mistake. Optuna allows to call the same distribution with the same name more than once in a trial. When the parameter values are inconsistent optuna only uses the values of the first call and ignores all following. Using these values: {'step': None, 'low': 0.001, 'high': 100.0, 'log': True}\n",
      "  warnings.warn(\n",
      "[I 2024-04-11 02:21:16,377] Trial 191 finished with value: 0.623134579440699 and parameters: {'C': 14.80655348832711, 'penalty': 'l2', 'solver': 'lbfgs', 'multi_class': 'multinomial', 'class_weight': 'balanced'}. Best is trial 3 with value: 0.6240929622892224.\n",
      "/opt/conda/lib/python3.10/site-packages/optuna/trial/_trial.py:676: RuntimeWarning: Inconsistent parameter values for distribution with name \"C\"! This might be a configuration mistake. Optuna allows to call the same distribution with the same name more than once in a trial. When the parameter values are inconsistent optuna only uses the values of the first call and ignores all following. Using these values: {'step': None, 'low': 0.001, 'high': 100.0, 'log': True}\n",
      "  warnings.warn(\n"
     ]
    },
    {
     "name": "stdout",
     "output_type": "stream",
     "text": [
      "fold: 1, F1 score: 0.6189500719650357\n",
      "fold: 2, F1 score: 0.5867854663272392\n",
      "fold: 3, F1 score: 0.6216334001568902\n",
      "fold: 4, F1 score: 0.6667624728445477\n",
      "fold: 5, F1 score: 0.621541485909783\n",
      "fold: 1, F1 score: 0.6189500719650357\n"
     ]
    },
    {
     "name": "stderr",
     "output_type": "stream",
     "text": [
      "[I 2024-04-11 02:21:16,560] Trial 192 finished with value: 0.6160605562168348 and parameters: {'C': 15.453260667228655, 'penalty': 'l2', 'solver': 'lbfgs', 'multi_class': 'multinomial', 'class_weight': 'balanced'}. Best is trial 3 with value: 0.6240929622892224.\n",
      "/opt/conda/lib/python3.10/site-packages/optuna/trial/_trial.py:676: RuntimeWarning: Inconsistent parameter values for distribution with name \"C\"! This might be a configuration mistake. Optuna allows to call the same distribution with the same name more than once in a trial. When the parameter values are inconsistent optuna only uses the values of the first call and ignores all following. Using these values: {'step': None, 'low': 0.001, 'high': 100.0, 'log': True}\n",
      "  warnings.warn(\n"
     ]
    },
    {
     "name": "stdout",
     "output_type": "stream",
     "text": [
      "fold: 2, F1 score: 0.5867854663272392\n",
      "fold: 3, F1 score: 0.6216334001568902\n",
      "fold: 4, F1 score: 0.6313923567252253\n",
      "fold: 5, F1 score: 0.621541485909783\n",
      "fold: 1, F1 score: 0.6082622398013542\n",
      "fold: 2, F1 score: 0.579734817482403\n"
     ]
    },
    {
     "name": "stderr",
     "output_type": "stream",
     "text": [
      "[I 2024-04-11 02:21:16,805] Trial 193 finished with value: 0.6111035462520455 and parameters: {'C': 19.85732084887547, 'penalty': 'l2', 'solver': 'lbfgs', 'multi_class': 'multinomial', 'class_weight': 'balanced'}. Best is trial 3 with value: 0.6240929622892224.\n"
     ]
    },
    {
     "name": "stdout",
     "output_type": "stream",
     "text": [
      "fold: 3, F1 score: 0.6216334001568902\n",
      "fold: 4, F1 score: 0.6313923567252253\n",
      "fold: 5, F1 score: 0.6144949170943546\n",
      "fold: 1, F1 score: 0.6045845281234236\n",
      "fold: 2, F1 score: 0.5867854663272392\n"
     ]
    },
    {
     "name": "stderr",
     "output_type": "stream",
     "text": [
      "/opt/conda/lib/python3.10/site-packages/optuna/trial/_trial.py:676: RuntimeWarning: Inconsistent parameter values for distribution with name \"C\"! This might be a configuration mistake. Optuna allows to call the same distribution with the same name more than once in a trial. When the parameter values are inconsistent optuna only uses the values of the first call and ignores all following. Using these values: {'step': None, 'low': 0.001, 'high': 100.0, 'log': True}\n",
      "  warnings.warn(\n",
      "[I 2024-04-11 02:21:17,024] Trial 194 finished with value: 0.6162055519887993 and parameters: {'C': 12.72641997072843, 'penalty': 'l2', 'solver': 'lbfgs', 'multi_class': 'multinomial', 'class_weight': 'balanced'}. Best is trial 3 with value: 0.6240929622892224.\n"
     ]
    },
    {
     "name": "stdout",
     "output_type": "stream",
     "text": [
      "fold: 3, F1 score: 0.6080227216964679\n",
      "fold: 4, F1 score: 0.6667624728445477\n",
      "fold: 5, F1 score: 0.6148725709523183\n",
      "fold: 1, F1 score: 0.6082622398013542\n",
      "fold: 2, F1 score: 0.579734817482403\n",
      "fold: 3, F1 score: 0.6216334001568902\n",
      "fold: 4, F1 score: 0.6313923567252253\n"
     ]
    },
    {
     "name": "stderr",
     "output_type": "stream",
     "text": [
      "/opt/conda/lib/python3.10/site-packages/optuna/trial/_trial.py:676: RuntimeWarning: Inconsistent parameter values for distribution with name \"C\"! This might be a configuration mistake. Optuna allows to call the same distribution with the same name more than once in a trial. When the parameter values are inconsistent optuna only uses the values of the first call and ignores all following. Using these values: {'step': None, 'low': 0.001, 'high': 100.0, 'log': True}\n",
      "  warnings.warn(\n",
      "[I 2024-04-11 02:21:17,182] Trial 195 finished with value: 0.6111035462520455 and parameters: {'C': 19.247115386614645, 'penalty': 'l2', 'solver': 'lbfgs', 'multi_class': 'multinomial', 'class_weight': 'balanced'}. Best is trial 3 with value: 0.6240929622892224.\n",
      "/opt/conda/lib/python3.10/site-packages/optuna/trial/_trial.py:676: RuntimeWarning: Inconsistent parameter values for distribution with name \"C\"! This might be a configuration mistake. Optuna allows to call the same distribution with the same name more than once in a trial. When the parameter values are inconsistent optuna only uses the values of the first call and ignores all following. Using these values: {'step': None, 'low': 0.001, 'high': 100.0, 'log': True}\n",
      "  warnings.warn(\n"
     ]
    },
    {
     "name": "stdout",
     "output_type": "stream",
     "text": [
      "fold: 5, F1 score: 0.6144949170943546\n",
      "fold: 1, F1 score: 0.6189500719650357\n",
      "fold: 2, F1 score: 0.5867854663272392\n",
      "fold: 3, F1 score: 0.6216334001568902\n",
      "fold: 4, F1 score: 0.6667624728445477\n"
     ]
    },
    {
     "name": "stderr",
     "output_type": "stream",
     "text": [
      "[I 2024-04-11 02:21:17,470] Trial 196 finished with value: 0.623134579440699 and parameters: {'C': 15.015382454976026, 'penalty': 'l2', 'solver': 'lbfgs', 'multi_class': 'multinomial', 'class_weight': 'balanced'}. Best is trial 3 with value: 0.6240929622892224.\n"
     ]
    },
    {
     "name": "stdout",
     "output_type": "stream",
     "text": [
      "fold: 5, F1 score: 0.621541485909783\n",
      "fold: 1, F1 score: 0.6081402075366413\n",
      "fold: 2, F1 score: 0.5676229420714437\n",
      "fold: 3, F1 score: 0.6168716028184307\n"
     ]
    },
    {
     "name": "stderr",
     "output_type": "stream",
     "text": [
      "/opt/conda/lib/python3.10/site-packages/optuna/trial/_trial.py:676: RuntimeWarning: Inconsistent parameter values for distribution with name \"C\"! This might be a configuration mistake. Optuna allows to call the same distribution with the same name more than once in a trial. When the parameter values are inconsistent optuna only uses the values of the first call and ignores all following. Using these values: {'step': None, 'low': 0.001, 'high': 100.0, 'log': True}\n",
      "  warnings.warn(\n",
      "[I 2024-04-11 02:21:17,744] Trial 197 finished with value: 0.5984506040177624 and parameters: {'C': 9.323764660388434, 'penalty': 'l2', 'solver': 'lbfgs', 'multi_class': 'multinomial', 'class_weight': None}. Best is trial 3 with value: 0.6240929622892224.\n",
      "/opt/conda/lib/python3.10/site-packages/optuna/trial/_trial.py:676: RuntimeWarning: Inconsistent parameter values for distribution with name \"C\"! This might be a configuration mistake. Optuna allows to call the same distribution with the same name more than once in a trial. When the parameter values are inconsistent optuna only uses the values of the first call and ignores all following. Using these values: {'step': None, 'low': 0.001, 'high': 100.0, 'log': True}\n",
      "  warnings.warn(\n",
      "[I 2024-04-11 02:21:17,883] Trial 198 finished with value: 0.5702883977237796 and parameters: {'C': 27.497590490321326, 'penalty': 'l2', 'solver': 'lbfgs', 'multi_class': 'multinomial', 'class_weight': 'balanced'}. Best is trial 3 with value: 0.6240929622892224.\n"
     ]
    },
    {
     "name": "stdout",
     "output_type": "stream",
     "text": [
      "fold: 4, F1 score: 0.6425712877965243\n",
      "fold: 5, F1 score: 0.5570469798657718\n",
      "fold: 1, F1 score: 0.45491561596136026\n",
      "fold: 2, F1 score: 0.5351910339079703\n",
      "fold: 3, F1 score: 0.6216334001568902\n",
      "fold: 4, F1 score: 0.6313923567252253\n",
      "fold: 5, F1 score: 0.6083095818674522\n"
     ]
    },
    {
     "name": "stderr",
     "output_type": "stream",
     "text": [
      "/opt/conda/lib/python3.10/site-packages/optuna/trial/_trial.py:676: RuntimeWarning: Inconsistent parameter values for distribution with name \"C\"! This might be a configuration mistake. Optuna allows to call the same distribution with the same name more than once in a trial. When the parameter values are inconsistent optuna only uses the values of the first call and ignores all following. Using these values: {'step': None, 'low': 0.001, 'high': 100.0, 'log': True}\n",
      "  warnings.warn(\n",
      "[I 2024-04-11 02:21:17,953] Trial 199 finished with value: 0.5285359063982769 and parameters: {'C': 15.710217485915916, 'penalty': 'l2', 'solver': 'sag', 'multi_class': 'multinomial', 'class_weight': 'balanced'}. Best is trial 3 with value: 0.6240929622892224.\n"
     ]
    },
    {
     "name": "stdout",
     "output_type": "stream",
     "text": [
      "fold: 1, F1 score: 0.45175117026676437\n",
      "fold: 2, F1 score: 0.5317238623782644\n",
      "fold: 3, F1 score: 0.4700261312578723\n",
      "fold: 4, F1 score: 0.6140431720266276\n",
      "fold: 5, F1 score: 0.5751351960618558\n",
      "Number of finished trials: 200\n",
      "Best trial: {'C': 13.643544703015806, 'penalty': 'l2', 'solver': 'lbfgs', 'multi_class': 'multinomial', 'class_weight': None}\n"
     ]
    }
   ],
   "source": [
    "study = optuna.create_study(direction='maximize')\n",
    "study.optimize(objective,n_trials= 200)\n",
    "print('Number of finished trials:', len(study.trials))\n",
    "print('Best trial:', study.best_trial.params)"
   ]
  },
  {
   "cell_type": "code",
   "execution_count": 10,
   "id": "cb1e3ca8",
   "metadata": {
    "execution": {
     "iopub.execute_input": "2024-04-11T02:21:18.127700Z",
     "iopub.status.busy": "2024-04-11T02:21:18.127220Z",
     "iopub.status.idle": "2024-04-11T02:21:18.480799Z",
     "shell.execute_reply": "2024-04-11T02:21:18.479464Z"
    },
    "papermill": {
     "duration": 0.420323,
     "end_time": "2024-04-11T02:21:18.483290",
     "exception": false,
     "start_time": "2024-04-11T02:21:18.062967",
     "status": "completed"
    },
    "tags": []
   },
   "outputs": [
    {
     "name": "stderr",
     "output_type": "stream",
     "text": [
      "/opt/conda/lib/python3.10/site-packages/sklearn/linear_model/_logistic.py:458: ConvergenceWarning: lbfgs failed to converge (status=1):\n",
      "STOP: TOTAL NO. of ITERATIONS REACHED LIMIT.\n",
      "\n",
      "Increase the number of iterations (max_iter) or scale the data as shown in:\n",
      "    https://scikit-learn.org/stable/modules/preprocessing.html\n",
      "Please also refer to the documentation for alternative solver options:\n",
      "    https://scikit-learn.org/stable/modules/linear_model.html#logistic-regression\n",
      "  n_iter_i = _check_optimize_result(\n"
     ]
    }
   ],
   "source": [
    "params = study.best_params\n",
    "model = LogisticRegression(**params)\n",
    "model.fit(X, y=y)\n",
    "pred = model.predict_proba(X_test)"
   ]
  },
  {
   "cell_type": "code",
   "execution_count": 11,
   "id": "7a2eb843",
   "metadata": {
    "execution": {
     "iopub.execute_input": "2024-04-11T02:21:18.609708Z",
     "iopub.status.busy": "2024-04-11T02:21:18.609287Z",
     "iopub.status.idle": "2024-04-11T02:21:18.614876Z",
     "shell.execute_reply": "2024-04-11T02:21:18.614028Z"
    },
    "papermill": {
     "duration": 0.07093,
     "end_time": "2024-04-11T02:21:18.617093",
     "exception": false,
     "start_time": "2024-04-11T02:21:18.546163",
     "status": "completed"
    },
    "tags": []
   },
   "outputs": [],
   "source": [
    "df_test[['class1','class2']] = pred"
   ]
  },
  {
   "cell_type": "code",
   "execution_count": 12,
   "id": "d0637e6e",
   "metadata": {
    "execution": {
     "iopub.execute_input": "2024-04-11T02:21:18.745480Z",
     "iopub.status.busy": "2024-04-11T02:21:18.744191Z",
     "iopub.status.idle": "2024-04-11T02:21:18.754367Z",
     "shell.execute_reply": "2024-04-11T02:21:18.753527Z"
    },
    "papermill": {
     "duration": 0.076118,
     "end_time": "2024-04-11T02:21:18.757064",
     "exception": false,
     "start_time": "2024-04-11T02:21:18.680946",
     "status": "completed"
    },
    "tags": []
   },
   "outputs": [],
   "source": [
    "submission = df_test[['CandidateID','class1','class2']]\n",
    "submission.to_csv('logistic.csv')"
   ]
  },
  {
   "cell_type": "code",
   "execution_count": null,
   "id": "48e27b5f",
   "metadata": {
    "papermill": {
     "duration": 0.061427,
     "end_time": "2024-04-11T02:21:18.880780",
     "exception": false,
     "start_time": "2024-04-11T02:21:18.819353",
     "status": "completed"
    },
    "tags": []
   },
   "outputs": [],
   "source": []
  },
  {
   "cell_type": "code",
   "execution_count": null,
   "id": "3b2ef1f0",
   "metadata": {
    "papermill": {
     "duration": 0.063443,
     "end_time": "2024-04-11T02:21:19.006659",
     "exception": false,
     "start_time": "2024-04-11T02:21:18.943216",
     "status": "completed"
    },
    "tags": []
   },
   "outputs": [],
   "source": []
  },
  {
   "cell_type": "code",
   "execution_count": null,
   "id": "cbd28174",
   "metadata": {
    "papermill": {
     "duration": 0.061686,
     "end_time": "2024-04-11T02:21:19.130755",
     "exception": false,
     "start_time": "2024-04-11T02:21:19.069069",
     "status": "completed"
    },
    "tags": []
   },
   "outputs": [],
   "source": []
  }
 ],
 "metadata": {
  "kaggle": {
   "accelerator": "none",
   "dataSources": [
    {
     "datasetId": 4767705,
     "sourceId": 8078360,
     "sourceType": "datasetVersion"
    },
    {
     "datasetId": 4771583,
     "sourceId": 8083623,
     "sourceType": "datasetVersion"
    }
   ],
   "dockerImageVersionId": 30684,
   "isGpuEnabled": false,
   "isInternetEnabled": true,
   "language": "python",
   "sourceType": "notebook"
  },
  "kernelspec": {
   "display_name": "Python 3",
   "language": "python",
   "name": "python3"
  },
  "language_info": {
   "codemirror_mode": {
    "name": "ipython",
    "version": 3
   },
   "file_extension": ".py",
   "mimetype": "text/x-python",
   "name": "python",
   "nbconvert_exporter": "python",
   "pygments_lexer": "ipython3",
   "version": "3.10.13"
  },
  "papermill": {
   "default_parameters": {},
   "duration": 65.013901,
   "end_time": "2024-04-11T02:21:19.812643",
   "environment_variables": {},
   "exception": null,
   "input_path": "__notebook__.ipynb",
   "output_path": "__notebook__.ipynb",
   "parameters": {},
   "start_time": "2024-04-11T02:20:14.798742",
   "version": "2.5.0"
  }
 },
 "nbformat": 4,
 "nbformat_minor": 5
}
