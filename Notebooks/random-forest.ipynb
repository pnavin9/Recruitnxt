{
 "cells": [
  {
   "cell_type": "code",
   "execution_count": 1,
   "id": "766ac6c5",
   "metadata": {
    "_cell_guid": "b1076dfc-b9ad-4769-8c92-a6c4dae69d19",
    "_uuid": "8f2839f25d086af736a60e9eeb907d3b93b6e0e5",
    "execution": {
     "iopub.execute_input": "2024-04-11T04:35:43.398661Z",
     "iopub.status.busy": "2024-04-11T04:35:43.397785Z",
     "iopub.status.idle": "2024-04-11T04:35:47.750116Z",
     "shell.execute_reply": "2024-04-11T04:35:47.748919Z"
    },
    "papermill": {
     "duration": 4.366236,
     "end_time": "2024-04-11T04:35:47.753248",
     "exception": false,
     "start_time": "2024-04-11T04:35:43.387012",
     "status": "completed"
    },
    "tags": []
   },
   "outputs": [],
   "source": [
    "import pandas as pd\n",
    "import numpy as np\n",
    "from sklearn.preprocessing import OneHotEncoder\n",
    "import re\n",
    "import optuna\n",
    "from optuna import Trial, visualization\n",
    "from sklearn.model_selection import StratifiedKFold, KFold,cross_val_predict,cross_val_score,cross_validate\n",
    "from sklearn.ensemble import RandomForestClassifier\n",
    "\n",
    "# Load train and test data\n",
    "train_data = pd.read_csv('/kaggle/input/primal2-0/final_train.csv')\n",
    "test_data = pd.read_csv('/kaggle/input/primal2-0/final_test.csv')\n",
    "\n",
    "# Concatenate train and test data for preprocessing\n",
    "combined_data = pd.concat([train_data, test_data], ignore_index=True)\n",
    "\n",
    "value_mapping = {\n",
    "    'a': 6,  # Example: 10 lakhs\n",
    "}\n",
    "# Replace values in the 'ticket size' column using the mapping\n",
    "combined_data['Previous_Organizations'] = test_data['Previous_Organizations'].replace(value_mapping)\n",
    "\n",
    "# Drop specified columns\n",
    "combined_data.drop(columns=['Designation', 'DOJ', 'R_District', 'B_District', 'Company_1', 'Company_2', 'Skill'], inplace=True)\n",
    "\n",
    "# Replace Graduation and Qualification values\n",
    "combined_data['Graduation'] = combined_data['Graduation'].fillna(0).map({'full time': 1, 'part time': 0, 0: 0})\n",
    "combined_data['Qualification'] = combined_data['Qualification'].map({'graduate': 2, 'under graduate': 1, 'post graduate': 3, 'others': 0, 'diploma holders': 4}).fillna(-1)\n",
    "\n",
    "# Set 'Previous_Organizations' as type int, treating NaN as 0\n",
    "combined_data['Previous_Organizations'] = combined_data['Previous_Organizations'].fillna(0).astype(int)\n",
    "\n",
    "# One-hot encoding for categorical variables\n",
    "columns_to_encode = ['Industry', 'Source', 'Department', 'R_Region', 'B_Region']\n",
    "combined_data_encoded = pd.get_dummies(combined_data, columns=columns_to_encode)\n",
    "\n",
    "# Create indicator variables for states\n",
    "states = list(combined_data['R_State']) + list(combined_data['B_State'])\n",
    "for state in states:\n",
    "    combined_data_encoded[state] = ((combined_data['R_State'] == state) | (combined_data['B_State'] == state)).astype(int)\n",
    "\n",
    "# Drop 'R_State' and 'B_State'\n",
    "combined_data_encoded.drop(columns=['R_State', 'B_State', 'Unnamed: 0'], inplace=True)\n",
    "combined_data_encoded.columns = [re.sub(r'\\W+', '_', col) for col in combined_data_encoded.columns]\n",
    "\n",
    "# Separate back into train and test data\n",
    "train_data_processed = combined_data_encoded.iloc[:len(train_data)]\n",
    "test_data_processed = combined_data_encoded.iloc[len(train_data):].drop(columns='Performance')  # Assuming 'Target' is the target column"
   ]
  },
  {
   "cell_type": "code",
   "execution_count": 2,
   "id": "0e3ee724",
   "metadata": {
    "execution": {
     "iopub.execute_input": "2024-04-11T04:35:47.766378Z",
     "iopub.status.busy": "2024-04-11T04:35:47.765921Z",
     "iopub.status.idle": "2024-04-11T04:35:47.775403Z",
     "shell.execute_reply": "2024-04-11T04:35:47.774350Z"
    },
    "papermill": {
     "duration": 0.018927,
     "end_time": "2024-04-11T04:35:47.777924",
     "exception": false,
     "start_time": "2024-04-11T04:35:47.758997",
     "status": "completed"
    },
    "tags": []
   },
   "outputs": [],
   "source": [
    "df_all = train_data_processed\n",
    "df_test = test_data_processed\n",
    "df_submission = pd.read_csv(\"/kaggle/input/sample/sample.csv\")"
   ]
  },
  {
   "cell_type": "code",
   "execution_count": 3,
   "id": "16435ac7",
   "metadata": {
    "execution": {
     "iopub.execute_input": "2024-04-11T04:35:47.790039Z",
     "iopub.status.busy": "2024-04-11T04:35:47.789637Z",
     "iopub.status.idle": "2024-04-11T04:35:47.804142Z",
     "shell.execute_reply": "2024-04-11T04:35:47.802852Z"
    },
    "papermill": {
     "duration": 0.024055,
     "end_time": "2024-04-11T04:35:47.807186",
     "exception": false,
     "start_time": "2024-04-11T04:35:47.783131",
     "status": "completed"
    },
    "tags": []
   },
   "outputs": [],
   "source": [
    "X = df_all.drop(labels=['CandidateID','Performance'],axis=1,inplace=False).copy()\n",
    "y = df_all['Performance'].values\n",
    "X_test = df_test.drop(labels=['CandidateID'],axis=1,inplace=False).copy()\n",
    "random_seed = 0"
   ]
  },
  {
   "cell_type": "code",
   "execution_count": 4,
   "id": "d5402a69",
   "metadata": {
    "execution": {
     "iopub.execute_input": "2024-04-11T04:35:47.819473Z",
     "iopub.status.busy": "2024-04-11T04:35:47.819038Z",
     "iopub.status.idle": "2024-04-11T04:35:47.950821Z",
     "shell.execute_reply": "2024-04-11T04:35:47.949875Z"
    },
    "papermill": {
     "duration": 0.141327,
     "end_time": "2024-04-11T04:35:47.953762",
     "exception": false,
     "start_time": "2024-04-11T04:35:47.812435",
     "status": "completed"
    },
    "tags": []
   },
   "outputs": [],
   "source": [
    "encoder = OneHotEncoder()\n",
    "all_encoded = encoder.fit_transform(pd.concat([X,X_test]))\n",
    "#X = all_encoded[0:len(X)]\n",
    "#X_test = all_encoded[len(X):]\n",
    "X = all_encoded.tocsr()[0:len(X)]\n",
    "X_test = all_encoded [len(df_all):]"
   ]
  },
  {
   "cell_type": "code",
   "execution_count": 5,
   "id": "b89aac85",
   "metadata": {
    "execution": {
     "iopub.execute_input": "2024-04-11T04:35:47.966048Z",
     "iopub.status.busy": "2024-04-11T04:35:47.965628Z",
     "iopub.status.idle": "2024-04-11T04:35:47.980964Z",
     "shell.execute_reply": "2024-04-11T04:35:47.979676Z"
    },
    "papermill": {
     "duration": 0.02439,
     "end_time": "2024-04-11T04:35:47.983332",
     "exception": false,
     "start_time": "2024-04-11T04:35:47.958942",
     "status": "completed"
    },
    "tags": []
   },
   "outputs": [
    {
     "data": {
      "text/plain": [
       "Performance\n",
       "0.0    450\n",
       "1.0    295\n",
       "Name: count, dtype: int64"
      ]
     },
     "execution_count": 5,
     "metadata": {},
     "output_type": "execute_result"
    }
   ],
   "source": [
    "df_all['Performance'].value_counts()"
   ]
  },
  {
   "cell_type": "code",
   "execution_count": 6,
   "id": "d339294a",
   "metadata": {
    "execution": {
     "iopub.execute_input": "2024-04-11T04:35:47.997065Z",
     "iopub.status.busy": "2024-04-11T04:35:47.996220Z",
     "iopub.status.idle": "2024-04-11T04:35:48.008062Z",
     "shell.execute_reply": "2024-04-11T04:35:48.006859Z"
    },
    "papermill": {
     "duration": 0.021965,
     "end_time": "2024-04-11T04:35:48.010897",
     "exception": false,
     "start_time": "2024-04-11T04:35:47.988932",
     "status": "completed"
    },
    "tags": []
   },
   "outputs": [],
   "source": [
    "X = df_all.drop(labels=['CandidateID','Performance'],axis=1,inplace=False).copy()\n",
    "y = df_all['Performance'].values\n",
    "X_test = df_test.drop(labels=['CandidateID'],axis=1,inplace=False).copy()\n",
    "random_seed = 0"
   ]
  },
  {
   "cell_type": "code",
   "execution_count": 7,
   "id": "0e381d93",
   "metadata": {
    "execution": {
     "iopub.execute_input": "2024-04-11T04:35:48.023381Z",
     "iopub.status.busy": "2024-04-11T04:35:48.022952Z",
     "iopub.status.idle": "2024-04-11T04:35:48.140391Z",
     "shell.execute_reply": "2024-04-11T04:35:48.139205Z"
    },
    "papermill": {
     "duration": 0.126973,
     "end_time": "2024-04-11T04:35:48.143359",
     "exception": false,
     "start_time": "2024-04-11T04:35:48.016386",
     "status": "completed"
    },
    "tags": []
   },
   "outputs": [],
   "source": [
    "encoder = OneHotEncoder()\n",
    "all_encoded = encoder.fit_transform(pd.concat([X,X_test]))\n",
    "#X = all_encoded[0:len(X)]\n",
    "#X_test = all_encoded[len(X):]\n",
    "X = all_encoded.tocsr()[0:len(X)]\n",
    "X_test = all_encoded [len(df_all):]"
   ]
  },
  {
   "cell_type": "code",
   "execution_count": 8,
   "id": "a913c1a5",
   "metadata": {
    "execution": {
     "iopub.execute_input": "2024-04-11T04:35:48.155625Z",
     "iopub.status.busy": "2024-04-11T04:35:48.155193Z",
     "iopub.status.idle": "2024-04-11T04:35:48.165934Z",
     "shell.execute_reply": "2024-04-11T04:35:48.164839Z"
    },
    "papermill": {
     "duration": 0.019708,
     "end_time": "2024-04-11T04:35:48.168360",
     "exception": false,
     "start_time": "2024-04-11T04:35:48.148652",
     "status": "completed"
    },
    "tags": []
   },
   "outputs": [],
   "source": [
    "from sklearn.metrics import f1_score\n",
    "\n",
    "def objective(trial, data=X, target=y):\n",
    "    param_space = {\n",
    "        'max_depth': trial.suggest_int('max_depth', 2, 40),\n",
    "        'n_estimators': trial.suggest_int('n_estimators', 20, 2000, step = 10),\n",
    "        'max_features': trial.suggest_categorical('max_features', ['log2', 'sqrt']),\n",
    "        'min_samples_split': trial.suggest_int('min_samples_split', 2, 20),\n",
    "        'bootstrap': trial.suggest_categorical('bootstrap', [True, False]),\n",
    "        'min_samples_leaf': trial.suggest_int('min_samples_leaf', 1, 20),\n",
    "        'criterion' : trial.suggest_categorical('criterion', ['gini', 'entropy'])\n",
    "    }\n",
    "    \n",
    "    model = RandomForestClassifier(**param_space, random_state=random_seed, n_jobs=-1)\n",
    "    kf = StratifiedKFold(n_splits=5, shuffle=True, random_state=random_seed)\n",
    "    \n",
    "    f1_scores = []\n",
    "    for train_index, test_index in kf.split(X, y):\n",
    "        X_train, X_test = X[train_index], X[test_index]\n",
    "        y_train, y_test = y[train_index], y[test_index]\n",
    "        \n",
    "        model.fit(X_train, y_train)\n",
    "        y_pred = model.predict(X_test)\n",
    "        \n",
    "        f1_scores.append(f1_score(y_test, y_pred))\n",
    "        \n",
    "    cv_score = np.mean(f1_scores)\n",
    "    \n",
    "    return cv_score"
   ]
  },
  {
   "cell_type": "code",
   "execution_count": 9,
   "id": "eb5fc38d",
   "metadata": {
    "execution": {
     "iopub.execute_input": "2024-04-11T04:35:48.180947Z",
     "iopub.status.busy": "2024-04-11T04:35:48.180555Z",
     "iopub.status.idle": "2024-04-11T06:09:55.236758Z",
     "shell.execute_reply": "2024-04-11T06:09:55.235210Z"
    },
    "papermill": {
     "duration": 5647.065597,
     "end_time": "2024-04-11T06:09:55.239405",
     "exception": false,
     "start_time": "2024-04-11T04:35:48.173808",
     "status": "completed"
    },
    "tags": []
   },
   "outputs": [
    {
     "name": "stderr",
     "output_type": "stream",
     "text": [
      "[I 2024-04-11 04:35:48,183] A new study created in memory with name: no-name-b11f2354-ef7e-4f13-8172-d65f8cc30c0b\n",
      "[I 2024-04-11 04:36:09,455] Trial 0 finished with value: 0.006557377049180328 and parameters: {'max_depth': 10, 'n_estimators': 1440, 'max_features': 'sqrt', 'min_samples_split': 5, 'bootstrap': False, 'min_samples_leaf': 11, 'criterion': 'gini'}. Best is trial 0 with value: 0.006557377049180328.\n",
      "[I 2024-04-11 04:36:17,649] Trial 1 finished with value: 0.0 and parameters: {'max_depth': 8, 'n_estimators': 430, 'max_features': 'sqrt', 'min_samples_split': 4, 'bootstrap': True, 'min_samples_leaf': 8, 'criterion': 'gini'}. Best is trial 0 with value: 0.006557377049180328.\n",
      "[I 2024-04-11 04:36:31,338] Trial 2 finished with value: 0.01946060285563194 and parameters: {'max_depth': 6, 'n_estimators': 960, 'max_features': 'sqrt', 'min_samples_split': 14, 'bootstrap': False, 'min_samples_leaf': 6, 'criterion': 'entropy'}. Best is trial 2 with value: 0.01946060285563194.\n",
      "[I 2024-04-11 04:36:50,500] Trial 3 finished with value: 0.0 and parameters: {'max_depth': 11, 'n_estimators': 1340, 'max_features': 'sqrt', 'min_samples_split': 10, 'bootstrap': False, 'min_samples_leaf': 19, 'criterion': 'gini'}. Best is trial 2 with value: 0.01946060285563194.\n",
      "[I 2024-04-11 04:37:24,352] Trial 4 finished with value: 0.23391053391053393 and parameters: {'max_depth': 33, 'n_estimators': 1910, 'max_features': 'sqrt', 'min_samples_split': 8, 'bootstrap': False, 'min_samples_leaf': 5, 'criterion': 'entropy'}. Best is trial 4 with value: 0.23391053391053393.\n",
      "[I 2024-04-11 04:37:52,960] Trial 5 finished with value: 0.0 and parameters: {'max_depth': 9, 'n_estimators': 1680, 'max_features': 'log2', 'min_samples_split': 13, 'bootstrap': True, 'min_samples_leaf': 14, 'criterion': 'gini'}. Best is trial 4 with value: 0.23391053391053393.\n",
      "[I 2024-04-11 04:38:18,746] Trial 6 finished with value: 0.0 and parameters: {'max_depth': 12, 'n_estimators': 1550, 'max_features': 'log2', 'min_samples_split': 4, 'bootstrap': True, 'min_samples_leaf': 10, 'criterion': 'entropy'}. Best is trial 4 with value: 0.23391053391053393.\n",
      "[I 2024-04-11 04:38:43,770] Trial 7 finished with value: 0.0 and parameters: {'max_depth': 16, 'n_estimators': 1790, 'max_features': 'sqrt', 'min_samples_split': 5, 'bootstrap': False, 'min_samples_leaf': 18, 'criterion': 'gini'}. Best is trial 4 with value: 0.23391053391053393.\n",
      "[I 2024-04-11 04:39:01,179] Trial 8 finished with value: 0.0 and parameters: {'max_depth': 5, 'n_estimators': 1390, 'max_features': 'log2', 'min_samples_split': 9, 'bootstrap': False, 'min_samples_leaf': 15, 'criterion': 'gini'}. Best is trial 4 with value: 0.23391053391053393.\n",
      "[I 2024-04-11 04:39:15,547] Trial 9 finished with value: 0.025806451612903226 and parameters: {'max_depth': 21, 'n_estimators': 950, 'max_features': 'sqrt', 'min_samples_split': 16, 'bootstrap': False, 'min_samples_leaf': 11, 'criterion': 'gini'}. Best is trial 4 with value: 0.23391053391053393.\n",
      "[I 2024-04-11 04:39:55,095] Trial 10 finished with value: 0.11808606426253485 and parameters: {'max_depth': 37, 'n_estimators': 2000, 'max_features': 'log2', 'min_samples_split': 20, 'bootstrap': True, 'min_samples_leaf': 1, 'criterion': 'entropy'}. Best is trial 4 with value: 0.23391053391053393.\n",
      "[I 2024-04-11 04:40:32,590] Trial 11 finished with value: 0.12978125738995305 and parameters: {'max_depth': 38, 'n_estimators': 1900, 'max_features': 'log2', 'min_samples_split': 18, 'bootstrap': True, 'min_samples_leaf': 1, 'criterion': 'entropy'}. Best is trial 4 with value: 0.23391053391053393.\n",
      "[I 2024-04-11 04:41:11,351] Trial 12 finished with value: 0.1238288764375721 and parameters: {'max_depth': 38, 'n_estimators': 1970, 'max_features': 'log2', 'min_samples_split': 18, 'bootstrap': True, 'min_samples_leaf': 1, 'criterion': 'entropy'}. Best is trial 4 with value: 0.23391053391053393.\n",
      "[I 2024-04-11 04:41:13,409] Trial 13 finished with value: 0.0 and parameters: {'max_depth': 31, 'n_estimators': 110, 'max_features': 'log2', 'min_samples_split': 9, 'bootstrap': True, 'min_samples_leaf': 4, 'criterion': 'entropy'}. Best is trial 4 with value: 0.23391053391053393.\n",
      "[I 2024-04-11 04:41:33,758] Trial 14 finished with value: 0.2389846944971553 and parameters: {'max_depth': 29, 'n_estimators': 1140, 'max_features': 'sqrt', 'min_samples_split': 7, 'bootstrap': False, 'min_samples_leaf': 5, 'criterion': 'entropy'}. Best is trial 14 with value: 0.2389846944971553.\n",
      "[I 2024-04-11 04:41:45,936] Trial 15 finished with value: 0.23895454496435953 and parameters: {'max_depth': 29, 'n_estimators': 680, 'max_features': 'sqrt', 'min_samples_split': 7, 'bootstrap': False, 'min_samples_leaf': 5, 'criterion': 'entropy'}. Best is trial 14 with value: 0.2389846944971553.\n",
      "[I 2024-04-11 04:41:56,303] Trial 16 finished with value: 0.15539545590696488 and parameters: {'max_depth': 26, 'n_estimators': 620, 'max_features': 'sqrt', 'min_samples_split': 2, 'bootstrap': False, 'min_samples_leaf': 7, 'criterion': 'entropy'}. Best is trial 14 with value: 0.2389846944971553.\n",
      "[I 2024-04-11 04:42:09,725] Trial 17 finished with value: 0.2831577524261303 and parameters: {'max_depth': 26, 'n_estimators': 700, 'max_features': 'sqrt', 'min_samples_split': 7, 'bootstrap': False, 'min_samples_leaf': 4, 'criterion': 'entropy'}. Best is trial 17 with value: 0.2831577524261303.\n",
      "[I 2024-04-11 04:42:31,011] Trial 18 finished with value: 0.2824789974051577 and parameters: {'max_depth': 23, 'n_estimators': 1150, 'max_features': 'sqrt', 'min_samples_split': 12, 'bootstrap': False, 'min_samples_leaf': 3, 'criterion': 'entropy'}. Best is trial 17 with value: 0.2831577524261303.\n",
      "[I 2024-04-11 04:42:52,209] Trial 19 finished with value: 0.2652418437137059 and parameters: {'max_depth': 22, 'n_estimators': 1140, 'max_features': 'sqrt', 'min_samples_split': 12, 'bootstrap': False, 'min_samples_leaf': 3, 'criterion': 'entropy'}. Best is trial 17 with value: 0.2831577524261303.\n",
      "[I 2024-04-11 04:43:02,969] Trial 20 finished with value: 0.08065544828353177 and parameters: {'max_depth': 19, 'n_estimators': 680, 'max_features': 'sqrt', 'min_samples_split': 11, 'bootstrap': False, 'min_samples_leaf': 9, 'criterion': 'entropy'}. Best is trial 17 with value: 0.2831577524261303.\n",
      "[I 2024-04-11 04:43:23,941] Trial 21 finished with value: 0.2886689615605278 and parameters: {'max_depth': 25, 'n_estimators': 1130, 'max_features': 'sqrt', 'min_samples_split': 12, 'bootstrap': False, 'min_samples_leaf': 3, 'criterion': 'entropy'}. Best is trial 21 with value: 0.2886689615605278.\n",
      "[I 2024-04-11 04:43:45,898] Trial 22 finished with value: 0.29208134362773536 and parameters: {'max_depth': 24, 'n_estimators': 1190, 'max_features': 'sqrt', 'min_samples_split': 15, 'bootstrap': False, 'min_samples_leaf': 3, 'criterion': 'entropy'}. Best is trial 22 with value: 0.29208134362773536.\n",
      "[I 2024-04-11 04:44:01,729] Trial 23 finished with value: 0.29171348092825916 and parameters: {'max_depth': 25, 'n_estimators': 850, 'max_features': 'sqrt', 'min_samples_split': 15, 'bootstrap': False, 'min_samples_leaf': 3, 'criterion': 'entropy'}. Best is trial 22 with value: 0.29208134362773536.\n",
      "[I 2024-04-11 04:44:16,560] Trial 24 finished with value: 0.21573257387853123 and parameters: {'max_depth': 16, 'n_estimators': 860, 'max_features': 'sqrt', 'min_samples_split': 15, 'bootstrap': False, 'min_samples_leaf': 3, 'criterion': 'entropy'}. Best is trial 22 with value: 0.29208134362773536.\n",
      "[I 2024-04-11 04:44:36,563] Trial 25 finished with value: 0.15455780706931602 and parameters: {'max_depth': 25, 'n_estimators': 1250, 'max_features': 'sqrt', 'min_samples_split': 16, 'bootstrap': False, 'min_samples_leaf': 7, 'criterion': 'entropy'}. Best is trial 22 with value: 0.29208134362773536.\n",
      "[I 2024-04-11 04:44:42,054] Trial 26 finished with value: 0.25171918900613927 and parameters: {'max_depth': 17, 'n_estimators': 310, 'max_features': 'sqrt', 'min_samples_split': 17, 'bootstrap': False, 'min_samples_leaf': 2, 'criterion': 'entropy'}. Best is trial 22 with value: 0.29208134362773536.\n",
      "[I 2024-04-11 04:44:53,933] Trial 27 finished with value: 0.006557377049180328 and parameters: {'max_depth': 34, 'n_estimators': 830, 'max_features': 'sqrt', 'min_samples_split': 14, 'bootstrap': False, 'min_samples_leaf': 13, 'criterion': 'entropy'}. Best is trial 22 with value: 0.29208134362773536.\n",
      "[I 2024-04-11 04:45:02,031] Trial 28 finished with value: 0.16015221266372165 and parameters: {'max_depth': 29, 'n_estimators': 490, 'max_features': 'sqrt', 'min_samples_split': 14, 'bootstrap': False, 'min_samples_leaf': 7, 'criterion': 'entropy'}. Best is trial 22 with value: 0.29208134362773536.\n",
      "[I 2024-04-11 04:45:30,353] Trial 29 finished with value: 0.30405043302829726 and parameters: {'max_depth': 24, 'n_estimators': 1520, 'max_features': 'sqrt', 'min_samples_split': 20, 'bootstrap': False, 'min_samples_leaf': 2, 'criterion': 'entropy'}. Best is trial 29 with value: 0.30405043302829726.\n",
      "[I 2024-04-11 04:45:57,352] Trial 30 finished with value: 0.25699329526252546 and parameters: {'max_depth': 19, 'n_estimators': 1530, 'max_features': 'sqrt', 'min_samples_split': 19, 'bootstrap': False, 'min_samples_leaf': 2, 'criterion': 'entropy'}. Best is trial 29 with value: 0.30405043302829726.\n",
      "[I 2024-04-11 04:46:19,913] Trial 31 finished with value: 0.24808278276632706 and parameters: {'max_depth': 24, 'n_estimators': 1290, 'max_features': 'sqrt', 'min_samples_split': 20, 'bootstrap': False, 'min_samples_leaf': 4, 'criterion': 'entropy'}. Best is trial 29 with value: 0.30405043302829726.\n",
      "[I 2024-04-11 04:46:50,347] Trial 32 finished with value: 0.3246594448732648 and parameters: {'max_depth': 28, 'n_estimators': 1540, 'max_features': 'sqrt', 'min_samples_split': 16, 'bootstrap': False, 'min_samples_leaf': 2, 'criterion': 'entropy'}. Best is trial 32 with value: 0.3246594448732648.\n",
      "[I 2024-04-11 04:47:10,697] Trial 33 finished with value: 0.0 and parameters: {'max_depth': 2, 'n_estimators': 1560, 'max_features': 'sqrt', 'min_samples_split': 16, 'bootstrap': False, 'min_samples_leaf': 2, 'criterion': 'entropy'}. Best is trial 32 with value: 0.3246594448732648.\n",
      "[I 2024-04-11 04:47:35,543] Trial 34 finished with value: 0.2195113799819682 and parameters: {'max_depth': 31, 'n_estimators': 1450, 'max_features': 'sqrt', 'min_samples_split': 18, 'bootstrap': False, 'min_samples_leaf': 6, 'criterion': 'gini'}. Best is trial 32 with value: 0.3246594448732648.\n",
      "[I 2024-04-11 04:48:09,574] Trial 35 finished with value: 0.35227108425128223 and parameters: {'max_depth': 27, 'n_estimators': 1680, 'max_features': 'sqrt', 'min_samples_split': 15, 'bootstrap': False, 'min_samples_leaf': 1, 'criterion': 'entropy'}. Best is trial 35 with value: 0.35227108425128223.\n",
      "[I 2024-04-11 04:48:43,462] Trial 36 finished with value: 0.3391734758423857 and parameters: {'max_depth': 27, 'n_estimators': 1710, 'max_features': 'sqrt', 'min_samples_split': 17, 'bootstrap': False, 'min_samples_leaf': 1, 'criterion': 'entropy'}. Best is trial 35 with value: 0.35227108425128223.\n",
      "[I 2024-04-11 04:49:18,952] Trial 37 finished with value: 0.34968846010704774 and parameters: {'max_depth': 35, 'n_estimators': 1700, 'max_features': 'sqrt', 'min_samples_split': 19, 'bootstrap': False, 'min_samples_leaf': 1, 'criterion': 'gini'}. Best is trial 35 with value: 0.35227108425128223.\n",
      "[I 2024-04-11 04:49:58,297] Trial 38 finished with value: 0.25545129067839956 and parameters: {'max_depth': 35, 'n_estimators': 1690, 'max_features': 'sqrt', 'min_samples_split': 17, 'bootstrap': True, 'min_samples_leaf': 1, 'criterion': 'gini'}. Best is trial 35 with value: 0.35227108425128223.\n",
      "[I 2024-04-11 04:50:22,554] Trial 39 finished with value: 0.0 and parameters: {'max_depth': 40, 'n_estimators': 1720, 'max_features': 'sqrt', 'min_samples_split': 19, 'bootstrap': False, 'min_samples_leaf': 17, 'criterion': 'gini'}. Best is trial 35 with value: 0.35227108425128223.\n",
      "[I 2024-04-11 04:51:00,205] Trial 40 finished with value: 0.34775434435105457 and parameters: {'max_depth': 32, 'n_estimators': 1820, 'max_features': 'sqrt', 'min_samples_split': 17, 'bootstrap': False, 'min_samples_leaf': 1, 'criterion': 'gini'}. Best is trial 35 with value: 0.35227108425128223.\n",
      "[I 2024-04-11 04:51:38,345] Trial 41 finished with value: 0.34709629379399 and parameters: {'max_depth': 31, 'n_estimators': 1830, 'max_features': 'sqrt', 'min_samples_split': 17, 'bootstrap': False, 'min_samples_leaf': 1, 'criterion': 'gini'}. Best is trial 35 with value: 0.35227108425128223.\n",
      "[I 2024-04-11 04:52:16,469] Trial 42 finished with value: 0.3470490842864057 and parameters: {'max_depth': 32, 'n_estimators': 1810, 'max_features': 'sqrt', 'min_samples_split': 17, 'bootstrap': False, 'min_samples_leaf': 1, 'criterion': 'gini'}. Best is trial 35 with value: 0.35227108425128223.\n",
      "[I 2024-04-11 04:52:55,036] Trial 43 finished with value: 0.343868080730661 and parameters: {'max_depth': 32, 'n_estimators': 1850, 'max_features': 'sqrt', 'min_samples_split': 19, 'bootstrap': False, 'min_samples_leaf': 1, 'criterion': 'gini'}. Best is trial 35 with value: 0.35227108425128223.\n",
      "[I 2024-04-11 04:53:18,841] Trial 44 finished with value: 0.0 and parameters: {'max_depth': 36, 'n_estimators': 1860, 'max_features': 'log2', 'min_samples_split': 18, 'bootstrap': False, 'min_samples_leaf': 5, 'criterion': 'gini'}. Best is trial 35 with value: 0.35227108425128223.\n",
      "[I 2024-04-11 04:53:59,880] Trial 45 finished with value: 0.25899065033115487 and parameters: {'max_depth': 33, 'n_estimators': 1780, 'max_features': 'sqrt', 'min_samples_split': 17, 'bootstrap': True, 'min_samples_leaf': 1, 'criterion': 'gini'}. Best is trial 35 with value: 0.35227108425128223.\n",
      "[I 2024-04-11 04:54:20,699] Trial 46 finished with value: 0.0 and parameters: {'max_depth': 31, 'n_estimators': 1630, 'max_features': 'log2', 'min_samples_split': 19, 'bootstrap': False, 'min_samples_leaf': 12, 'criterion': 'gini'}. Best is trial 35 with value: 0.35227108425128223.\n",
      "[I 2024-04-11 04:54:55,478] Trial 47 finished with value: 0.2708853681122308 and parameters: {'max_depth': 35, 'n_estimators': 1950, 'max_features': 'sqrt', 'min_samples_split': 14, 'bootstrap': False, 'min_samples_leaf': 4, 'criterion': 'gini'}. Best is trial 35 with value: 0.35227108425128223.\n",
      "[I 2024-04-11 04:55:27,337] Trial 48 finished with value: 0.0 and parameters: {'max_depth': 40, 'n_estimators': 1800, 'max_features': 'sqrt', 'min_samples_split': 15, 'bootstrap': True, 'min_samples_leaf': 20, 'criterion': 'gini'}. Best is trial 35 with value: 0.35227108425128223.\n",
      "[I 2024-04-11 04:55:47,744] Trial 49 finished with value: 0.0 and parameters: {'max_depth': 30, 'n_estimators': 1620, 'max_features': 'log2', 'min_samples_split': 18, 'bootstrap': False, 'min_samples_leaf': 16, 'criterion': 'gini'}. Best is trial 35 with value: 0.35227108425128223.\n",
      "[I 2024-04-11 04:56:19,882] Trial 50 finished with value: 0.20480151358789128 and parameters: {'max_depth': 33, 'n_estimators': 1900, 'max_features': 'sqrt', 'min_samples_split': 13, 'bootstrap': False, 'min_samples_leaf': 6, 'criterion': 'gini'}. Best is trial 35 with value: 0.35227108425128223.\n",
      "[I 2024-04-11 04:56:58,592] Trial 51 finished with value: 0.3438471693569745 and parameters: {'max_depth': 32, 'n_estimators': 1820, 'max_features': 'sqrt', 'min_samples_split': 19, 'bootstrap': False, 'min_samples_leaf': 1, 'criterion': 'gini'}. Best is trial 35 with value: 0.35227108425128223.\n",
      "[I 2024-04-11 04:57:38,109] Trial 52 finished with value: 0.33235839973828407 and parameters: {'max_depth': 37, 'n_estimators': 2000, 'max_features': 'sqrt', 'min_samples_split': 20, 'bootstrap': False, 'min_samples_leaf': 2, 'criterion': 'gini'}. Best is trial 35 with value: 0.35227108425128223.\n",
      "[I 2024-04-11 04:58:15,210] Trial 53 finished with value: 0.34775434435105457 and parameters: {'max_depth': 32, 'n_estimators': 1750, 'max_features': 'sqrt', 'min_samples_split': 17, 'bootstrap': False, 'min_samples_leaf': 1, 'criterion': 'gini'}. Best is trial 35 with value: 0.35227108425128223.\n",
      "[I 2024-04-11 04:58:43,389] Trial 54 finished with value: 0.3460966370234835 and parameters: {'max_depth': 34, 'n_estimators': 1420, 'max_features': 'sqrt', 'min_samples_split': 17, 'bootstrap': False, 'min_samples_leaf': 2, 'criterion': 'gini'}. Best is trial 35 with value: 0.35227108425128223.\n",
      "[I 2024-04-11 04:59:12,205] Trial 55 finished with value: 0.27635706098371193 and parameters: {'max_depth': 38, 'n_estimators': 1630, 'max_features': 'sqrt', 'min_samples_split': 16, 'bootstrap': False, 'min_samples_leaf': 4, 'criterion': 'gini'}. Best is trial 35 with value: 0.35227108425128223.\n",
      "[I 2024-04-11 04:59:47,392] Trial 56 finished with value: 0.34408216308654155 and parameters: {'max_depth': 28, 'n_estimators': 1740, 'max_features': 'sqrt', 'min_samples_split': 18, 'bootstrap': False, 'min_samples_leaf': 1, 'criterion': 'gini'}. Best is trial 35 with value: 0.35227108425128223.\n",
      "[I 2024-04-11 05:00:23,008] Trial 57 finished with value: 0.0 and parameters: {'max_depth': 31, 'n_estimators': 1920, 'max_features': 'sqrt', 'min_samples_split': 17, 'bootstrap': True, 'min_samples_leaf': 10, 'criterion': 'gini'}. Best is trial 35 with value: 0.35227108425128223.\n",
      "[I 2024-04-11 05:00:46,931] Trial 58 finished with value: 0.0 and parameters: {'max_depth': 36, 'n_estimators': 1770, 'max_features': 'log2', 'min_samples_split': 16, 'bootstrap': False, 'min_samples_leaf': 3, 'criterion': 'gini'}. Best is trial 35 with value: 0.35227108425128223.\n",
      "[I 2024-04-11 05:01:15,635] Trial 59 finished with value: 0.3082764418898873 and parameters: {'max_depth': 27, 'n_estimators': 1460, 'max_features': 'sqrt', 'min_samples_split': 15, 'bootstrap': False, 'min_samples_leaf': 2, 'criterion': 'gini'}. Best is trial 35 with value: 0.35227108425128223.\n",
      "[I 2024-04-11 05:01:42,644] Trial 60 finished with value: 0.2381076897058632 and parameters: {'max_depth': 13, 'n_estimators': 1640, 'max_features': 'sqrt', 'min_samples_split': 13, 'bootstrap': False, 'min_samples_leaf': 1, 'criterion': 'gini'}. Best is trial 35 with value: 0.35227108425128223.\n",
      "[I 2024-04-11 05:02:09,759] Trial 61 finished with value: 0.33657590349725186 and parameters: {'max_depth': 34, 'n_estimators': 1380, 'max_features': 'sqrt', 'min_samples_split': 17, 'bootstrap': False, 'min_samples_leaf': 2, 'criterion': 'gini'}. Best is trial 35 with value: 0.35227108425128223.\n",
      "[I 2024-04-11 05:02:44,430] Trial 62 finished with value: 0.3170902328631147 and parameters: {'max_depth': 34, 'n_estimators': 1860, 'max_features': 'sqrt', 'min_samples_split': 18, 'bootstrap': False, 'min_samples_leaf': 3, 'criterion': 'gini'}. Best is trial 35 with value: 0.35227108425128223.\n",
      "[I 2024-04-11 05:03:19,862] Trial 63 finished with value: 0.3495893365676685 and parameters: {'max_depth': 30, 'n_estimators': 1690, 'max_features': 'sqrt', 'min_samples_split': 17, 'bootstrap': False, 'min_samples_leaf': 1, 'criterion': 'gini'}. Best is trial 35 with value: 0.35227108425128223.\n",
      "[I 2024-04-11 05:03:52,711] Trial 64 finished with value: 0.3471666940651975 and parameters: {'max_depth': 30, 'n_estimators': 1590, 'max_features': 'sqrt', 'min_samples_split': 16, 'bootstrap': False, 'min_samples_leaf': 1, 'criterion': 'gini'}. Best is trial 35 with value: 0.35227108425128223.\n",
      "[I 2024-04-11 05:04:22,517] Trial 65 finished with value: 0.2713338612606905 and parameters: {'max_depth': 30, 'n_estimators': 1680, 'max_features': 'sqrt', 'min_samples_split': 15, 'bootstrap': False, 'min_samples_leaf': 4, 'criterion': 'gini'}. Best is trial 35 with value: 0.35227108425128223.\n",
      "[I 2024-04-11 05:04:52,580] Trial 66 finished with value: 0.31332537194606164 and parameters: {'max_depth': 29, 'n_estimators': 1570, 'max_features': 'sqrt', 'min_samples_split': 16, 'bootstrap': False, 'min_samples_leaf': 2, 'criterion': 'gini'}. Best is trial 35 with value: 0.35227108425128223.\n",
      "[I 2024-04-11 05:05:20,523] Trial 67 finished with value: 0.30480121399686266 and parameters: {'max_depth': 28, 'n_estimators': 1500, 'max_features': 'sqrt', 'min_samples_split': 14, 'bootstrap': False, 'min_samples_leaf': 3, 'criterion': 'gini'}. Best is trial 35 with value: 0.35227108425128223.\n",
      "[I 2024-04-11 05:05:44,405] Trial 68 finished with value: 0.2328879567520657 and parameters: {'max_depth': 26, 'n_estimators': 1340, 'max_features': 'sqrt', 'min_samples_split': 10, 'bootstrap': False, 'min_samples_leaf': 5, 'criterion': 'gini'}. Best is trial 35 with value: 0.35227108425128223.\n",
      "[I 2024-04-11 05:06:07,807] Trial 69 finished with value: 0.24252835243971424 and parameters: {'max_depth': 30, 'n_estimators': 1010, 'max_features': 'sqrt', 'min_samples_split': 18, 'bootstrap': True, 'min_samples_leaf': 1, 'criterion': 'gini'}. Best is trial 35 with value: 0.35227108425128223.\n",
      "[I 2024-04-11 05:06:40,132] Trial 70 finished with value: 0.3199176283758932 and parameters: {'max_depth': 35, 'n_estimators': 1750, 'max_features': 'sqrt', 'min_samples_split': 19, 'bootstrap': False, 'min_samples_leaf': 3, 'criterion': 'gini'}. Best is trial 35 with value: 0.35227108425128223.\n",
      "[I 2024-04-11 05:07:18,779] Trial 71 finished with value: 0.3494632874897662 and parameters: {'max_depth': 32, 'n_estimators': 1840, 'max_features': 'sqrt', 'min_samples_split': 16, 'bootstrap': False, 'min_samples_leaf': 1, 'criterion': 'gini'}. Best is trial 35 with value: 0.35227108425128223.\n",
      "[I 2024-04-11 05:07:58,376] Trial 72 finished with value: 0.3494456762749446 and parameters: {'max_depth': 32, 'n_estimators': 1900, 'max_features': 'sqrt', 'min_samples_split': 16, 'bootstrap': False, 'min_samples_leaf': 1, 'criterion': 'gini'}. Best is trial 35 with value: 0.35227108425128223.\n",
      "[I 2024-04-11 05:08:37,037] Trial 73 finished with value: 0.33027169594631006 and parameters: {'max_depth': 33, 'n_estimators': 1930, 'max_features': 'sqrt', 'min_samples_split': 16, 'bootstrap': False, 'min_samples_leaf': 2, 'criterion': 'gini'}. Best is trial 35 with value: 0.35227108425128223.\n",
      "[I 2024-04-11 05:09:12,324] Trial 74 finished with value: 0.3563148642341819 and parameters: {'max_depth': 32, 'n_estimators': 1660, 'max_features': 'sqrt', 'min_samples_split': 13, 'bootstrap': False, 'min_samples_leaf': 1, 'criterion': 'gini'}. Best is trial 74 with value: 0.3563148642341819.\n",
      "[I 2024-04-11 05:09:52,995] Trial 75 finished with value: 0.3399114624481768 and parameters: {'max_depth': 36, 'n_estimators': 2000, 'max_features': 'sqrt', 'min_samples_split': 13, 'bootstrap': False, 'min_samples_leaf': 2, 'criterion': 'gini'}. Best is trial 74 with value: 0.3563148642341819.\n",
      "[I 2024-04-11 05:10:28,892] Trial 76 finished with value: 0.3104801812475318 and parameters: {'max_depth': 32, 'n_estimators': 1890, 'max_features': 'sqrt', 'min_samples_split': 14, 'bootstrap': False, 'min_samples_leaf': 3, 'criterion': 'gini'}. Best is trial 74 with value: 0.3563148642341819.\n",
      "[I 2024-04-11 05:10:57,544] Trial 77 finished with value: 0.20963868310347186 and parameters: {'max_depth': 39, 'n_estimators': 1710, 'max_features': 'log2', 'min_samples_split': 11, 'bootstrap': False, 'min_samples_leaf': 1, 'criterion': 'gini'}. Best is trial 74 with value: 0.3563148642341819.\n",
      "[I 2024-04-11 05:11:31,642] Trial 78 finished with value: 0.3486334393694948 and parameters: {'max_depth': 37, 'n_estimators': 1690, 'max_features': 'sqrt', 'min_samples_split': 15, 'bootstrap': False, 'min_samples_leaf': 2, 'criterion': 'gini'}. Best is trial 74 with value: 0.3563148642341819.\n",
      "[I 2024-04-11 05:12:05,833] Trial 79 finished with value: 0.33825932358833266 and parameters: {'max_depth': 37, 'n_estimators': 1670, 'max_features': 'sqrt', 'min_samples_split': 12, 'bootstrap': False, 'min_samples_leaf': 2, 'criterion': 'gini'}. Best is trial 74 with value: 0.3563148642341819.\n",
      "[I 2024-04-11 05:12:37,352] Trial 80 finished with value: 0.10840036348987755 and parameters: {'max_depth': 38, 'n_estimators': 1950, 'max_features': 'sqrt', 'min_samples_split': 15, 'bootstrap': False, 'min_samples_leaf': 8, 'criterion': 'gini'}. Best is trial 74 with value: 0.3563148642341819.\n",
      "[I 2024-04-11 05:13:15,382] Trial 81 finished with value: 0.3609999578965096 and parameters: {'max_depth': 35, 'n_estimators': 1760, 'max_features': 'sqrt', 'min_samples_split': 15, 'bootstrap': False, 'min_samples_leaf': 1, 'criterion': 'gini'}. Best is trial 81 with value: 0.3609999578965096.\n",
      "[I 2024-04-11 05:13:52,355] Trial 82 finished with value: 0.3298617023374351 and parameters: {'max_depth': 33, 'n_estimators': 1810, 'max_features': 'sqrt', 'min_samples_split': 13, 'bootstrap': False, 'min_samples_leaf': 2, 'criterion': 'gini'}. Best is trial 81 with value: 0.3609999578965096.\n",
      "[I 2024-04-11 05:14:29,568] Trial 83 finished with value: 0.3415804218965836 and parameters: {'max_depth': 35, 'n_estimators': 1670, 'max_features': 'sqrt', 'min_samples_split': 14, 'bootstrap': False, 'min_samples_leaf': 1, 'criterion': 'gini'}. Best is trial 81 with value: 0.3609999578965096.\n",
      "[I 2024-04-11 05:14:59,834] Trial 84 finished with value: 0.3341045242882975 and parameters: {'max_depth': 36, 'n_estimators': 1490, 'max_features': 'sqrt', 'min_samples_split': 15, 'bootstrap': False, 'min_samples_leaf': 2, 'criterion': 'gini'}. Best is trial 81 with value: 0.3609999578965096.\n",
      "[I 2024-04-11 05:15:35,574] Trial 85 finished with value: 0.306172762570076 and parameters: {'max_depth': 39, 'n_estimators': 1890, 'max_features': 'sqrt', 'min_samples_split': 14, 'bootstrap': False, 'min_samples_leaf': 3, 'criterion': 'gini'}. Best is trial 81 with value: 0.3609999578965096.\n",
      "[I 2024-04-11 05:16:10,243] Trial 86 finished with value: 0.2744485937682343 and parameters: {'max_depth': 34, 'n_estimators': 1860, 'max_features': 'sqrt', 'min_samples_split': 2, 'bootstrap': False, 'min_samples_leaf': 4, 'criterion': 'gini'}. Best is trial 81 with value: 0.3609999578965096.\n",
      "[I 2024-04-11 05:16:15,588] Trial 87 finished with value: 0.26771244422536256 and parameters: {'max_depth': 37, 'n_estimators': 220, 'max_features': 'sqrt', 'min_samples_split': 16, 'bootstrap': True, 'min_samples_leaf': 1, 'criterion': 'gini'}. Best is trial 81 with value: 0.3609999578965096.\n",
      "[I 2024-04-11 05:16:46,906] Trial 88 finished with value: 0.3151518880201051 and parameters: {'max_depth': 29, 'n_estimators': 1590, 'max_features': 'sqrt', 'min_samples_split': 15, 'bootstrap': False, 'min_samples_leaf': 2, 'criterion': 'gini'}. Best is trial 81 with value: 0.3609999578965096.\n",
      "[I 2024-04-11 05:17:09,786] Trial 89 finished with value: 0.0 and parameters: {'max_depth': 31, 'n_estimators': 1780, 'max_features': 'log2', 'min_samples_split': 12, 'bootstrap': False, 'min_samples_leaf': 14, 'criterion': 'gini'}. Best is trial 81 with value: 0.3609999578965096.\n",
      "[I 2024-04-11 05:17:45,917] Trial 90 finished with value: 0.345668246549427 and parameters: {'max_depth': 33, 'n_estimators': 1710, 'max_features': 'sqrt', 'min_samples_split': 15, 'bootstrap': False, 'min_samples_leaf': 1, 'criterion': 'gini'}. Best is trial 81 with value: 0.3609999578965096.\n",
      "[I 2024-04-11 05:18:26,420] Trial 91 finished with value: 0.36389107795648046 and parameters: {'max_depth': 32, 'n_estimators': 1780, 'max_features': 'sqrt', 'min_samples_split': 5, 'bootstrap': False, 'min_samples_leaf': 1, 'criterion': 'gini'}. Best is trial 91 with value: 0.36389107795648046.\n",
      "[I 2024-04-11 05:19:06,751] Trial 92 finished with value: 0.36113629773473277 and parameters: {'max_depth': 32, 'n_estimators': 1750, 'max_features': 'sqrt', 'min_samples_split': 4, 'bootstrap': False, 'min_samples_leaf': 1, 'criterion': 'gini'}. Best is trial 91 with value: 0.36389107795648046.\n",
      "[I 2024-04-11 05:19:45,339] Trial 93 finished with value: 0.3382353332383835 and parameters: {'max_depth': 35, 'n_estimators': 1750, 'max_features': 'sqrt', 'min_samples_split': 4, 'bootstrap': False, 'min_samples_leaf': 2, 'criterion': 'gini'}. Best is trial 91 with value: 0.36389107795648046.\n",
      "[I 2024-04-11 05:20:22,241] Trial 94 finished with value: 0.34345575679618123 and parameters: {'max_depth': 27, 'n_estimators': 1640, 'max_features': 'sqrt', 'min_samples_split': 3, 'bootstrap': False, 'min_samples_leaf': 1, 'criterion': 'gini'}. Best is trial 91 with value: 0.36389107795648046.\n",
      "[I 2024-04-11 05:20:53,426] Trial 95 finished with value: 0.30708436080985096 and parameters: {'max_depth': 21, 'n_estimators': 1540, 'max_features': 'sqrt', 'min_samples_split': 3, 'bootstrap': False, 'min_samples_leaf': 1, 'criterion': 'entropy'}. Best is trial 91 with value: 0.36389107795648046.\n",
      "[I 2024-04-11 05:21:32,683] Trial 96 finished with value: 0.3451911948815655 and parameters: {'max_depth': 34, 'n_estimators': 1850, 'max_features': 'sqrt', 'min_samples_split': 5, 'bootstrap': False, 'min_samples_leaf': 2, 'criterion': 'gini'}. Best is trial 91 with value: 0.36389107795648046.\n",
      "[I 2024-04-11 05:22:07,429] Trial 97 finished with value: 0.30476032480987936 and parameters: {'max_depth': 31, 'n_estimators': 1780, 'max_features': 'sqrt', 'min_samples_split': 7, 'bootstrap': False, 'min_samples_leaf': 3, 'criterion': 'gini'}. Best is trial 91 with value: 0.36389107795648046.\n",
      "[I 2024-04-11 05:22:44,369] Trial 98 finished with value: 0.3645307175094409 and parameters: {'max_depth': 30, 'n_estimators': 1590, 'max_features': 'sqrt', 'min_samples_split': 3, 'bootstrap': False, 'min_samples_leaf': 1, 'criterion': 'gini'}. Best is trial 98 with value: 0.3645307175094409.\n",
      "[I 2024-04-11 05:23:18,654] Trial 99 finished with value: 0.3609438927085986 and parameters: {'max_depth': 29, 'n_estimators': 1590, 'max_features': 'sqrt', 'min_samples_split': 6, 'bootstrap': False, 'min_samples_leaf': 1, 'criterion': 'entropy'}. Best is trial 98 with value: 0.3645307175094409.\n",
      "[I 2024-04-11 05:23:49,232] Trial 100 finished with value: 0.31098728570026773 and parameters: {'max_depth': 28, 'n_estimators': 1570, 'max_features': 'sqrt', 'min_samples_split': 6, 'bootstrap': False, 'min_samples_leaf': 3, 'criterion': 'entropy'}. Best is trial 98 with value: 0.3645307175094409.\n",
      "[I 2024-04-11 05:24:24,681] Trial 101 finished with value: 0.35772246005320374 and parameters: {'max_depth': 30, 'n_estimators': 1630, 'max_features': 'sqrt', 'min_samples_split': 6, 'bootstrap': False, 'min_samples_leaf': 1, 'criterion': 'entropy'}. Best is trial 98 with value: 0.3645307175094409.\n",
      "[I 2024-04-11 05:25:00,098] Trial 102 finished with value: 0.36055518288592653 and parameters: {'max_depth': 30, 'n_estimators': 1600, 'max_features': 'sqrt', 'min_samples_split': 6, 'bootstrap': False, 'min_samples_leaf': 1, 'criterion': 'entropy'}. Best is trial 98 with value: 0.3645307175094409.\n",
      "[I 2024-04-11 05:25:35,622] Trial 103 finished with value: 0.35852146130164314 and parameters: {'max_depth': 29, 'n_estimators': 1640, 'max_features': 'sqrt', 'min_samples_split': 6, 'bootstrap': False, 'min_samples_leaf': 1, 'criterion': 'entropy'}. Best is trial 98 with value: 0.3645307175094409.\n",
      "[I 2024-04-11 05:26:08,112] Trial 104 finished with value: 0.3316131856754459 and parameters: {'max_depth': 27, 'n_estimators': 1610, 'max_features': 'sqrt', 'min_samples_split': 6, 'bootstrap': False, 'min_samples_leaf': 2, 'criterion': 'entropy'}. Best is trial 98 with value: 0.3645307175094409.\n",
      "[I 2024-04-11 05:26:38,950] Trial 105 finished with value: 0.3629659057460876 and parameters: {'max_depth': 29, 'n_estimators': 1410, 'max_features': 'sqrt', 'min_samples_split': 5, 'bootstrap': False, 'min_samples_leaf': 1, 'criterion': 'entropy'}. Best is trial 98 with value: 0.3645307175094409.\n",
      "[I 2024-04-11 05:27:12,293] Trial 106 finished with value: 0.2765052231718898 and parameters: {'max_depth': 29, 'n_estimators': 1470, 'max_features': 'sqrt', 'min_samples_split': 5, 'bootstrap': True, 'min_samples_leaf': 2, 'criterion': 'entropy'}. Best is trial 98 with value: 0.3645307175094409.\n",
      "[I 2024-04-11 05:27:40,999] Trial 107 finished with value: 0.34318096523693326 and parameters: {'max_depth': 26, 'n_estimators': 1360, 'max_features': 'sqrt', 'min_samples_split': 5, 'bootstrap': False, 'min_samples_leaf': 1, 'criterion': 'entropy'}. Best is trial 98 with value: 0.3645307175094409.\n",
      "[I 2024-04-11 05:28:09,226] Trial 108 finished with value: 0.3066001822415713 and parameters: {'max_depth': 30, 'n_estimators': 1420, 'max_features': 'sqrt', 'min_samples_split': 6, 'bootstrap': False, 'min_samples_leaf': 3, 'criterion': 'entropy'}. Best is trial 98 with value: 0.3645307175094409.\n",
      "[I 2024-04-11 05:28:34,428] Trial 109 finished with value: 0.1388351935997914 and parameters: {'max_depth': 28, 'n_estimators': 1520, 'max_features': 'log2', 'min_samples_split': 3, 'bootstrap': False, 'min_samples_leaf': 1, 'criterion': 'entropy'}. Best is trial 98 with value: 0.3645307175094409.\n",
      "[I 2024-04-11 05:29:01,166] Trial 110 finished with value: 0.3468044901090698 and parameters: {'max_depth': 30, 'n_estimators': 1300, 'max_features': 'sqrt', 'min_samples_split': 8, 'bootstrap': False, 'min_samples_leaf': 2, 'criterion': 'entropy'}. Best is trial 98 with value: 0.3645307175094409.\n",
      "[I 2024-04-11 05:29:36,444] Trial 111 finished with value: 0.35852146130164314 and parameters: {'max_depth': 29, 'n_estimators': 1640, 'max_features': 'sqrt', 'min_samples_split': 6, 'bootstrap': False, 'min_samples_leaf': 1, 'criterion': 'entropy'}. Best is trial 98 with value: 0.3645307175094409.\n",
      "[I 2024-04-11 05:30:10,528] Trial 112 finished with value: 0.33822728995142787 and parameters: {'max_depth': 25, 'n_estimators': 1640, 'max_features': 'sqrt', 'min_samples_split': 6, 'bootstrap': False, 'min_samples_leaf': 1, 'criterion': 'entropy'}. Best is trial 98 with value: 0.3645307175094409.\n",
      "[I 2024-04-11 05:30:46,143] Trial 113 finished with value: 0.36459223403135854 and parameters: {'max_depth': 29, 'n_estimators': 1590, 'max_features': 'sqrt', 'min_samples_split': 4, 'bootstrap': False, 'min_samples_leaf': 1, 'criterion': 'entropy'}. Best is trial 113 with value: 0.36459223403135854.\n",
      "[I 2024-04-11 05:31:20,997] Trial 114 finished with value: 0.364012721515879 and parameters: {'max_depth': 31, 'n_estimators': 1530, 'max_features': 'sqrt', 'min_samples_split': 4, 'bootstrap': False, 'min_samples_leaf': 1, 'criterion': 'entropy'}. Best is trial 113 with value: 0.36459223403135854.\n",
      "[I 2024-04-11 05:31:55,647] Trial 115 finished with value: 0.370024837603497 and parameters: {'max_depth': 29, 'n_estimators': 1560, 'max_features': 'sqrt', 'min_samples_split': 4, 'bootstrap': False, 'min_samples_leaf': 1, 'criterion': 'entropy'}. Best is trial 115 with value: 0.370024837603497.\n",
      "[I 2024-04-11 05:32:27,840] Trial 116 finished with value: 0.34521575669254834 and parameters: {'max_depth': 29, 'n_estimators': 1560, 'max_features': 'sqrt', 'min_samples_split': 4, 'bootstrap': False, 'min_samples_leaf': 2, 'criterion': 'entropy'}. Best is trial 115 with value: 0.370024837603497.\n",
      "[I 2024-04-11 05:33:00,539] Trial 117 finished with value: 0.35248667529421696 and parameters: {'max_depth': 28, 'n_estimators': 1500, 'max_features': 'sqrt', 'min_samples_split': 4, 'bootstrap': False, 'min_samples_leaf': 1, 'criterion': 'entropy'}. Best is trial 115 with value: 0.370024837603497.\n",
      "[I 2024-04-11 05:33:30,524] Trial 118 finished with value: 0.34229259033156423 and parameters: {'max_depth': 31, 'n_estimators': 1430, 'max_features': 'sqrt', 'min_samples_split': 5, 'bootstrap': False, 'min_samples_leaf': 2, 'criterion': 'entropy'}. Best is trial 115 with value: 0.370024837603497.\n",
      "[I 2024-04-11 05:34:03,428] Trial 119 finished with value: 0.3458880256001113 and parameters: {'max_depth': 29, 'n_estimators': 1590, 'max_features': 'sqrt', 'min_samples_split': 3, 'bootstrap': False, 'min_samples_leaf': 2, 'criterion': 'entropy'}. Best is trial 115 with value: 0.370024837603497.\n",
      "[I 2024-04-11 05:34:26,314] Trial 120 finished with value: 0.03247311827956989 and parameters: {'max_depth': 26, 'n_estimators': 1540, 'max_features': 'sqrt', 'min_samples_split': 8, 'bootstrap': False, 'min_samples_leaf': 11, 'criterion': 'entropy'}. Best is trial 115 with value: 0.370024837603497.\n",
      "[I 2024-04-11 05:35:01,595] Trial 121 finished with value: 0.3606075550358433 and parameters: {'max_depth': 30, 'n_estimators': 1610, 'max_features': 'sqrt', 'min_samples_split': 7, 'bootstrap': False, 'min_samples_leaf': 1, 'criterion': 'entropy'}. Best is trial 115 with value: 0.370024837603497.\n",
      "[I 2024-04-11 05:35:36,336] Trial 122 finished with value: 0.36260735249591525 and parameters: {'max_depth': 29, 'n_estimators': 1600, 'max_features': 'sqrt', 'min_samples_split': 7, 'bootstrap': False, 'min_samples_leaf': 1, 'criterion': 'entropy'}. Best is trial 115 with value: 0.370024837603497.\n",
      "[I 2024-04-11 05:36:08,704] Trial 123 finished with value: 0.3477566761623936 and parameters: {'max_depth': 31, 'n_estimators': 1470, 'max_features': 'sqrt', 'min_samples_split': 7, 'bootstrap': False, 'min_samples_leaf': 1, 'criterion': 'entropy'}. Best is trial 115 with value: 0.370024837603497.\n",
      "[I 2024-04-11 05:36:42,916] Trial 124 finished with value: 0.3566335606803384 and parameters: {'max_depth': 27, 'n_estimators': 1590, 'max_features': 'sqrt', 'min_samples_split': 4, 'bootstrap': False, 'min_samples_leaf': 1, 'criterion': 'entropy'}. Best is trial 115 with value: 0.370024837603497.\n",
      "[I 2024-04-11 05:37:07,029] Trial 125 finished with value: 0.0 and parameters: {'max_depth': 7, 'n_estimators': 1730, 'max_features': 'sqrt', 'min_samples_split': 5, 'bootstrap': False, 'min_samples_leaf': 18, 'criterion': 'entropy'}. Best is trial 115 with value: 0.370024837603497.\n",
      "[I 2024-04-11 05:37:38,825] Trial 126 finished with value: 0.3283079857735333 and parameters: {'max_depth': 28, 'n_estimators': 1520, 'max_features': 'sqrt', 'min_samples_split': 4, 'bootstrap': False, 'min_samples_leaf': 2, 'criterion': 'entropy'}. Best is trial 115 with value: 0.370024837603497.\n",
      "[I 2024-04-11 05:38:08,157] Trial 127 finished with value: 0.2757476733792523 and parameters: {'max_depth': 29, 'n_estimators': 1220, 'max_features': 'sqrt', 'min_samples_split': 7, 'bootstrap': True, 'min_samples_leaf': 1, 'criterion': 'entropy'}. Best is trial 115 with value: 0.370024837603497.\n",
      "[I 2024-04-11 05:38:38,861] Trial 128 finished with value: 0.3377796861966722 and parameters: {'max_depth': 31, 'n_estimators': 1410, 'max_features': 'sqrt', 'min_samples_split': 2, 'bootstrap': False, 'min_samples_leaf': 2, 'criterion': 'entropy'}. Best is trial 115 with value: 0.370024837603497.\n",
      "[I 2024-04-11 05:39:07,754] Trial 129 finished with value: 0.3176871624882155 and parameters: {'max_depth': 33, 'n_estimators': 1460, 'max_features': 'sqrt', 'min_samples_split': 8, 'bootstrap': False, 'min_samples_leaf': 3, 'criterion': 'entropy'}. Best is trial 115 with value: 0.370024837603497.\n",
      "[I 2024-04-11 05:39:34,537] Trial 130 finished with value: 0.1536592101629384 and parameters: {'max_depth': 30, 'n_estimators': 1610, 'max_features': 'log2', 'min_samples_split': 3, 'bootstrap': False, 'min_samples_leaf': 1, 'criterion': 'entropy'}. Best is trial 115 with value: 0.370024837603497.\n",
      "[I 2024-04-11 05:39:57,729] Trial 131 finished with value: 0.3631971237928907 and parameters: {'max_depth': 28, 'n_estimators': 1080, 'max_features': 'sqrt', 'min_samples_split': 5, 'bootstrap': False, 'min_samples_leaf': 1, 'criterion': 'entropy'}. Best is trial 115 with value: 0.370024837603497.\n",
      "[I 2024-04-11 05:40:14,601] Trial 132 finished with value: 0.35246138209754774 and parameters: {'max_depth': 28, 'n_estimators': 780, 'max_features': 'sqrt', 'min_samples_split': 5, 'bootstrap': False, 'min_samples_leaf': 1, 'criterion': 'entropy'}. Best is trial 115 with value: 0.370024837603497.\n",
      "[I 2024-04-11 05:40:45,079] Trial 133 finished with value: 0.3022476664062535 and parameters: {'max_depth': 23, 'n_estimators': 1560, 'max_features': 'sqrt', 'min_samples_split': 5, 'bootstrap': False, 'min_samples_leaf': 2, 'criterion': 'entropy'}. Best is trial 115 with value: 0.370024837603497.\n",
      "[I 2024-04-11 05:41:09,270] Trial 134 finished with value: 0.3597405091130409 and parameters: {'max_depth': 30, 'n_estimators': 1060, 'max_features': 'sqrt', 'min_samples_split': 4, 'bootstrap': False, 'min_samples_leaf': 1, 'criterion': 'entropy'}. Best is trial 115 with value: 0.370024837603497.\n",
      "[I 2024-04-11 05:41:25,849] Trial 135 finished with value: 0.0808080808080808 and parameters: {'max_depth': 32, 'n_estimators': 1060, 'max_features': 'sqrt', 'min_samples_split': 4, 'bootstrap': False, 'min_samples_leaf': 9, 'criterion': 'entropy'}. Best is trial 115 with value: 0.370024837603497.\n",
      "[I 2024-04-11 05:41:44,450] Trial 136 finished with value: 0.34034242177864543 and parameters: {'max_depth': 31, 'n_estimators': 890, 'max_features': 'sqrt', 'min_samples_split': 3, 'bootstrap': False, 'min_samples_leaf': 2, 'criterion': 'entropy'}. Best is trial 115 with value: 0.370024837603497.\n",
      "[I 2024-04-11 05:42:07,673] Trial 137 finished with value: 0.35012581030563517 and parameters: {'max_depth': 27, 'n_estimators': 1090, 'max_features': 'sqrt', 'min_samples_split': 4, 'bootstrap': False, 'min_samples_leaf': 1, 'criterion': 'entropy'}. Best is trial 115 with value: 0.370024837603497.\n",
      "[I 2024-04-11 05:42:27,819] Trial 138 finished with value: 0.3530248172844658 and parameters: {'max_depth': 30, 'n_estimators': 980, 'max_features': 'sqrt', 'min_samples_split': 5, 'bootstrap': False, 'min_samples_leaf': 2, 'criterion': 'entropy'}. Best is trial 115 with value: 0.370024837603497.\n",
      "[I 2024-04-11 05:42:54,162] Trial 139 finished with value: 0.3699018212497049 and parameters: {'max_depth': 32, 'n_estimators': 1160, 'max_features': 'sqrt', 'min_samples_split': 4, 'bootstrap': False, 'min_samples_leaf': 1, 'criterion': 'entropy'}. Best is trial 115 with value: 0.370024837603497.\n",
      "[I 2024-04-11 05:43:21,046] Trial 140 finished with value: 0.36000594177064765 and parameters: {'max_depth': 32, 'n_estimators': 1200, 'max_features': 'sqrt', 'min_samples_split': 7, 'bootstrap': False, 'min_samples_leaf': 1, 'criterion': 'entropy'}. Best is trial 115 with value: 0.370024837603497.\n",
      "[I 2024-04-11 05:43:47,831] Trial 141 finished with value: 0.35338358061424263 and parameters: {'max_depth': 33, 'n_estimators': 1180, 'max_features': 'sqrt', 'min_samples_split': 7, 'bootstrap': False, 'min_samples_leaf': 1, 'criterion': 'entropy'}. Best is trial 115 with value: 0.370024837603497.\n",
      "[I 2024-04-11 05:44:14,312] Trial 142 finished with value: 0.3429804384051377 and parameters: {'max_depth': 31, 'n_estimators': 1180, 'max_features': 'sqrt', 'min_samples_split': 7, 'bootstrap': False, 'min_samples_leaf': 1, 'criterion': 'entropy'}. Best is trial 115 with value: 0.370024837603497.\n",
      "[I 2024-04-11 05:44:41,978] Trial 143 finished with value: 0.35470747459603735 and parameters: {'max_depth': 33, 'n_estimators': 1280, 'max_features': 'sqrt', 'min_samples_split': 5, 'bootstrap': False, 'min_samples_leaf': 2, 'criterion': 'entropy'}. Best is trial 115 with value: 0.370024837603497.\n",
      "[I 2024-04-11 05:45:08,900] Trial 144 finished with value: 0.35584444562693995 and parameters: {'max_depth': 32, 'n_estimators': 1240, 'max_features': 'sqrt', 'min_samples_split': 9, 'bootstrap': False, 'min_samples_leaf': 1, 'criterion': 'entropy'}. Best is trial 115 with value: 0.370024837603497.\n",
      "[I 2024-04-11 05:45:33,480] Trial 145 finished with value: 0.368943062139346 and parameters: {'max_depth': 31, 'n_estimators': 1100, 'max_features': 'sqrt', 'min_samples_split': 4, 'bootstrap': False, 'min_samples_leaf': 1, 'criterion': 'entropy'}. Best is trial 115 with value: 0.370024837603497.\n",
      "[I 2024-04-11 05:45:55,512] Trial 146 finished with value: 0.34907678671154907 and parameters: {'max_depth': 29, 'n_estimators': 1070, 'max_features': 'sqrt', 'min_samples_split': 4, 'bootstrap': False, 'min_samples_leaf': 2, 'criterion': 'entropy'}. Best is trial 115 with value: 0.370024837603497.\n",
      "[I 2024-04-11 05:46:13,184] Trial 147 finished with value: 0.16533585791406277 and parameters: {'max_depth': 10, 'n_estimators': 1120, 'max_features': 'sqrt', 'min_samples_split': 3, 'bootstrap': False, 'min_samples_leaf': 1, 'criterion': 'entropy'}. Best is trial 115 with value: 0.370024837603497.\n",
      "[I 2024-04-11 05:46:32,138] Trial 148 finished with value: 0.3062281501747986 and parameters: {'max_depth': 30, 'n_estimators': 930, 'max_features': 'sqrt', 'min_samples_split': 2, 'bootstrap': False, 'min_samples_leaf': 3, 'criterion': 'entropy'}. Best is trial 115 with value: 0.370024837603497.\n",
      "[I 2024-04-11 05:46:55,985] Trial 149 finished with value: 0.2772493613625743 and parameters: {'max_depth': 28, 'n_estimators': 1020, 'max_features': 'sqrt', 'min_samples_split': 5, 'bootstrap': True, 'min_samples_leaf': 2, 'criterion': 'entropy'}. Best is trial 115 with value: 0.370024837603497.\n",
      "[I 2024-04-11 05:47:28,370] Trial 150 finished with value: 0.36723225581713564 and parameters: {'max_depth': 34, 'n_estimators': 1390, 'max_features': 'sqrt', 'min_samples_split': 4, 'bootstrap': False, 'min_samples_leaf': 1, 'criterion': 'entropy'}. Best is trial 115 with value: 0.370024837603497.\n",
      "[I 2024-04-11 05:48:03,304] Trial 151 finished with value: 0.3644838172300552 and parameters: {'max_depth': 34, 'n_estimators': 1510, 'max_features': 'sqrt', 'min_samples_split': 4, 'bootstrap': False, 'min_samples_leaf': 1, 'criterion': 'entropy'}. Best is trial 115 with value: 0.370024837603497.\n",
      "[I 2024-04-11 05:48:33,754] Trial 152 finished with value: 0.3600720436741679 and parameters: {'max_depth': 34, 'n_estimators': 1330, 'max_features': 'sqrt', 'min_samples_split': 4, 'bootstrap': False, 'min_samples_leaf': 1, 'criterion': 'entropy'}. Best is trial 115 with value: 0.370024837603497.\n",
      "[I 2024-04-11 05:49:05,822] Trial 153 finished with value: 0.36723225581713564 and parameters: {'max_depth': 34, 'n_estimators': 1390, 'max_features': 'sqrt', 'min_samples_split': 4, 'bootstrap': False, 'min_samples_leaf': 1, 'criterion': 'entropy'}. Best is trial 115 with value: 0.370024837603497.\n",
      "[I 2024-04-11 05:49:36,130] Trial 154 finished with value: 0.3560334151180862 and parameters: {'max_depth': 34, 'n_estimators': 1390, 'max_features': 'sqrt', 'min_samples_split': 4, 'bootstrap': False, 'min_samples_leaf': 2, 'criterion': 'entropy'}. Best is trial 115 with value: 0.370024837603497.\n",
      "[I 2024-04-11 05:50:08,957] Trial 155 finished with value: 0.36622379231074886 and parameters: {'max_depth': 35, 'n_estimators': 1370, 'max_features': 'sqrt', 'min_samples_split': 3, 'bootstrap': False, 'min_samples_leaf': 1, 'criterion': 'entropy'}. Best is trial 115 with value: 0.370024837603497.\n",
      "[I 2024-04-11 05:50:41,740] Trial 156 finished with value: 0.3669029981623685 and parameters: {'max_depth': 35, 'n_estimators': 1360, 'max_features': 'sqrt', 'min_samples_split': 3, 'bootstrap': False, 'min_samples_leaf': 1, 'criterion': 'entropy'}. Best is trial 115 with value: 0.370024837603497.\n",
      "[I 2024-04-11 05:51:10,581] Trial 157 finished with value: 0.3480280060579104 and parameters: {'max_depth': 34, 'n_estimators': 1320, 'max_features': 'sqrt', 'min_samples_split': 3, 'bootstrap': False, 'min_samples_leaf': 2, 'criterion': 'entropy'}. Best is trial 115 with value: 0.370024837603497.\n",
      "[I 2024-04-11 05:51:35,456] Trial 158 finished with value: 0.19943028048291206 and parameters: {'max_depth': 35, 'n_estimators': 1370, 'max_features': 'log2', 'min_samples_split': 2, 'bootstrap': False, 'min_samples_leaf': 1, 'criterion': 'entropy'}. Best is trial 115 with value: 0.370024837603497.\n",
      "[I 2024-04-11 05:52:04,174] Trial 159 finished with value: 0.3429605020302695 and parameters: {'max_depth': 36, 'n_estimators': 1290, 'max_features': 'sqrt', 'min_samples_split': 3, 'bootstrap': False, 'min_samples_leaf': 2, 'criterion': 'entropy'}. Best is trial 115 with value: 0.370024837603497.\n",
      "[I 2024-04-11 05:52:33,770] Trial 160 finished with value: 0.36126330574928706 and parameters: {'max_depth': 33, 'n_estimators': 1260, 'max_features': 'sqrt', 'min_samples_split': 3, 'bootstrap': False, 'min_samples_leaf': 1, 'criterion': 'entropy'}. Best is trial 115 with value: 0.370024837603497.\n",
      "[I 2024-04-11 05:53:00,363] Trial 161 finished with value: 0.3716736677848231 and parameters: {'max_depth': 33, 'n_estimators': 1140, 'max_features': 'sqrt', 'min_samples_split': 3, 'bootstrap': False, 'min_samples_leaf': 1, 'criterion': 'entropy'}. Best is trial 161 with value: 0.3716736677848231.\n",
      "[I 2024-04-11 05:53:26,862] Trial 162 finished with value: 0.3709092148464571 and parameters: {'max_depth': 33, 'n_estimators': 1130, 'max_features': 'sqrt', 'min_samples_split': 3, 'bootstrap': False, 'min_samples_leaf': 1, 'criterion': 'entropy'}. Best is trial 161 with value: 0.3716736677848231.\n",
      "[I 2024-04-11 05:53:53,642] Trial 163 finished with value: 0.38157674867576796 and parameters: {'max_depth': 36, 'n_estimators': 1100, 'max_features': 'sqrt', 'min_samples_split': 2, 'bootstrap': False, 'min_samples_leaf': 1, 'criterion': 'entropy'}. Best is trial 163 with value: 0.38157674867576796.\n",
      "[I 2024-04-11 05:54:21,501] Trial 164 finished with value: 0.3798448228433236 and parameters: {'max_depth': 36, 'n_estimators': 1120, 'max_features': 'sqrt', 'min_samples_split': 2, 'bootstrap': False, 'min_samples_leaf': 1, 'criterion': 'entropy'}. Best is trial 163 with value: 0.38157674867576796.\n",
      "[I 2024-04-11 05:54:49,231] Trial 165 finished with value: 0.377043952216366 and parameters: {'max_depth': 36, 'n_estimators': 1130, 'max_features': 'sqrt', 'min_samples_split': 2, 'bootstrap': False, 'min_samples_leaf': 1, 'criterion': 'entropy'}. Best is trial 163 with value: 0.38157674867576796.\n",
      "[I 2024-04-11 05:55:13,625] Trial 166 finished with value: 0.3470235867669709 and parameters: {'max_depth': 36, 'n_estimators': 1130, 'max_features': 'sqrt', 'min_samples_split': 2, 'bootstrap': False, 'min_samples_leaf': 2, 'criterion': 'entropy'}. Best is trial 163 with value: 0.38157674867576796.\n",
      "[I 2024-04-11 05:55:38,266] Trial 167 finished with value: 0.355362807127513 and parameters: {'max_depth': 37, 'n_estimators': 1130, 'max_features': 'sqrt', 'min_samples_split': 2, 'bootstrap': False, 'min_samples_leaf': 2, 'criterion': 'entropy'}. Best is trial 163 with value: 0.38157674867576796.\n",
      "[I 2024-04-11 05:56:06,095] Trial 168 finished with value: 0.37626878305929773 and parameters: {'max_depth': 35, 'n_estimators': 1150, 'max_features': 'sqrt', 'min_samples_split': 2, 'bootstrap': False, 'min_samples_leaf': 1, 'criterion': 'entropy'}. Best is trial 163 with value: 0.38157674867576796.\n",
      "[I 2024-04-11 05:56:31,621] Trial 169 finished with value: 0.38079688337977363 and parameters: {'max_depth': 36, 'n_estimators': 1040, 'max_features': 'sqrt', 'min_samples_split': 2, 'bootstrap': False, 'min_samples_leaf': 1, 'criterion': 'entropy'}. Best is trial 163 with value: 0.38157674867576796.\n",
      "[I 2024-04-11 05:56:54,436] Trial 170 finished with value: 0.35658028128792746 and parameters: {'max_depth': 38, 'n_estimators': 1020, 'max_features': 'sqrt', 'min_samples_split': 2, 'bootstrap': False, 'min_samples_leaf': 2, 'criterion': 'entropy'}. Best is trial 163 with value: 0.38157674867576796.\n",
      "[I 2024-04-11 05:57:23,145] Trial 171 finished with value: 0.37627949927800003 and parameters: {'max_depth': 36, 'n_estimators': 1170, 'max_features': 'sqrt', 'min_samples_split': 2, 'bootstrap': False, 'min_samples_leaf': 1, 'criterion': 'entropy'}. Best is trial 163 with value: 0.38157674867576796.\n",
      "[I 2024-04-11 05:57:51,733] Trial 172 finished with value: 0.37626878305929773 and parameters: {'max_depth': 35, 'n_estimators': 1170, 'max_features': 'sqrt', 'min_samples_split': 2, 'bootstrap': False, 'min_samples_leaf': 1, 'criterion': 'entropy'}. Best is trial 163 with value: 0.38157674867576796.\n",
      "[I 2024-04-11 05:58:20,614] Trial 173 finished with value: 0.37626878305929773 and parameters: {'max_depth': 35, 'n_estimators': 1190, 'max_features': 'sqrt', 'min_samples_split': 2, 'bootstrap': False, 'min_samples_leaf': 1, 'criterion': 'entropy'}. Best is trial 163 with value: 0.38157674867576796.\n",
      "[I 2024-04-11 05:58:49,434] Trial 174 finished with value: 0.37627949927800003 and parameters: {'max_depth': 36, 'n_estimators': 1160, 'max_features': 'sqrt', 'min_samples_split': 2, 'bootstrap': False, 'min_samples_leaf': 1, 'criterion': 'entropy'}. Best is trial 163 with value: 0.38157674867576796.\n",
      "[I 2024-04-11 05:59:15,407] Trial 175 finished with value: 0.34633982608321023 and parameters: {'max_depth': 36, 'n_estimators': 1160, 'max_features': 'sqrt', 'min_samples_split': 2, 'bootstrap': False, 'min_samples_leaf': 2, 'criterion': 'entropy'}. Best is trial 163 with value: 0.38157674867576796.\n",
      "[I 2024-04-11 05:59:45,424] Trial 176 finished with value: 0.3736619991625047 and parameters: {'max_depth': 37, 'n_estimators': 1220, 'max_features': 'sqrt', 'min_samples_split': 2, 'bootstrap': False, 'min_samples_leaf': 1, 'criterion': 'entropy'}. Best is trial 163 with value: 0.38157674867576796.\n",
      "[I 2024-04-11 06:00:15,374] Trial 177 finished with value: 0.3736619991625047 and parameters: {'max_depth': 37, 'n_estimators': 1210, 'max_features': 'sqrt', 'min_samples_split': 2, 'bootstrap': False, 'min_samples_leaf': 1, 'criterion': 'entropy'}. Best is trial 163 with value: 0.38157674867576796.\n",
      "[I 2024-04-11 06:00:42,776] Trial 178 finished with value: 0.3539894977508729 and parameters: {'max_depth': 38, 'n_estimators': 1210, 'max_features': 'sqrt', 'min_samples_split': 2, 'bootstrap': False, 'min_samples_leaf': 2, 'criterion': 'entropy'}. Best is trial 163 with value: 0.38157674867576796.\n",
      "[I 2024-04-11 06:01:10,839] Trial 179 finished with value: 0.37349667668816605 and parameters: {'max_depth': 39, 'n_estimators': 1110, 'max_features': 'sqrt', 'min_samples_split': 2, 'bootstrap': False, 'min_samples_leaf': 1, 'criterion': 'entropy'}. Best is trial 163 with value: 0.38157674867576796.\n",
      "[I 2024-04-11 06:01:30,764] Trial 180 finished with value: 0.0 and parameters: {'max_depth': 39, 'n_estimators': 1110, 'max_features': 'sqrt', 'min_samples_split': 2, 'bootstrap': True, 'min_samples_leaf': 13, 'criterion': 'entropy'}. Best is trial 163 with value: 0.38157674867576796.\n",
      "[I 2024-04-11 06:01:59,152] Trial 181 finished with value: 0.37627949927800003 and parameters: {'max_depth': 36, 'n_estimators': 1160, 'max_features': 'sqrt', 'min_samples_split': 2, 'bootstrap': False, 'min_samples_leaf': 1, 'criterion': 'entropy'}. Best is trial 163 with value: 0.38157674867576796.\n",
      "[I 2024-04-11 06:02:27,988] Trial 182 finished with value: 0.3736619991625047 and parameters: {'max_depth': 37, 'n_estimators': 1160, 'max_features': 'sqrt', 'min_samples_split': 2, 'bootstrap': False, 'min_samples_leaf': 1, 'criterion': 'entropy'}. Best is trial 163 with value: 0.38157674867576796.\n",
      "[I 2024-04-11 06:02:56,817] Trial 183 finished with value: 0.3702450953299904 and parameters: {'max_depth': 37, 'n_estimators': 1150, 'max_features': 'sqrt', 'min_samples_split': 2, 'bootstrap': False, 'min_samples_leaf': 1, 'criterion': 'entropy'}. Best is trial 163 with value: 0.38157674867576796.\n",
      "[I 2024-04-11 06:03:25,485] Trial 184 finished with value: 0.3870753204093073 and parameters: {'max_depth': 38, 'n_estimators': 1150, 'max_features': 'sqrt', 'min_samples_split': 2, 'bootstrap': False, 'min_samples_leaf': 1, 'criterion': 'entropy'}. Best is trial 184 with value: 0.3870753204093073.\n",
      "[I 2024-04-11 06:03:52,806] Trial 185 finished with value: 0.35367578209348227 and parameters: {'max_depth': 37, 'n_estimators': 1240, 'max_features': 'sqrt', 'min_samples_split': 2, 'bootstrap': False, 'min_samples_leaf': 2, 'criterion': 'entropy'}. Best is trial 184 with value: 0.3870753204093073.\n",
      "[I 2024-04-11 06:04:21,848] Trial 186 finished with value: 0.3770322715281087 and parameters: {'max_depth': 39, 'n_estimators': 1160, 'max_features': 'sqrt', 'min_samples_split': 2, 'bootstrap': False, 'min_samples_leaf': 1, 'criterion': 'entropy'}. Best is trial 184 with value: 0.3870753204093073.\n",
      "[I 2024-04-11 06:04:51,052] Trial 187 finished with value: 0.3857773149474798 and parameters: {'max_depth': 40, 'n_estimators': 1160, 'max_features': 'sqrt', 'min_samples_split': 2, 'bootstrap': False, 'min_samples_leaf': 1, 'criterion': 'entropy'}. Best is trial 184 with value: 0.3870753204093073.\n",
      "[I 2024-04-11 06:05:21,314] Trial 188 finished with value: 0.3857773149474798 and parameters: {'max_depth': 40, 'n_estimators': 1200, 'max_features': 'sqrt', 'min_samples_split': 2, 'bootstrap': False, 'min_samples_leaf': 1, 'criterion': 'entropy'}. Best is trial 184 with value: 0.3870753204093073.\n",
      "[I 2024-04-11 06:05:39,029] Trial 189 finished with value: 0.04400171065493646 and parameters: {'max_depth': 40, 'n_estimators': 1200, 'max_features': 'log2', 'min_samples_split': 2, 'bootstrap': False, 'min_samples_leaf': 2, 'criterion': 'entropy'}. Best is trial 184 with value: 0.3870753204093073.\n",
      "[I 2024-04-11 06:06:08,589] Trial 190 finished with value: 0.3770322715281087 and parameters: {'max_depth': 39, 'n_estimators': 1170, 'max_features': 'sqrt', 'min_samples_split': 2, 'bootstrap': False, 'min_samples_leaf': 1, 'criterion': 'entropy'}. Best is trial 184 with value: 0.3870753204093073.\n",
      "[I 2024-04-11 06:06:37,713] Trial 191 finished with value: 0.3770322715281087 and parameters: {'max_depth': 39, 'n_estimators': 1170, 'max_features': 'sqrt', 'min_samples_split': 2, 'bootstrap': False, 'min_samples_leaf': 1, 'criterion': 'entropy'}. Best is trial 184 with value: 0.3870753204093073.\n",
      "[I 2024-04-11 06:07:04,098] Trial 192 finished with value: 0.3857773149474798 and parameters: {'max_depth': 40, 'n_estimators': 1040, 'max_features': 'sqrt', 'min_samples_split': 2, 'bootstrap': False, 'min_samples_leaf': 1, 'criterion': 'entropy'}. Best is trial 184 with value: 0.3870753204093073.\n",
      "[I 2024-04-11 06:07:29,757] Trial 193 finished with value: 0.3857773149474798 and parameters: {'max_depth': 40, 'n_estimators': 1040, 'max_features': 'sqrt', 'min_samples_split': 2, 'bootstrap': False, 'min_samples_leaf': 1, 'criterion': 'entropy'}. Best is trial 184 with value: 0.3870753204093073.\n",
      "[I 2024-04-11 06:07:53,180] Trial 194 finished with value: 0.35170501479867883 and parameters: {'max_depth': 40, 'n_estimators': 1050, 'max_features': 'sqrt', 'min_samples_split': 2, 'bootstrap': False, 'min_samples_leaf': 2, 'criterion': 'entropy'}. Best is trial 184 with value: 0.3870753204093073.\n",
      "[I 2024-04-11 06:08:18,438] Trial 195 finished with value: 0.3890919846003354 and parameters: {'max_depth': 40, 'n_estimators': 990, 'max_features': 'sqrt', 'min_samples_split': 2, 'bootstrap': False, 'min_samples_leaf': 1, 'criterion': 'entropy'}. Best is trial 195 with value: 0.3890919846003354.\n",
      "[I 2024-04-11 06:08:43,786] Trial 196 finished with value: 0.37826084683336547 and parameters: {'max_depth': 39, 'n_estimators': 1010, 'max_features': 'sqrt', 'min_samples_split': 2, 'bootstrap': False, 'min_samples_leaf': 1, 'criterion': 'entropy'}. Best is trial 195 with value: 0.3890919846003354.\n",
      "[I 2024-04-11 06:09:08,299] Trial 197 finished with value: 0.3833767646387579 and parameters: {'max_depth': 39, 'n_estimators': 980, 'max_features': 'sqrt', 'min_samples_split': 2, 'bootstrap': False, 'min_samples_leaf': 1, 'criterion': 'entropy'}. Best is trial 195 with value: 0.3890919846003354.\n",
      "[I 2024-04-11 06:09:30,119] Trial 198 finished with value: 0.3520761142666619 and parameters: {'max_depth': 40, 'n_estimators': 960, 'max_features': 'sqrt', 'min_samples_split': 2, 'bootstrap': False, 'min_samples_leaf': 2, 'criterion': 'entropy'}. Best is trial 195 with value: 0.3890919846003354.\n",
      "[I 2024-04-11 06:09:55,184] Trial 199 finished with value: 0.37826084683336547 and parameters: {'max_depth': 39, 'n_estimators': 990, 'max_features': 'sqrt', 'min_samples_split': 2, 'bootstrap': False, 'min_samples_leaf': 1, 'criterion': 'entropy'}. Best is trial 195 with value: 0.3890919846003354.\n"
     ]
    },
    {
     "name": "stdout",
     "output_type": "stream",
     "text": [
      "Number of finished trials: 200\n",
      "Best trial: {'max_depth': 40, 'n_estimators': 990, 'max_features': 'sqrt', 'min_samples_split': 2, 'bootstrap': False, 'min_samples_leaf': 1, 'criterion': 'entropy'}\n"
     ]
    }
   ],
   "source": [
    "study = optuna.create_study(direction='maximize')\n",
    "study.optimize(objective,n_trials= 200)\n",
    "print('Number of finished trials:', len(study.trials))\n",
    "print('Best trial:', study.best_trial.params)"
   ]
  },
  {
   "cell_type": "code",
   "execution_count": 10,
   "id": "e92c394e",
   "metadata": {
    "execution": {
     "iopub.execute_input": "2024-04-11T06:09:55.291766Z",
     "iopub.status.busy": "2024-04-11T06:09:55.291307Z",
     "iopub.status.idle": "2024-04-11T06:10:00.826019Z",
     "shell.execute_reply": "2024-04-11T06:10:00.824799Z"
    },
    "papermill": {
     "duration": 5.563583,
     "end_time": "2024-04-11T06:10:00.828823",
     "exception": false,
     "start_time": "2024-04-11T06:09:55.265240",
     "status": "completed"
    },
    "tags": []
   },
   "outputs": [],
   "source": [
    "params = study.best_params\n",
    "model = RandomForestClassifier(**params, random_state=random_seed, n_jobs=-1)\n",
    "model.fit(X, y=y)\n",
    "pred = model.predict_proba(X_test)"
   ]
  },
  {
   "cell_type": "code",
   "execution_count": 11,
   "id": "71e6c728",
   "metadata": {
    "execution": {
     "iopub.execute_input": "2024-04-11T06:10:00.880673Z",
     "iopub.status.busy": "2024-04-11T06:10:00.880244Z",
     "iopub.status.idle": "2024-04-11T06:10:00.892611Z",
     "shell.execute_reply": "2024-04-11T06:10:00.891634Z"
    },
    "papermill": {
     "duration": 0.041019,
     "end_time": "2024-04-11T06:10:00.894997",
     "exception": false,
     "start_time": "2024-04-11T06:10:00.853978",
     "status": "completed"
    },
    "tags": []
   },
   "outputs": [],
   "source": [
    "df_test[['class1','class2']] = pred\n",
    "submission = df_test[['CandidateID','class1','class2']]\n",
    "submission.to_csv('randomforest.csv')"
   ]
  },
  {
   "cell_type": "code",
   "execution_count": 12,
   "id": "04e6a2ea",
   "metadata": {
    "execution": {
     "iopub.execute_input": "2024-04-11T06:10:00.944800Z",
     "iopub.status.busy": "2024-04-11T06:10:00.944387Z",
     "iopub.status.idle": "2024-04-11T06:10:00.962211Z",
     "shell.execute_reply": "2024-04-11T06:10:00.960830Z"
    },
    "papermill": {
     "duration": 0.045593,
     "end_time": "2024-04-11T06:10:00.964740",
     "exception": false,
     "start_time": "2024-04-11T06:10:00.919147",
     "status": "completed"
    },
    "tags": []
   },
   "outputs": [
    {
     "data": {
      "text/html": [
       "<div>\n",
       "<style scoped>\n",
       "    .dataframe tbody tr th:only-of-type {\n",
       "        vertical-align: middle;\n",
       "    }\n",
       "\n",
       "    .dataframe tbody tr th {\n",
       "        vertical-align: top;\n",
       "    }\n",
       "\n",
       "    .dataframe thead th {\n",
       "        text-align: right;\n",
       "    }\n",
       "</style>\n",
       "<table border=\"1\" class=\"dataframe\">\n",
       "  <thead>\n",
       "    <tr style=\"text-align: right;\">\n",
       "      <th></th>\n",
       "      <th>CandidateID</th>\n",
       "      <th>class1</th>\n",
       "      <th>class2</th>\n",
       "    </tr>\n",
       "  </thead>\n",
       "  <tbody>\n",
       "    <tr>\n",
       "      <th>745</th>\n",
       "      <td>emp0521</td>\n",
       "      <td>0.517070</td>\n",
       "      <td>0.482930</td>\n",
       "    </tr>\n",
       "    <tr>\n",
       "      <th>746</th>\n",
       "      <td>emp0613</td>\n",
       "      <td>0.415717</td>\n",
       "      <td>0.584283</td>\n",
       "    </tr>\n",
       "    <tr>\n",
       "      <th>747</th>\n",
       "      <td>emp0136</td>\n",
       "      <td>0.386492</td>\n",
       "      <td>0.613508</td>\n",
       "    </tr>\n",
       "    <tr>\n",
       "      <th>748</th>\n",
       "      <td>emp0351</td>\n",
       "      <td>0.687199</td>\n",
       "      <td>0.312801</td>\n",
       "    </tr>\n",
       "    <tr>\n",
       "      <th>749</th>\n",
       "      <td>emp0049</td>\n",
       "      <td>0.799034</td>\n",
       "      <td>0.200966</td>\n",
       "    </tr>\n",
       "    <tr>\n",
       "      <th>...</th>\n",
       "      <td>...</td>\n",
       "      <td>...</td>\n",
       "      <td>...</td>\n",
       "    </tr>\n",
       "    <tr>\n",
       "      <th>927</th>\n",
       "      <td>emp0401</td>\n",
       "      <td>0.588374</td>\n",
       "      <td>0.411626</td>\n",
       "    </tr>\n",
       "    <tr>\n",
       "      <th>928</th>\n",
       "      <td>emp0408</td>\n",
       "      <td>0.825348</td>\n",
       "      <td>0.174652</td>\n",
       "    </tr>\n",
       "    <tr>\n",
       "      <th>929</th>\n",
       "      <td>emp0248</td>\n",
       "      <td>0.588078</td>\n",
       "      <td>0.411922</td>\n",
       "    </tr>\n",
       "    <tr>\n",
       "      <th>930</th>\n",
       "      <td>emp0148</td>\n",
       "      <td>0.356116</td>\n",
       "      <td>0.643884</td>\n",
       "    </tr>\n",
       "    <tr>\n",
       "      <th>931</th>\n",
       "      <td>emp0422</td>\n",
       "      <td>0.552646</td>\n",
       "      <td>0.447354</td>\n",
       "    </tr>\n",
       "  </tbody>\n",
       "</table>\n",
       "<p>187 rows × 3 columns</p>\n",
       "</div>"
      ],
      "text/plain": [
       "    CandidateID    class1    class2\n",
       "745     emp0521  0.517070  0.482930\n",
       "746     emp0613  0.415717  0.584283\n",
       "747     emp0136  0.386492  0.613508\n",
       "748     emp0351  0.687199  0.312801\n",
       "749     emp0049  0.799034  0.200966\n",
       "..          ...       ...       ...\n",
       "927     emp0401  0.588374  0.411626\n",
       "928     emp0408  0.825348  0.174652\n",
       "929     emp0248  0.588078  0.411922\n",
       "930     emp0148  0.356116  0.643884\n",
       "931     emp0422  0.552646  0.447354\n",
       "\n",
       "[187 rows x 3 columns]"
      ]
     },
     "execution_count": 12,
     "metadata": {},
     "output_type": "execute_result"
    }
   ],
   "source": [
    "submission"
   ]
  },
  {
   "cell_type": "code",
   "execution_count": null,
   "id": "3cbf5edf",
   "metadata": {
    "papermill": {
     "duration": 0.024314,
     "end_time": "2024-04-11T06:10:01.013785",
     "exception": false,
     "start_time": "2024-04-11T06:10:00.989471",
     "status": "completed"
    },
    "tags": []
   },
   "outputs": [],
   "source": []
  }
 ],
 "metadata": {
  "kaggle": {
   "accelerator": "none",
   "dataSources": [
    {
     "datasetId": 4767705,
     "sourceId": 8078360,
     "sourceType": "datasetVersion"
    },
    {
     "datasetId": 4771583,
     "sourceId": 8083623,
     "sourceType": "datasetVersion"
    }
   ],
   "dockerImageVersionId": 30684,
   "isGpuEnabled": false,
   "isInternetEnabled": true,
   "language": "python",
   "sourceType": "notebook"
  },
  "kernelspec": {
   "display_name": "Python 3",
   "language": "python",
   "name": "python3"
  },
  "language_info": {
   "codemirror_mode": {
    "name": "ipython",
    "version": 3
   },
   "file_extension": ".py",
   "mimetype": "text/x-python",
   "name": "python",
   "nbconvert_exporter": "python",
   "pygments_lexer": "ipython3",
   "version": "3.10.13"
  },
  "papermill": {
   "default_parameters": {},
   "duration": 5661.399872,
   "end_time": "2024-04-11T06:10:01.773844",
   "environment_variables": {},
   "exception": null,
   "input_path": "__notebook__.ipynb",
   "output_path": "__notebook__.ipynb",
   "parameters": {},
   "start_time": "2024-04-11T04:35:40.373972",
   "version": "2.5.0"
  }
 },
 "nbformat": 4,
 "nbformat_minor": 5
}
