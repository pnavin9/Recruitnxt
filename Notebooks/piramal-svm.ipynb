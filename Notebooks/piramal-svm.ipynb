{
 "cells": [
  {
   "cell_type": "code",
   "execution_count": 1,
   "id": "dcec5e1a",
   "metadata": {
    "_cell_guid": "b1076dfc-b9ad-4769-8c92-a6c4dae69d19",
    "_uuid": "8f2839f25d086af736a60e9eeb907d3b93b6e0e5",
    "execution": {
     "iopub.execute_input": "2024-04-11T05:43:09.863491Z",
     "iopub.status.busy": "2024-04-11T05:43:09.863089Z",
     "iopub.status.idle": "2024-04-11T05:43:14.576549Z",
     "shell.execute_reply": "2024-04-11T05:43:14.575366Z"
    },
    "papermill": {
     "duration": 4.724098,
     "end_time": "2024-04-11T05:43:14.579366",
     "exception": false,
     "start_time": "2024-04-11T05:43:09.855268",
     "status": "completed"
    },
    "tags": []
   },
   "outputs": [],
   "source": [
    "import pandas as pd\n",
    "import numpy as np\n",
    "from sklearn.preprocessing import OneHotEncoder\n",
    "import re\n",
    "import optuna\n",
    "from optuna import Trial, visualization\n",
    "from sklearn.model_selection import StratifiedKFold, KFold,cross_val_predict,cross_val_score,cross_validate\n",
    "from sklearn.svm import LinearSVC\n",
    "from sklearn.calibration import CalibratedClassifierCV\n",
    "\n",
    "\n",
    "# Load train and test data\n",
    "train_data = pd.read_csv('/kaggle/input/primal2-0/final_train.csv')\n",
    "test_data = pd.read_csv('/kaggle/input/primal2-0/final_test.csv')\n",
    "\n",
    "# Concatenate train and test data for preprocessing\n",
    "combined_data = pd.concat([train_data, test_data], ignore_index=True)\n",
    "\n",
    "value_mapping = {\n",
    "    'a': 6,  # Example: 10 lakhs\n",
    "}\n",
    "# Replace values in the 'ticket size' column using the mapping\n",
    "combined_data['Previous_Organizations'] = test_data['Previous_Organizations'].replace(value_mapping)\n",
    "\n",
    "# Drop specified columns\n",
    "combined_data.drop(columns=['Designation', 'DOJ', 'R_District', 'B_District', 'Company_1', 'Company_2', 'Skill'], inplace=True)\n",
    "\n",
    "# Replace Graduation and Qualification values\n",
    "combined_data['Graduation'] = combined_data['Graduation'].fillna(0).map({'full time': 1, 'part time': 0, 0: 0})\n",
    "combined_data['Qualification'] = combined_data['Qualification'].map({'graduate': 2, 'under graduate': 1, 'post graduate': 3, 'others': 0, 'diploma holders': 4}).fillna(-1)\n",
    "\n",
    "# Set 'Previous_Organizations' as type int, treating NaN as 0\n",
    "combined_data['Previous_Organizations'] = combined_data['Previous_Organizations'].fillna(0).astype(int)\n",
    "\n",
    "# One-hot encoding for categorical variables\n",
    "columns_to_encode = ['Industry', 'Source', 'Department', 'R_Region', 'B_Region']\n",
    "combined_data_encoded = pd.get_dummies(combined_data, columns=columns_to_encode)\n",
    "\n",
    "# Create indicator variables for states\n",
    "states = list(combined_data['R_State']) + list(combined_data['B_State'])\n",
    "for state in states:\n",
    "    combined_data_encoded[state] = ((combined_data['R_State'] == state) | (combined_data['B_State'] == state)).astype(int)\n",
    "\n",
    "# Drop 'R_State' and 'B_State'\n",
    "combined_data_encoded.drop(columns=['R_State', 'B_State', 'Unnamed: 0'], inplace=True)\n",
    "combined_data_encoded.columns = [re.sub(r'\\W+', '_', col) for col in combined_data_encoded.columns]\n",
    "\n",
    "# Separate back into train and test data\n",
    "train_data_processed = combined_data_encoded.iloc[:len(train_data)]\n",
    "test_data_processed = combined_data_encoded.iloc[len(train_data):].drop(columns='Performance')  # Assuming 'Target' is the target column"
   ]
  },
  {
   "cell_type": "code",
   "execution_count": 2,
   "id": "b7cf9dee",
   "metadata": {
    "execution": {
     "iopub.execute_input": "2024-04-11T05:43:14.591508Z",
     "iopub.status.busy": "2024-04-11T05:43:14.591127Z",
     "iopub.status.idle": "2024-04-11T05:43:14.601805Z",
     "shell.execute_reply": "2024-04-11T05:43:14.600875Z"
    },
    "papermill": {
     "duration": 0.019631,
     "end_time": "2024-04-11T05:43:14.604408",
     "exception": false,
     "start_time": "2024-04-11T05:43:14.584777",
     "status": "completed"
    },
    "tags": []
   },
   "outputs": [],
   "source": [
    "df_all = train_data_processed\n",
    "df_test = test_data_processed\n",
    "df_submission = pd.read_csv(\"/kaggle/input/sample/sample.csv\")"
   ]
  },
  {
   "cell_type": "code",
   "execution_count": 3,
   "id": "0d862e5f",
   "metadata": {
    "execution": {
     "iopub.execute_input": "2024-04-11T05:43:14.616418Z",
     "iopub.status.busy": "2024-04-11T05:43:14.616028Z",
     "iopub.status.idle": "2024-04-11T05:43:14.628810Z",
     "shell.execute_reply": "2024-04-11T05:43:14.627876Z"
    },
    "papermill": {
     "duration": 0.021701,
     "end_time": "2024-04-11T05:43:14.631300",
     "exception": false,
     "start_time": "2024-04-11T05:43:14.609599",
     "status": "completed"
    },
    "tags": []
   },
   "outputs": [],
   "source": [
    "\n",
    "\n",
    "X = df_all.drop(labels=['CandidateID','Performance'],axis=1,inplace=False).copy()\n",
    "y = df_all['Performance'].values\n",
    "X_test = df_test.drop(labels=['CandidateID'],axis=1,inplace=False).copy()\n",
    "random_seed = 0\n",
    "\n"
   ]
  },
  {
   "cell_type": "code",
   "execution_count": 4,
   "id": "93ca598f",
   "metadata": {
    "execution": {
     "iopub.execute_input": "2024-04-11T05:43:14.643492Z",
     "iopub.status.busy": "2024-04-11T05:43:14.642658Z",
     "iopub.status.idle": "2024-04-11T05:43:14.772217Z",
     "shell.execute_reply": "2024-04-11T05:43:14.770952Z"
    },
    "papermill": {
     "duration": 0.138772,
     "end_time": "2024-04-11T05:43:14.775095",
     "exception": false,
     "start_time": "2024-04-11T05:43:14.636323",
     "status": "completed"
    },
    "tags": []
   },
   "outputs": [],
   "source": [
    "encoder = OneHotEncoder()\n",
    "all_encoded = encoder.fit_transform(pd.concat([X,X_test]))\n",
    "#X = all_encoded[0:len(X)]\n",
    "#X_test = all_encoded[len(X):]\n",
    "X = all_encoded.tocsr()[0:len(X)]\n",
    "X_test = all_encoded [len(df_all):]"
   ]
  },
  {
   "cell_type": "code",
   "execution_count": 5,
   "id": "046d349a",
   "metadata": {
    "execution": {
     "iopub.execute_input": "2024-04-11T05:43:14.787118Z",
     "iopub.status.busy": "2024-04-11T05:43:14.786465Z",
     "iopub.status.idle": "2024-04-11T05:43:14.803796Z",
     "shell.execute_reply": "2024-04-11T05:43:14.802648Z"
    },
    "papermill": {
     "duration": 0.026152,
     "end_time": "2024-04-11T05:43:14.806316",
     "exception": false,
     "start_time": "2024-04-11T05:43:14.780164",
     "status": "completed"
    },
    "tags": []
   },
   "outputs": [
    {
     "data": {
      "text/plain": [
       "Performance\n",
       "0.0    450\n",
       "1.0    295\n",
       "Name: count, dtype: int64"
      ]
     },
     "execution_count": 5,
     "metadata": {},
     "output_type": "execute_result"
    }
   ],
   "source": [
    "df_all['Performance'].value_counts()"
   ]
  },
  {
   "cell_type": "code",
   "execution_count": 6,
   "id": "b4d3fc7d",
   "metadata": {
    "execution": {
     "iopub.execute_input": "2024-04-11T05:43:14.819178Z",
     "iopub.status.busy": "2024-04-11T05:43:14.817945Z",
     "iopub.status.idle": "2024-04-11T05:43:14.832503Z",
     "shell.execute_reply": "2024-04-11T05:43:14.831312Z"
    },
    "papermill": {
     "duration": 0.023863,
     "end_time": "2024-04-11T05:43:14.835278",
     "exception": false,
     "start_time": "2024-04-11T05:43:14.811415",
     "status": "completed"
    },
    "tags": []
   },
   "outputs": [],
   "source": [
    "X = df_all.drop(labels=['CandidateID','Performance'],axis=1,inplace=False).copy()\n",
    "y = df_all['Performance'].values\n",
    "X_test = df_test.drop(labels=['CandidateID'],axis=1,inplace=False).copy()\n",
    "random_seed = 0"
   ]
  },
  {
   "cell_type": "code",
   "execution_count": 7,
   "id": "80eb384c",
   "metadata": {
    "execution": {
     "iopub.execute_input": "2024-04-11T05:43:14.847802Z",
     "iopub.status.busy": "2024-04-11T05:43:14.847387Z",
     "iopub.status.idle": "2024-04-11T05:43:14.967258Z",
     "shell.execute_reply": "2024-04-11T05:43:14.965951Z"
    },
    "papermill": {
     "duration": 0.129465,
     "end_time": "2024-04-11T05:43:14.970095",
     "exception": false,
     "start_time": "2024-04-11T05:43:14.840630",
     "status": "completed"
    },
    "tags": []
   },
   "outputs": [],
   "source": [
    "encoder = OneHotEncoder()\n",
    "all_encoded = encoder.fit_transform(pd.concat([X,X_test]))\n",
    "#X = all_encoded[0:len(X)]\n",
    "#X_test = all_encoded[len(X):]\n",
    "X = all_encoded.tocsr()[0:len(X)]\n",
    "X_test = all_encoded [len(df_all):]"
   ]
  },
  {
   "cell_type": "code",
   "execution_count": 8,
   "id": "2b25ab6c",
   "metadata": {
    "execution": {
     "iopub.execute_input": "2024-04-11T05:43:14.983771Z",
     "iopub.status.busy": "2024-04-11T05:43:14.983356Z",
     "iopub.status.idle": "2024-04-11T05:43:14.997535Z",
     "shell.execute_reply": "2024-04-11T05:43:14.996201Z"
    },
    "papermill": {
     "duration": 0.023803,
     "end_time": "2024-04-11T05:43:15.000261",
     "exception": false,
     "start_time": "2024-04-11T05:43:14.976458",
     "status": "completed"
    },
    "tags": []
   },
   "outputs": [],
   "source": [
    "from sklearn.metrics import f1_score\n",
    "\n",
    "def objective(trial, data=X, target=y):\n",
    "    param_space = {\n",
    "        'C': trial.suggest_float('C', 0.01, 100),\n",
    "        'loss': trial.suggest_categorical('loss', ['hinge','squared_hinge']),\n",
    "        'penalty': trial.suggest_categorical('penalty', ['l2']),\n",
    "        'dual': trial.suggest_categorical('dual', [True]),\n",
    "        'multi_class': trial.suggest_categorical('multi_class', ['crammer_singer', 'ovr'])\n",
    "    }\n",
    "    k=5\n",
    "    seed_list=[0]\n",
    "    kf = StratifiedKFold(n_splits=k,shuffle=True,random_state=random_seed)\n",
    "    oof = np.zeros((len(df_all),2))\n",
    "    score_list = []\n",
    "    fold=1\n",
    "  \n",
    "    splits = list(kf.split(X,y))\n",
    "    for train_idx, val_idx in splits:\n",
    "        X_train, X_val = X[train_idx,:], X[val_idx,:]\n",
    "        y_train, y_val = y[train_idx], y[val_idx]\n",
    "\n",
    "        val_preds_list = []\n",
    "\n",
    "        for seed in seed_list:\n",
    "          # fit and run model\n",
    "          param_space['random_state'] = seed\n",
    "\n",
    "          base_model = LinearSVC(**param_space, max_iter=5000)\n",
    "          model = CalibratedClassifierCV(base_model, method='sigmoid', cv=k)\n",
    "          model.fit(X_train,y=y_train)\n",
    "\n",
    "    \n",
    "          val_preds_list.append(model.predict_proba(X_val))\n",
    "          #print(model.predict_proba(X_val))\n",
    "     #test_preds_list.append(model.predict_proba(X_test)[:,1])\n",
    "    \n",
    "        oof[val_idx] = np.mean(val_preds_list,axis=0)\n",
    "        score = f1_score(y_val, np.argmax(oof[val_idx], axis=1), average='weighted')\n",
    "        print(f\"fold: {fold},F1 Score: {score}\")\n",
    "        score_list.append(score)\n",
    "        fold += 1\n",
    "    cv_score = np.mean(score_list)\n",
    "    \n",
    "    return cv_score"
   ]
  },
  {
   "cell_type": "code",
   "execution_count": 9,
   "id": "1a9b55ce",
   "metadata": {
    "execution": {
     "iopub.execute_input": "2024-04-11T05:43:15.012689Z",
     "iopub.status.busy": "2024-04-11T05:43:15.012268Z",
     "iopub.status.idle": "2024-04-11T06:30:30.815295Z",
     "shell.execute_reply": "2024-04-11T06:30:30.813937Z"
    },
    "papermill": {
     "duration": 2835.812328,
     "end_time": "2024-04-11T06:30:30.817928",
     "exception": false,
     "start_time": "2024-04-11T05:43:15.005600",
     "status": "completed"
    },
    "tags": []
   },
   "outputs": [
    {
     "name": "stderr",
     "output_type": "stream",
     "text": [
      "[I 2024-04-11 05:43:15,015] A new study created in memory with name: no-name-d3b884d3-fe07-4f8a-9b45-de12c13c2292\n"
     ]
    },
    {
     "name": "stdout",
     "output_type": "stream",
     "text": [
      "fold: 1,F1 Score: 0.4952299354698326\n",
      "fold: 2,F1 Score: 0.4876272099016\n",
      "fold: 3,F1 Score: 0.4775187051354408\n",
      "fold: 4,F1 Score: 0.541544520257005\n"
     ]
    },
    {
     "name": "stderr",
     "output_type": "stream",
     "text": [
      "[I 2024-04-11 05:43:51,714] Trial 0 finished with value: 0.4989920145568334 and parameters: {'C': 15.586453105331058, 'loss': 'squared_hinge', 'penalty': 'l2', 'dual': True, 'multi_class': 'crammer_singer'}. Best is trial 0 with value: 0.4989920145568334.\n"
     ]
    },
    {
     "name": "stdout",
     "output_type": "stream",
     "text": [
      "fold: 5,F1 Score: 0.4930397020202887\n",
      "fold: 1,F1 Score: 0.4952299354698326\n",
      "fold: 2,F1 Score: 0.4876272099016\n",
      "fold: 3,F1 Score: 0.4775187051354408\n",
      "fold: 4,F1 Score: 0.541544520257005\n"
     ]
    },
    {
     "name": "stderr",
     "output_type": "stream",
     "text": [
      "[I 2024-04-11 05:44:06,146] Trial 1 finished with value: 0.4989920145568334 and parameters: {'C': 40.54388173250089, 'loss': 'squared_hinge', 'penalty': 'l2', 'dual': True, 'multi_class': 'ovr'}. Best is trial 0 with value: 0.4989920145568334.\n"
     ]
    },
    {
     "name": "stdout",
     "output_type": "stream",
     "text": [
      "fold: 5,F1 Score: 0.4930397020202887\n",
      "fold: 1,F1 Score: 0.4952299354698326\n",
      "fold: 2,F1 Score: 0.4876272099016\n",
      "fold: 3,F1 Score: 0.4775187051354408\n",
      "fold: 4,F1 Score: 0.541544520257005\n"
     ]
    },
    {
     "name": "stderr",
     "output_type": "stream",
     "text": [
      "[I 2024-04-11 05:44:20,605] Trial 2 finished with value: 0.4989920145568334 and parameters: {'C': 82.99186257115541, 'loss': 'squared_hinge', 'penalty': 'l2', 'dual': True, 'multi_class': 'ovr'}. Best is trial 0 with value: 0.4989920145568334.\n"
     ]
    },
    {
     "name": "stdout",
     "output_type": "stream",
     "text": [
      "fold: 5,F1 Score: 0.4930397020202887\n",
      "fold: 1,F1 Score: 0.4952299354698326\n",
      "fold: 2,F1 Score: 0.4876272099016\n",
      "fold: 3,F1 Score: 0.4775187051354408\n",
      "fold: 4,F1 Score: 0.541544520257005\n"
     ]
    },
    {
     "name": "stderr",
     "output_type": "stream",
     "text": [
      "[I 2024-04-11 05:44:34,968] Trial 3 finished with value: 0.4989920145568334 and parameters: {'C': 18.01899167640862, 'loss': 'hinge', 'penalty': 'l2', 'dual': True, 'multi_class': 'ovr'}. Best is trial 0 with value: 0.4989920145568334.\n"
     ]
    },
    {
     "name": "stdout",
     "output_type": "stream",
     "text": [
      "fold: 5,F1 Score: 0.4930397020202887\n",
      "fold: 1,F1 Score: 0.4952299354698326\n",
      "fold: 2,F1 Score: 0.4876272099016\n",
      "fold: 3,F1 Score: 0.4775187051354408\n",
      "fold: 4,F1 Score: 0.541544520257005\n"
     ]
    },
    {
     "name": "stderr",
     "output_type": "stream",
     "text": [
      "[I 2024-04-11 05:45:11,824] Trial 4 finished with value: 0.4989920145568334 and parameters: {'C': 61.4612759494209, 'loss': 'squared_hinge', 'penalty': 'l2', 'dual': True, 'multi_class': 'crammer_singer'}. Best is trial 0 with value: 0.4989920145568334.\n"
     ]
    },
    {
     "name": "stdout",
     "output_type": "stream",
     "text": [
      "fold: 5,F1 Score: 0.4930397020202887\n",
      "fold: 1,F1 Score: 0.4952299354698326\n",
      "fold: 2,F1 Score: 0.4876272099016\n",
      "fold: 3,F1 Score: 0.4775187051354408\n",
      "fold: 4,F1 Score: 0.541544520257005\n"
     ]
    },
    {
     "name": "stderr",
     "output_type": "stream",
     "text": [
      "[I 2024-04-11 05:45:26,255] Trial 5 finished with value: 0.4989920145568334 and parameters: {'C': 77.28093876457939, 'loss': 'squared_hinge', 'penalty': 'l2', 'dual': True, 'multi_class': 'ovr'}. Best is trial 0 with value: 0.4989920145568334.\n"
     ]
    },
    {
     "name": "stdout",
     "output_type": "stream",
     "text": [
      "fold: 5,F1 Score: 0.4930397020202887\n",
      "fold: 1,F1 Score: 0.4952299354698326\n",
      "fold: 2,F1 Score: 0.4876272099016\n",
      "fold: 3,F1 Score: 0.4775187051354408\n",
      "fold: 4,F1 Score: 0.541544520257005\n"
     ]
    },
    {
     "name": "stderr",
     "output_type": "stream",
     "text": [
      "[I 2024-04-11 05:45:40,615] Trial 6 finished with value: 0.4989920145568334 and parameters: {'C': 27.031589243876205, 'loss': 'hinge', 'penalty': 'l2', 'dual': True, 'multi_class': 'ovr'}. Best is trial 0 with value: 0.4989920145568334.\n"
     ]
    },
    {
     "name": "stdout",
     "output_type": "stream",
     "text": [
      "fold: 5,F1 Score: 0.4930397020202887\n",
      "fold: 1,F1 Score: 0.4952299354698326\n",
      "fold: 2,F1 Score: 0.4876272099016\n",
      "fold: 3,F1 Score: 0.4775187051354408\n",
      "fold: 4,F1 Score: 0.541544520257005\n"
     ]
    },
    {
     "name": "stderr",
     "output_type": "stream",
     "text": [
      "[I 2024-04-11 05:46:17,219] Trial 7 finished with value: 0.4989920145568334 and parameters: {'C': 55.00684956606142, 'loss': 'squared_hinge', 'penalty': 'l2', 'dual': True, 'multi_class': 'crammer_singer'}. Best is trial 0 with value: 0.4989920145568334.\n"
     ]
    },
    {
     "name": "stdout",
     "output_type": "stream",
     "text": [
      "fold: 5,F1 Score: 0.4930397020202887\n",
      "fold: 1,F1 Score: 0.4952299354698326\n",
      "fold: 2,F1 Score: 0.4876272099016\n",
      "fold: 3,F1 Score: 0.4775187051354408\n",
      "fold: 4,F1 Score: 0.541544520257005\n"
     ]
    },
    {
     "name": "stderr",
     "output_type": "stream",
     "text": [
      "[I 2024-04-11 05:46:53,881] Trial 8 finished with value: 0.4989920145568334 and parameters: {'C': 3.2714601291386214, 'loss': 'hinge', 'penalty': 'l2', 'dual': True, 'multi_class': 'crammer_singer'}. Best is trial 0 with value: 0.4989920145568334.\n"
     ]
    },
    {
     "name": "stdout",
     "output_type": "stream",
     "text": [
      "fold: 5,F1 Score: 0.4930397020202887\n",
      "fold: 1,F1 Score: 0.4952299354698326\n",
      "fold: 2,F1 Score: 0.4876272099016\n",
      "fold: 3,F1 Score: 0.4775187051354408\n",
      "fold: 4,F1 Score: 0.541544520257005\n"
     ]
    },
    {
     "name": "stderr",
     "output_type": "stream",
     "text": [
      "[I 2024-04-11 05:47:30,447] Trial 9 finished with value: 0.4989920145568334 and parameters: {'C': 24.833262057072464, 'loss': 'hinge', 'penalty': 'l2', 'dual': True, 'multi_class': 'crammer_singer'}. Best is trial 0 with value: 0.4989920145568334.\n"
     ]
    },
    {
     "name": "stdout",
     "output_type": "stream",
     "text": [
      "fold: 5,F1 Score: 0.4930397020202887\n",
      "fold: 1,F1 Score: 0.4952299354698326\n",
      "fold: 2,F1 Score: 0.4876272099016\n",
      "fold: 3,F1 Score: 0.4775187051354408\n",
      "fold: 4,F1 Score: 0.541544520257005\n"
     ]
    },
    {
     "name": "stderr",
     "output_type": "stream",
     "text": [
      "[I 2024-04-11 05:48:07,165] Trial 10 finished with value: 0.4989920145568334 and parameters: {'C': 5.992416576144443, 'loss': 'squared_hinge', 'penalty': 'l2', 'dual': True, 'multi_class': 'crammer_singer'}. Best is trial 0 with value: 0.4989920145568334.\n"
     ]
    },
    {
     "name": "stdout",
     "output_type": "stream",
     "text": [
      "fold: 5,F1 Score: 0.4930397020202887\n",
      "fold: 1,F1 Score: 0.4952299354698326\n",
      "fold: 2,F1 Score: 0.4876272099016\n",
      "fold: 3,F1 Score: 0.4775187051354408\n",
      "fold: 4,F1 Score: 0.541544520257005\n"
     ]
    },
    {
     "name": "stderr",
     "output_type": "stream",
     "text": [
      "[I 2024-04-11 05:48:21,619] Trial 11 finished with value: 0.4989920145568334 and parameters: {'C': 38.02591077899748, 'loss': 'squared_hinge', 'penalty': 'l2', 'dual': True, 'multi_class': 'ovr'}. Best is trial 0 with value: 0.4989920145568334.\n"
     ]
    },
    {
     "name": "stdout",
     "output_type": "stream",
     "text": [
      "fold: 5,F1 Score: 0.4930397020202887\n",
      "fold: 1,F1 Score: 0.4952299354698326\n",
      "fold: 2,F1 Score: 0.4876272099016\n",
      "fold: 3,F1 Score: 0.4775187051354408\n",
      "fold: 4,F1 Score: 0.541544520257005\n"
     ]
    },
    {
     "name": "stderr",
     "output_type": "stream",
     "text": [
      "[I 2024-04-11 05:48:58,638] Trial 12 finished with value: 0.4989920145568334 and parameters: {'C': 42.34814823058791, 'loss': 'squared_hinge', 'penalty': 'l2', 'dual': True, 'multi_class': 'crammer_singer'}. Best is trial 0 with value: 0.4989920145568334.\n"
     ]
    },
    {
     "name": "stdout",
     "output_type": "stream",
     "text": [
      "fold: 5,F1 Score: 0.4930397020202887\n",
      "fold: 1,F1 Score: 0.4952299354698326\n",
      "fold: 2,F1 Score: 0.4876272099016\n",
      "fold: 3,F1 Score: 0.4775187051354408\n",
      "fold: 4,F1 Score: 0.541544520257005\n"
     ]
    },
    {
     "name": "stderr",
     "output_type": "stream",
     "text": [
      "[I 2024-04-11 05:49:13,114] Trial 13 finished with value: 0.4989920145568334 and parameters: {'C': 35.11421565728587, 'loss': 'squared_hinge', 'penalty': 'l2', 'dual': True, 'multi_class': 'ovr'}. Best is trial 0 with value: 0.4989920145568334.\n"
     ]
    },
    {
     "name": "stdout",
     "output_type": "stream",
     "text": [
      "fold: 5,F1 Score: 0.4930397020202887\n",
      "fold: 1,F1 Score: 0.4952299354698326\n",
      "fold: 2,F1 Score: 0.4876272099016\n",
      "fold: 3,F1 Score: 0.4775187051354408\n",
      "fold: 4,F1 Score: 0.541544520257005\n"
     ]
    },
    {
     "name": "stderr",
     "output_type": "stream",
     "text": [
      "[I 2024-04-11 05:49:50,125] Trial 14 finished with value: 0.4989920145568334 and parameters: {'C': 66.25400608445884, 'loss': 'squared_hinge', 'penalty': 'l2', 'dual': True, 'multi_class': 'crammer_singer'}. Best is trial 0 with value: 0.4989920145568334.\n"
     ]
    },
    {
     "name": "stdout",
     "output_type": "stream",
     "text": [
      "fold: 5,F1 Score: 0.4930397020202887\n",
      "fold: 1,F1 Score: 0.4952299354698326\n",
      "fold: 2,F1 Score: 0.4876272099016\n",
      "fold: 3,F1 Score: 0.4775187051354408\n",
      "fold: 4,F1 Score: 0.541544520257005\n"
     ]
    },
    {
     "name": "stderr",
     "output_type": "stream",
     "text": [
      "[I 2024-04-11 05:50:04,398] Trial 15 finished with value: 0.4989920145568334 and parameters: {'C': 13.849709809971326, 'loss': 'squared_hinge', 'penalty': 'l2', 'dual': True, 'multi_class': 'ovr'}. Best is trial 0 with value: 0.4989920145568334.\n"
     ]
    },
    {
     "name": "stdout",
     "output_type": "stream",
     "text": [
      "fold: 5,F1 Score: 0.4930397020202887\n",
      "fold: 1,F1 Score: 0.4952299354698326\n",
      "fold: 2,F1 Score: 0.4876272099016\n",
      "fold: 3,F1 Score: 0.4775187051354408\n",
      "fold: 4,F1 Score: 0.541544520257005\n"
     ]
    },
    {
     "name": "stderr",
     "output_type": "stream",
     "text": [
      "[I 2024-04-11 05:50:41,220] Trial 16 finished with value: 0.4989920145568334 and parameters: {'C': 97.85024552858391, 'loss': 'squared_hinge', 'penalty': 'l2', 'dual': True, 'multi_class': 'crammer_singer'}. Best is trial 0 with value: 0.4989920145568334.\n"
     ]
    },
    {
     "name": "stdout",
     "output_type": "stream",
     "text": [
      "fold: 5,F1 Score: 0.4930397020202887\n",
      "fold: 1,F1 Score: 0.4952299354698326\n",
      "fold: 2,F1 Score: 0.4876272099016\n",
      "fold: 3,F1 Score: 0.4775187051354408\n",
      "fold: 4,F1 Score: 0.541544520257005\n"
     ]
    },
    {
     "name": "stderr",
     "output_type": "stream",
     "text": [
      "[I 2024-04-11 05:50:55,698] Trial 17 finished with value: 0.4989920145568334 and parameters: {'C': 47.733814900308424, 'loss': 'squared_hinge', 'penalty': 'l2', 'dual': True, 'multi_class': 'ovr'}. Best is trial 0 with value: 0.4989920145568334.\n"
     ]
    },
    {
     "name": "stdout",
     "output_type": "stream",
     "text": [
      "fold: 5,F1 Score: 0.4930397020202887\n",
      "fold: 1,F1 Score: 0.4952299354698326\n",
      "fold: 2,F1 Score: 0.4876272099016\n",
      "fold: 3,F1 Score: 0.4775187051354408\n",
      "fold: 4,F1 Score: 0.541544520257005\n"
     ]
    },
    {
     "name": "stderr",
     "output_type": "stream",
     "text": [
      "[I 2024-04-11 05:51:10,132] Trial 18 finished with value: 0.4989920145568334 and parameters: {'C': 27.49561318072793, 'loss': 'hinge', 'penalty': 'l2', 'dual': True, 'multi_class': 'ovr'}. Best is trial 0 with value: 0.4989920145568334.\n"
     ]
    },
    {
     "name": "stdout",
     "output_type": "stream",
     "text": [
      "fold: 5,F1 Score: 0.4930397020202887\n",
      "fold: 1,F1 Score: 0.4952299354698326\n",
      "fold: 2,F1 Score: 0.4876272099016\n",
      "fold: 3,F1 Score: 0.4775187051354408\n",
      "fold: 4,F1 Score: 0.541544520257005\n"
     ]
    },
    {
     "name": "stderr",
     "output_type": "stream",
     "text": [
      "[I 2024-04-11 05:51:46,852] Trial 19 finished with value: 0.4989920145568334 and parameters: {'C': 12.902548171383035, 'loss': 'squared_hinge', 'penalty': 'l2', 'dual': True, 'multi_class': 'crammer_singer'}. Best is trial 0 with value: 0.4989920145568334.\n"
     ]
    },
    {
     "name": "stdout",
     "output_type": "stream",
     "text": [
      "fold: 5,F1 Score: 0.4930397020202887\n",
      "fold: 1,F1 Score: 0.4952299354698326\n",
      "fold: 2,F1 Score: 0.5010168802115111\n",
      "fold: 3,F1 Score: 0.4738964894166236\n",
      "fold: 4,F1 Score: 0.5779547972987098\n"
     ]
    },
    {
     "name": "stderr",
     "output_type": "stream",
     "text": [
      "[I 2024-04-11 05:51:52,727] Trial 20 finished with value: 0.5157064444715102 and parameters: {'C': 0.3328448338554644, 'loss': 'squared_hinge', 'penalty': 'l2', 'dual': True, 'multi_class': 'ovr'}. Best is trial 20 with value: 0.5157064444715102.\n"
     ]
    },
    {
     "name": "stdout",
     "output_type": "stream",
     "text": [
      "fold: 5,F1 Score: 0.5304341199608733\n",
      "fold: 1,F1 Score: 0.4952299354698326\n",
      "fold: 2,F1 Score: 0.4876272099016\n",
      "fold: 3,F1 Score: 0.4775187051354408\n",
      "fold: 4,F1 Score: 0.541544520257005\n"
     ]
    },
    {
     "name": "stderr",
     "output_type": "stream",
     "text": [
      "[I 2024-04-11 05:52:04,874] Trial 21 finished with value: 0.4989920145568334 and parameters: {'C': 2.3744052289138784, 'loss': 'squared_hinge', 'penalty': 'l2', 'dual': True, 'multi_class': 'ovr'}. Best is trial 20 with value: 0.5157064444715102.\n"
     ]
    },
    {
     "name": "stdout",
     "output_type": "stream",
     "text": [
      "fold: 5,F1 Score: 0.4930397020202887\n",
      "fold: 1,F1 Score: 0.4952299354698326\n",
      "fold: 2,F1 Score: 0.4876272099016\n",
      "fold: 3,F1 Score: 0.4775187051354408\n",
      "fold: 4,F1 Score: 0.541544520257005\n"
     ]
    },
    {
     "name": "stderr",
     "output_type": "stream",
     "text": [
      "[I 2024-04-11 05:52:19,112] Trial 22 finished with value: 0.4989920145568334 and parameters: {'C': 17.9223308968587, 'loss': 'squared_hinge', 'penalty': 'l2', 'dual': True, 'multi_class': 'ovr'}. Best is trial 20 with value: 0.5157064444715102.\n"
     ]
    },
    {
     "name": "stdout",
     "output_type": "stream",
     "text": [
      "fold: 5,F1 Score: 0.4930397020202887\n",
      "fold: 1,F1 Score: 0.4952299354698326\n",
      "fold: 2,F1 Score: 0.4876272099016\n",
      "fold: 3,F1 Score: 0.4738964894166236\n",
      "fold: 4,F1 Score: 0.5577290336661755\n"
     ]
    },
    {
     "name": "stderr",
     "output_type": "stream",
     "text": [
      "[I 2024-04-11 05:52:28,725] Trial 23 finished with value: 0.5032245349019278 and parameters: {'C': 0.916177650670555, 'loss': 'squared_hinge', 'penalty': 'l2', 'dual': True, 'multi_class': 'ovr'}. Best is trial 20 with value: 0.5157064444715102.\n"
     ]
    },
    {
     "name": "stdout",
     "output_type": "stream",
     "text": [
      "fold: 5,F1 Score: 0.5016400060554069\n",
      "fold: 1,F1 Score: 0.4952299354698326\n",
      "fold: 2,F1 Score: 0.5140817311507485\n",
      "fold: 3,F1 Score: 0.4738964894166236\n",
      "fold: 4,F1 Score: 0.5728240743315003\n"
     ]
    },
    {
     "name": "stderr",
     "output_type": "stream",
     "text": [
      "[I 2024-04-11 05:52:33,278] Trial 24 finished with value: 0.5172932700659156 and parameters: {'C': 0.2172443946851419, 'loss': 'squared_hinge', 'penalty': 'l2', 'dual': True, 'multi_class': 'ovr'}. Best is trial 24 with value: 0.5172932700659156.\n"
     ]
    },
    {
     "name": "stdout",
     "output_type": "stream",
     "text": [
      "fold: 5,F1 Score: 0.5304341199608733\n",
      "fold: 1,F1 Score: 0.4952299354698326\n",
      "fold: 2,F1 Score: 0.5140817311507485\n",
      "fold: 3,F1 Score: 0.4738964894166236\n",
      "fold: 4,F1 Score: 0.5728240743315003\n"
     ]
    },
    {
     "name": "stderr",
     "output_type": "stream",
     "text": [
      "[I 2024-04-11 05:52:38,482] Trial 25 finished with value: 0.5172932700659156 and parameters: {'C': 0.27322246382676996, 'loss': 'squared_hinge', 'penalty': 'l2', 'dual': True, 'multi_class': 'ovr'}. Best is trial 24 with value: 0.5172932700659156.\n"
     ]
    },
    {
     "name": "stdout",
     "output_type": "stream",
     "text": [
      "fold: 5,F1 Score: 0.5304341199608733\n",
      "fold: 1,F1 Score: 0.4952299354698326\n",
      "fold: 2,F1 Score: 0.4876272099016\n",
      "fold: 3,F1 Score: 0.4775187051354408\n",
      "fold: 4,F1 Score: 0.541544520257005\n"
     ]
    },
    {
     "name": "stderr",
     "output_type": "stream",
     "text": [
      "[I 2024-04-11 05:52:52,895] Trial 26 finished with value: 0.4989920145568334 and parameters: {'C': 7.367801311545815, 'loss': 'hinge', 'penalty': 'l2', 'dual': True, 'multi_class': 'ovr'}. Best is trial 24 with value: 0.5172932700659156.\n"
     ]
    },
    {
     "name": "stdout",
     "output_type": "stream",
     "text": [
      "fold: 5,F1 Score: 0.4930397020202887\n",
      "fold: 1,F1 Score: 0.4952299354698326\n",
      "fold: 2,F1 Score: 0.4876272099016\n",
      "fold: 3,F1 Score: 0.4775187051354408\n",
      "fold: 4,F1 Score: 0.541544520257005\n"
     ]
    },
    {
     "name": "stderr",
     "output_type": "stream",
     "text": [
      "[I 2024-04-11 05:53:06,826] Trial 27 finished with value: 0.4989920145568334 and parameters: {'C': 9.542940169572994, 'loss': 'squared_hinge', 'penalty': 'l2', 'dual': True, 'multi_class': 'ovr'}. Best is trial 24 with value: 0.5172932700659156.\n"
     ]
    },
    {
     "name": "stdout",
     "output_type": "stream",
     "text": [
      "fold: 5,F1 Score: 0.4930397020202887\n",
      "fold: 1,F1 Score: 0.4811262251349438\n",
      "fold: 2,F1 Score: 0.54691011575172\n",
      "fold: 3,F1 Score: 0.5089700567888487\n",
      "fold: 4,F1 Score: 0.6056014455343314\n"
     ]
    },
    {
     "name": "stderr",
     "output_type": "stream",
     "text": [
      "[I 2024-04-11 05:53:08,647] Trial 28 finished with value: 0.5288495698530501 and parameters: {'C': 0.058128031963355614, 'loss': 'squared_hinge', 'penalty': 'l2', 'dual': True, 'multi_class': 'ovr'}. Best is trial 28 with value: 0.5288495698530501.\n"
     ]
    },
    {
     "name": "stdout",
     "output_type": "stream",
     "text": [
      "fold: 5,F1 Score: 0.5016400060554069\n",
      "fold: 1,F1 Score: 0.4952299354698326\n",
      "fold: 2,F1 Score: 0.4876272099016\n",
      "fold: 3,F1 Score: 0.4775187051354408\n",
      "fold: 4,F1 Score: 0.541544520257005\n"
     ]
    },
    {
     "name": "stderr",
     "output_type": "stream",
     "text": [
      "[I 2024-04-11 05:53:22,956] Trial 29 finished with value: 0.4989920145568334 and parameters: {'C': 21.907619052984177, 'loss': 'squared_hinge', 'penalty': 'l2', 'dual': True, 'multi_class': 'ovr'}. Best is trial 28 with value: 0.5288495698530501.\n"
     ]
    },
    {
     "name": "stdout",
     "output_type": "stream",
     "text": [
      "fold: 5,F1 Score: 0.4930397020202887\n",
      "fold: 1,F1 Score: 0.4952299354698326\n",
      "fold: 2,F1 Score: 0.4876272099016\n",
      "fold: 3,F1 Score: 0.4775187051354408\n",
      "fold: 4,F1 Score: 0.541544520257005\n"
     ]
    },
    {
     "name": "stderr",
     "output_type": "stream",
     "text": [
      "[I 2024-04-11 05:53:36,957] Trial 30 finished with value: 0.4989920145568334 and parameters: {'C': 11.13800207776671, 'loss': 'squared_hinge', 'penalty': 'l2', 'dual': True, 'multi_class': 'ovr'}. Best is trial 28 with value: 0.5288495698530501.\n"
     ]
    },
    {
     "name": "stdout",
     "output_type": "stream",
     "text": [
      "fold: 5,F1 Score: 0.4930397020202887\n",
      "fold: 1,F1 Score: 0.4952299354698326\n",
      "fold: 2,F1 Score: 0.4876272099016\n",
      "fold: 3,F1 Score: 0.4775187051354408\n",
      "fold: 4,F1 Score: 0.541544520257005\n"
     ]
    },
    {
     "name": "stderr",
     "output_type": "stream",
     "text": [
      "[I 2024-04-11 05:53:50,282] Trial 31 finished with value: 0.4989920145568334 and parameters: {'C': 4.582884621431674, 'loss': 'squared_hinge', 'penalty': 'l2', 'dual': True, 'multi_class': 'ovr'}. Best is trial 28 with value: 0.5288495698530501.\n"
     ]
    },
    {
     "name": "stdout",
     "output_type": "stream",
     "text": [
      "fold: 5,F1 Score: 0.4930397020202887\n",
      "fold: 1,F1 Score: 0.4952299354698326\n",
      "fold: 2,F1 Score: 0.5010168802115111\n",
      "fold: 3,F1 Score: 0.4738964894166236\n",
      "fold: 4,F1 Score: 0.5679292791581496\n"
     ]
    },
    {
     "name": "stderr",
     "output_type": "stream",
     "text": [
      "[I 2024-04-11 05:53:58,166] Trial 32 finished with value: 0.5079425180623047 and parameters: {'C': 0.5348210843964577, 'loss': 'squared_hinge', 'penalty': 'l2', 'dual': True, 'multi_class': 'ovr'}. Best is trial 28 with value: 0.5288495698530501.\n"
     ]
    },
    {
     "name": "stdout",
     "output_type": "stream",
     "text": [
      "fold: 5,F1 Score: 0.5016400060554069\n",
      "fold: 1,F1 Score: 0.4952299354698326\n",
      "fold: 2,F1 Score: 0.4876272099016\n",
      "fold: 3,F1 Score: 0.4775187051354408\n",
      "fold: 4,F1 Score: 0.541544520257005\n"
     ]
    },
    {
     "name": "stderr",
     "output_type": "stream",
     "text": [
      "[I 2024-04-11 05:54:11,946] Trial 33 finished with value: 0.4989920145568334 and parameters: {'C': 9.561596194952518, 'loss': 'squared_hinge', 'penalty': 'l2', 'dual': True, 'multi_class': 'ovr'}. Best is trial 28 with value: 0.5288495698530501.\n"
     ]
    },
    {
     "name": "stdout",
     "output_type": "stream",
     "text": [
      "fold: 5,F1 Score: 0.4930397020202887\n",
      "fold: 1,F1 Score: 0.4952299354698326\n",
      "fold: 2,F1 Score: 0.4876272099016\n",
      "fold: 3,F1 Score: 0.4775187051354408\n",
      "fold: 4,F1 Score: 0.541544520257005\n"
     ]
    },
    {
     "name": "stderr",
     "output_type": "stream",
     "text": [
      "[I 2024-04-11 05:54:26,228] Trial 34 finished with value: 0.4989920145568334 and parameters: {'C': 18.21329329781245, 'loss': 'squared_hinge', 'penalty': 'l2', 'dual': True, 'multi_class': 'ovr'}. Best is trial 28 with value: 0.5288495698530501.\n"
     ]
    },
    {
     "name": "stdout",
     "output_type": "stream",
     "text": [
      "fold: 5,F1 Score: 0.4930397020202887\n",
      "fold: 1,F1 Score: 0.4952299354698326\n",
      "fold: 2,F1 Score: 0.4876272099016\n",
      "fold: 3,F1 Score: 0.4775187051354408\n",
      "fold: 4,F1 Score: 0.541544520257005\n"
     ]
    },
    {
     "name": "stderr",
     "output_type": "stream",
     "text": [
      "[I 2024-04-11 05:54:40,723] Trial 35 finished with value: 0.4989920145568334 and parameters: {'C': 32.20450897515257, 'loss': 'squared_hinge', 'penalty': 'l2', 'dual': True, 'multi_class': 'ovr'}. Best is trial 28 with value: 0.5288495698530501.\n"
     ]
    },
    {
     "name": "stdout",
     "output_type": "stream",
     "text": [
      "fold: 5,F1 Score: 0.4930397020202887\n",
      "fold: 1,F1 Score: 0.4952299354698326\n",
      "fold: 2,F1 Score: 0.4876272099016\n",
      "fold: 3,F1 Score: 0.4775187051354408\n",
      "fold: 4,F1 Score: 0.541544520257005\n"
     ]
    },
    {
     "name": "stderr",
     "output_type": "stream",
     "text": [
      "[I 2024-04-11 05:54:55,048] Trial 36 finished with value: 0.4989920145568334 and parameters: {'C': 20.805869406898715, 'loss': 'squared_hinge', 'penalty': 'l2', 'dual': True, 'multi_class': 'ovr'}. Best is trial 28 with value: 0.5288495698530501.\n"
     ]
    },
    {
     "name": "stdout",
     "output_type": "stream",
     "text": [
      "fold: 5,F1 Score: 0.4930397020202887\n",
      "fold: 1,F1 Score: 0.4952299354698326\n",
      "fold: 2,F1 Score: 0.4876272099016\n",
      "fold: 3,F1 Score: 0.4775187051354408\n",
      "fold: 4,F1 Score: 0.541544520257005\n"
     ]
    },
    {
     "name": "stderr",
     "output_type": "stream",
     "text": [
      "[I 2024-04-11 05:55:09,394] Trial 37 finished with value: 0.4989920145568334 and parameters: {'C': 13.87552947245811, 'loss': 'hinge', 'penalty': 'l2', 'dual': True, 'multi_class': 'ovr'}. Best is trial 28 with value: 0.5288495698530501.\n"
     ]
    },
    {
     "name": "stdout",
     "output_type": "stream",
     "text": [
      "fold: 5,F1 Score: 0.4930397020202887\n",
      "fold: 1,F1 Score: 0.4952299354698326\n",
      "fold: 2,F1 Score: 0.4876272099016\n",
      "fold: 3,F1 Score: 0.4775187051354408\n",
      "fold: 4,F1 Score: 0.541544520257005\n"
     ]
    },
    {
     "name": "stderr",
     "output_type": "stream",
     "text": [
      "[I 2024-04-11 05:55:23,252] Trial 38 finished with value: 0.4989920145568334 and parameters: {'C': 7.574905760531637, 'loss': 'squared_hinge', 'penalty': 'l2', 'dual': True, 'multi_class': 'ovr'}. Best is trial 28 with value: 0.5288495698530501.\n"
     ]
    },
    {
     "name": "stdout",
     "output_type": "stream",
     "text": [
      "fold: 5,F1 Score: 0.4930397020202887\n",
      "fold: 1,F1 Score: 0.4952299354698326\n",
      "fold: 2,F1 Score: 0.4876272099016\n",
      "fold: 3,F1 Score: 0.4738964894166236\n",
      "fold: 4,F1 Score: 0.5729797566432039\n"
     ]
    },
    {
     "name": "stderr",
     "output_type": "stream",
     "text": [
      "[I 2024-04-11 05:55:31,615] Trial 39 finished with value: 0.5062746794973334 and parameters: {'C': 0.6080709122353037, 'loss': 'squared_hinge', 'penalty': 'l2', 'dual': True, 'multi_class': 'ovr'}. Best is trial 28 with value: 0.5288495698530501.\n"
     ]
    },
    {
     "name": "stdout",
     "output_type": "stream",
     "text": [
      "fold: 5,F1 Score: 0.5016400060554069\n",
      "fold: 1,F1 Score: 0.4952299354698326\n",
      "fold: 2,F1 Score: 0.4876272099016\n",
      "fold: 3,F1 Score: 0.4775187051354408\n",
      "fold: 4,F1 Score: 0.541544520257005\n"
     ]
    },
    {
     "name": "stderr",
     "output_type": "stream",
     "text": [
      "[I 2024-04-11 05:55:46,003] Trial 40 finished with value: 0.4989920145568334 and parameters: {'C': 30.80113425441025, 'loss': 'hinge', 'penalty': 'l2', 'dual': True, 'multi_class': 'ovr'}. Best is trial 28 with value: 0.5288495698530501.\n"
     ]
    },
    {
     "name": "stdout",
     "output_type": "stream",
     "text": [
      "fold: 5,F1 Score: 0.4930397020202887\n",
      "fold: 1,F1 Score: 0.4952299354698326\n",
      "fold: 2,F1 Score: 0.4876272099016\n",
      "fold: 3,F1 Score: 0.4738964894166236\n",
      "fold: 4,F1 Score: 0.5679292791581496\n"
     ]
    },
    {
     "name": "stderr",
     "output_type": "stream",
     "text": [
      "[I 2024-04-11 05:55:55,197] Trial 41 finished with value: 0.5052645840003226 and parameters: {'C': 0.8235163665801358, 'loss': 'squared_hinge', 'penalty': 'l2', 'dual': True, 'multi_class': 'ovr'}. Best is trial 28 with value: 0.5288495698530501.\n"
     ]
    },
    {
     "name": "stdout",
     "output_type": "stream",
     "text": [
      "fold: 5,F1 Score: 0.5016400060554069\n",
      "fold: 1,F1 Score: 0.4952299354698326\n",
      "fold: 2,F1 Score: 0.4876272099016\n",
      "fold: 3,F1 Score: 0.4775187051354408\n",
      "fold: 4,F1 Score: 0.541544520257005\n"
     ]
    },
    {
     "name": "stderr",
     "output_type": "stream",
     "text": [
      "[I 2024-04-11 05:56:08,592] Trial 42 finished with value: 0.4989920145568334 and parameters: {'C': 5.549041663776312, 'loss': 'squared_hinge', 'penalty': 'l2', 'dual': True, 'multi_class': 'ovr'}. Best is trial 28 with value: 0.5288495698530501.\n"
     ]
    },
    {
     "name": "stdout",
     "output_type": "stream",
     "text": [
      "fold: 5,F1 Score: 0.4930397020202887\n",
      "fold: 1,F1 Score: 0.4952299354698326\n",
      "fold: 2,F1 Score: 0.5010168802115111\n",
      "fold: 3,F1 Score: 0.4738964894166236\n",
      "fold: 4,F1 Score: 0.5679292791581496\n"
     ]
    },
    {
     "name": "stderr",
     "output_type": "stream",
     "text": [
      "[I 2024-04-11 05:56:16,430] Trial 43 finished with value: 0.5079425180623047 and parameters: {'C': 0.5231603206020603, 'loss': 'squared_hinge', 'penalty': 'l2', 'dual': True, 'multi_class': 'ovr'}. Best is trial 28 with value: 0.5288495698530501.\n"
     ]
    },
    {
     "name": "stdout",
     "output_type": "stream",
     "text": [
      "fold: 5,F1 Score: 0.5016400060554069\n",
      "fold: 1,F1 Score: 0.4952299354698326\n",
      "fold: 2,F1 Score: 0.4876272099016\n",
      "fold: 3,F1 Score: 0.4775187051354408\n",
      "fold: 4,F1 Score: 0.541544520257005\n"
     ]
    },
    {
     "name": "stderr",
     "output_type": "stream",
     "text": [
      "[I 2024-04-11 05:56:30,861] Trial 44 finished with value: 0.4989920145568334 and parameters: {'C': 13.913040897743338, 'loss': 'squared_hinge', 'penalty': 'l2', 'dual': True, 'multi_class': 'ovr'}. Best is trial 28 with value: 0.5288495698530501.\n"
     ]
    },
    {
     "name": "stdout",
     "output_type": "stream",
     "text": [
      "fold: 5,F1 Score: 0.4930397020202887\n",
      "fold: 1,F1 Score: 0.4952299354698326\n",
      "fold: 2,F1 Score: 0.4876272099016\n",
      "fold: 3,F1 Score: 0.4775187051354408\n",
      "fold: 4,F1 Score: 0.541544520257005\n"
     ]
    },
    {
     "name": "stderr",
     "output_type": "stream",
     "text": [
      "[I 2024-04-11 05:56:44,761] Trial 45 finished with value: 0.4989920145568334 and parameters: {'C': 6.930841767795434, 'loss': 'squared_hinge', 'penalty': 'l2', 'dual': True, 'multi_class': 'ovr'}. Best is trial 28 with value: 0.5288495698530501.\n"
     ]
    },
    {
     "name": "stdout",
     "output_type": "stream",
     "text": [
      "fold: 5,F1 Score: 0.4930397020202887\n",
      "fold: 1,F1 Score: 0.4952299354698326\n",
      "fold: 2,F1 Score: 0.4876272099016\n",
      "fold: 3,F1 Score: 0.4775187051354408\n",
      "fold: 4,F1 Score: 0.541544520257005\n"
     ]
    },
    {
     "name": "stderr",
     "output_type": "stream",
     "text": [
      "[I 2024-04-11 05:56:59,378] Trial 46 finished with value: 0.4989920145568334 and parameters: {'C': 68.91006373552997, 'loss': 'squared_hinge', 'penalty': 'l2', 'dual': True, 'multi_class': 'ovr'}. Best is trial 28 with value: 0.5288495698530501.\n"
     ]
    },
    {
     "name": "stdout",
     "output_type": "stream",
     "text": [
      "fold: 5,F1 Score: 0.4930397020202887\n",
      "fold: 1,F1 Score: 0.4952299354698326\n",
      "fold: 2,F1 Score: 0.4876272099016\n",
      "fold: 3,F1 Score: 0.4775187051354408\n",
      "fold: 4,F1 Score: 0.541544520257005\n"
     ]
    },
    {
     "name": "stderr",
     "output_type": "stream",
     "text": [
      "[I 2024-04-11 05:57:13,721] Trial 47 finished with value: 0.4989920145568334 and parameters: {'C': 23.346365688825095, 'loss': 'squared_hinge', 'penalty': 'l2', 'dual': True, 'multi_class': 'ovr'}. Best is trial 28 with value: 0.5288495698530501.\n"
     ]
    },
    {
     "name": "stdout",
     "output_type": "stream",
     "text": [
      "fold: 5,F1 Score: 0.4930397020202887\n",
      "fold: 1,F1 Score: 0.4952299354698326\n",
      "fold: 2,F1 Score: 0.4876272099016\n",
      "fold: 3,F1 Score: 0.4775187051354408\n",
      "fold: 4,F1 Score: 0.541544520257005\n"
     ]
    },
    {
     "name": "stderr",
     "output_type": "stream",
     "text": [
      "[I 2024-04-11 05:57:28,197] Trial 48 finished with value: 0.4989920145568334 and parameters: {'C': 92.36045340252628, 'loss': 'hinge', 'penalty': 'l2', 'dual': True, 'multi_class': 'ovr'}. Best is trial 28 with value: 0.5288495698530501.\n"
     ]
    },
    {
     "name": "stdout",
     "output_type": "stream",
     "text": [
      "fold: 5,F1 Score: 0.4930397020202887\n",
      "fold: 1,F1 Score: 0.4952299354698326\n",
      "fold: 2,F1 Score: 0.4876272099016\n",
      "fold: 3,F1 Score: 0.4775187051354408\n",
      "fold: 4,F1 Score: 0.541544520257005\n"
     ]
    },
    {
     "name": "stderr",
     "output_type": "stream",
     "text": [
      "[I 2024-04-11 05:58:05,166] Trial 49 finished with value: 0.4989920145568334 and parameters: {'C': 16.011512733014023, 'loss': 'squared_hinge', 'penalty': 'l2', 'dual': True, 'multi_class': 'crammer_singer'}. Best is trial 28 with value: 0.5288495698530501.\n"
     ]
    },
    {
     "name": "stdout",
     "output_type": "stream",
     "text": [
      "fold: 5,F1 Score: 0.4930397020202887\n",
      "fold: 1,F1 Score: 0.4952299354698326\n",
      "fold: 2,F1 Score: 0.4876272099016\n",
      "fold: 3,F1 Score: 0.4775187051354408\n",
      "fold: 4,F1 Score: 0.541544520257005\n"
     ]
    },
    {
     "name": "stderr",
     "output_type": "stream",
     "text": [
      "[I 2024-04-11 05:58:18,639] Trial 50 finished with value: 0.4989920145568334 and parameters: {'C': 5.0055079072452475, 'loss': 'squared_hinge', 'penalty': 'l2', 'dual': True, 'multi_class': 'ovr'}. Best is trial 28 with value: 0.5288495698530501.\n"
     ]
    },
    {
     "name": "stdout",
     "output_type": "stream",
     "text": [
      "fold: 5,F1 Score: 0.4930397020202887\n",
      "fold: 1,F1 Score: 0.4811262251349438\n",
      "fold: 2,F1 Score: 0.5586951357130129\n",
      "fold: 3,F1 Score: 0.5182231946869762\n",
      "fold: 4,F1 Score: 0.6292627710777696\n"
     ]
    },
    {
     "name": "stderr",
     "output_type": "stream",
     "text": [
      "[I 2024-04-11 05:58:20,041] Trial 51 finished with value: 0.5386197897680667 and parameters: {'C': 0.04046879031627687, 'loss': 'squared_hinge', 'penalty': 'l2', 'dual': True, 'multi_class': 'ovr'}. Best is trial 51 with value: 0.5386197897680667.\n"
     ]
    },
    {
     "name": "stdout",
     "output_type": "stream",
     "text": [
      "fold: 5,F1 Score: 0.5057916222276306\n",
      "fold: 1,F1 Score: 0.4952299354698326\n",
      "fold: 2,F1 Score: 0.4876272099016\n",
      "fold: 3,F1 Score: 0.4775187051354408\n",
      "fold: 4,F1 Score: 0.541544520257005\n"
     ]
    },
    {
     "name": "stderr",
     "output_type": "stream",
     "text": [
      "[I 2024-04-11 05:58:33,949] Trial 52 finished with value: 0.4989920145568334 and parameters: {'C': 9.650333200432383, 'loss': 'squared_hinge', 'penalty': 'l2', 'dual': True, 'multi_class': 'ovr'}. Best is trial 51 with value: 0.5386197897680667.\n"
     ]
    },
    {
     "name": "stdout",
     "output_type": "stream",
     "text": [
      "fold: 5,F1 Score: 0.4930397020202887\n",
      "fold: 1,F1 Score: 0.4952299354698326\n",
      "fold: 2,F1 Score: 0.4876272099016\n",
      "fold: 3,F1 Score: 0.4775187051354408\n",
      "fold: 4,F1 Score: 0.541544520257005\n"
     ]
    },
    {
     "name": "stderr",
     "output_type": "stream",
     "text": [
      "[I 2024-04-11 05:58:47,223] Trial 53 finished with value: 0.4989920145568334 and parameters: {'C': 4.015006608502945, 'loss': 'squared_hinge', 'penalty': 'l2', 'dual': True, 'multi_class': 'ovr'}. Best is trial 51 with value: 0.5386197897680667.\n"
     ]
    },
    {
     "name": "stdout",
     "output_type": "stream",
     "text": [
      "fold: 5,F1 Score: 0.4930397020202887\n",
      "fold: 1,F1 Score: 0.4952299354698326\n",
      "fold: 2,F1 Score: 0.5392972749579609\n",
      "fold: 3,F1 Score: 0.4914332731027362\n",
      "fold: 4,F1 Score: 0.6056014455343314\n"
     ]
    },
    {
     "name": "stderr",
     "output_type": "stream",
     "text": [
      "[I 2024-04-11 05:58:49,455] Trial 54 finished with value: 0.5291040106469775 and parameters: {'C': 0.07740253703503919, 'loss': 'squared_hinge', 'penalty': 'l2', 'dual': True, 'multi_class': 'ovr'}. Best is trial 51 with value: 0.5386197897680667.\n"
     ]
    },
    {
     "name": "stdout",
     "output_type": "stream",
     "text": [
      "fold: 5,F1 Score: 0.5139581241700268\n",
      "fold: 1,F1 Score: 0.4952299354698326\n",
      "fold: 2,F1 Score: 0.4876272099016\n",
      "fold: 3,F1 Score: 0.4775187051354408\n",
      "fold: 4,F1 Score: 0.541544520257005\n"
     ]
    },
    {
     "name": "stderr",
     "output_type": "stream",
     "text": [
      "[I 2024-04-11 05:59:03,507] Trial 55 finished with value: 0.4989920145568334 and parameters: {'C': 11.256381594107449, 'loss': 'squared_hinge', 'penalty': 'l2', 'dual': True, 'multi_class': 'ovr'}. Best is trial 51 with value: 0.5386197897680667.\n"
     ]
    },
    {
     "name": "stdout",
     "output_type": "stream",
     "text": [
      "fold: 5,F1 Score: 0.4930397020202887\n",
      "fold: 1,F1 Score: 0.4952299354698326\n",
      "fold: 2,F1 Score: 0.4876272099016\n",
      "fold: 3,F1 Score: 0.4775187051354408\n",
      "fold: 4,F1 Score: 0.541544520257005\n"
     ]
    },
    {
     "name": "stderr",
     "output_type": "stream",
     "text": [
      "[I 2024-04-11 05:59:40,351] Trial 56 finished with value: 0.4989920145568334 and parameters: {'C': 53.63607501322802, 'loss': 'squared_hinge', 'penalty': 'l2', 'dual': True, 'multi_class': 'crammer_singer'}. Best is trial 51 with value: 0.5386197897680667.\n"
     ]
    },
    {
     "name": "stdout",
     "output_type": "stream",
     "text": [
      "fold: 5,F1 Score: 0.4930397020202887\n",
      "fold: 1,F1 Score: 0.4952299354698326\n",
      "fold: 2,F1 Score: 0.4876272099016\n",
      "fold: 3,F1 Score: 0.4775187051354408\n",
      "fold: 4,F1 Score: 0.541544520257005\n"
     ]
    },
    {
     "name": "stderr",
     "output_type": "stream",
     "text": [
      "[I 2024-04-11 05:59:53,871] Trial 57 finished with value: 0.4989920145568334 and parameters: {'C': 5.140738347646408, 'loss': 'squared_hinge', 'penalty': 'l2', 'dual': True, 'multi_class': 'ovr'}. Best is trial 51 with value: 0.5386197897680667.\n"
     ]
    },
    {
     "name": "stdout",
     "output_type": "stream",
     "text": [
      "fold: 5,F1 Score: 0.4930397020202887\n",
      "fold: 1,F1 Score: 0.4952299354698326\n",
      "fold: 2,F1 Score: 0.4876272099016\n",
      "fold: 3,F1 Score: 0.4775187051354408\n",
      "fold: 4,F1 Score: 0.541544520257005\n"
     ]
    },
    {
     "name": "stderr",
     "output_type": "stream",
     "text": [
      "[I 2024-04-11 06:00:08,345] Trial 58 finished with value: 0.4989920145568334 and parameters: {'C': 17.79041600398326, 'loss': 'squared_hinge', 'penalty': 'l2', 'dual': True, 'multi_class': 'ovr'}. Best is trial 51 with value: 0.5386197897680667.\n"
     ]
    },
    {
     "name": "stdout",
     "output_type": "stream",
     "text": [
      "fold: 5,F1 Score: 0.4930397020202887\n",
      "fold: 1,F1 Score: 0.4952299354698326\n",
      "fold: 2,F1 Score: 0.4876272099016\n",
      "fold: 3,F1 Score: 0.4775187051354408\n",
      "fold: 4,F1 Score: 0.541544520257005\n"
     ]
    },
    {
     "name": "stderr",
     "output_type": "stream",
     "text": [
      "[I 2024-04-11 06:00:22,860] Trial 59 finished with value: 0.4989920145568334 and parameters: {'C': 42.25612852961882, 'loss': 'hinge', 'penalty': 'l2', 'dual': True, 'multi_class': 'ovr'}. Best is trial 51 with value: 0.5386197897680667.\n"
     ]
    },
    {
     "name": "stdout",
     "output_type": "stream",
     "text": [
      "fold: 5,F1 Score: 0.4930397020202887\n",
      "fold: 1,F1 Score: 0.4952299354698326\n",
      "fold: 2,F1 Score: 0.4876272099016\n",
      "fold: 3,F1 Score: 0.4775187051354408\n",
      "fold: 4,F1 Score: 0.541544520257005\n"
     ]
    },
    {
     "name": "stderr",
     "output_type": "stream",
     "text": [
      "[I 2024-04-11 06:00:59,878] Trial 60 finished with value: 0.4989920145568334 and parameters: {'C': 78.48161621527638, 'loss': 'squared_hinge', 'penalty': 'l2', 'dual': True, 'multi_class': 'crammer_singer'}. Best is trial 51 with value: 0.5386197897680667.\n"
     ]
    },
    {
     "name": "stdout",
     "output_type": "stream",
     "text": [
      "fold: 5,F1 Score: 0.4930397020202887\n",
      "fold: 1,F1 Score: 0.4952299354698326\n",
      "fold: 2,F1 Score: 0.5140817311507485\n",
      "fold: 3,F1 Score: 0.4876272099016\n",
      "fold: 4,F1 Score: 0.5869432580841977\n"
     ]
    },
    {
     "name": "stderr",
     "output_type": "stream",
     "text": [
      "[I 2024-04-11 06:01:03,433] Trial 61 finished with value: 0.5219776042225897 and parameters: {'C': 0.13767086103072726, 'loss': 'squared_hinge', 'penalty': 'l2', 'dual': True, 'multi_class': 'ovr'}. Best is trial 51 with value: 0.5386197897680667.\n"
     ]
    },
    {
     "name": "stdout",
     "output_type": "stream",
     "text": [
      "fold: 5,F1 Score: 0.5260058865065697\n",
      "fold: 1,F1 Score: 0.4952299354698326\n",
      "fold: 2,F1 Score: 0.4876272099016\n",
      "fold: 3,F1 Score: 0.4775187051354408\n",
      "fold: 4,F1 Score: 0.541544520257005\n"
     ]
    },
    {
     "name": "stderr",
     "output_type": "stream",
     "text": [
      "[I 2024-04-11 06:01:16,304] Trial 62 finished with value: 0.4989920145568334 and parameters: {'C': 3.390976630094384, 'loss': 'squared_hinge', 'penalty': 'l2', 'dual': True, 'multi_class': 'ovr'}. Best is trial 51 with value: 0.5386197897680667.\n"
     ]
    },
    {
     "name": "stdout",
     "output_type": "stream",
     "text": [
      "fold: 5,F1 Score: 0.4930397020202887\n",
      "fold: 1,F1 Score: 0.4952299354698326\n",
      "fold: 2,F1 Score: 0.4876272099016\n",
      "fold: 3,F1 Score: 0.4775187051354408\n",
      "fold: 4,F1 Score: 0.541544520257005\n"
     ]
    },
    {
     "name": "stderr",
     "output_type": "stream",
     "text": [
      "[I 2024-04-11 06:01:30,175] Trial 63 finished with value: 0.4989920145568334 and parameters: {'C': 9.633630479423125, 'loss': 'squared_hinge', 'penalty': 'l2', 'dual': True, 'multi_class': 'ovr'}. Best is trial 51 with value: 0.5386197897680667.\n"
     ]
    },
    {
     "name": "stdout",
     "output_type": "stream",
     "text": [
      "fold: 5,F1 Score: 0.4930397020202887\n",
      "fold: 1,F1 Score: 0.4952299354698326\n",
      "fold: 2,F1 Score: 0.5140817311507485\n",
      "fold: 3,F1 Score: 0.4738964894166236\n",
      "fold: 4,F1 Score: 0.5878127033023248\n"
     ]
    },
    {
     "name": "stderr",
     "output_type": "stream",
     "text": [
      "[I 2024-04-11 06:01:34,946] Trial 64 finished with value: 0.5202909958600805 and parameters: {'C': 0.2311918021123749, 'loss': 'squared_hinge', 'penalty': 'l2', 'dual': True, 'multi_class': 'ovr'}. Best is trial 51 with value: 0.5386197897680667.\n"
     ]
    },
    {
     "name": "stdout",
     "output_type": "stream",
     "text": [
      "fold: 5,F1 Score: 0.5304341199608733\n",
      "fold: 1,F1 Score: 0.4952299354698326\n",
      "fold: 2,F1 Score: 0.4876272099016\n",
      "fold: 3,F1 Score: 0.4775187051354408\n",
      "fold: 4,F1 Score: 0.541544520257005\n"
     ]
    },
    {
     "name": "stderr",
     "output_type": "stream",
     "text": [
      "[I 2024-04-11 06:01:48,223] Trial 65 finished with value: 0.4989920145568334 and parameters: {'C': 3.7286377856336745, 'loss': 'squared_hinge', 'penalty': 'l2', 'dual': True, 'multi_class': 'ovr'}. Best is trial 51 with value: 0.5386197897680667.\n"
     ]
    },
    {
     "name": "stdout",
     "output_type": "stream",
     "text": [
      "fold: 5,F1 Score: 0.4930397020202887\n",
      "fold: 1,F1 Score: 0.4952299354698326\n",
      "fold: 2,F1 Score: 0.4876272099016\n",
      "fold: 3,F1 Score: 0.4775187051354408\n",
      "fold: 4,F1 Score: 0.541544520257005\n"
     ]
    },
    {
     "name": "stderr",
     "output_type": "stream",
     "text": [
      "[I 2024-04-11 06:02:02,103] Trial 66 finished with value: 0.4989920145568334 and parameters: {'C': 8.570876742048576, 'loss': 'squared_hinge', 'penalty': 'l2', 'dual': True, 'multi_class': 'ovr'}. Best is trial 51 with value: 0.5386197897680667.\n"
     ]
    },
    {
     "name": "stdout",
     "output_type": "stream",
     "text": [
      "fold: 5,F1 Score: 0.4930397020202887\n",
      "fold: 1,F1 Score: 0.4952299354698326\n",
      "fold: 2,F1 Score: 0.4876272099016\n",
      "fold: 3,F1 Score: 0.4775187051354408\n",
      "fold: 4,F1 Score: 0.541544520257005\n"
     ]
    },
    {
     "name": "stderr",
     "output_type": "stream",
     "text": [
      "[I 2024-04-11 06:02:16,494] Trial 67 finished with value: 0.4989920145568334 and parameters: {'C': 11.630227504121926, 'loss': 'squared_hinge', 'penalty': 'l2', 'dual': True, 'multi_class': 'ovr'}. Best is trial 51 with value: 0.5386197897680667.\n"
     ]
    },
    {
     "name": "stdout",
     "output_type": "stream",
     "text": [
      "fold: 5,F1 Score: 0.4930397020202887\n",
      "fold: 1,F1 Score: 0.4811262251349438\n",
      "fold: 2,F1 Score: 0.54691011575172\n",
      "fold: 3,F1 Score: 0.5223643482133559\n",
      "fold: 4,F1 Score: 0.6147240562180742\n"
     ]
    },
    {
     "name": "stderr",
     "output_type": "stream",
     "text": [
      "[I 2024-04-11 06:02:18,022] Trial 68 finished with value: 0.5333529502747002 and parameters: {'C': 0.045542215708690215, 'loss': 'squared_hinge', 'penalty': 'l2', 'dual': True, 'multi_class': 'ovr'}. Best is trial 51 with value: 0.5386197897680667.\n"
     ]
    },
    {
     "name": "stdout",
     "output_type": "stream",
     "text": [
      "fold: 5,F1 Score: 0.5016400060554069\n",
      "fold: 1,F1 Score: 0.4952299354698326\n",
      "fold: 2,F1 Score: 0.4876272099016\n",
      "fold: 3,F1 Score: 0.4775187051354408\n",
      "fold: 4,F1 Score: 0.541544520257005\n"
     ]
    },
    {
     "name": "stderr",
     "output_type": "stream",
     "text": [
      "[I 2024-04-11 06:02:31,718] Trial 69 finished with value: 0.4989920145568334 and parameters: {'C': 6.322961362999665, 'loss': 'squared_hinge', 'penalty': 'l2', 'dual': True, 'multi_class': 'ovr'}. Best is trial 51 with value: 0.5386197897680667.\n"
     ]
    },
    {
     "name": "stdout",
     "output_type": "stream",
     "text": [
      "fold: 5,F1 Score: 0.4930397020202887\n",
      "fold: 1,F1 Score: 0.4952299354698326\n",
      "fold: 2,F1 Score: 0.4876272099016\n",
      "fold: 3,F1 Score: 0.4775187051354408\n",
      "fold: 4,F1 Score: 0.541544520257005\n"
     ]
    },
    {
     "name": "stderr",
     "output_type": "stream",
     "text": [
      "[I 2024-04-11 06:03:08,846] Trial 70 finished with value: 0.4989920145568334 and parameters: {'C': 3.0825101708536535, 'loss': 'squared_hinge', 'penalty': 'l2', 'dual': True, 'multi_class': 'crammer_singer'}. Best is trial 51 with value: 0.5386197897680667.\n"
     ]
    },
    {
     "name": "stdout",
     "output_type": "stream",
     "text": [
      "fold: 5,F1 Score: 0.4930397020202887\n",
      "fold: 1,F1 Score: 0.4952299354698326\n",
      "fold: 2,F1 Score: 0.4876272099016\n",
      "fold: 3,F1 Score: 0.4738964894166236\n",
      "fold: 4,F1 Score: 0.5729797566432039\n"
     ]
    },
    {
     "name": "stderr",
     "output_type": "stream",
     "text": [
      "[I 2024-04-11 06:03:17,797] Trial 71 finished with value: 0.5062746794973334 and parameters: {'C': 0.7348077461866837, 'loss': 'squared_hinge', 'penalty': 'l2', 'dual': True, 'multi_class': 'ovr'}. Best is trial 51 with value: 0.5386197897680667.\n"
     ]
    },
    {
     "name": "stdout",
     "output_type": "stream",
     "text": [
      "fold: 5,F1 Score: 0.5016400060554069\n",
      "fold: 1,F1 Score: 0.4952299354698326\n",
      "fold: 2,F1 Score: 0.5268370552189361\n",
      "fold: 3,F1 Score: 0.4914332731027362\n",
      "fold: 4,F1 Score: 0.5963430558146365\n"
     ]
    },
    {
     "name": "stderr",
     "output_type": "stream",
     "text": [
      "[I 2024-04-11 06:03:20,834] Trial 72 finished with value: 0.5271698412225422 and parameters: {'C': 0.11627404926505913, 'loss': 'squared_hinge', 'penalty': 'l2', 'dual': True, 'multi_class': 'ovr'}. Best is trial 51 with value: 0.5386197897680667.\n"
     ]
    },
    {
     "name": "stdout",
     "output_type": "stream",
     "text": [
      "fold: 5,F1 Score: 0.5260058865065697\n",
      "fold: 1,F1 Score: 0.4952299354698326\n",
      "fold: 2,F1 Score: 0.4876272099016\n",
      "fold: 3,F1 Score: 0.4775187051354408\n",
      "fold: 4,F1 Score: 0.541544520257005\n"
     ]
    },
    {
     "name": "stderr",
     "output_type": "stream",
     "text": [
      "[I 2024-04-11 06:03:34,665] Trial 73 finished with value: 0.4989920145568334 and parameters: {'C': 7.4814960375413575, 'loss': 'squared_hinge', 'penalty': 'l2', 'dual': True, 'multi_class': 'ovr'}. Best is trial 51 with value: 0.5386197897680667.\n"
     ]
    },
    {
     "name": "stdout",
     "output_type": "stream",
     "text": [
      "fold: 5,F1 Score: 0.4930397020202887\n",
      "fold: 1,F1 Score: 0.4952299354698326\n",
      "fold: 2,F1 Score: 0.4876272099016\n",
      "fold: 3,F1 Score: 0.4775187051354408\n",
      "fold: 4,F1 Score: 0.541544520257005\n"
     ]
    },
    {
     "name": "stderr",
     "output_type": "stream",
     "text": [
      "[I 2024-04-11 06:03:47,808] Trial 74 finished with value: 0.4989920145568334 and parameters: {'C': 3.7142438674675904, 'loss': 'squared_hinge', 'penalty': 'l2', 'dual': True, 'multi_class': 'ovr'}. Best is trial 51 with value: 0.5386197897680667.\n"
     ]
    },
    {
     "name": "stdout",
     "output_type": "stream",
     "text": [
      "fold: 5,F1 Score: 0.4930397020202887\n",
      "fold: 1,F1 Score: 0.4952299354698326\n",
      "fold: 2,F1 Score: 0.4876272099016\n",
      "fold: 3,F1 Score: 0.4775187051354408\n",
      "fold: 4,F1 Score: 0.541544520257005\n"
     ]
    },
    {
     "name": "stderr",
     "output_type": "stream",
     "text": [
      "[I 2024-04-11 06:04:02,027] Trial 75 finished with value: 0.4989920145568334 and parameters: {'C': 15.870510641586359, 'loss': 'squared_hinge', 'penalty': 'l2', 'dual': True, 'multi_class': 'ovr'}. Best is trial 51 with value: 0.5386197897680667.\n"
     ]
    },
    {
     "name": "stdout",
     "output_type": "stream",
     "text": [
      "fold: 5,F1 Score: 0.4930397020202887\n",
      "fold: 1,F1 Score: 0.4952299354698326\n",
      "fold: 2,F1 Score: 0.4876272099016\n",
      "fold: 3,F1 Score: 0.4775187051354408\n",
      "fold: 4,F1 Score: 0.541544520257005\n"
     ]
    },
    {
     "name": "stderr",
     "output_type": "stream",
     "text": [
      "[I 2024-04-11 06:04:16,604] Trial 76 finished with value: 0.4989920145568334 and parameters: {'C': 13.268523697611831, 'loss': 'hinge', 'penalty': 'l2', 'dual': True, 'multi_class': 'ovr'}. Best is trial 51 with value: 0.5386197897680667.\n"
     ]
    },
    {
     "name": "stdout",
     "output_type": "stream",
     "text": [
      "fold: 5,F1 Score: 0.4930397020202887\n",
      "fold: 1,F1 Score: 0.4952299354698326\n",
      "fold: 2,F1 Score: 0.4876272099016\n",
      "fold: 3,F1 Score: 0.4775187051354408\n",
      "fold: 4,F1 Score: 0.541544520257005\n"
     ]
    },
    {
     "name": "stderr",
     "output_type": "stream",
     "text": [
      "[I 2024-04-11 06:04:28,615] Trial 77 finished with value: 0.4989920145568334 and parameters: {'C': 2.2644056315745025, 'loss': 'squared_hinge', 'penalty': 'l2', 'dual': True, 'multi_class': 'ovr'}. Best is trial 51 with value: 0.5386197897680667.\n"
     ]
    },
    {
     "name": "stdout",
     "output_type": "stream",
     "text": [
      "fold: 5,F1 Score: 0.4930397020202887\n",
      "fold: 1,F1 Score: 0.4952299354698326\n",
      "fold: 2,F1 Score: 0.4876272099016\n",
      "fold: 3,F1 Score: 0.4775187051354408\n",
      "fold: 4,F1 Score: 0.541544520257005\n"
     ]
    },
    {
     "name": "stderr",
     "output_type": "stream",
     "text": [
      "[I 2024-04-11 06:04:42,568] Trial 78 finished with value: 0.4989920145568334 and parameters: {'C': 6.792029984468382, 'loss': 'squared_hinge', 'penalty': 'l2', 'dual': True, 'multi_class': 'ovr'}. Best is trial 51 with value: 0.5386197897680667.\n"
     ]
    },
    {
     "name": "stdout",
     "output_type": "stream",
     "text": [
      "fold: 5,F1 Score: 0.4930397020202887\n",
      "fold: 1,F1 Score: 0.4952299354698326\n",
      "fold: 2,F1 Score: 0.4876272099016\n",
      "fold: 3,F1 Score: 0.4775187051354408\n",
      "fold: 4,F1 Score: 0.541544520257005\n"
     ]
    },
    {
     "name": "stderr",
     "output_type": "stream",
     "text": [
      "[I 2024-04-11 06:04:57,204] Trial 79 finished with value: 0.4989920145568334 and parameters: {'C': 61.78374811044952, 'loss': 'squared_hinge', 'penalty': 'l2', 'dual': True, 'multi_class': 'ovr'}. Best is trial 51 with value: 0.5386197897680667.\n"
     ]
    },
    {
     "name": "stdout",
     "output_type": "stream",
     "text": [
      "fold: 5,F1 Score: 0.4930397020202887\n",
      "fold: 1,F1 Score: 0.4952299354698326\n",
      "fold: 2,F1 Score: 0.5140817311507485\n",
      "fold: 3,F1 Score: 0.4876272099016\n",
      "fold: 4,F1 Score: 0.5869432580841977\n"
     ]
    },
    {
     "name": "stderr",
     "output_type": "stream",
     "text": [
      "[I 2024-04-11 06:05:00,558] Trial 80 finished with value: 0.5219776042225897 and parameters: {'C': 0.13551970735634966, 'loss': 'squared_hinge', 'penalty': 'l2', 'dual': True, 'multi_class': 'ovr'}. Best is trial 51 with value: 0.5386197897680667.\n"
     ]
    },
    {
     "name": "stdout",
     "output_type": "stream",
     "text": [
      "fold: 5,F1 Score: 0.5260058865065697\n",
      "fold: 1,F1 Score: 0.4952299354698326\n",
      "fold: 2,F1 Score: 0.4876272099016\n",
      "fold: 3,F1 Score: 0.4775187051354408\n",
      "fold: 4,F1 Score: 0.541544520257005\n"
     ]
    },
    {
     "name": "stderr",
     "output_type": "stream",
     "text": [
      "[I 2024-04-11 06:05:13,624] Trial 81 finished with value: 0.4989920145568334 and parameters: {'C': 2.814356704192084, 'loss': 'squared_hinge', 'penalty': 'l2', 'dual': True, 'multi_class': 'ovr'}. Best is trial 51 with value: 0.5386197897680667.\n"
     ]
    },
    {
     "name": "stdout",
     "output_type": "stream",
     "text": [
      "fold: 5,F1 Score: 0.4930397020202887\n",
      "fold: 1,F1 Score: 0.4952299354698326\n",
      "fold: 2,F1 Score: 0.5010168802115111\n",
      "fold: 3,F1 Score: 0.4738964894166236\n",
      "fold: 4,F1 Score: 0.5679292791581496\n"
     ]
    },
    {
     "name": "stderr",
     "output_type": "stream",
     "text": [
      "[I 2024-04-11 06:05:20,578] Trial 82 finished with value: 0.5128156941525372 and parameters: {'C': 0.40618990422894174, 'loss': 'squared_hinge', 'penalty': 'l2', 'dual': True, 'multi_class': 'ovr'}. Best is trial 51 with value: 0.5386197897680667.\n"
     ]
    },
    {
     "name": "stdout",
     "output_type": "stream",
     "text": [
      "fold: 5,F1 Score: 0.5260058865065697\n",
      "fold: 1,F1 Score: 0.4952299354698326\n",
      "fold: 2,F1 Score: 0.4876272099016\n",
      "fold: 3,F1 Score: 0.4775187051354408\n",
      "fold: 4,F1 Score: 0.541544520257005\n"
     ]
    },
    {
     "name": "stderr",
     "output_type": "stream",
     "text": [
      "[I 2024-04-11 06:05:34,047] Trial 83 finished with value: 0.4989920145568334 and parameters: {'C': 5.536686849354364, 'loss': 'squared_hinge', 'penalty': 'l2', 'dual': True, 'multi_class': 'ovr'}. Best is trial 51 with value: 0.5386197897680667.\n"
     ]
    },
    {
     "name": "stdout",
     "output_type": "stream",
     "text": [
      "fold: 5,F1 Score: 0.4930397020202887\n",
      "fold: 1,F1 Score: 0.4952299354698326\n",
      "fold: 2,F1 Score: 0.4876272099016\n",
      "fold: 3,F1 Score: 0.4775187051354408\n",
      "fold: 4,F1 Score: 0.541544520257005\n"
     ]
    },
    {
     "name": "stderr",
     "output_type": "stream",
     "text": [
      "[I 2024-04-11 06:05:48,101] Trial 84 finished with value: 0.4989920145568334 and parameters: {'C': 9.304788097889537, 'loss': 'squared_hinge', 'penalty': 'l2', 'dual': True, 'multi_class': 'ovr'}. Best is trial 51 with value: 0.5386197897680667.\n"
     ]
    },
    {
     "name": "stdout",
     "output_type": "stream",
     "text": [
      "fold: 5,F1 Score: 0.4930397020202887\n",
      "fold: 1,F1 Score: 0.4811262251349438\n",
      "fold: 2,F1 Score: 0.54691011575172\n",
      "fold: 3,F1 Score: 0.4952299354698326\n",
      "fold: 4,F1 Score: 0.6056014455343314\n"
     ]
    },
    {
     "name": "stderr",
     "output_type": "stream",
     "text": [
      "[I 2024-04-11 06:05:50,058] Trial 85 finished with value: 0.5285651692121709 and parameters: {'C': 0.06474702167757634, 'loss': 'squared_hinge', 'penalty': 'l2', 'dual': True, 'multi_class': 'ovr'}. Best is trial 51 with value: 0.5386197897680667.\n"
     ]
    },
    {
     "name": "stdout",
     "output_type": "stream",
     "text": [
      "fold: 5,F1 Score: 0.5139581241700268\n",
      "fold: 1,F1 Score: 0.4952299354698326\n",
      "fold: 2,F1 Score: 0.4876272099016\n",
      "fold: 3,F1 Score: 0.4775187051354408\n",
      "fold: 4,F1 Score: 0.541544520257005\n"
     ]
    },
    {
     "name": "stderr",
     "output_type": "stream",
     "text": [
      "[I 2024-04-11 06:06:02,563] Trial 86 finished with value: 0.4989920145568334 and parameters: {'C': 2.728124699107732, 'loss': 'squared_hinge', 'penalty': 'l2', 'dual': True, 'multi_class': 'ovr'}. Best is trial 51 with value: 0.5386197897680667.\n"
     ]
    },
    {
     "name": "stdout",
     "output_type": "stream",
     "text": [
      "fold: 5,F1 Score: 0.4930397020202887\n",
      "fold: 1,F1 Score: 0.4952299354698326\n",
      "fold: 2,F1 Score: 0.4876272099016\n",
      "fold: 3,F1 Score: 0.4775187051354408\n",
      "fold: 4,F1 Score: 0.541544520257005\n"
     ]
    },
    {
     "name": "stderr",
     "output_type": "stream",
     "text": [
      "[I 2024-04-11 06:06:16,897] Trial 87 finished with value: 0.4989920145568334 and parameters: {'C': 11.489610648509041, 'loss': 'squared_hinge', 'penalty': 'l2', 'dual': True, 'multi_class': 'ovr'}. Best is trial 51 with value: 0.5386197897680667.\n"
     ]
    },
    {
     "name": "stdout",
     "output_type": "stream",
     "text": [
      "fold: 5,F1 Score: 0.4930397020202887\n",
      "fold: 1,F1 Score: 0.4952299354698326\n",
      "fold: 2,F1 Score: 0.4876272099016\n",
      "fold: 3,F1 Score: 0.4775187051354408\n",
      "fold: 4,F1 Score: 0.541544520257005\n"
     ]
    },
    {
     "name": "stderr",
     "output_type": "stream",
     "text": [
      "[I 2024-04-11 06:06:30,794] Trial 88 finished with value: 0.4989920145568334 and parameters: {'C': 7.157973657098436, 'loss': 'squared_hinge', 'penalty': 'l2', 'dual': True, 'multi_class': 'ovr'}. Best is trial 51 with value: 0.5386197897680667.\n"
     ]
    },
    {
     "name": "stdout",
     "output_type": "stream",
     "text": [
      "fold: 5,F1 Score: 0.4930397020202887\n",
      "fold: 1,F1 Score: 0.4952299354698326\n",
      "fold: 2,F1 Score: 0.4876272099016\n",
      "fold: 3,F1 Score: 0.4775187051354408\n",
      "fold: 4,F1 Score: 0.541544520257005\n"
     ]
    },
    {
     "name": "stderr",
     "output_type": "stream",
     "text": [
      "[I 2024-04-11 06:06:45,394] Trial 89 finished with value: 0.4989920145568334 and parameters: {'C': 46.76309021667846, 'loss': 'hinge', 'penalty': 'l2', 'dual': True, 'multi_class': 'ovr'}. Best is trial 51 with value: 0.5386197897680667.\n"
     ]
    },
    {
     "name": "stdout",
     "output_type": "stream",
     "text": [
      "fold: 5,F1 Score: 0.4930397020202887\n",
      "fold: 1,F1 Score: 0.4952299354698326\n",
      "fold: 2,F1 Score: 0.4876272099016\n",
      "fold: 3,F1 Score: 0.45980747480104894\n",
      "fold: 4,F1 Score: 0.5463149825565933\n"
     ]
    },
    {
     "name": "stderr",
     "output_type": "stream",
     "text": [
      "[I 2024-04-11 06:07:11,059] Trial 90 finished with value: 0.501446321716527 and parameters: {'C': 0.23165598584225547, 'loss': 'squared_hinge', 'penalty': 'l2', 'dual': True, 'multi_class': 'crammer_singer'}. Best is trial 51 with value: 0.5386197897680667.\n"
     ]
    },
    {
     "name": "stdout",
     "output_type": "stream",
     "text": [
      "fold: 5,F1 Score: 0.5182520058535601\n",
      "fold: 1,F1 Score: 0.4952299354698326\n",
      "fold: 2,F1 Score: 0.4876272099016\n",
      "fold: 3,F1 Score: 0.4775187051354408\n",
      "fold: 4,F1 Score: 0.541544520257005\n"
     ]
    },
    {
     "name": "stderr",
     "output_type": "stream",
     "text": [
      "[I 2024-04-11 06:07:23,577] Trial 91 finished with value: 0.4989920145568334 and parameters: {'C': 2.7164925165070932, 'loss': 'squared_hinge', 'penalty': 'l2', 'dual': True, 'multi_class': 'ovr'}. Best is trial 51 with value: 0.5386197897680667.\n"
     ]
    },
    {
     "name": "stdout",
     "output_type": "stream",
     "text": [
      "fold: 5,F1 Score: 0.4930397020202887\n",
      "fold: 1,F1 Score: 0.4952299354698326\n",
      "fold: 2,F1 Score: 0.4876272099016\n",
      "fold: 3,F1 Score: 0.4775187051354408\n",
      "fold: 4,F1 Score: 0.541544520257005\n"
     ]
    },
    {
     "name": "stderr",
     "output_type": "stream",
     "text": [
      "[I 2024-04-11 06:07:37,104] Trial 92 finished with value: 0.4989920145568334 and parameters: {'C': 5.093588322218465, 'loss': 'squared_hinge', 'penalty': 'l2', 'dual': True, 'multi_class': 'ovr'}. Best is trial 51 with value: 0.5386197897680667.\n"
     ]
    },
    {
     "name": "stdout",
     "output_type": "stream",
     "text": [
      "fold: 5,F1 Score: 0.4930397020202887\n",
      "fold: 1,F1 Score: 0.4952299354698326\n",
      "fold: 2,F1 Score: 0.5010168802115111\n",
      "fold: 3,F1 Score: 0.4738964894166236\n",
      "fold: 4,F1 Score: 0.5779547972987098\n"
     ]
    },
    {
     "name": "stderr",
     "output_type": "stream",
     "text": [
      "[I 2024-04-11 06:07:43,226] Trial 93 finished with value: 0.5157064444715102 and parameters: {'C': 0.3391636581077624, 'loss': 'squared_hinge', 'penalty': 'l2', 'dual': True, 'multi_class': 'ovr'}. Best is trial 51 with value: 0.5386197897680667.\n"
     ]
    },
    {
     "name": "stdout",
     "output_type": "stream",
     "text": [
      "fold: 5,F1 Score: 0.5304341199608733\n",
      "fold: 1,F1 Score: 0.4952299354698326\n",
      "fold: 2,F1 Score: 0.4876272099016\n",
      "fold: 3,F1 Score: 0.4775187051354408\n",
      "fold: 4,F1 Score: 0.541544520257005\n"
     ]
    },
    {
     "name": "stderr",
     "output_type": "stream",
     "text": [
      "[I 2024-04-11 06:07:57,326] Trial 94 finished with value: 0.4989920145568334 and parameters: {'C': 8.505094580348207, 'loss': 'squared_hinge', 'penalty': 'l2', 'dual': True, 'multi_class': 'ovr'}. Best is trial 51 with value: 0.5386197897680667.\n"
     ]
    },
    {
     "name": "stdout",
     "output_type": "stream",
     "text": [
      "fold: 5,F1 Score: 0.4930397020202887\n",
      "fold: 1,F1 Score: 0.4952299354698326\n",
      "fold: 2,F1 Score: 0.4876272099016\n",
      "fold: 3,F1 Score: 0.4775187051354408\n",
      "fold: 4,F1 Score: 0.541544520257005\n"
     ]
    },
    {
     "name": "stderr",
     "output_type": "stream",
     "text": [
      "[I 2024-04-11 06:08:11,021] Trial 95 finished with value: 0.4989920145568334 and parameters: {'C': 5.365495276174771, 'loss': 'squared_hinge', 'penalty': 'l2', 'dual': True, 'multi_class': 'ovr'}. Best is trial 51 with value: 0.5386197897680667.\n"
     ]
    },
    {
     "name": "stdout",
     "output_type": "stream",
     "text": [
      "fold: 5,F1 Score: 0.4930397020202887\n",
      "fold: 1,F1 Score: 0.4952299354698326\n",
      "fold: 2,F1 Score: 0.4876272099016\n",
      "fold: 3,F1 Score: 0.4775187051354408\n",
      "fold: 4,F1 Score: 0.541544520257005\n"
     ]
    },
    {
     "name": "stderr",
     "output_type": "stream",
     "text": [
      "[I 2024-04-11 06:08:23,493] Trial 96 finished with value: 0.4989920145568334 and parameters: {'C': 2.5267531350470587, 'loss': 'squared_hinge', 'penalty': 'l2', 'dual': True, 'multi_class': 'ovr'}. Best is trial 51 with value: 0.5386197897680667.\n"
     ]
    },
    {
     "name": "stdout",
     "output_type": "stream",
     "text": [
      "fold: 5,F1 Score: 0.4930397020202887\n",
      "fold: 1,F1 Score: 0.4952299354698326\n",
      "fold: 2,F1 Score: 0.5392972749579609\n",
      "fold: 3,F1 Score: 0.4914332731027362\n",
      "fold: 4,F1 Score: 0.6056014455343314\n"
     ]
    },
    {
     "name": "stderr",
     "output_type": "stream",
     "text": [
      "[I 2024-04-11 06:08:25,814] Trial 97 finished with value: 0.5291040106469775 and parameters: {'C': 0.078954906347767, 'loss': 'squared_hinge', 'penalty': 'l2', 'dual': True, 'multi_class': 'ovr'}. Best is trial 51 with value: 0.5386197897680667.\n"
     ]
    },
    {
     "name": "stdout",
     "output_type": "stream",
     "text": [
      "fold: 5,F1 Score: 0.5139581241700268\n",
      "fold: 1,F1 Score: 0.4952299354698326\n",
      "fold: 2,F1 Score: 0.4876272099016\n",
      "fold: 3,F1 Score: 0.4775187051354408\n",
      "fold: 4,F1 Score: 0.541544520257005\n"
     ]
    },
    {
     "name": "stderr",
     "output_type": "stream",
     "text": [
      "[I 2024-04-11 06:08:40,073] Trial 98 finished with value: 0.4989920145568334 and parameters: {'C': 11.154940646320618, 'loss': 'squared_hinge', 'penalty': 'l2', 'dual': True, 'multi_class': 'ovr'}. Best is trial 51 with value: 0.5386197897680667.\n"
     ]
    },
    {
     "name": "stdout",
     "output_type": "stream",
     "text": [
      "fold: 5,F1 Score: 0.4930397020202887\n",
      "fold: 1,F1 Score: 0.4952299354698326\n",
      "fold: 2,F1 Score: 0.4876272099016\n",
      "fold: 3,F1 Score: 0.4775187051354408\n",
      "fold: 4,F1 Score: 0.541544520257005\n"
     ]
    },
    {
     "name": "stderr",
     "output_type": "stream",
     "text": [
      "[I 2024-04-11 06:08:52,402] Trial 99 finished with value: 0.4989920145568334 and parameters: {'C': 2.3232931372517247, 'loss': 'squared_hinge', 'penalty': 'l2', 'dual': True, 'multi_class': 'ovr'}. Best is trial 51 with value: 0.5386197897680667.\n"
     ]
    },
    {
     "name": "stdout",
     "output_type": "stream",
     "text": [
      "fold: 5,F1 Score: 0.4930397020202887\n",
      "fold: 1,F1 Score: 0.4952299354698326\n",
      "fold: 2,F1 Score: 0.4876272099016\n",
      "fold: 3,F1 Score: 0.4775187051354408\n",
      "fold: 4,F1 Score: 0.541544520257005\n"
     ]
    },
    {
     "name": "stderr",
     "output_type": "stream",
     "text": [
      "[I 2024-04-11 06:09:07,076] Trial 100 finished with value: 0.4989920145568334 and parameters: {'C': 37.81561535444938, 'loss': 'squared_hinge', 'penalty': 'l2', 'dual': True, 'multi_class': 'ovr'}. Best is trial 51 with value: 0.5386197897680667.\n"
     ]
    },
    {
     "name": "stdout",
     "output_type": "stream",
     "text": [
      "fold: 5,F1 Score: 0.4930397020202887\n",
      "fold: 1,F1 Score: 0.4970319673314766\n",
      "fold: 2,F1 Score: 0.5983412560593769\n",
      "fold: 3,F1 Score: 0.5815280764945195\n"
     ]
    },
    {
     "name": "stderr",
     "output_type": "stream",
     "text": [
      "[I 2024-04-11 06:09:07,704] Trial 101 finished with value: 0.568440583700561 and parameters: {'C': 0.010361948404221305, 'loss': 'squared_hinge', 'penalty': 'l2', 'dual': True, 'multi_class': 'ovr'}. Best is trial 101 with value: 0.568440583700561.\n"
     ]
    },
    {
     "name": "stdout",
     "output_type": "stream",
     "text": [
      "fold: 4,F1 Score: 0.6642489120278131\n",
      "fold: 5,F1 Score: 0.5010527065896193\n",
      "fold: 1,F1 Score: 0.4952299354698326\n",
      "fold: 2,F1 Score: 0.4876272099016\n",
      "fold: 3,F1 Score: 0.4775187051354408\n",
      "fold: 4,F1 Score: 0.541544520257005\n"
     ]
    },
    {
     "name": "stderr",
     "output_type": "stream",
     "text": [
      "[I 2024-04-11 06:09:21,089] Trial 102 finished with value: 0.4989920145568334 and parameters: {'C': 4.359626948396983, 'loss': 'squared_hinge', 'penalty': 'l2', 'dual': True, 'multi_class': 'ovr'}. Best is trial 101 with value: 0.568440583700561.\n"
     ]
    },
    {
     "name": "stdout",
     "output_type": "stream",
     "text": [
      "fold: 5,F1 Score: 0.4930397020202887\n",
      "fold: 1,F1 Score: 0.45980747480104894\n",
      "fold: 2,F1 Score: 0.5606444558140469\n",
      "fold: 3,F1 Score: 0.5392972749579609\n",
      "fold: 4,F1 Score: 0.6325833381737151\n"
     ]
    },
    {
     "name": "stderr",
     "output_type": "stream",
     "text": [
      "[I 2024-04-11 06:09:22,034] Trial 103 finished with value: 0.5412581335833597 and parameters: {'C': 0.021726057576543147, 'loss': 'squared_hinge', 'penalty': 'l2', 'dual': True, 'multi_class': 'ovr'}. Best is trial 101 with value: 0.568440583700561.\n"
     ]
    },
    {
     "name": "stdout",
     "output_type": "stream",
     "text": [
      "fold: 5,F1 Score: 0.5139581241700268\n",
      "fold: 1,F1 Score: 0.4952299354698326\n",
      "fold: 2,F1 Score: 0.4876272099016\n",
      "fold: 3,F1 Score: 0.4775187051354408\n",
      "fold: 4,F1 Score: 0.541544520257005\n"
     ]
    },
    {
     "name": "stderr",
     "output_type": "stream",
     "text": [
      "[I 2024-04-11 06:09:35,790] Trial 104 finished with value: 0.4989920145568334 and parameters: {'C': 6.344384111088135, 'loss': 'squared_hinge', 'penalty': 'l2', 'dual': True, 'multi_class': 'ovr'}. Best is trial 101 with value: 0.568440583700561.\n"
     ]
    },
    {
     "name": "stdout",
     "output_type": "stream",
     "text": [
      "fold: 5,F1 Score: 0.4930397020202887\n",
      "fold: 1,F1 Score: 0.4952299354698326\n",
      "fold: 2,F1 Score: 0.4876272099016\n",
      "fold: 3,F1 Score: 0.4775187051354408\n",
      "fold: 4,F1 Score: 0.541544520257005\n"
     ]
    },
    {
     "name": "stderr",
     "output_type": "stream",
     "text": [
      "[I 2024-04-11 06:09:49,980] Trial 105 finished with value: 0.4989920145568334 and parameters: {'C': 8.00350775191712, 'loss': 'squared_hinge', 'penalty': 'l2', 'dual': True, 'multi_class': 'ovr'}. Best is trial 101 with value: 0.568440583700561.\n"
     ]
    },
    {
     "name": "stdout",
     "output_type": "stream",
     "text": [
      "fold: 5,F1 Score: 0.4930397020202887\n",
      "fold: 1,F1 Score: 0.4952299354698326\n",
      "fold: 2,F1 Score: 0.4876272099016\n",
      "fold: 3,F1 Score: 0.4775187051354408\n",
      "fold: 4,F1 Score: 0.541544520257005\n"
     ]
    },
    {
     "name": "stderr",
     "output_type": "stream",
     "text": [
      "[I 2024-04-11 06:10:02,030] Trial 106 finished with value: 0.4989920145568334 and parameters: {'C': 2.1370380484014, 'loss': 'squared_hinge', 'penalty': 'l2', 'dual': True, 'multi_class': 'ovr'}. Best is trial 101 with value: 0.568440583700561.\n"
     ]
    },
    {
     "name": "stdout",
     "output_type": "stream",
     "text": [
      "fold: 5,F1 Score: 0.4930397020202887\n",
      "fold: 1,F1 Score: 0.4952299354698326\n",
      "fold: 2,F1 Score: 0.4876272099016\n",
      "fold: 3,F1 Score: 0.4775187051354408\n",
      "fold: 4,F1 Score: 0.541544520257005\n"
     ]
    },
    {
     "name": "stderr",
     "output_type": "stream",
     "text": [
      "[I 2024-04-11 06:10:16,486] Trial 107 finished with value: 0.4989920145568334 and parameters: {'C': 4.572198435634726, 'loss': 'hinge', 'penalty': 'l2', 'dual': True, 'multi_class': 'ovr'}. Best is trial 101 with value: 0.568440583700561.\n"
     ]
    },
    {
     "name": "stdout",
     "output_type": "stream",
     "text": [
      "fold: 5,F1 Score: 0.4930397020202887\n",
      "fold: 1,F1 Score: 0.4632340260016659\n",
      "fold: 2,F1 Score: 0.5446678905709211\n",
      "fold: 3,F1 Score: 0.5702307621586835\n",
      "fold: 4,F1 Score: 0.6325833381737151\n"
     ]
    },
    {
     "name": "stderr",
     "output_type": "stream",
     "text": [
      "[I 2024-04-11 06:10:20,130] Trial 108 finished with value: 0.5399716487243823 and parameters: {'C': 0.023956475625354898, 'loss': 'squared_hinge', 'penalty': 'l2', 'dual': True, 'multi_class': 'crammer_singer'}. Best is trial 101 with value: 0.568440583700561.\n"
     ]
    },
    {
     "name": "stdout",
     "output_type": "stream",
     "text": [
      "fold: 5,F1 Score: 0.4891422267169257\n",
      "fold: 1,F1 Score: 0.4952299354698326\n",
      "fold: 2,F1 Score: 0.4876272099016\n",
      "fold: 3,F1 Score: 0.4775187051354408\n",
      "fold: 4,F1 Score: 0.541544520257005\n"
     ]
    },
    {
     "name": "stderr",
     "output_type": "stream",
     "text": [
      "[I 2024-04-11 06:10:57,011] Trial 109 finished with value: 0.4989920145568334 and parameters: {'C': 2.0805432726272457, 'loss': 'squared_hinge', 'penalty': 'l2', 'dual': True, 'multi_class': 'crammer_singer'}. Best is trial 101 with value: 0.568440583700561.\n"
     ]
    },
    {
     "name": "stdout",
     "output_type": "stream",
     "text": [
      "fold: 5,F1 Score: 0.4930397020202887\n",
      "fold: 1,F1 Score: 0.4952299354698326\n",
      "fold: 2,F1 Score: 0.4876272099016\n",
      "fold: 3,F1 Score: 0.4775187051354408\n",
      "fold: 4,F1 Score: 0.541544520257005\n"
     ]
    },
    {
     "name": "stderr",
     "output_type": "stream",
     "text": [
      "[I 2024-04-11 06:11:33,816] Trial 110 finished with value: 0.4989920145568334 and parameters: {'C': 9.650332342673481, 'loss': 'squared_hinge', 'penalty': 'l2', 'dual': True, 'multi_class': 'crammer_singer'}. Best is trial 101 with value: 0.568440583700561.\n"
     ]
    },
    {
     "name": "stdout",
     "output_type": "stream",
     "text": [
      "fold: 5,F1 Score: 0.4930397020202887\n",
      "fold: 1,F1 Score: 0.4952299354698326\n",
      "fold: 2,F1 Score: 0.4876272099016\n",
      "fold: 3,F1 Score: 0.4775187051354408\n",
      "fold: 4,F1 Score: 0.541544520257005\n"
     ]
    },
    {
     "name": "stderr",
     "output_type": "stream",
     "text": [
      "[I 2024-04-11 06:12:10,503] Trial 111 finished with value: 0.4989920145568334 and parameters: {'C': 4.151926009801343, 'loss': 'squared_hinge', 'penalty': 'l2', 'dual': True, 'multi_class': 'crammer_singer'}. Best is trial 101 with value: 0.568440583700561.\n"
     ]
    },
    {
     "name": "stdout",
     "output_type": "stream",
     "text": [
      "fold: 5,F1 Score: 0.4930397020202887\n",
      "fold: 1,F1 Score: 0.45175117026676437\n",
      "fold: 2,F1 Score: 0.5304341199608733\n",
      "fold: 3,F1 Score: 0.4876272099016\n",
      "fold: 4,F1 Score: 0.5826027546521935\n"
     ]
    },
    {
     "name": "stderr",
     "output_type": "stream",
     "text": [
      "[I 2024-04-11 06:12:18,479] Trial 112 finished with value: 0.5108110521673677 and parameters: {'C': 0.05482820572065617, 'loss': 'squared_hinge', 'penalty': 'l2', 'dual': True, 'multi_class': 'crammer_singer'}. Best is trial 101 with value: 0.568440583700561.\n"
     ]
    },
    {
     "name": "stdout",
     "output_type": "stream",
     "text": [
      "fold: 5,F1 Score: 0.5016400060554069\n",
      "fold: 1,F1 Score: 0.4952299354698326\n",
      "fold: 2,F1 Score: 0.4876272099016\n",
      "fold: 3,F1 Score: 0.4775187051354408\n",
      "fold: 4,F1 Score: 0.541544520257005\n"
     ]
    },
    {
     "name": "stderr",
     "output_type": "stream",
     "text": [
      "[I 2024-04-11 06:12:55,115] Trial 113 finished with value: 0.4989920145568334 and parameters: {'C': 6.125274037845999, 'loss': 'squared_hinge', 'penalty': 'l2', 'dual': True, 'multi_class': 'crammer_singer'}. Best is trial 101 with value: 0.568440583700561.\n"
     ]
    },
    {
     "name": "stdout",
     "output_type": "stream",
     "text": [
      "fold: 5,F1 Score: 0.4930397020202887\n",
      "fold: 1,F1 Score: 0.4952299354698326\n",
      "fold: 2,F1 Score: 0.4876272099016\n",
      "fold: 3,F1 Score: 0.4775187051354408\n",
      "fold: 4,F1 Score: 0.541544520257005\n"
     ]
    },
    {
     "name": "stderr",
     "output_type": "stream",
     "text": [
      "[I 2024-04-11 06:13:07,053] Trial 114 finished with value: 0.4989920145568334 and parameters: {'C': 2.0945937688668796, 'loss': 'squared_hinge', 'penalty': 'l2', 'dual': True, 'multi_class': 'ovr'}. Best is trial 101 with value: 0.568440583700561.\n"
     ]
    },
    {
     "name": "stdout",
     "output_type": "stream",
     "text": [
      "fold: 5,F1 Score: 0.4930397020202887\n",
      "fold: 1,F1 Score: 0.4952299354698326\n",
      "fold: 2,F1 Score: 0.4876272099016\n",
      "fold: 3,F1 Score: 0.4775187051354408\n",
      "fold: 4,F1 Score: 0.541544520257005\n"
     ]
    },
    {
     "name": "stderr",
     "output_type": "stream",
     "text": [
      "[I 2024-04-11 06:13:21,468] Trial 115 finished with value: 0.4989920145568334 and parameters: {'C': 88.33093568105855, 'loss': 'squared_hinge', 'penalty': 'l2', 'dual': True, 'multi_class': 'ovr'}. Best is trial 101 with value: 0.568440583700561.\n"
     ]
    },
    {
     "name": "stdout",
     "output_type": "stream",
     "text": [
      "fold: 5,F1 Score: 0.4930397020202887\n",
      "fold: 1,F1 Score: 0.4952299354698326\n",
      "fold: 2,F1 Score: 0.5140817311507485\n",
      "fold: 3,F1 Score: 0.4738964894166236\n",
      "fold: 4,F1 Score: 0.5773961837427924\n"
     ]
    },
    {
     "name": "stderr",
     "output_type": "stream",
     "text": [
      "[I 2024-04-11 06:13:25,122] Trial 116 finished with value: 0.5182076919481741 and parameters: {'C': 0.15284379121005445, 'loss': 'squared_hinge', 'penalty': 'l2', 'dual': True, 'multi_class': 'ovr'}. Best is trial 101 with value: 0.568440583700561.\n"
     ]
    },
    {
     "name": "stdout",
     "output_type": "stream",
     "text": [
      "fold: 5,F1 Score: 0.5304341199608733\n",
      "fold: 1,F1 Score: 0.4952299354698326\n",
      "fold: 2,F1 Score: 0.4876272099016\n",
      "fold: 3,F1 Score: 0.4775187051354408\n",
      "fold: 4,F1 Score: 0.541544520257005\n"
     ]
    },
    {
     "name": "stderr",
     "output_type": "stream",
     "text": [
      "[I 2024-04-11 06:13:38,292] Trial 117 finished with value: 0.4989920145568334 and parameters: {'C': 3.8971536228360617, 'loss': 'squared_hinge', 'penalty': 'l2', 'dual': True, 'multi_class': 'ovr'}. Best is trial 101 with value: 0.568440583700561.\n"
     ]
    },
    {
     "name": "stdout",
     "output_type": "stream",
     "text": [
      "fold: 5,F1 Score: 0.4930397020202887\n",
      "fold: 1,F1 Score: 0.4952299354698326\n",
      "fold: 2,F1 Score: 0.4876272099016\n",
      "fold: 3,F1 Score: 0.4775187051354408\n",
      "fold: 4,F1 Score: 0.541544520257005\n"
     ]
    },
    {
     "name": "stderr",
     "output_type": "stream",
     "text": [
      "[I 2024-04-11 06:14:14,930] Trial 118 finished with value: 0.4989920145568334 and parameters: {'C': 7.92326433284361, 'loss': 'squared_hinge', 'penalty': 'l2', 'dual': True, 'multi_class': 'crammer_singer'}. Best is trial 101 with value: 0.568440583700561.\n"
     ]
    },
    {
     "name": "stdout",
     "output_type": "stream",
     "text": [
      "fold: 5,F1 Score: 0.4930397020202887\n",
      "fold: 1,F1 Score: 0.4952299354698326\n",
      "fold: 2,F1 Score: 0.4876272099016\n",
      "fold: 3,F1 Score: 0.4775187051354408\n",
      "fold: 4,F1 Score: 0.541544520257005\n"
     ]
    },
    {
     "name": "stderr",
     "output_type": "stream",
     "text": [
      "[I 2024-04-11 06:14:26,685] Trial 119 finished with value: 0.4989920145568334 and parameters: {'C': 1.893504978757228, 'loss': 'squared_hinge', 'penalty': 'l2', 'dual': True, 'multi_class': 'ovr'}. Best is trial 101 with value: 0.568440583700561.\n"
     ]
    },
    {
     "name": "stdout",
     "output_type": "stream",
     "text": [
      "fold: 5,F1 Score: 0.4930397020202887\n",
      "fold: 1,F1 Score: 0.4952299354698326\n",
      "fold: 2,F1 Score: 0.4876272099016\n",
      "fold: 3,F1 Score: 0.4775187051354408\n",
      "fold: 4,F1 Score: 0.541544520257005\n"
     ]
    },
    {
     "name": "stderr",
     "output_type": "stream",
     "text": [
      "[I 2024-04-11 06:14:40,265] Trial 120 finished with value: 0.4989920145568334 and parameters: {'C': 5.804767206944387, 'loss': 'squared_hinge', 'penalty': 'l2', 'dual': True, 'multi_class': 'ovr'}. Best is trial 101 with value: 0.568440583700561.\n"
     ]
    },
    {
     "name": "stdout",
     "output_type": "stream",
     "text": [
      "fold: 5,F1 Score: 0.4930397020202887\n",
      "fold: 1,F1 Score: 0.4952299354698326\n",
      "fold: 2,F1 Score: 0.5140817311507485\n",
      "fold: 3,F1 Score: 0.4738964894166236\n",
      "fold: 4,F1 Score: 0.5728240743315003\n"
     ]
    },
    {
     "name": "stderr",
     "output_type": "stream",
     "text": [
      "[I 2024-04-11 06:14:45,694] Trial 121 finished with value: 0.5172932700659156 and parameters: {'C': 0.27558917228840235, 'loss': 'squared_hinge', 'penalty': 'l2', 'dual': True, 'multi_class': 'ovr'}. Best is trial 101 with value: 0.568440583700561.\n"
     ]
    },
    {
     "name": "stdout",
     "output_type": "stream",
     "text": [
      "fold: 5,F1 Score: 0.5304341199608733\n",
      "fold: 1,F1 Score: 0.4952299354698326\n",
      "fold: 2,F1 Score: 0.4876272099016\n",
      "fold: 3,F1 Score: 0.4775187051354408\n",
      "fold: 4,F1 Score: 0.541544520257005\n"
     ]
    },
    {
     "name": "stderr",
     "output_type": "stream",
     "text": [
      "[I 2024-04-11 06:14:58,919] Trial 122 finished with value: 0.4989920145568334 and parameters: {'C': 4.02160078262912, 'loss': 'squared_hinge', 'penalty': 'l2', 'dual': True, 'multi_class': 'ovr'}. Best is trial 101 with value: 0.568440583700561.\n"
     ]
    },
    {
     "name": "stdout",
     "output_type": "stream",
     "text": [
      "fold: 5,F1 Score: 0.4930397020202887\n",
      "fold: 1,F1 Score: 0.4952299354698326\n",
      "fold: 2,F1 Score: 0.4876272099016\n",
      "fold: 3,F1 Score: 0.4775187051354408\n",
      "fold: 4,F1 Score: 0.541544520257005\n"
     ]
    },
    {
     "name": "stderr",
     "output_type": "stream",
     "text": [
      "[I 2024-04-11 06:15:10,898] Trial 123 finished with value: 0.4989920145568334 and parameters: {'C': 2.1949741196853494, 'loss': 'squared_hinge', 'penalty': 'l2', 'dual': True, 'multi_class': 'ovr'}. Best is trial 101 with value: 0.568440583700561.\n"
     ]
    },
    {
     "name": "stdout",
     "output_type": "stream",
     "text": [
      "fold: 5,F1 Score: 0.4930397020202887\n",
      "fold: 1,F1 Score: 0.4952299354698326\n",
      "fold: 2,F1 Score: 0.4876272099016\n",
      "fold: 3,F1 Score: 0.4775187051354408\n",
      "fold: 4,F1 Score: 0.541544520257005\n"
     ]
    },
    {
     "name": "stderr",
     "output_type": "stream",
     "text": [
      "[I 2024-04-11 06:15:24,508] Trial 124 finished with value: 0.4989920145568334 and parameters: {'C': 6.526736422059206, 'loss': 'squared_hinge', 'penalty': 'l2', 'dual': True, 'multi_class': 'ovr'}. Best is trial 101 with value: 0.568440583700561.\n"
     ]
    },
    {
     "name": "stdout",
     "output_type": "stream",
     "text": [
      "fold: 5,F1 Score: 0.4930397020202887\n",
      "fold: 1,F1 Score: 0.4952299354698326\n",
      "fold: 2,F1 Score: 0.5010168802115111\n",
      "fold: 3,F1 Score: 0.4738964894166236\n",
      "fold: 4,F1 Score: 0.5728240743315003\n"
     ]
    },
    {
     "name": "stderr",
     "output_type": "stream",
     "text": [
      "[I 2024-04-11 06:15:30,164] Trial 125 finished with value: 0.5146802998780682 and parameters: {'C': 0.3085791344509655, 'loss': 'squared_hinge', 'penalty': 'l2', 'dual': True, 'multi_class': 'ovr'}. Best is trial 101 with value: 0.568440583700561.\n"
     ]
    },
    {
     "name": "stdout",
     "output_type": "stream",
     "text": [
      "fold: 5,F1 Score: 0.5304341199608733\n",
      "fold: 1,F1 Score: 0.4952299354698326\n",
      "fold: 2,F1 Score: 0.4876272099016\n",
      "fold: 3,F1 Score: 0.4775187051354408\n",
      "fold: 4,F1 Score: 0.541544520257005\n"
     ]
    },
    {
     "name": "stderr",
     "output_type": "stream",
     "text": [
      "[I 2024-04-11 06:15:43,259] Trial 126 finished with value: 0.4989920145568334 and parameters: {'C': 3.7649968883777265, 'loss': 'squared_hinge', 'penalty': 'l2', 'dual': True, 'multi_class': 'ovr'}. Best is trial 101 with value: 0.568440583700561.\n"
     ]
    },
    {
     "name": "stdout",
     "output_type": "stream",
     "text": [
      "fold: 5,F1 Score: 0.4930397020202887\n",
      "fold: 1,F1 Score: 0.4952299354698326\n",
      "fold: 2,F1 Score: 0.4876272099016\n",
      "fold: 3,F1 Score: 0.4775187051354408\n",
      "fold: 4,F1 Score: 0.541544520257005\n"
     ]
    },
    {
     "name": "stderr",
     "output_type": "stream",
     "text": [
      "[I 2024-04-11 06:15:57,642] Trial 127 finished with value: 0.4989920145568334 and parameters: {'C': 71.07938368802469, 'loss': 'hinge', 'penalty': 'l2', 'dual': True, 'multi_class': 'ovr'}. Best is trial 101 with value: 0.568440583700561.\n"
     ]
    },
    {
     "name": "stdout",
     "output_type": "stream",
     "text": [
      "fold: 5,F1 Score: 0.4930397020202887\n",
      "fold: 1,F1 Score: 0.4952299354698326\n",
      "fold: 2,F1 Score: 0.4876272099016\n",
      "fold: 3,F1 Score: 0.4775187051354408\n",
      "fold: 4,F1 Score: 0.541544520257005\n"
     ]
    },
    {
     "name": "stderr",
     "output_type": "stream",
     "text": [
      "[I 2024-04-11 06:16:11,668] Trial 128 finished with value: 0.4989920145568334 and parameters: {'C': 10.077221630541267, 'loss': 'squared_hinge', 'penalty': 'l2', 'dual': True, 'multi_class': 'ovr'}. Best is trial 101 with value: 0.568440583700561.\n"
     ]
    },
    {
     "name": "stdout",
     "output_type": "stream",
     "text": [
      "fold: 5,F1 Score: 0.4930397020202887\n",
      "fold: 1,F1 Score: 0.4952299354698326\n",
      "fold: 2,F1 Score: 0.4876272099016\n",
      "fold: 3,F1 Score: 0.4775187051354408\n",
      "fold: 4,F1 Score: 0.541544520257005\n"
     ]
    },
    {
     "name": "stderr",
     "output_type": "stream",
     "text": [
      "[I 2024-04-11 06:16:25,880] Trial 129 finished with value: 0.4989920145568334 and parameters: {'C': 12.881988248013862, 'loss': 'squared_hinge', 'penalty': 'l2', 'dual': True, 'multi_class': 'ovr'}. Best is trial 101 with value: 0.568440583700561.\n"
     ]
    },
    {
     "name": "stdout",
     "output_type": "stream",
     "text": [
      "fold: 5,F1 Score: 0.4930397020202887\n",
      "fold: 1,F1 Score: 0.4952299354698326\n",
      "fold: 2,F1 Score: 0.4876272099016\n",
      "fold: 3,F1 Score: 0.4775187051354408\n",
      "fold: 4,F1 Score: 0.541544520257005\n"
     ]
    },
    {
     "name": "stderr",
     "output_type": "stream",
     "text": [
      "[I 2024-04-11 06:16:37,778] Trial 130 finished with value: 0.4989920145568334 and parameters: {'C': 1.913752417424964, 'loss': 'squared_hinge', 'penalty': 'l2', 'dual': True, 'multi_class': 'ovr'}. Best is trial 101 with value: 0.568440583700561.\n"
     ]
    },
    {
     "name": "stdout",
     "output_type": "stream",
     "text": [
      "fold: 5,F1 Score: 0.4930397020202887\n",
      "fold: 1,F1 Score: 0.4952299354698326\n",
      "fold: 2,F1 Score: 0.5140817311507485\n",
      "fold: 3,F1 Score: 0.4876272099016\n",
      "fold: 4,F1 Score: 0.5869432580841977\n"
     ]
    },
    {
     "name": "stderr",
     "output_type": "stream",
     "text": [
      "[I 2024-04-11 06:16:41,279] Trial 131 finished with value: 0.5228632509134504 and parameters: {'C': 0.1441061281898747, 'loss': 'squared_hinge', 'penalty': 'l2', 'dual': True, 'multi_class': 'ovr'}. Best is trial 101 with value: 0.568440583700561.\n"
     ]
    },
    {
     "name": "stdout",
     "output_type": "stream",
     "text": [
      "fold: 5,F1 Score: 0.5304341199608733\n",
      "fold: 1,F1 Score: 0.4952299354698326\n",
      "fold: 2,F1 Score: 0.4876272099016\n",
      "fold: 3,F1 Score: 0.4775187051354408\n",
      "fold: 4,F1 Score: 0.541544520257005\n"
     ]
    },
    {
     "name": "stderr",
     "output_type": "stream",
     "text": [
      "[I 2024-04-11 06:16:54,727] Trial 132 finished with value: 0.4989920145568334 and parameters: {'C': 4.79833805881296, 'loss': 'squared_hinge', 'penalty': 'l2', 'dual': True, 'multi_class': 'ovr'}. Best is trial 101 with value: 0.568440583700561.\n"
     ]
    },
    {
     "name": "stdout",
     "output_type": "stream",
     "text": [
      "fold: 5,F1 Score: 0.4930397020202887\n",
      "fold: 1,F1 Score: 0.4811262251349438\n",
      "fold: 2,F1 Score: 0.54691011575172\n",
      "fold: 3,F1 Score: 0.5089700567888487\n",
      "fold: 4,F1 Score: 0.6056014455343314\n"
     ]
    },
    {
     "name": "stderr",
     "output_type": "stream",
     "text": [
      "[I 2024-04-11 06:16:56,613] Trial 133 finished with value: 0.531313193475974 and parameters: {'C': 0.059908350802927585, 'loss': 'squared_hinge', 'penalty': 'l2', 'dual': True, 'multi_class': 'ovr'}. Best is trial 101 with value: 0.568440583700561.\n"
     ]
    },
    {
     "name": "stdout",
     "output_type": "stream",
     "text": [
      "fold: 5,F1 Score: 0.5139581241700268\n",
      "fold: 1,F1 Score: 0.4811262251349438\n",
      "fold: 2,F1 Score: 0.54691011575172\n",
      "fold: 3,F1 Score: 0.5089700567888487\n",
      "fold: 4,F1 Score: 0.6056014455343314\n"
     ]
    },
    {
     "name": "stderr",
     "output_type": "stream",
     "text": [
      "[I 2024-04-11 06:16:58,319] Trial 134 finished with value: 0.5288495698530501 and parameters: {'C': 0.05341171767876361, 'loss': 'squared_hinge', 'penalty': 'l2', 'dual': True, 'multi_class': 'ovr'}. Best is trial 101 with value: 0.568440583700561.\n"
     ]
    },
    {
     "name": "stdout",
     "output_type": "stream",
     "text": [
      "fold: 5,F1 Score: 0.5016400060554069\n",
      "fold: 1,F1 Score: 0.4952299354698326\n",
      "fold: 2,F1 Score: 0.4876272099016\n",
      "fold: 3,F1 Score: 0.4775187051354408\n",
      "fold: 4,F1 Score: 0.541544520257005\n"
     ]
    },
    {
     "name": "stderr",
     "output_type": "stream",
     "text": [
      "[I 2024-04-11 06:17:10,582] Trial 135 finished with value: 0.4989920145568334 and parameters: {'C': 2.371930883729099, 'loss': 'squared_hinge', 'penalty': 'l2', 'dual': True, 'multi_class': 'ovr'}. Best is trial 101 with value: 0.568440583700561.\n"
     ]
    },
    {
     "name": "stdout",
     "output_type": "stream",
     "text": [
      "fold: 5,F1 Score: 0.4930397020202887\n",
      "fold: 1,F1 Score: 0.4952299354698326\n",
      "fold: 2,F1 Score: 0.4876272099016\n",
      "fold: 3,F1 Score: 0.4775187051354408\n",
      "fold: 4,F1 Score: 0.541544520257005\n"
     ]
    },
    {
     "name": "stderr",
     "output_type": "stream",
     "text": [
      "[I 2024-04-11 06:17:24,506] Trial 136 finished with value: 0.4989920145568334 and parameters: {'C': 7.777707354511894, 'loss': 'squared_hinge', 'penalty': 'l2', 'dual': True, 'multi_class': 'ovr'}. Best is trial 101 with value: 0.568440583700561.\n"
     ]
    },
    {
     "name": "stdout",
     "output_type": "stream",
     "text": [
      "fold: 5,F1 Score: 0.4930397020202887\n",
      "fold: 1,F1 Score: 0.4952299354698326\n",
      "fold: 2,F1 Score: 0.4876272099016\n",
      "fold: 3,F1 Score: 0.4775187051354408\n",
      "fold: 4,F1 Score: 0.541544520257005\n"
     ]
    },
    {
     "name": "stderr",
     "output_type": "stream",
     "text": [
      "[I 2024-04-11 06:17:37,790] Trial 137 finished with value: 0.4989920145568334 and parameters: {'C': 3.99024770595297, 'loss': 'squared_hinge', 'penalty': 'l2', 'dual': True, 'multi_class': 'ovr'}. Best is trial 101 with value: 0.568440583700561.\n"
     ]
    },
    {
     "name": "stdout",
     "output_type": "stream",
     "text": [
      "fold: 5,F1 Score: 0.4930397020202887\n",
      "fold: 1,F1 Score: 0.4632340260016659\n",
      "fold: 2,F1 Score: 0.5606444558140469\n",
      "fold: 3,F1 Score: 0.5776036044492421\n",
      "fold: 4,F1 Score: 0.649961631688571\n"
     ]
    },
    {
     "name": "stderr",
     "output_type": "stream",
     "text": [
      "[I 2024-04-11 06:17:40,237] Trial 138 finished with value: 0.5501651535342292 and parameters: {'C': 0.01656794243743806, 'loss': 'squared_hinge', 'penalty': 'l2', 'dual': True, 'multi_class': 'crammer_singer'}. Best is trial 101 with value: 0.568440583700561.\n"
     ]
    },
    {
     "name": "stdout",
     "output_type": "stream",
     "text": [
      "fold: 5,F1 Score: 0.4993820497176202\n",
      "fold: 1,F1 Score: 0.4952299354698326\n",
      "fold: 2,F1 Score: 0.4876272099016\n",
      "fold: 3,F1 Score: 0.4775187051354408\n",
      "fold: 4,F1 Score: 0.541544520257005\n"
     ]
    },
    {
     "name": "stderr",
     "output_type": "stream",
     "text": [
      "[I 2024-04-11 06:18:17,145] Trial 139 finished with value: 0.4989920145568334 and parameters: {'C': 6.3768685814391235, 'loss': 'squared_hinge', 'penalty': 'l2', 'dual': True, 'multi_class': 'crammer_singer'}. Best is trial 101 with value: 0.568440583700561.\n"
     ]
    },
    {
     "name": "stdout",
     "output_type": "stream",
     "text": [
      "fold: 5,F1 Score: 0.4930397020202887\n",
      "fold: 1,F1 Score: 0.4952299354698326\n",
      "fold: 2,F1 Score: 0.4876272099016\n",
      "fold: 3,F1 Score: 0.4775187051354408\n",
      "fold: 4,F1 Score: 0.541544520257005\n"
     ]
    },
    {
     "name": "stderr",
     "output_type": "stream",
     "text": [
      "[I 2024-04-11 06:18:54,116] Trial 140 finished with value: 0.4989920145568334 and parameters: {'C': 2.172536173015634, 'loss': 'squared_hinge', 'penalty': 'l2', 'dual': True, 'multi_class': 'crammer_singer'}. Best is trial 101 with value: 0.568440583700561.\n"
     ]
    },
    {
     "name": "stdout",
     "output_type": "stream",
     "text": [
      "fold: 5,F1 Score: 0.4930397020202887\n",
      "fold: 1,F1 Score: 0.4952299354698326\n",
      "fold: 2,F1 Score: 0.4876272099016\n",
      "fold: 3,F1 Score: 0.45980747480104894\n",
      "fold: 4,F1 Score: 0.541544520257005\n"
     ]
    },
    {
     "name": "stderr",
     "output_type": "stream",
     "text": [
      "[I 2024-04-11 06:19:19,571] Trial 141 finished with value: 0.5004922292566094 and parameters: {'C': 0.2309042279330392, 'loss': 'squared_hinge', 'penalty': 'l2', 'dual': True, 'multi_class': 'crammer_singer'}. Best is trial 101 with value: 0.568440583700561.\n"
     ]
    },
    {
     "name": "stdout",
     "output_type": "stream",
     "text": [
      "fold: 5,F1 Score: 0.5182520058535601\n",
      "fold: 1,F1 Score: 0.4952299354698326\n",
      "fold: 2,F1 Score: 0.4876272099016\n",
      "fold: 3,F1 Score: 0.4775187051354408\n",
      "fold: 4,F1 Score: 0.541544520257005\n"
     ]
    },
    {
     "name": "stderr",
     "output_type": "stream",
     "text": [
      "[I 2024-04-11 06:19:56,634] Trial 142 finished with value: 0.4989920145568334 and parameters: {'C': 27.796419613441007, 'loss': 'squared_hinge', 'penalty': 'l2', 'dual': True, 'multi_class': 'crammer_singer'}. Best is trial 101 with value: 0.568440583700561.\n"
     ]
    },
    {
     "name": "stdout",
     "output_type": "stream",
     "text": [
      "fold: 5,F1 Score: 0.4930397020202887\n",
      "fold: 1,F1 Score: 0.45175117026676437\n",
      "fold: 2,F1 Score: 0.5348640056517131\n",
      "fold: 3,F1 Score: 0.5010168802115111\n",
      "fold: 4,F1 Score: 0.5922243878219928\n"
     ]
    },
    {
     "name": "stderr",
     "output_type": "stream",
     "text": [
      "[I 2024-04-11 06:20:03,442] Trial 143 finished with value: 0.5137790479628894 and parameters: {'C': 0.04635577708757887, 'loss': 'squared_hinge', 'penalty': 'l2', 'dual': True, 'multi_class': 'crammer_singer'}. Best is trial 101 with value: 0.568440583700561.\n"
     ]
    },
    {
     "name": "stdout",
     "output_type": "stream",
     "text": [
      "fold: 5,F1 Score: 0.4890387958624655\n",
      "fold: 1,F1 Score: 0.4952299354698326\n",
      "fold: 2,F1 Score: 0.4876272099016\n",
      "fold: 3,F1 Score: 0.4775187051354408\n",
      "fold: 4,F1 Score: 0.541544520257005\n"
     ]
    },
    {
     "name": "stderr",
     "output_type": "stream",
     "text": [
      "[I 2024-04-11 06:20:16,205] Trial 144 finished with value: 0.4989920145568334 and parameters: {'C': 3.4886908856787686, 'loss': 'squared_hinge', 'penalty': 'l2', 'dual': True, 'multi_class': 'ovr'}. Best is trial 101 with value: 0.568440583700561.\n"
     ]
    },
    {
     "name": "stdout",
     "output_type": "stream",
     "text": [
      "fold: 5,F1 Score: 0.4930397020202887\n",
      "fold: 1,F1 Score: 0.4952299354698326\n",
      "fold: 2,F1 Score: 0.4876272099016\n",
      "fold: 3,F1 Score: 0.4775187051354408\n",
      "fold: 4,F1 Score: 0.541544520257005\n"
     ]
    },
    {
     "name": "stderr",
     "output_type": "stream",
     "text": [
      "[I 2024-04-11 06:20:29,633] Trial 145 finished with value: 0.4989920145568334 and parameters: {'C': 4.826587954305726, 'loss': 'squared_hinge', 'penalty': 'l2', 'dual': True, 'multi_class': 'ovr'}. Best is trial 101 with value: 0.568440583700561.\n"
     ]
    },
    {
     "name": "stdout",
     "output_type": "stream",
     "text": [
      "fold: 5,F1 Score: 0.4930397020202887\n",
      "fold: 1,F1 Score: 0.4952299354698326\n",
      "fold: 2,F1 Score: 0.4876272099016\n",
      "fold: 3,F1 Score: 0.4775187051354408\n",
      "fold: 4,F1 Score: 0.541544520257005\n"
     ]
    },
    {
     "name": "stderr",
     "output_type": "stream",
     "text": [
      "[I 2024-04-11 06:20:41,882] Trial 146 finished with value: 0.4989920145568334 and parameters: {'C': 2.488704245589376, 'loss': 'squared_hinge', 'penalty': 'l2', 'dual': True, 'multi_class': 'ovr'}. Best is trial 101 with value: 0.568440583700561.\n"
     ]
    },
    {
     "name": "stdout",
     "output_type": "stream",
     "text": [
      "fold: 5,F1 Score: 0.4930397020202887\n",
      "fold: 1,F1 Score: 0.4952299354698326\n",
      "fold: 2,F1 Score: 0.4876272099016\n",
      "fold: 3,F1 Score: 0.4775187051354408\n",
      "fold: 4,F1 Score: 0.541544520257005\n"
     ]
    },
    {
     "name": "stderr",
     "output_type": "stream",
     "text": [
      "[I 2024-04-11 06:21:18,809] Trial 147 finished with value: 0.4989920145568334 and parameters: {'C': 2.2853481027874323, 'loss': 'squared_hinge', 'penalty': 'l2', 'dual': True, 'multi_class': 'crammer_singer'}. Best is trial 101 with value: 0.568440583700561.\n"
     ]
    },
    {
     "name": "stdout",
     "output_type": "stream",
     "text": [
      "fold: 5,F1 Score: 0.4930397020202887\n",
      "fold: 1,F1 Score: 0.4952299354698326\n",
      "fold: 2,F1 Score: 0.4876272099016\n",
      "fold: 3,F1 Score: 0.4775187051354408\n",
      "fold: 4,F1 Score: 0.541544520257005\n"
     ]
    },
    {
     "name": "stderr",
     "output_type": "stream",
     "text": [
      "[I 2024-04-11 06:21:32,432] Trial 148 finished with value: 0.4989920145568334 and parameters: {'C': 6.25729289045264, 'loss': 'squared_hinge', 'penalty': 'l2', 'dual': True, 'multi_class': 'ovr'}. Best is trial 101 with value: 0.568440583700561.\n"
     ]
    },
    {
     "name": "stdout",
     "output_type": "stream",
     "text": [
      "fold: 5,F1 Score: 0.4930397020202887\n",
      "fold: 1,F1 Score: 0.4952299354698326\n",
      "fold: 2,F1 Score: 0.4876272099016\n",
      "fold: 3,F1 Score: 0.4775187051354408\n",
      "fold: 4,F1 Score: 0.541544520257005\n"
     ]
    },
    {
     "name": "stderr",
     "output_type": "stream",
     "text": [
      "[I 2024-04-11 06:21:46,304] Trial 149 finished with value: 0.4989920145568334 and parameters: {'C': 8.131117122067534, 'loss': 'squared_hinge', 'penalty': 'l2', 'dual': True, 'multi_class': 'ovr'}. Best is trial 101 with value: 0.568440583700561.\n"
     ]
    },
    {
     "name": "stdout",
     "output_type": "stream",
     "text": [
      "fold: 5,F1 Score: 0.4930397020202887\n",
      "fold: 1,F1 Score: 0.4952299354698326\n",
      "fold: 2,F1 Score: 0.4876272099016\n",
      "fold: 3,F1 Score: 0.4775187051354408\n",
      "fold: 4,F1 Score: 0.541544520257005\n"
     ]
    },
    {
     "name": "stderr",
     "output_type": "stream",
     "text": [
      "[I 2024-04-11 06:22:00,680] Trial 150 finished with value: 0.4989920145568334 and parameters: {'C': 4.585803805819967, 'loss': 'hinge', 'penalty': 'l2', 'dual': True, 'multi_class': 'ovr'}. Best is trial 101 with value: 0.568440583700561.\n"
     ]
    },
    {
     "name": "stdout",
     "output_type": "stream",
     "text": [
      "fold: 5,F1 Score: 0.4930397020202887\n",
      "fold: 1,F1 Score: 0.4952299354698326\n",
      "fold: 2,F1 Score: 0.5140817311507485\n",
      "fold: 3,F1 Score: 0.4738964894166236\n",
      "fold: 4,F1 Score: 0.5728240743315003\n"
     ]
    },
    {
     "name": "stderr",
     "output_type": "stream",
     "text": [
      "[I 2024-04-11 06:22:06,051] Trial 151 finished with value: 0.5172932700659156 and parameters: {'C': 0.29088411351441923, 'loss': 'squared_hinge', 'penalty': 'l2', 'dual': True, 'multi_class': 'ovr'}. Best is trial 101 with value: 0.568440583700561.\n"
     ]
    },
    {
     "name": "stdout",
     "output_type": "stream",
     "text": [
      "fold: 5,F1 Score: 0.5304341199608733\n",
      "fold: 1,F1 Score: 0.4952299354698326\n",
      "fold: 2,F1 Score: 0.4876272099016\n",
      "fold: 3,F1 Score: 0.4738964894166236\n",
      "fold: 4,F1 Score: 0.541544520257005\n"
     ]
    },
    {
     "name": "stderr",
     "output_type": "stream",
     "text": [
      "[I 2024-04-11 06:22:17,136] Trial 152 finished with value: 0.49826757141307 and parameters: {'C': 1.537792307549777, 'loss': 'squared_hinge', 'penalty': 'l2', 'dual': True, 'multi_class': 'ovr'}. Best is trial 101 with value: 0.568440583700561.\n"
     ]
    },
    {
     "name": "stdout",
     "output_type": "stream",
     "text": [
      "fold: 5,F1 Score: 0.4930397020202887\n",
      "fold: 1,F1 Score: 0.4952299354698326\n",
      "fold: 2,F1 Score: 0.5140817311507485\n",
      "fold: 3,F1 Score: 0.4738964894166236\n",
      "fold: 4,F1 Score: 0.5826027546521935\n"
     ]
    },
    {
     "name": "stderr",
     "output_type": "stream",
     "text": [
      "[I 2024-04-11 06:22:21,285] Trial 153 finished with value: 0.5192490061300543 and parameters: {'C': 0.18553477137649452, 'loss': 'squared_hinge', 'penalty': 'l2', 'dual': True, 'multi_class': 'ovr'}. Best is trial 101 with value: 0.568440583700561.\n"
     ]
    },
    {
     "name": "stdout",
     "output_type": "stream",
     "text": [
      "fold: 5,F1 Score: 0.5304341199608733\n",
      "fold: 1,F1 Score: 0.4952299354698326\n",
      "fold: 2,F1 Score: 0.4876272099016\n",
      "fold: 3,F1 Score: 0.4775187051354408\n",
      "fold: 4,F1 Score: 0.541544520257005\n"
     ]
    },
    {
     "name": "stderr",
     "output_type": "stream",
     "text": [
      "[I 2024-04-11 06:22:34,076] Trial 154 finished with value: 0.4989920145568334 and parameters: {'C': 3.4737356279171667, 'loss': 'squared_hinge', 'penalty': 'l2', 'dual': True, 'multi_class': 'ovr'}. Best is trial 101 with value: 0.568440583700561.\n"
     ]
    },
    {
     "name": "stdout",
     "output_type": "stream",
     "text": [
      "fold: 5,F1 Score: 0.4930397020202887\n",
      "fold: 1,F1 Score: 0.4952299354698326\n",
      "fold: 2,F1 Score: 0.4876272099016\n",
      "fold: 3,F1 Score: 0.4775187051354408\n",
      "fold: 4,F1 Score: 0.541544520257005\n"
     ]
    },
    {
     "name": "stderr",
     "output_type": "stream",
     "text": [
      "[I 2024-04-11 06:22:46,092] Trial 155 finished with value: 0.4989920145568334 and parameters: {'C': 2.0115093908847164, 'loss': 'squared_hinge', 'penalty': 'l2', 'dual': True, 'multi_class': 'ovr'}. Best is trial 101 with value: 0.568440583700561.\n"
     ]
    },
    {
     "name": "stdout",
     "output_type": "stream",
     "text": [
      "fold: 5,F1 Score: 0.4930397020202887\n",
      "fold: 1,F1 Score: 0.4952299354698326\n",
      "fold: 2,F1 Score: 0.5268370552189361\n",
      "fold: 3,F1 Score: 0.4914332731027362\n",
      "fold: 4,F1 Score: 0.5963430558146365\n"
     ]
    },
    {
     "name": "stderr",
     "output_type": "stream",
     "text": [
      "[I 2024-04-11 06:22:49,038] Trial 156 finished with value: 0.5271698412225422 and parameters: {'C': 0.11392376264964549, 'loss': 'squared_hinge', 'penalty': 'l2', 'dual': True, 'multi_class': 'ovr'}. Best is trial 101 with value: 0.568440583700561.\n"
     ]
    },
    {
     "name": "stdout",
     "output_type": "stream",
     "text": [
      "fold: 5,F1 Score: 0.5260058865065697\n",
      "fold: 1,F1 Score: 0.4952299354698326\n",
      "fold: 2,F1 Score: 0.4876272099016\n",
      "fold: 3,F1 Score: 0.4775187051354408\n",
      "fold: 4,F1 Score: 0.541544520257005\n"
     ]
    },
    {
     "name": "stderr",
     "output_type": "stream",
     "text": [
      "[I 2024-04-11 06:23:02,493] Trial 157 finished with value: 0.4989920145568334 and parameters: {'C': 5.427969365137523, 'loss': 'squared_hinge', 'penalty': 'l2', 'dual': True, 'multi_class': 'ovr'}. Best is trial 101 with value: 0.568440583700561.\n"
     ]
    },
    {
     "name": "stdout",
     "output_type": "stream",
     "text": [
      "fold: 5,F1 Score: 0.4930397020202887\n",
      "fold: 1,F1 Score: 0.48381056573604586\n",
      "fold: 2,F1 Score: 0.5875872340019285\n",
      "fold: 3,F1 Score: 0.5815280764945195\n"
     ]
    },
    {
     "name": "stderr",
     "output_type": "stream",
     "text": [
      "[I 2024-04-11 06:23:03,161] Trial 158 finished with value: 0.5610555289507386 and parameters: {'C': 0.011693500966018414, 'loss': 'squared_hinge', 'penalty': 'l2', 'dual': True, 'multi_class': 'ovr'}. Best is trial 101 with value: 0.568440583700561.\n"
     ]
    },
    {
     "name": "stdout",
     "output_type": "stream",
     "text": [
      "fold: 4,F1 Score: 0.6469918347159224\n",
      "fold: 5,F1 Score: 0.5053599338052772\n",
      "fold: 1,F1 Score: 0.4952299354698326\n",
      "fold: 2,F1 Score: 0.4876272099016\n",
      "fold: 3,F1 Score: 0.4775187051354408\n",
      "fold: 4,F1 Score: 0.541544520257005\n"
     ]
    },
    {
     "name": "stderr",
     "output_type": "stream",
     "text": [
      "[I 2024-04-11 06:23:40,088] Trial 159 finished with value: 0.4989920145568334 and parameters: {'C': 3.4991788435900744, 'loss': 'squared_hinge', 'penalty': 'l2', 'dual': True, 'multi_class': 'crammer_singer'}. Best is trial 101 with value: 0.568440583700561.\n"
     ]
    },
    {
     "name": "stdout",
     "output_type": "stream",
     "text": [
      "fold: 5,F1 Score: 0.4930397020202887\n",
      "fold: 1,F1 Score: 0.4952299354698326\n",
      "fold: 2,F1 Score: 0.4876272099016\n",
      "fold: 3,F1 Score: 0.4738964894166236\n",
      "fold: 4,F1 Score: 0.541544520257005\n"
     ]
    },
    {
     "name": "stderr",
     "output_type": "stream",
     "text": [
      "[I 2024-04-11 06:23:51,103] Trial 160 finished with value: 0.49826757141307 and parameters: {'C': 1.5175130102039955, 'loss': 'squared_hinge', 'penalty': 'l2', 'dual': True, 'multi_class': 'ovr'}. Best is trial 101 with value: 0.568440583700561.\n"
     ]
    },
    {
     "name": "stdout",
     "output_type": "stream",
     "text": [
      "fold: 5,F1 Score: 0.4930397020202887\n",
      "fold: 1,F1 Score: 0.4952299354698326\n",
      "fold: 2,F1 Score: 0.4876272099016\n",
      "fold: 3,F1 Score: 0.4775187051354408\n",
      "fold: 4,F1 Score: 0.541544520257005\n"
     ]
    },
    {
     "name": "stderr",
     "output_type": "stream",
     "text": [
      "[I 2024-04-11 06:24:02,897] Trial 161 finished with value: 0.4989920145568334 and parameters: {'C': 1.878219727160976, 'loss': 'squared_hinge', 'penalty': 'l2', 'dual': True, 'multi_class': 'ovr'}. Best is trial 101 with value: 0.568440583700561.\n"
     ]
    },
    {
     "name": "stdout",
     "output_type": "stream",
     "text": [
      "fold: 5,F1 Score: 0.4930397020202887\n",
      "fold: 1,F1 Score: 0.4952299354698326\n",
      "fold: 2,F1 Score: 0.5140817311507485\n",
      "fold: 3,F1 Score: 0.4876272099016\n",
      "fold: 4,F1 Score: 0.5869432580841977\n"
     ]
    },
    {
     "name": "stderr",
     "output_type": "stream",
     "text": [
      "[I 2024-04-11 06:24:06,155] Trial 162 finished with value: 0.5219776042225897 and parameters: {'C': 0.1299578144482652, 'loss': 'squared_hinge', 'penalty': 'l2', 'dual': True, 'multi_class': 'ovr'}. Best is trial 101 with value: 0.568440583700561.\n"
     ]
    },
    {
     "name": "stdout",
     "output_type": "stream",
     "text": [
      "fold: 5,F1 Score: 0.5260058865065697\n",
      "fold: 1,F1 Score: 0.4952299354698326\n",
      "fold: 2,F1 Score: 0.4876272099016\n",
      "fold: 3,F1 Score: 0.4775187051354408\n",
      "fold: 4,F1 Score: 0.541544520257005\n"
     ]
    },
    {
     "name": "stderr",
     "output_type": "stream",
     "text": [
      "[I 2024-04-11 06:24:19,311] Trial 163 finished with value: 0.4989920145568334 and parameters: {'C': 4.121357469576266, 'loss': 'squared_hinge', 'penalty': 'l2', 'dual': True, 'multi_class': 'ovr'}. Best is trial 101 with value: 0.568440583700561.\n"
     ]
    },
    {
     "name": "stdout",
     "output_type": "stream",
     "text": [
      "fold: 5,F1 Score: 0.4930397020202887\n",
      "fold: 1,F1 Score: 0.4952299354698326\n",
      "fold: 2,F1 Score: 0.5268370552189361\n",
      "fold: 3,F1 Score: 0.4914332731027362\n",
      "fold: 4,F1 Score: 0.5963430558146365\n"
     ]
    },
    {
     "name": "stderr",
     "output_type": "stream",
     "text": [
      "[I 2024-04-11 06:24:22,297] Trial 164 finished with value: 0.5271698412225422 and parameters: {'C': 0.11526517220366167, 'loss': 'squared_hinge', 'penalty': 'l2', 'dual': True, 'multi_class': 'ovr'}. Best is trial 101 with value: 0.568440583700561.\n"
     ]
    },
    {
     "name": "stdout",
     "output_type": "stream",
     "text": [
      "fold: 5,F1 Score: 0.5260058865065697\n",
      "fold: 1,F1 Score: 0.4952299354698326\n",
      "fold: 2,F1 Score: 0.4876272099016\n",
      "fold: 3,F1 Score: 0.4775187051354408\n",
      "fold: 4,F1 Score: 0.541544520257005\n"
     ]
    },
    {
     "name": "stderr",
     "output_type": "stream",
     "text": [
      "[I 2024-04-11 06:24:35,694] Trial 165 finished with value: 0.4989920145568334 and parameters: {'C': 5.6799467790838705, 'loss': 'squared_hinge', 'penalty': 'l2', 'dual': True, 'multi_class': 'ovr'}. Best is trial 101 with value: 0.568440583700561.\n"
     ]
    },
    {
     "name": "stdout",
     "output_type": "stream",
     "text": [
      "fold: 5,F1 Score: 0.4930397020202887\n",
      "fold: 1,F1 Score: 0.45980747480104894\n",
      "fold: 2,F1 Score: 0.5606444558140469\n",
      "fold: 3,F1 Score: 0.5392972749579609\n",
      "fold: 4,F1 Score: 0.6325833381737151\n"
     ]
    },
    {
     "name": "stderr",
     "output_type": "stream",
     "text": [
      "[I 2024-04-11 06:24:36,658] Trial 166 finished with value: 0.5403987611300239 and parameters: {'C': 0.020645963848886353, 'loss': 'squared_hinge', 'penalty': 'l2', 'dual': True, 'multi_class': 'ovr'}. Best is trial 101 with value: 0.568440583700561.\n"
     ]
    },
    {
     "name": "stdout",
     "output_type": "stream",
     "text": [
      "fold: 5,F1 Score: 0.5096612619033478\n",
      "fold: 1,F1 Score: 0.4952299354698326\n",
      "fold: 2,F1 Score: 0.4876272099016\n",
      "fold: 3,F1 Score: 0.4775187051354408\n",
      "fold: 4,F1 Score: 0.541544520257005\n"
     ]
    },
    {
     "name": "stderr",
     "output_type": "stream",
     "text": [
      "[I 2024-04-11 06:24:49,500] Trial 167 finished with value: 0.4989920145568334 and parameters: {'C': 2.865609057333396, 'loss': 'squared_hinge', 'penalty': 'l2', 'dual': True, 'multi_class': 'ovr'}. Best is trial 101 with value: 0.568440583700561.\n"
     ]
    },
    {
     "name": "stdout",
     "output_type": "stream",
     "text": [
      "fold: 5,F1 Score: 0.4930397020202887\n",
      "fold: 1,F1 Score: 0.4952299354698326\n",
      "fold: 2,F1 Score: 0.4876272099016\n",
      "fold: 3,F1 Score: 0.4775187051354408\n",
      "fold: 4,F1 Score: 0.541544520257005\n"
     ]
    },
    {
     "name": "stderr",
     "output_type": "stream",
     "text": [
      "[I 2024-04-11 06:25:01,676] Trial 168 finished with value: 0.4989920145568334 and parameters: {'C': 2.361317531971083, 'loss': 'squared_hinge', 'penalty': 'l2', 'dual': True, 'multi_class': 'ovr'}. Best is trial 101 with value: 0.568440583700561.\n"
     ]
    },
    {
     "name": "stdout",
     "output_type": "stream",
     "text": [
      "fold: 5,F1 Score: 0.4930397020202887\n",
      "fold: 1,F1 Score: 0.4952299354698326\n",
      "fold: 2,F1 Score: 0.4876272099016\n",
      "fold: 3,F1 Score: 0.4775187051354408\n",
      "fold: 4,F1 Score: 0.541544520257005\n"
     ]
    },
    {
     "name": "stderr",
     "output_type": "stream",
     "text": [
      "[I 2024-04-11 06:25:15,666] Trial 169 finished with value: 0.4989920145568334 and parameters: {'C': 7.702770451486733, 'loss': 'squared_hinge', 'penalty': 'l2', 'dual': True, 'multi_class': 'ovr'}. Best is trial 101 with value: 0.568440583700561.\n"
     ]
    },
    {
     "name": "stdout",
     "output_type": "stream",
     "text": [
      "fold: 5,F1 Score: 0.4930397020202887\n",
      "fold: 1,F1 Score: 0.4952299354698326\n",
      "fold: 2,F1 Score: 0.4876272099016\n",
      "fold: 3,F1 Score: 0.4775187051354408\n",
      "fold: 4,F1 Score: 0.541544520257005\n"
     ]
    },
    {
     "name": "stderr",
     "output_type": "stream",
     "text": [
      "[I 2024-04-11 06:25:28,845] Trial 170 finished with value: 0.4989920145568334 and parameters: {'C': 3.8153261995102334, 'loss': 'squared_hinge', 'penalty': 'l2', 'dual': True, 'multi_class': 'ovr'}. Best is trial 101 with value: 0.568440583700561.\n"
     ]
    },
    {
     "name": "stdout",
     "output_type": "stream",
     "text": [
      "fold: 5,F1 Score: 0.4930397020202887\n",
      "fold: 1,F1 Score: 0.4775187051354408\n",
      "fold: 2,F1 Score: 0.5540130550703319\n",
      "fold: 3,F1 Score: 0.5182231946869762\n",
      "fold: 4,F1 Score: 0.6237162906785352\n"
     ]
    },
    {
     "name": "stderr",
     "output_type": "stream",
     "text": [
      "[I 2024-04-11 06:25:30,108] Trial 171 finished with value: 0.5350222503253382 and parameters: {'C': 0.03367570944139796, 'loss': 'squared_hinge', 'penalty': 'l2', 'dual': True, 'multi_class': 'ovr'}. Best is trial 101 with value: 0.568440583700561.\n"
     ]
    },
    {
     "name": "stdout",
     "output_type": "stream",
     "text": [
      "fold: 5,F1 Score: 0.5016400060554069\n",
      "fold: 1,F1 Score: 0.4952299354698326\n",
      "fold: 2,F1 Score: 0.54691011575172\n",
      "fold: 3,F1 Score: 0.4952299354698326\n",
      "fold: 4,F1 Score: 0.6056014455343314\n"
     ]
    },
    {
     "name": "stderr",
     "output_type": "stream",
     "text": [
      "[I 2024-04-11 06:25:32,150] Trial 172 finished with value: 0.5313859112791487 and parameters: {'C': 0.06696391686497204, 'loss': 'squared_hinge', 'penalty': 'l2', 'dual': True, 'multi_class': 'ovr'}. Best is trial 101 with value: 0.568440583700561.\n"
     ]
    },
    {
     "name": "stdout",
     "output_type": "stream",
     "text": [
      "fold: 5,F1 Score: 0.5139581241700268\n",
      "fold: 1,F1 Score: 0.4952299354698326\n",
      "fold: 2,F1 Score: 0.4876272099016\n",
      "fold: 3,F1 Score: 0.4775187051354408\n",
      "fold: 4,F1 Score: 0.541544520257005\n"
     ]
    },
    {
     "name": "stderr",
     "output_type": "stream",
     "text": [
      "[I 2024-04-11 06:25:44,096] Trial 173 finished with value: 0.4989920145568334 and parameters: {'C': 1.9576405484051829, 'loss': 'squared_hinge', 'penalty': 'l2', 'dual': True, 'multi_class': 'ovr'}. Best is trial 101 with value: 0.568440583700561.\n"
     ]
    },
    {
     "name": "stdout",
     "output_type": "stream",
     "text": [
      "fold: 5,F1 Score: 0.4930397020202887\n",
      "fold: 1,F1 Score: 0.4811262251349438\n",
      "fold: 2,F1 Score: 0.5586951357130129\n",
      "fold: 3,F1 Score: 0.5182231946869762\n",
      "fold: 4,F1 Score: 0.6292627710777696\n"
     ]
    },
    {
     "name": "stderr",
     "output_type": "stream",
     "text": [
      "[I 2024-04-11 06:25:45,513] Trial 174 finished with value: 0.5386197897680667 and parameters: {'C': 0.04046379620152783, 'loss': 'squared_hinge', 'penalty': 'l2', 'dual': True, 'multi_class': 'ovr'}. Best is trial 101 with value: 0.568440583700561.\n"
     ]
    },
    {
     "name": "stdout",
     "output_type": "stream",
     "text": [
      "fold: 5,F1 Score: 0.5057916222276306\n",
      "fold: 1,F1 Score: 0.4952299354698326\n",
      "fold: 2,F1 Score: 0.4876272099016\n",
      "fold: 3,F1 Score: 0.4775187051354408\n",
      "fold: 4,F1 Score: 0.541544520257005\n"
     ]
    },
    {
     "name": "stderr",
     "output_type": "stream",
     "text": [
      "[I 2024-04-11 06:25:58,899] Trial 175 finished with value: 0.4989920145568334 and parameters: {'C': 5.130723650202523, 'loss': 'squared_hinge', 'penalty': 'l2', 'dual': True, 'multi_class': 'ovr'}. Best is trial 101 with value: 0.568440583700561.\n"
     ]
    },
    {
     "name": "stdout",
     "output_type": "stream",
     "text": [
      "fold: 5,F1 Score: 0.4930397020202887\n",
      "fold: 1,F1 Score: 0.4952299354698326\n",
      "fold: 2,F1 Score: 0.4876272099016\n",
      "fold: 3,F1 Score: 0.4775187051354408\n",
      "fold: 4,F1 Score: 0.541544520257005\n"
     ]
    },
    {
     "name": "stderr",
     "output_type": "stream",
     "text": [
      "[I 2024-04-11 06:26:10,982] Trial 176 finished with value: 0.4989920145568334 and parameters: {'C': 2.313555248239677, 'loss': 'squared_hinge', 'penalty': 'l2', 'dual': True, 'multi_class': 'ovr'}. Best is trial 101 with value: 0.568440583700561.\n"
     ]
    },
    {
     "name": "stdout",
     "output_type": "stream",
     "text": [
      "fold: 5,F1 Score: 0.4930397020202887\n",
      "fold: 1,F1 Score: 0.4952299354698326\n",
      "fold: 2,F1 Score: 0.4876272099016\n",
      "fold: 3,F1 Score: 0.4775187051354408\n",
      "fold: 4,F1 Score: 0.541544520257005\n"
     ]
    },
    {
     "name": "stderr",
     "output_type": "stream",
     "text": [
      "[I 2024-04-11 06:26:47,699] Trial 177 finished with value: 0.4989920145568334 and parameters: {'C': 3.800579877558047, 'loss': 'squared_hinge', 'penalty': 'l2', 'dual': True, 'multi_class': 'crammer_singer'}. Best is trial 101 with value: 0.568440583700561.\n"
     ]
    },
    {
     "name": "stdout",
     "output_type": "stream",
     "text": [
      "fold: 5,F1 Score: 0.4930397020202887\n",
      "fold: 1,F1 Score: 0.4952299354698326\n",
      "fold: 2,F1 Score: 0.4876272099016\n",
      "fold: 3,F1 Score: 0.4775187051354408\n",
      "fold: 4,F1 Score: 0.541544520257005\n"
     ]
    },
    {
     "name": "stderr",
     "output_type": "stream",
     "text": [
      "[I 2024-04-11 06:27:02,045] Trial 178 finished with value: 0.4989920145568334 and parameters: {'C': 6.022156730941708, 'loss': 'hinge', 'penalty': 'l2', 'dual': True, 'multi_class': 'ovr'}. Best is trial 101 with value: 0.568440583700561.\n"
     ]
    },
    {
     "name": "stdout",
     "output_type": "stream",
     "text": [
      "fold: 5,F1 Score: 0.4930397020202887\n",
      "fold: 1,F1 Score: 0.4952299354698326\n",
      "fold: 2,F1 Score: 0.4876272099016\n",
      "fold: 3,F1 Score: 0.4775187051354408\n",
      "fold: 4,F1 Score: 0.541544520257005\n"
     ]
    },
    {
     "name": "stderr",
     "output_type": "stream",
     "text": [
      "[I 2024-04-11 06:27:13,951] Trial 179 finished with value: 0.4989920145568334 and parameters: {'C': 1.971995326979958, 'loss': 'squared_hinge', 'penalty': 'l2', 'dual': True, 'multi_class': 'ovr'}. Best is trial 101 with value: 0.568440583700561.\n"
     ]
    },
    {
     "name": "stdout",
     "output_type": "stream",
     "text": [
      "fold: 5,F1 Score: 0.4930397020202887\n",
      "fold: 1,F1 Score: 0.4952299354698326\n",
      "fold: 2,F1 Score: 0.4876272099016\n",
      "fold: 3,F1 Score: 0.4775187051354408\n",
      "fold: 4,F1 Score: 0.541544520257005\n"
     ]
    },
    {
     "name": "stderr",
     "output_type": "stream",
     "text": [
      "[I 2024-04-11 06:27:27,169] Trial 180 finished with value: 0.4989920145568334 and parameters: {'C': 4.065044365002426, 'loss': 'squared_hinge', 'penalty': 'l2', 'dual': True, 'multi_class': 'ovr'}. Best is trial 101 with value: 0.568440583700561.\n"
     ]
    },
    {
     "name": "stdout",
     "output_type": "stream",
     "text": [
      "fold: 5,F1 Score: 0.4930397020202887\n",
      "fold: 1,F1 Score: 0.4952299354698326\n",
      "fold: 2,F1 Score: 0.4876272099016\n",
      "fold: 3,F1 Score: 0.4775187051354408\n",
      "fold: 4,F1 Score: 0.541544520257005\n"
     ]
    },
    {
     "name": "stderr",
     "output_type": "stream",
     "text": [
      "[I 2024-04-11 06:27:39,146] Trial 181 finished with value: 0.4989920145568334 and parameters: {'C': 1.982832703223702, 'loss': 'squared_hinge', 'penalty': 'l2', 'dual': True, 'multi_class': 'ovr'}. Best is trial 101 with value: 0.568440583700561.\n"
     ]
    },
    {
     "name": "stdout",
     "output_type": "stream",
     "text": [
      "fold: 5,F1 Score: 0.4930397020202887\n",
      "fold: 1,F1 Score: 0.4952299354698326\n",
      "fold: 2,F1 Score: 0.5140817311507485\n",
      "fold: 3,F1 Score: 0.4738964894166236\n",
      "fold: 4,F1 Score: 0.5826027546521935\n"
     ]
    },
    {
     "name": "stderr",
     "output_type": "stream",
     "text": [
      "[I 2024-04-11 06:27:44,240] Trial 182 finished with value: 0.5192490061300543 and parameters: {'C': 0.2559975501991484, 'loss': 'squared_hinge', 'penalty': 'l2', 'dual': True, 'multi_class': 'ovr'}. Best is trial 101 with value: 0.568440583700561.\n"
     ]
    },
    {
     "name": "stdout",
     "output_type": "stream",
     "text": [
      "fold: 5,F1 Score: 0.5304341199608733\n",
      "fold: 1,F1 Score: 0.4952299354698326\n",
      "fold: 2,F1 Score: 0.4876272099016\n",
      "fold: 3,F1 Score: 0.4775187051354408\n",
      "fold: 4,F1 Score: 0.541544520257005\n"
     ]
    },
    {
     "name": "stderr",
     "output_type": "stream",
     "text": [
      "[I 2024-04-11 06:27:58,687] Trial 183 finished with value: 0.4989920145568334 and parameters: {'C': 57.07382762553435, 'loss': 'squared_hinge', 'penalty': 'l2', 'dual': True, 'multi_class': 'ovr'}. Best is trial 101 with value: 0.568440583700561.\n"
     ]
    },
    {
     "name": "stdout",
     "output_type": "stream",
     "text": [
      "fold: 5,F1 Score: 0.4930397020202887\n",
      "fold: 1,F1 Score: 0.45980747480104894\n",
      "fold: 2,F1 Score: 0.5606444558140469\n",
      "fold: 3,F1 Score: 0.5311314949700204\n",
      "fold: 4,F1 Score: 0.6237162906785352\n"
     ]
    },
    {
     "name": "stderr",
     "output_type": "stream",
     "text": [
      "[I 2024-04-11 06:27:59,662] Trial 184 finished with value: 0.5353879444638118 and parameters: {'C': 0.023846071361685525, 'loss': 'squared_hinge', 'penalty': 'l2', 'dual': True, 'multi_class': 'ovr'}. Best is trial 101 with value: 0.568440583700561.\n"
     ]
    },
    {
     "name": "stdout",
     "output_type": "stream",
     "text": [
      "fold: 5,F1 Score: 0.5016400060554069\n",
      "fold: 1,F1 Score: 0.45980747480104894\n",
      "fold: 2,F1 Score: 0.5606444558140469\n",
      "fold: 3,F1 Score: 0.5392972749579609\n"
     ]
    },
    {
     "name": "stderr",
     "output_type": "stream",
     "text": [
      "[I 2024-04-11 06:28:00,568] Trial 185 finished with value: 0.5412581335833597 and parameters: {'C': 0.020969143153095064, 'loss': 'squared_hinge', 'penalty': 'l2', 'dual': True, 'multi_class': 'ovr'}. Best is trial 101 with value: 0.568440583700561.\n"
     ]
    },
    {
     "name": "stdout",
     "output_type": "stream",
     "text": [
      "fold: 4,F1 Score: 0.6325833381737151\n",
      "fold: 5,F1 Score: 0.5139581241700268\n",
      "fold: 1,F1 Score: 0.4738964894166236\n",
      "fold: 2,F1 Score: 0.5606444558140469\n",
      "fold: 3,F1 Score: 0.54691011575172\n",
      "fold: 4,F1 Score: 0.6381887410370529\n"
     ]
    },
    {
     "name": "stderr",
     "output_type": "stream",
     "text": [
      "[I 2024-04-11 06:28:01,350] Trial 186 finished with value: 0.5458602127845582 and parameters: {'C': 0.015917214680562827, 'loss': 'squared_hinge', 'penalty': 'l2', 'dual': True, 'multi_class': 'ovr'}. Best is trial 101 with value: 0.568440583700561.\n"
     ]
    },
    {
     "name": "stdout",
     "output_type": "stream",
     "text": [
      "fold: 5,F1 Score: 0.5096612619033478\n",
      "fold: 1,F1 Score: 0.4952299354698326\n",
      "fold: 2,F1 Score: 0.4876272099016\n",
      "fold: 3,F1 Score: 0.4775187051354408\n",
      "fold: 4,F1 Score: 0.541544520257005\n"
     ]
    },
    {
     "name": "stderr",
     "output_type": "stream",
     "text": [
      "[I 2024-04-11 06:28:13,600] Trial 187 finished with value: 0.4989920145568334 and parameters: {'C': 2.482294084009219, 'loss': 'squared_hinge', 'penalty': 'l2', 'dual': True, 'multi_class': 'ovr'}. Best is trial 101 with value: 0.568440583700561.\n"
     ]
    },
    {
     "name": "stdout",
     "output_type": "stream",
     "text": [
      "fold: 5,F1 Score: 0.4930397020202887\n",
      "fold: 1,F1 Score: 0.4952299354698326\n",
      "fold: 2,F1 Score: 0.4876272099016\n",
      "fold: 3,F1 Score: 0.4775187051354408\n",
      "fold: 4,F1 Score: 0.541544520257005\n"
     ]
    },
    {
     "name": "stderr",
     "output_type": "stream",
     "text": [
      "[I 2024-04-11 06:28:26,852] Trial 188 finished with value: 0.4989920145568334 and parameters: {'C': 4.036476527972324, 'loss': 'squared_hinge', 'penalty': 'l2', 'dual': True, 'multi_class': 'ovr'}. Best is trial 101 with value: 0.568440583700561.\n"
     ]
    },
    {
     "name": "stdout",
     "output_type": "stream",
     "text": [
      "fold: 5,F1 Score: 0.4930397020202887\n",
      "fold: 1,F1 Score: 0.4952299354698326\n",
      "fold: 2,F1 Score: 0.4876272099016\n",
      "fold: 3,F1 Score: 0.4775187051354408\n",
      "fold: 4,F1 Score: 0.541544520257005\n"
     ]
    },
    {
     "name": "stderr",
     "output_type": "stream",
     "text": [
      "[I 2024-04-11 06:29:03,588] Trial 189 finished with value: 0.4989920145568334 and parameters: {'C': 1.827380426969791, 'loss': 'squared_hinge', 'penalty': 'l2', 'dual': True, 'multi_class': 'crammer_singer'}. Best is trial 101 with value: 0.568440583700561.\n"
     ]
    },
    {
     "name": "stdout",
     "output_type": "stream",
     "text": [
      "fold: 5,F1 Score: 0.4930397020202887\n",
      "fold: 1,F1 Score: 0.4952299354698326\n",
      "fold: 2,F1 Score: 0.5392972749579609\n",
      "fold: 3,F1 Score: 0.4914332731027362\n",
      "fold: 4,F1 Score: 0.6056014455343314\n"
     ]
    },
    {
     "name": "stderr",
     "output_type": "stream",
     "text": [
      "[I 2024-04-11 06:29:05,862] Trial 190 finished with value: 0.5291040106469775 and parameters: {'C': 0.0791414452576144, 'loss': 'squared_hinge', 'penalty': 'l2', 'dual': True, 'multi_class': 'ovr'}. Best is trial 101 with value: 0.568440583700561.\n"
     ]
    },
    {
     "name": "stdout",
     "output_type": "stream",
     "text": [
      "fold: 5,F1 Score: 0.5139581241700268\n",
      "fold: 1,F1 Score: 0.4952299354698326\n",
      "fold: 2,F1 Score: 0.4876272099016\n",
      "fold: 3,F1 Score: 0.4775187051354408\n",
      "fold: 4,F1 Score: 0.541544520257005\n"
     ]
    },
    {
     "name": "stderr",
     "output_type": "stream",
     "text": [
      "[I 2024-04-11 06:29:17,484] Trial 191 finished with value: 0.4989920145568334 and parameters: {'C': 1.855341654106422, 'loss': 'squared_hinge', 'penalty': 'l2', 'dual': True, 'multi_class': 'ovr'}. Best is trial 101 with value: 0.568440583700561.\n"
     ]
    },
    {
     "name": "stdout",
     "output_type": "stream",
     "text": [
      "fold: 5,F1 Score: 0.4930397020202887\n",
      "fold: 1,F1 Score: 0.4952299354698326\n",
      "fold: 2,F1 Score: 0.5140817311507485\n",
      "fold: 3,F1 Score: 0.4738964894166236\n",
      "fold: 4,F1 Score: 0.5878127033023248\n"
     ]
    },
    {
     "name": "stderr",
     "output_type": "stream",
     "text": [
      "[I 2024-04-11 06:29:22,376] Trial 192 finished with value: 0.5202909958600805 and parameters: {'C': 0.23675247507766572, 'loss': 'squared_hinge', 'penalty': 'l2', 'dual': True, 'multi_class': 'ovr'}. Best is trial 101 with value: 0.568440583700561.\n"
     ]
    },
    {
     "name": "stdout",
     "output_type": "stream",
     "text": [
      "fold: 5,F1 Score: 0.5304341199608733\n",
      "fold: 1,F1 Score: 0.4952299354698326\n",
      "fold: 2,F1 Score: 0.4876272099016\n",
      "fold: 3,F1 Score: 0.4775187051354408\n",
      "fold: 4,F1 Score: 0.541544520257005\n"
     ]
    },
    {
     "name": "stderr",
     "output_type": "stream",
     "text": [
      "[I 2024-04-11 06:29:35,105] Trial 193 finished with value: 0.4989920145568334 and parameters: {'C': 3.493285081952827, 'loss': 'squared_hinge', 'penalty': 'l2', 'dual': True, 'multi_class': 'ovr'}. Best is trial 101 with value: 0.568440583700561.\n"
     ]
    },
    {
     "name": "stdout",
     "output_type": "stream",
     "text": [
      "fold: 5,F1 Score: 0.4930397020202887\n",
      "fold: 1,F1 Score: 0.4811262251349438\n",
      "fold: 2,F1 Score: 0.54691011575172\n",
      "fold: 3,F1 Score: 0.5089700567888487\n",
      "fold: 4,F1 Score: 0.6056014455343314\n"
     ]
    },
    {
     "name": "stderr",
     "output_type": "stream",
     "text": [
      "[I 2024-04-11 06:29:36,908] Trial 194 finished with value: 0.5288495698530501 and parameters: {'C': 0.05650223455161893, 'loss': 'squared_hinge', 'penalty': 'l2', 'dual': True, 'multi_class': 'ovr'}. Best is trial 101 with value: 0.568440583700561.\n"
     ]
    },
    {
     "name": "stdout",
     "output_type": "stream",
     "text": [
      "fold: 5,F1 Score: 0.5016400060554069\n",
      "fold: 1,F1 Score: 0.4811262251349438\n",
      "fold: 2,F1 Score: 0.54691011575172\n",
      "fold: 3,F1 Score: 0.5089700567888487\n",
      "fold: 4,F1 Score: 0.6056014455343314\n"
     ]
    },
    {
     "name": "stderr",
     "output_type": "stream",
     "text": [
      "[I 2024-04-11 06:29:38,495] Trial 195 finished with value: 0.5288495698530501 and parameters: {'C': 0.048786258491334084, 'loss': 'squared_hinge', 'penalty': 'l2', 'dual': True, 'multi_class': 'ovr'}. Best is trial 101 with value: 0.568440583700561.\n"
     ]
    },
    {
     "name": "stdout",
     "output_type": "stream",
     "text": [
      "fold: 5,F1 Score: 0.5016400060554069\n",
      "fold: 1,F1 Score: 0.4952299354698326\n",
      "fold: 2,F1 Score: 0.4876272099016\n",
      "fold: 3,F1 Score: 0.4775187051354408\n",
      "fold: 4,F1 Score: 0.541544520257005\n"
     ]
    },
    {
     "name": "stderr",
     "output_type": "stream",
     "text": [
      "[I 2024-04-11 06:29:52,291] Trial 196 finished with value: 0.4989920145568334 and parameters: {'C': 5.982814546582985, 'loss': 'squared_hinge', 'penalty': 'l2', 'dual': True, 'multi_class': 'ovr'}. Best is trial 101 with value: 0.568440583700561.\n"
     ]
    },
    {
     "name": "stdout",
     "output_type": "stream",
     "text": [
      "fold: 5,F1 Score: 0.4930397020202887\n",
      "fold: 1,F1 Score: 0.4952299354698326\n",
      "fold: 2,F1 Score: 0.4876272099016\n",
      "fold: 3,F1 Score: 0.4775187051354408\n",
      "fold: 4,F1 Score: 0.541544520257005\n"
     ]
    },
    {
     "name": "stderr",
     "output_type": "stream",
     "text": [
      "[I 2024-04-11 06:30:05,241] Trial 197 finished with value: 0.4989920145568334 and parameters: {'C': 3.1620547445719303, 'loss': 'squared_hinge', 'penalty': 'l2', 'dual': True, 'multi_class': 'ovr'}. Best is trial 101 with value: 0.568440583700561.\n"
     ]
    },
    {
     "name": "stdout",
     "output_type": "stream",
     "text": [
      "fold: 5,F1 Score: 0.4930397020202887\n",
      "fold: 1,F1 Score: 0.4952299354698326\n",
      "fold: 2,F1 Score: 0.4876272099016\n",
      "fold: 3,F1 Score: 0.4775187051354408\n",
      "fold: 4,F1 Score: 0.541544520257005\n"
     ]
    },
    {
     "name": "stderr",
     "output_type": "stream",
     "text": [
      "[I 2024-04-11 06:30:18,779] Trial 198 finished with value: 0.4989920145568334 and parameters: {'C': 4.909617523238015, 'loss': 'squared_hinge', 'penalty': 'l2', 'dual': True, 'multi_class': 'ovr'}. Best is trial 101 with value: 0.568440583700561.\n"
     ]
    },
    {
     "name": "stdout",
     "output_type": "stream",
     "text": [
      "fold: 5,F1 Score: 0.4930397020202887\n",
      "fold: 1,F1 Score: 0.4952299354698326\n",
      "fold: 2,F1 Score: 0.4876272099016\n",
      "fold: 3,F1 Score: 0.4775187051354408\n",
      "fold: 4,F1 Score: 0.541544520257005\n"
     ]
    },
    {
     "name": "stderr",
     "output_type": "stream",
     "text": [
      "[I 2024-04-11 06:30:30,774] Trial 199 finished with value: 0.4989920145568334 and parameters: {'C': 2.0783826712539253, 'loss': 'squared_hinge', 'penalty': 'l2', 'dual': True, 'multi_class': 'ovr'}. Best is trial 101 with value: 0.568440583700561.\n"
     ]
    },
    {
     "name": "stdout",
     "output_type": "stream",
     "text": [
      "fold: 5,F1 Score: 0.4930397020202887\n",
      "Number of finished trials: 200\n",
      "Best trial: {'C': 0.010361948404221305, 'loss': 'squared_hinge', 'penalty': 'l2', 'dual': True, 'multi_class': 'ovr'}\n"
     ]
    }
   ],
   "source": [
    "study = optuna.create_study(direction='maximize')\n",
    "study.optimize(objective,n_trials= 200)\n",
    "print('Number of finished trials:', len(study.trials))\n",
    "print('Best trial:', study.best_trial.params)"
   ]
  },
  {
   "cell_type": "code",
   "execution_count": 10,
   "id": "b7abad95",
   "metadata": {
    "execution": {
     "iopub.execute_input": "2024-04-11T06:30:31.053121Z",
     "iopub.status.busy": "2024-04-11T06:30:31.052711Z",
     "iopub.status.idle": "2024-04-11T06:30:31.203898Z",
     "shell.execute_reply": "2024-04-11T06:30:31.202800Z"
    },
    "papermill": {
     "duration": 0.273231,
     "end_time": "2024-04-11T06:30:31.206491",
     "exception": false,
     "start_time": "2024-04-11T06:30:30.933260",
     "status": "completed"
    },
    "tags": []
   },
   "outputs": [],
   "source": [
    "params = study.best_params\n",
    "base_model = LinearSVC(**params,max_iter=5000)\n",
    "model = CalibratedClassifierCV(base_model, method='sigmoid')\n",
    "model.fit(X,y)\n",
    "pred = model.predict_proba(X_test)"
   ]
  },
  {
   "cell_type": "code",
   "execution_count": 11,
   "id": "3da04e2d",
   "metadata": {
    "execution": {
     "iopub.execute_input": "2024-04-11T06:30:31.436960Z",
     "iopub.status.busy": "2024-04-11T06:30:31.435568Z",
     "iopub.status.idle": "2024-04-11T06:30:31.448776Z",
     "shell.execute_reply": "2024-04-11T06:30:31.447481Z"
    },
    "papermill": {
     "duration": 0.131762,
     "end_time": "2024-04-11T06:30:31.451542",
     "exception": false,
     "start_time": "2024-04-11T06:30:31.319780",
     "status": "completed"
    },
    "tags": []
   },
   "outputs": [],
   "source": [
    "df_test[['class1','class2']] = pred\n",
    "\n",
    "submission = df_test[['CandidateID','class1','class2']]\n",
    "submission.to_csv('linearsvc.csv')"
   ]
  },
  {
   "cell_type": "code",
   "execution_count": null,
   "id": "35126b51",
   "metadata": {
    "papermill": {
     "duration": 0.116321,
     "end_time": "2024-04-11T06:30:31.684600",
     "exception": false,
     "start_time": "2024-04-11T06:30:31.568279",
     "status": "completed"
    },
    "tags": []
   },
   "outputs": [],
   "source": []
  }
 ],
 "metadata": {
  "kaggle": {
   "accelerator": "none",
   "dataSources": [
    {
     "datasetId": 4767705,
     "sourceId": 8078360,
     "sourceType": "datasetVersion"
    },
    {
     "datasetId": 4771583,
     "sourceId": 8083623,
     "sourceType": "datasetVersion"
    }
   ],
   "dockerImageVersionId": 30684,
   "isGpuEnabled": false,
   "isInternetEnabled": true,
   "language": "python",
   "sourceType": "notebook"
  },
  "kernelspec": {
   "display_name": "Python 3",
   "language": "python",
   "name": "python3"
  },
  "language_info": {
   "codemirror_mode": {
    "name": "ipython",
    "version": 3
   },
   "file_extension": ".py",
   "mimetype": "text/x-python",
   "name": "python",
   "nbconvert_exporter": "python",
   "pygments_lexer": "ipython3",
   "version": "3.10.13"
  },
  "papermill": {
   "default_parameters": {},
   "duration": 2845.825822,
   "end_time": "2024-04-11T06:30:32.528421",
   "environment_variables": {},
   "exception": null,
   "input_path": "__notebook__.ipynb",
   "output_path": "__notebook__.ipynb",
   "parameters": {},
   "start_time": "2024-04-11T05:43:06.702599",
   "version": "2.5.0"
  }
 },
 "nbformat": 4,
 "nbformat_minor": 5
}
