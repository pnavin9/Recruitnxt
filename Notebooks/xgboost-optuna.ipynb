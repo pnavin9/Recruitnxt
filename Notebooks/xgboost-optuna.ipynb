{
 "cells": [
  {
   "cell_type": "markdown",
   "id": "foster-smart",
   "metadata": {
    "papermill": {
     "duration": 0.021139,
     "end_time": "2024-04-11T06:38:41.553142",
     "exception": false,
     "start_time": "2024-04-11T06:38:41.532003",
     "status": "completed"
    },
    "tags": []
   },
   "source": [
    "<br>\n",
    "<h1 style = \"font-size:60px; font-family:Garamond ; font-weight : normal; background-color: #f6f5f5 ; color : #fe346e; text-align: center; border-radius: 100px 100px;\">XGBoost + Optuna 🔥</h1>\n",
    "<br>"
   ]
  },
  {
   "cell_type": "markdown",
   "id": "large-interaction",
   "metadata": {
    "papermill": {
     "duration": 0.019946,
     "end_time": "2024-04-11T06:38:41.593416",
     "exception": false,
     "start_time": "2024-04-11T06:38:41.573470",
     "status": "completed"
    },
    "tags": []
   },
   "source": [
    "![](https://storage.googleapis.com/kaggle-competitions/kaggle/25225/logos/header.png?t=2021-01-27-17-34-26)"
   ]
  },
  {
   "cell_type": "markdown",
   "id": "residential-snowboard",
   "metadata": {
    "papermill": {
     "duration": 0.019719,
     "end_time": "2024-04-11T06:38:41.633076",
     "exception": false,
     "start_time": "2024-04-11T06:38:41.613357",
     "status": "completed"
    },
    "tags": []
   },
   "source": [
    "<h1 style = \"font-family: garamond; font-size: 40px; font-style: normal; letter-spcaing: 3px; background-color: #f6f5f5; color :#fe346e; border-radius: 100px 100px; text-align:center\">Import Required Libraries 📚</h1>"
   ]
  },
  {
   "cell_type": "code",
   "execution_count": 1,
   "id": "going-standard",
   "metadata": {
    "execution": {
     "iopub.execute_input": "2024-04-11T06:38:41.685176Z",
     "iopub.status.busy": "2024-04-11T06:38:41.684441Z",
     "iopub.status.idle": "2024-04-11T06:38:43.062930Z",
     "shell.execute_reply": "2024-04-11T06:38:43.062117Z",
     "shell.execute_reply.started": "2024-04-11T06:29:06.706847Z"
    },
    "papermill": {
     "duration": 1.409702,
     "end_time": "2024-04-11T06:38:43.063103",
     "exception": false,
     "start_time": "2024-04-11T06:38:41.653401",
     "status": "completed"
    },
    "tags": []
   },
   "outputs": [],
   "source": [
    "import numpy as np\n",
    "import pandas as pd\n",
    "import xgboost as xgb\n",
    "\n",
    "from sklearn.model_selection import StratifiedKFold\n",
    "from sklearn.metrics import log_loss\n",
    "\n",
    "import optuna\n",
    "from optuna import Trial, visualization\n",
    "\n",
    "import warnings\n",
    "warnings.filterwarnings(\"ignore\")"
   ]
  },
  {
   "cell_type": "markdown",
   "id": "historic-insider",
   "metadata": {
    "papermill": {
     "duration": 0.019809,
     "end_time": "2024-04-11T06:38:43.103448",
     "exception": false,
     "start_time": "2024-04-11T06:38:43.083639",
     "status": "completed"
    },
    "tags": []
   },
   "source": [
    "<h1 style = \"font-family: garamond; font-size: 40px; font-style: normal; letter-spcaing: 3px; background-color: #f6f5f5; color :#fe346e; border-radius: 100px 100px; text-align:center\">Read the Data 📖</h1>"
   ]
  },
  {
   "cell_type": "code",
   "execution_count": 2,
   "id": "union-basic",
   "metadata": {
    "execution": {
     "iopub.execute_input": "2024-04-11T06:38:43.150730Z",
     "iopub.status.busy": "2024-04-11T06:38:43.150089Z",
     "iopub.status.idle": "2024-04-11T06:38:43.196439Z",
     "shell.execute_reply": "2024-04-11T06:38:43.196927Z",
     "shell.execute_reply.started": "2024-04-11T06:29:08.107062Z"
    },
    "papermill": {
     "duration": 0.073182,
     "end_time": "2024-04-11T06:38:43.197086",
     "exception": false,
     "start_time": "2024-04-11T06:38:43.123904",
     "status": "completed"
    },
    "tags": []
   },
   "outputs": [],
   "source": [
    "train = pd.read_csv('/kaggle/input/primal2-0/final_train.csv')\n",
    "test = pd.read_csv('/kaggle/input/primal2-0/final_test.csv')\n",
    "sample = pd.read_csv('/kaggle/input/sample/sample.csv')"
   ]
  },
  {
   "cell_type": "code",
   "execution_count": 3,
   "id": "external-universe",
   "metadata": {
    "execution": {
     "iopub.execute_input": "2024-04-11T06:38:43.249886Z",
     "iopub.status.busy": "2024-04-11T06:38:43.248821Z",
     "iopub.status.idle": "2024-04-11T06:38:44.744872Z",
     "shell.execute_reply": "2024-04-11T06:38:44.744235Z",
     "shell.execute_reply.started": "2024-04-11T06:29:09.049220Z"
    },
    "papermill": {
     "duration": 1.52783,
     "end_time": "2024-04-11T06:38:44.745032",
     "exception": false,
     "start_time": "2024-04-11T06:38:43.217202",
     "status": "completed"
    },
    "tags": []
   },
   "outputs": [],
   "source": [
    "import pandas as pd\n",
    "from sklearn.preprocessing import OneHotEncoder\n",
    "import re\n",
    "\n",
    "# Load train and test data\n",
    "train_data = pd.read_csv('/kaggle/input/primal2-0/final_train.csv')\n",
    "test_data = pd.read_csv('/kaggle/input/primal2-0/final_test.csv')\n",
    "\n",
    "# Concatenate train and test data for preprocessing\n",
    "combined_data = pd.concat([train_data, test_data], ignore_index=True)\n",
    "\n",
    "value_mapping = {\n",
    "    'a': 6,  # Example: 10 lakhs\n",
    "}\n",
    "# Replace values in the 'ticket size' column using the mapping\n",
    "combined_data['Previous_Organizations'] = test_data['Previous_Organizations'].replace(value_mapping)\n",
    "\n",
    "# Drop specified columns\n",
    "combined_data.drop(columns=['Designation', 'DOJ', 'R_District', 'B_District', 'Company_1', 'Company_2', 'Skill'], inplace=True)\n",
    "\n",
    "# Replace Graduation and Qualification values\n",
    "combined_data['Graduation'] = combined_data['Graduation'].fillna(0).map({'full time': 1, 'part time': 0, 0: 0})\n",
    "combined_data['Qualification'] = combined_data['Qualification'].map({'graduate': 2, 'under graduate': 1, 'post graduate': 3, 'others': 0, 'diploma holders': 4}).fillna(-1)\n",
    "\n",
    "# Set 'Previous_Organizations' as type int, treating NaN as 0\n",
    "combined_data['Previous_Organizations'] = combined_data['Previous_Organizations'].fillna(0).astype(int)\n",
    "\n",
    "# One-hot encoding for categorical variables\n",
    "columns_to_encode = ['Industry', 'Source', 'Department', 'R_Region', 'B_Region']\n",
    "combined_data_encoded = pd.get_dummies(combined_data, columns=columns_to_encode)\n",
    "\n",
    "# Create indicator variables for states\n",
    "states = list(combined_data['R_State']) + list(combined_data['B_State'])\n",
    "for state in states:\n",
    "    combined_data_encoded[state] = ((combined_data['R_State'] == state) | (combined_data['B_State'] == state)).astype(int)\n",
    "\n",
    "# Drop 'R_State' and 'B_State'\n",
    "combined_data_encoded.drop(columns=['R_State', 'B_State', 'Unnamed: 0'], inplace=True)\n",
    "combined_data_encoded.columns = [re.sub(r'\\W+', '_', col) for col in combined_data_encoded.columns]\n",
    "\n",
    "# Separate back into train and test data\n",
    "train_data_processed = combined_data_encoded.iloc[:len(train_data)]\n",
    "test_data_processed = combined_data_encoded.iloc[len(train_data):].drop(columns='Performance')  # Assuming 'Target' is the target column"
   ]
  },
  {
   "cell_type": "code",
   "execution_count": 4,
   "id": "neural-protest",
   "metadata": {
    "execution": {
     "iopub.execute_input": "2024-04-11T06:38:44.790080Z",
     "iopub.status.busy": "2024-04-11T06:38:44.789266Z",
     "iopub.status.idle": "2024-04-11T06:38:44.792078Z",
     "shell.execute_reply": "2024-04-11T06:38:44.791556Z",
     "shell.execute_reply.started": "2024-04-11T06:29:10.505094Z"
    },
    "papermill": {
     "duration": 0.026647,
     "end_time": "2024-04-11T06:38:44.792201",
     "exception": false,
     "start_time": "2024-04-11T06:38:44.765554",
     "status": "completed"
    },
    "tags": []
   },
   "outputs": [],
   "source": [
    "train = train_data_processed\n",
    "test = test_data_processed"
   ]
  },
  {
   "cell_type": "code",
   "execution_count": 5,
   "id": "generous-dividend",
   "metadata": {
    "execution": {
     "iopub.execute_input": "2024-04-11T06:38:44.847803Z",
     "iopub.status.busy": "2024-04-11T06:38:44.847211Z",
     "iopub.status.idle": "2024-04-11T06:38:44.860731Z",
     "shell.execute_reply": "2024-04-11T06:38:44.860197Z",
     "shell.execute_reply.started": "2024-04-11T06:29:10.511404Z"
    },
    "papermill": {
     "duration": 0.048417,
     "end_time": "2024-04-11T06:38:44.860855",
     "exception": false,
     "start_time": "2024-04-11T06:38:44.812438",
     "status": "completed"
    },
    "tags": []
   },
   "outputs": [
    {
     "data": {
      "text/html": [
       "<div>\n",
       "<style scoped>\n",
       "    .dataframe tbody tr th:only-of-type {\n",
       "        vertical-align: middle;\n",
       "    }\n",
       "\n",
       "    .dataframe tbody tr th {\n",
       "        vertical-align: top;\n",
       "    }\n",
       "\n",
       "    .dataframe thead th {\n",
       "        text-align: right;\n",
       "    }\n",
       "</style>\n",
       "<table border=\"1\" class=\"dataframe\">\n",
       "  <thead>\n",
       "    <tr style=\"text-align: right;\">\n",
       "      <th></th>\n",
       "      <th>CandidateID</th>\n",
       "      <th>Graduation</th>\n",
       "      <th>Qualification</th>\n",
       "      <th>Experience</th>\n",
       "      <th>Previous_Organizations</th>\n",
       "      <th>Incentive</th>\n",
       "      <th>Ticket_Size</th>\n",
       "      <th>Family_Members</th>\n",
       "      <th>Earning_Members</th>\n",
       "      <th>Dependent_Members</th>\n",
       "      <th>...</th>\n",
       "      <th>rajasthan</th>\n",
       "      <th>himachal_pradesh</th>\n",
       "      <th>punjab</th>\n",
       "      <th>assam</th>\n",
       "      <th>haryana</th>\n",
       "      <th>chandigarh</th>\n",
       "      <th>west_bengal</th>\n",
       "      <th>jharkhand</th>\n",
       "      <th>jammu_and_kashmir</th>\n",
       "      <th>bihar</th>\n",
       "    </tr>\n",
       "  </thead>\n",
       "  <tbody>\n",
       "    <tr>\n",
       "      <th>0</th>\n",
       "      <td>emp0669</td>\n",
       "      <td>1</td>\n",
       "      <td>2.0</td>\n",
       "      <td>5.0</td>\n",
       "      <td>6</td>\n",
       "      <td>12000</td>\n",
       "      <td>1000000</td>\n",
       "      <td>2</td>\n",
       "      <td>1.0</td>\n",
       "      <td>1</td>\n",
       "      <td>...</td>\n",
       "      <td>0</td>\n",
       "      <td>0</td>\n",
       "      <td>0</td>\n",
       "      <td>0</td>\n",
       "      <td>0</td>\n",
       "      <td>0</td>\n",
       "      <td>0</td>\n",
       "      <td>0</td>\n",
       "      <td>0</td>\n",
       "      <td>0</td>\n",
       "    </tr>\n",
       "    <tr>\n",
       "      <th>1</th>\n",
       "      <td>emp0273</td>\n",
       "      <td>1</td>\n",
       "      <td>2.0</td>\n",
       "      <td>1.5</td>\n",
       "      <td>4</td>\n",
       "      <td>8000</td>\n",
       "      <td>150000</td>\n",
       "      <td>4</td>\n",
       "      <td>2.0</td>\n",
       "      <td>4</td>\n",
       "      <td>...</td>\n",
       "      <td>0</td>\n",
       "      <td>0</td>\n",
       "      <td>0</td>\n",
       "      <td>0</td>\n",
       "      <td>0</td>\n",
       "      <td>0</td>\n",
       "      <td>0</td>\n",
       "      <td>0</td>\n",
       "      <td>0</td>\n",
       "      <td>0</td>\n",
       "    </tr>\n",
       "    <tr>\n",
       "      <th>2</th>\n",
       "      <td>emp0300</td>\n",
       "      <td>1</td>\n",
       "      <td>1.0</td>\n",
       "      <td>4.5</td>\n",
       "      <td>2</td>\n",
       "      <td>20000</td>\n",
       "      <td>2000000</td>\n",
       "      <td>4</td>\n",
       "      <td>1.0</td>\n",
       "      <td>2</td>\n",
       "      <td>...</td>\n",
       "      <td>0</td>\n",
       "      <td>0</td>\n",
       "      <td>0</td>\n",
       "      <td>0</td>\n",
       "      <td>0</td>\n",
       "      <td>0</td>\n",
       "      <td>0</td>\n",
       "      <td>0</td>\n",
       "      <td>0</td>\n",
       "      <td>0</td>\n",
       "    </tr>\n",
       "    <tr>\n",
       "      <th>3</th>\n",
       "      <td>emp0100</td>\n",
       "      <td>1</td>\n",
       "      <td>3.0</td>\n",
       "      <td>4.5</td>\n",
       "      <td>4</td>\n",
       "      <td>12000</td>\n",
       "      <td>2000000</td>\n",
       "      <td>4</td>\n",
       "      <td>2.0</td>\n",
       "      <td>3</td>\n",
       "      <td>...</td>\n",
       "      <td>0</td>\n",
       "      <td>0</td>\n",
       "      <td>0</td>\n",
       "      <td>0</td>\n",
       "      <td>0</td>\n",
       "      <td>0</td>\n",
       "      <td>0</td>\n",
       "      <td>0</td>\n",
       "      <td>0</td>\n",
       "      <td>0</td>\n",
       "    </tr>\n",
       "    <tr>\n",
       "      <th>4</th>\n",
       "      <td>emp0319</td>\n",
       "      <td>1</td>\n",
       "      <td>3.0</td>\n",
       "      <td>1.0</td>\n",
       "      <td>2</td>\n",
       "      <td>0</td>\n",
       "      <td>0</td>\n",
       "      <td>4</td>\n",
       "      <td>1.0</td>\n",
       "      <td>3</td>\n",
       "      <td>...</td>\n",
       "      <td>0</td>\n",
       "      <td>0</td>\n",
       "      <td>0</td>\n",
       "      <td>0</td>\n",
       "      <td>0</td>\n",
       "      <td>0</td>\n",
       "      <td>0</td>\n",
       "      <td>0</td>\n",
       "      <td>0</td>\n",
       "      <td>0</td>\n",
       "    </tr>\n",
       "  </tbody>\n",
       "</table>\n",
       "<p>5 rows × 188 columns</p>\n",
       "</div>"
      ],
      "text/plain": [
       "  CandidateID  Graduation  Qualification  Experience  Previous_Organizations  \\\n",
       "0     emp0669           1            2.0         5.0                       6   \n",
       "1     emp0273           1            2.0         1.5                       4   \n",
       "2     emp0300           1            1.0         4.5                       2   \n",
       "3     emp0100           1            3.0         4.5                       4   \n",
       "4     emp0319           1            3.0         1.0                       2   \n",
       "\n",
       "   Incentive  Ticket_Size  Family_Members  Earning_Members  Dependent_Members  \\\n",
       "0      12000      1000000               2              1.0                  1   \n",
       "1       8000       150000               4              2.0                  4   \n",
       "2      20000      2000000               4              1.0                  2   \n",
       "3      12000      2000000               4              2.0                  3   \n",
       "4          0            0               4              1.0                  3   \n",
       "\n",
       "   ...  rajasthan  himachal_pradesh  punjab  assam  haryana  chandigarh  \\\n",
       "0  ...          0                 0       0      0        0           0   \n",
       "1  ...          0                 0       0      0        0           0   \n",
       "2  ...          0                 0       0      0        0           0   \n",
       "3  ...          0                 0       0      0        0           0   \n",
       "4  ...          0                 0       0      0        0           0   \n",
       "\n",
       "   west_bengal  jharkhand  jammu_and_kashmir  bihar  \n",
       "0            0          0                  0      0  \n",
       "1            0          0                  0      0  \n",
       "2            0          0                  0      0  \n",
       "3            0          0                  0      0  \n",
       "4            0          0                  0      0  \n",
       "\n",
       "[5 rows x 188 columns]"
      ]
     },
     "execution_count": 5,
     "metadata": {},
     "output_type": "execute_result"
    }
   ],
   "source": [
    "train.head()"
   ]
  },
  {
   "cell_type": "code",
   "execution_count": 6,
   "id": "several-catering",
   "metadata": {
    "execution": {
     "iopub.execute_input": "2024-04-11T06:38:44.906298Z",
     "iopub.status.busy": "2024-04-11T06:38:44.905740Z",
     "iopub.status.idle": "2024-04-11T06:38:44.909030Z",
     "shell.execute_reply": "2024-04-11T06:38:44.908407Z",
     "shell.execute_reply.started": "2024-04-11T06:29:10.543775Z"
    },
    "papermill": {
     "duration": 0.027204,
     "end_time": "2024-04-11T06:38:44.909142",
     "exception": false,
     "start_time": "2024-04-11T06:38:44.881938",
     "status": "completed"
    },
    "tags": []
   },
   "outputs": [],
   "source": [
    "feature_cols = [col for col in train.columns.tolist() if col not in ['CandidateID', 'Performance']]\n",
    "target_col = ['Performance']"
   ]
  },
  {
   "cell_type": "code",
   "execution_count": 7,
   "id": "terminal-savage",
   "metadata": {
    "execution": {
     "iopub.execute_input": "2024-04-11T06:38:44.954183Z",
     "iopub.status.busy": "2024-04-11T06:38:44.953628Z",
     "iopub.status.idle": "2024-04-11T06:38:44.957564Z",
     "shell.execute_reply": "2024-04-11T06:38:44.957079Z",
     "shell.execute_reply.started": "2024-04-11T06:29:10.575933Z"
    },
    "papermill": {
     "duration": 0.027677,
     "end_time": "2024-04-11T06:38:44.957702",
     "exception": false,
     "start_time": "2024-04-11T06:38:44.930025",
     "status": "completed"
    },
    "tags": []
   },
   "outputs": [],
   "source": [
    "class_dict = {\n",
    "    0: 0,\n",
    "    1: 1,\n",
    "}"
   ]
  },
  {
   "cell_type": "code",
   "execution_count": 8,
   "id": "focal-jurisdiction",
   "metadata": {
    "execution": {
     "iopub.execute_input": "2024-04-11T06:38:45.011821Z",
     "iopub.status.busy": "2024-04-11T06:38:45.011201Z",
     "iopub.status.idle": "2024-04-11T06:38:45.014160Z",
     "shell.execute_reply": "2024-04-11T06:38:45.013565Z",
     "shell.execute_reply.started": "2024-04-11T06:29:10.986240Z"
    },
    "papermill": {
     "duration": 0.032315,
     "end_time": "2024-04-11T06:38:45.014274",
     "exception": false,
     "start_time": "2024-04-11T06:38:44.981959",
     "status": "completed"
    },
    "tags": []
   },
   "outputs": [],
   "source": [
    "train['Performance'] = train['Performance'].map(class_dict)"
   ]
  },
  {
   "cell_type": "markdown",
   "id": "recovered-policy",
   "metadata": {
    "papermill": {
     "duration": 0.022418,
     "end_time": "2024-04-11T06:38:45.057383",
     "exception": false,
     "start_time": "2024-04-11T06:38:45.034965",
     "status": "completed"
    },
    "tags": []
   },
   "source": [
    "<h1 style = \"font-family: garamond; font-size: 40px; font-style: normal; letter-spcaing: 3px; background-color: #f6f5f5; color :#fe346e; border-radius: 100px 100px; text-align:center\">Create Folds</h1>"
   ]
  },
  {
   "cell_type": "code",
   "execution_count": 9,
   "id": "motivated-infection",
   "metadata": {
    "execution": {
     "iopub.execute_input": "2024-04-11T06:38:45.103857Z",
     "iopub.status.busy": "2024-04-11T06:38:45.103248Z",
     "iopub.status.idle": "2024-04-11T06:38:45.114671Z",
     "shell.execute_reply": "2024-04-11T06:38:45.114115Z",
     "shell.execute_reply.started": "2024-04-11T06:29:13.862336Z"
    },
    "papermill": {
     "duration": 0.036856,
     "end_time": "2024-04-11T06:38:45.114792",
     "exception": false,
     "start_time": "2024-04-11T06:38:45.077936",
     "status": "completed"
    },
    "tags": []
   },
   "outputs": [],
   "source": [
    "skf = StratifiedKFold(n_splits=5, random_state=42, shuffle=True)\n",
    "\n",
    "for i, (trn, val) in enumerate(skf.split(train, train[target_col])):\n",
    "    train.loc[val, 'kfold'] = i\n",
    "train['kfold'] = train['kfold'].astype(int)"
   ]
  },
  {
   "cell_type": "code",
   "execution_count": 10,
   "id": "private-contribution",
   "metadata": {
    "execution": {
     "iopub.execute_input": "2024-04-11T06:38:45.164258Z",
     "iopub.status.busy": "2024-04-11T06:38:45.163668Z",
     "iopub.status.idle": "2024-04-11T06:38:45.165881Z",
     "shell.execute_reply": "2024-04-11T06:38:45.166333Z",
     "shell.execute_reply.started": "2024-04-11T06:29:14.163617Z"
    },
    "papermill": {
     "duration": 0.031167,
     "end_time": "2024-04-11T06:38:45.166485",
     "exception": false,
     "start_time": "2024-04-11T06:38:45.135318",
     "status": "completed"
    },
    "tags": []
   },
   "outputs": [],
   "source": [
    "\n",
    "def fit_xgb(trial, xtr, ytr, xval, yval):\n",
    "    params = {\n",
    "        \"n_estimators\": trial.suggest_int(\"n_estimators\",100,2000,100),\n",
    "        \"subsample\": trial.suggest_discrete_uniform(\"subsample\",0.2,1,0.1),\n",
    "        \"colsample_bytree\": trial.suggest_discrete_uniform(\"colsample_bytree\",0.2,1,0.1),\n",
    "        \"eta\": trial.suggest_loguniform(\"eta\",1e-3,0.1),\n",
    "        \"reg_alpha\": trial.suggest_int(\"reg_alpha\",1,100),\n",
    "        \"reg_lambda\": trial.suggest_int(\"reg_lambda\",2,200),\n",
    "        \"max_depth\": trial.suggest_int(\"max_depth\",3,20),\n",
    "        \"min_child_weight\": trial.suggest_int(\"min_child_weight\",2,20),\n",
    "    }\n",
    "    \n",
    "    model = xgb.XGBClassifier(**params, tree_method='gpu_hist', random_state=42)\n",
    "    model.fit(xtr, ytr.reshape(-1,), eval_metric='mlogloss')\n",
    "    \n",
    "    y_val_pred = model.predict_proba(xval)\n",
    "    \n",
    "    log = {\n",
    "        \"train logloss\": log_loss(ytr, model.predict_proba(xtr)),\n",
    "        \"valid logloss\": log_loss(yval, y_val_pred)\n",
    "    }\n",
    "    \n",
    "    return model, log"
   ]
  },
  {
   "cell_type": "markdown",
   "id": "armed-curtis",
   "metadata": {
    "papermill": {
     "duration": 0.020586,
     "end_time": "2024-04-11T06:38:45.208107",
     "exception": false,
     "start_time": "2024-04-11T06:38:45.187521",
     "status": "completed"
    },
    "tags": []
   },
   "source": [
    "<h1 style = \"font-family: garamond; font-size: 40px; font-style: normal; letter-spcaing: 3px; background-color: #f6f5f5; color :#fe346e; border-radius: 100px 100px; text-align:center\">Objective Function</h1>"
   ]
  },
  {
   "cell_type": "code",
   "execution_count": 11,
   "id": "private-joint",
   "metadata": {
    "execution": {
     "iopub.execute_input": "2024-04-11T06:38:45.255177Z",
     "iopub.status.busy": "2024-04-11T06:38:45.254602Z",
     "iopub.status.idle": "2024-04-11T06:38:45.257352Z",
     "shell.execute_reply": "2024-04-11T06:38:45.256891Z",
     "shell.execute_reply.started": "2024-04-11T06:29:14.789995Z"
    },
    "papermill": {
     "duration": 0.028796,
     "end_time": "2024-04-11T06:38:45.257468",
     "exception": false,
     "start_time": "2024-04-11T06:38:45.228672",
     "status": "completed"
    },
    "tags": []
   },
   "outputs": [],
   "source": [
    "def objective(trial):\n",
    "    loss = 0\n",
    "    for fold in range(5):\n",
    "        trn_idx = train['kfold'] != fold\n",
    "        val_idx = train['kfold'] == fold\n",
    "        trn = train.loc[trn_idx, :]\n",
    "        val = train.loc[val_idx, :]\n",
    "\n",
    "        xtr, ytr = trn[feature_cols].values, trn[target_col].values\n",
    "        xval, yval = val[feature_cols].values, val[target_col].values\n",
    "        \n",
    "        model, log = fit_xgb(trial, xtr, ytr, xval, yval)\n",
    "        loss += log['valid logloss']/5\n",
    "        \n",
    "    return loss"
   ]
  },
  {
   "cell_type": "markdown",
   "id": "designed-directory",
   "metadata": {
    "papermill": {
     "duration": 0.020312,
     "end_time": "2024-04-11T06:38:45.298336",
     "exception": false,
     "start_time": "2024-04-11T06:38:45.278024",
     "status": "completed"
    },
    "tags": []
   },
   "source": [
    "<h1 style = \"font-family: garamond; font-size: 40px; font-style: normal; letter-spcaing: 3px; background-color: #f6f5f5; color :#fe346e; border-radius: 100px 100px; text-align:center\">Optimize 📈</h1>"
   ]
  },
  {
   "cell_type": "code",
   "execution_count": 12,
   "id": "suffering-invalid",
   "metadata": {
    "_kg_hide-output": true,
    "execution": {
     "iopub.execute_input": "2024-04-11T06:38:45.343233Z",
     "iopub.status.busy": "2024-04-11T06:38:45.342639Z",
     "iopub.status.idle": "2024-04-11T06:47:24.323987Z",
     "shell.execute_reply": "2024-04-11T06:47:24.323431Z",
     "shell.execute_reply.started": "2024-04-11T06:29:15.201212Z"
    },
    "papermill": {
     "duration": 519.005217,
     "end_time": "2024-04-11T06:47:24.324169",
     "exception": false,
     "start_time": "2024-04-11T06:38:45.318952",
     "status": "completed"
    },
    "tags": []
   },
   "outputs": [
    {
     "name": "stderr",
     "output_type": "stream",
     "text": [
      "\u001b[32m[I 2024-04-11 06:38:45,341]\u001b[0m A new study created in memory with name: Xgboost optimization\u001b[0m\n",
      "\u001b[32m[I 2024-04-11 06:39:15,391]\u001b[0m Trial 0 finished with value: 0.6931471824645996 and parameters: {'n_estimators': 1200, 'subsample': 0.2, 'colsample_bytree': 1.0, 'eta': 0.0021765508017089186, 'reg_alpha': 66, 'reg_lambda': 169, 'max_depth': 20, 'min_child_weight': 6}. Best is trial 0 with value: 0.6931471824645996.\u001b[0m\n",
      "\u001b[32m[I 2024-04-11 06:39:20,562]\u001b[0m Trial 1 finished with value: 0.6931471824645996 and parameters: {'n_estimators': 1800, 'subsample': 0.30000000000000004, 'colsample_bytree': 0.9000000000000001, 'eta': 0.04742868775737352, 'reg_alpha': 56, 'reg_lambda': 32, 'max_depth': 14, 'min_child_weight': 19}. Best is trial 0 with value: 0.6931471824645996.\u001b[0m\n",
      "\u001b[32m[I 2024-04-11 06:39:29,464]\u001b[0m Trial 2 finished with value: 0.6696970882031741 and parameters: {'n_estimators': 1100, 'subsample': 0.6000000000000001, 'colsample_bytree': 1.0, 'eta': 0.05837430959474339, 'reg_alpha': 36, 'reg_lambda': 97, 'max_depth': 18, 'min_child_weight': 3}. Best is trial 2 with value: 0.6696970882031741.\u001b[0m\n",
      "\u001b[32m[I 2024-04-11 06:39:42,185]\u001b[0m Trial 3 finished with value: 0.6931471824645996 and parameters: {'n_estimators': 1700, 'subsample': 0.30000000000000004, 'colsample_bytree': 0.2, 'eta': 0.02661417203324355, 'reg_alpha': 70, 'reg_lambda': 154, 'max_depth': 18, 'min_child_weight': 19}. Best is trial 2 with value: 0.6696970882031741.\u001b[0m\n",
      "\u001b[32m[I 2024-04-11 06:39:44,609]\u001b[0m Trial 4 finished with value: 0.6928579711274012 and parameters: {'n_estimators': 900, 'subsample': 0.6000000000000001, 'colsample_bytree': 1.0, 'eta': 0.0019926097792430453, 'reg_alpha': 46, 'reg_lambda': 183, 'max_depth': 12, 'min_child_weight': 15}. Best is trial 2 with value: 0.6696970882031741.\u001b[0m\n",
      "\u001b[32m[I 2024-04-11 06:39:45,687]\u001b[0m Trial 5 finished with value: 0.6931471824645996 and parameters: {'n_estimators': 400, 'subsample': 0.2, 'colsample_bytree': 0.6000000000000001, 'eta': 0.09535839634974869, 'reg_alpha': 49, 'reg_lambda': 90, 'max_depth': 9, 'min_child_weight': 15}. Best is trial 2 with value: 0.6696970882031741.\u001b[0m\n",
      "\u001b[32m[I 2024-04-11 06:39:51,222]\u001b[0m Trial 6 finished with value: 0.6910348300165778 and parameters: {'n_estimators': 2000, 'subsample': 0.7, 'colsample_bytree': 1.0, 'eta': 0.002106657520638526, 'reg_alpha': 49, 'reg_lambda': 104, 'max_depth': 12, 'min_child_weight': 16}. Best is trial 2 with value: 0.6696970882031741.\u001b[0m\n",
      "\u001b[32m[I 2024-04-11 06:39:53,648]\u001b[0m Trial 7 finished with value: 0.6931471824645996 and parameters: {'n_estimators': 1000, 'subsample': 0.5, 'colsample_bytree': 0.30000000000000004, 'eta': 0.011471735498887338, 'reg_alpha': 71, 'reg_lambda': 53, 'max_depth': 12, 'min_child_weight': 4}. Best is trial 2 with value: 0.6696970882031741.\u001b[0m\n",
      "\u001b[32m[I 2024-04-11 06:40:07,525]\u001b[0m Trial 8 finished with value: 0.6931471824645996 and parameters: {'n_estimators': 1100, 'subsample': 0.8, 'colsample_bytree': 0.4, 'eta': 0.02808835184363147, 'reg_alpha': 80, 'reg_lambda': 25, 'max_depth': 19, 'min_child_weight': 20}. Best is trial 2 with value: 0.6696970882031741.\u001b[0m\n",
      "\u001b[32m[I 2024-04-11 06:40:13,762]\u001b[0m Trial 9 finished with value: 0.6931471824645996 and parameters: {'n_estimators': 1600, 'subsample': 0.7, 'colsample_bytree': 0.9000000000000001, 'eta': 0.006205071809074348, 'reg_alpha': 94, 'reg_lambda': 67, 'max_depth': 16, 'min_child_weight': 4}. Best is trial 2 with value: 0.6696970882031741.\u001b[0m\n",
      "\u001b[32m[I 2024-04-11 06:40:14,444]\u001b[0m Trial 10 finished with value: 0.6485079514500279 and parameters: {'n_estimators': 100, 'subsample': 1.0, 'colsample_bytree': 0.7, 'eta': 0.09897237458842614, 'reg_alpha': 13, 'reg_lambda': 125, 'max_depth': 3, 'min_child_weight': 9}. Best is trial 10 with value: 0.6485079514500279.\u001b[0m\n",
      "\u001b[32m[I 2024-04-11 06:40:15,123]\u001b[0m Trial 11 finished with value: 0.6486621003422961 and parameters: {'n_estimators': 100, 'subsample': 1.0, 'colsample_bytree': 0.7, 'eta': 0.08612027353276004, 'reg_alpha': 12, 'reg_lambda': 130, 'max_depth': 3, 'min_child_weight': 9}. Best is trial 10 with value: 0.6485079514500279.\u001b[0m\n",
      "\u001b[32m[I 2024-04-11 06:40:16,295]\u001b[0m Trial 12 finished with value: 0.6403100997809595 and parameters: {'n_estimators': 200, 'subsample': 1.0, 'colsample_bytree': 0.7, 'eta': 0.09669654265184985, 'reg_alpha': 1, 'reg_lambda': 138, 'max_depth': 3, 'min_child_weight': 9}. Best is trial 12 with value: 0.6403100997809595.\u001b[0m\n",
      "\u001b[32m[I 2024-04-11 06:40:16,969]\u001b[0m Trial 13 finished with value: 0.6668593399476684 and parameters: {'n_estimators': 100, 'subsample': 1.0, 'colsample_bytree': 0.7, 'eta': 0.01673744239327959, 'reg_alpha': 4, 'reg_lambda': 135, 'max_depth': 3, 'min_child_weight': 10}. Best is trial 12 with value: 0.6403100997809595.\u001b[0m\n",
      "\u001b[32m[I 2024-04-11 06:40:18,333]\u001b[0m Trial 14 finished with value: 0.6549221712870886 and parameters: {'n_estimators': 400, 'subsample': 0.9000000000000001, 'colsample_bytree': 0.5, 'eta': 0.0972438420554341, 'reg_alpha': 23, 'reg_lambda': 131, 'max_depth': 6, 'min_child_weight': 8}. Best is trial 12 with value: 0.6403100997809595.\u001b[0m\n",
      "\u001b[32m[I 2024-04-11 06:40:20,481]\u001b[0m Trial 15 finished with value: 0.6725478277910476 and parameters: {'n_estimators': 500, 'subsample': 0.9000000000000001, 'colsample_bytree': 0.8, 'eta': 0.005614338139475426, 'reg_alpha': 21, 'reg_lambda': 199, 'max_depth': 6, 'min_child_weight': 12}. Best is trial 12 with value: 0.6403100997809595.\u001b[0m\n",
      "\u001b[32m[I 2024-04-11 06:40:24,983]\u001b[0m Trial 16 finished with value: 0.6378040437030312 and parameters: {'n_estimators': 700, 'subsample': 1.0, 'colsample_bytree': 0.6000000000000001, 'eta': 0.043366210754589865, 'reg_alpha': 2, 'reg_lambda': 149, 'max_depth': 6, 'min_child_weight': 12}. Best is trial 16 with value: 0.6378040437030312.\u001b[0m\n",
      "\u001b[32m[I 2024-04-11 06:40:29,069]\u001b[0m Trial 17 finished with value: 0.6366992090772462 and parameters: {'n_estimators': 700, 'subsample': 0.9000000000000001, 'colsample_bytree': 0.5, 'eta': 0.04510336235128113, 'reg_alpha': 2, 'reg_lambda': 156, 'max_depth': 6, 'min_child_weight': 12}. Best is trial 17 with value: 0.6366992090772462.\u001b[0m\n",
      "\u001b[32m[I 2024-04-11 06:40:31,275]\u001b[0m Trial 18 finished with value: 0.6637168520649008 and parameters: {'n_estimators': 700, 'subsample': 0.8, 'colsample_bytree': 0.5, 'eta': 0.03821529947693851, 'reg_alpha': 29, 'reg_lambda': 194, 'max_depth': 7, 'min_child_weight': 13}. Best is trial 17 with value: 0.6366992090772462.\u001b[0m\n",
      "\u001b[32m[I 2024-04-11 06:40:34,906]\u001b[0m Trial 19 finished with value: 0.6414587256292368 and parameters: {'n_estimators': 700, 'subsample': 0.9000000000000001, 'colsample_bytree': 0.5, 'eta': 0.017090487949800854, 'reg_alpha': 3, 'reg_lambda': 159, 'max_depth': 9, 'min_child_weight': 13}. Best is trial 17 with value: 0.6366992090772462.\u001b[0m\n",
      "\u001b[32m[I 2024-04-11 06:40:39,827]\u001b[0m Trial 20 finished with value: 0.6378248603551978 and parameters: {'n_estimators': 1300, 'subsample': 0.8, 'colsample_bytree': 0.4, 'eta': 0.05735616428390275, 'reg_alpha': 10, 'reg_lambda': 180, 'max_depth': 9, 'min_child_weight': 17}. Best is trial 17 with value: 0.6366992090772462.\u001b[0m\n",
      "\u001b[32m[I 2024-04-11 06:40:44,570]\u001b[0m Trial 21 finished with value: 0.6386252667879898 and parameters: {'n_estimators': 1300, 'subsample': 0.8, 'colsample_bytree': 0.4, 'eta': 0.058707671190477664, 'reg_alpha': 11, 'reg_lambda': 179, 'max_depth': 8, 'min_child_weight': 17}. Best is trial 17 with value: 0.6366992090772462.\u001b[0m\n",
      "\u001b[32m[I 2024-04-11 06:40:51,536]\u001b[0m Trial 22 finished with value: 0.6356176702968227 and parameters: {'n_estimators': 1400, 'subsample': 0.9000000000000001, 'colsample_bytree': 0.4, 'eta': 0.03135711865287598, 'reg_alpha': 5, 'reg_lambda': 154, 'max_depth': 5, 'min_child_weight': 12}. Best is trial 22 with value: 0.6356176702968227.\u001b[0m\n",
      "\u001b[32m[I 2024-04-11 06:40:54,617]\u001b[0m Trial 23 finished with value: 0.6550218371336891 and parameters: {'n_estimators': 800, 'subsample': 0.9000000000000001, 'colsample_bytree': 0.6000000000000001, 'eta': 0.023775804552029822, 'reg_alpha': 21, 'reg_lambda': 152, 'max_depth': 5, 'min_child_weight': 11}. Best is trial 22 with value: 0.6356176702968227.\u001b[0m\n",
      "\u001b[32m[I 2024-04-11 06:41:01,532]\u001b[0m Trial 24 finished with value: 0.6403863743397613 and parameters: {'n_estimators': 1500, 'subsample': 1.0, 'colsample_bytree': 0.2, 'eta': 0.03862716870968706, 'reg_alpha': 1, 'reg_lambda': 114, 'max_depth': 5, 'min_child_weight': 13}. Best is trial 22 with value: 0.6356176702968227.\u001b[0m\n",
      "\u001b[32m[I 2024-04-11 06:41:03,377]\u001b[0m Trial 25 finished with value: 0.6773100374529026 and parameters: {'n_estimators': 600, 'subsample': 0.7, 'colsample_bytree': 0.30000000000000004, 'eta': 0.016571387081215957, 'reg_alpha': 34, 'reg_lambda': 149, 'max_depth': 5, 'min_child_weight': 11}. Best is trial 22 with value: 0.6356176702968227.\u001b[0m\n",
      "\u001b[32m[I 2024-04-11 06:41:08,848]\u001b[0m Trial 26 finished with value: 0.6488773277541935 and parameters: {'n_estimators': 900, 'subsample': 0.9000000000000001, 'colsample_bytree': 0.5, 'eta': 0.007502959983150406, 'reg_alpha': 7, 'reg_lambda': 167, 'max_depth': 7, 'min_child_weight': 7}. Best is trial 22 with value: 0.6356176702968227.\u001b[0m\n",
      "\u001b[32m[I 2024-04-11 06:41:13,042]\u001b[0m Trial 27 finished with value: 0.6507368452196953 and parameters: {'n_estimators': 1500, 'subsample': 0.9000000000000001, 'colsample_bytree': 0.30000000000000004, 'eta': 0.03532746000030724, 'reg_alpha': 19, 'reg_lambda': 115, 'max_depth': 10, 'min_child_weight': 14}. Best is trial 22 with value: 0.6356176702968227.\u001b[0m\n",
      "\u001b[32m[I 2024-04-11 06:41:14,204]\u001b[0m Trial 28 finished with value: 0.691790858451152 and parameters: {'n_estimators': 400, 'subsample': 0.5, 'colsample_bytree': 0.6000000000000001, 'eta': 0.01196147601461942, 'reg_alpha': 39, 'reg_lambda': 81, 'max_depth': 4, 'min_child_weight': 12}. Best is trial 22 with value: 0.6356176702968227.\u001b[0m\n",
      "\u001b[32m[I 2024-04-11 06:41:20,394]\u001b[0m Trial 29 finished with value: 0.6600520668813845 and parameters: {'n_estimators': 1300, 'subsample': 1.0, 'colsample_bytree': 0.4, 'eta': 0.0035557377851281415, 'reg_alpha': 16, 'reg_lambda': 168, 'max_depth': 10, 'min_child_weight': 6}. Best is trial 22 with value: 0.6356176702968227.\u001b[0m\n",
      "\u001b[32m[I 2024-04-11 06:41:22,915]\u001b[0m Trial 30 finished with value: 0.6605058444826395 and parameters: {'n_estimators': 900, 'subsample': 0.8, 'colsample_bytree': 0.5, 'eta': 0.06910928103884814, 'reg_alpha': 28, 'reg_lambda': 144, 'max_depth': 7, 'min_child_weight': 10}. Best is trial 22 with value: 0.6356176702968227.\u001b[0m\n",
      "\u001b[32m[I 2024-04-11 06:41:27,468]\u001b[0m Trial 31 finished with value: 0.6763421441084587 and parameters: {'n_estimators': 1300, 'subsample': 0.8, 'colsample_bytree': 0.4, 'eta': 0.0012010209501898462, 'reg_alpha': 8, 'reg_lambda': 183, 'max_depth': 8, 'min_child_weight': 16}. Best is trial 22 with value: 0.6356176702968227.\u001b[0m\n",
      "\u001b[32m[I 2024-04-11 06:41:32,780]\u001b[0m Trial 32 finished with value: 0.6379669826202745 and parameters: {'n_estimators': 1200, 'subsample': 0.9000000000000001, 'colsample_bytree': 0.4, 'eta': 0.050828235093262515, 'reg_alpha': 5, 'reg_lambda': 174, 'max_depth': 6, 'min_child_weight': 17}. Best is trial 22 with value: 0.6356176702968227.\u001b[0m\n",
      "\u001b[32m[I 2024-04-11 06:41:37,884]\u001b[0m Trial 33 finished with value: 0.6445334480212839 and parameters: {'n_estimators': 1400, 'subsample': 0.7, 'colsample_bytree': 0.30000000000000004, 'eta': 0.06655456718726706, 'reg_alpha': 2, 'reg_lambda': 193, 'max_depth': 10, 'min_child_weight': 18}. Best is trial 22 with value: 0.6356176702968227.\u001b[0m\n",
      "\u001b[32m[I 2024-04-11 06:41:43,888]\u001b[0m Trial 34 finished with value: 0.6426174059010191 and parameters: {'n_estimators': 1800, 'subsample': 0.8, 'colsample_bytree': 0.6000000000000001, 'eta': 0.04751625425376358, 'reg_alpha': 15, 'reg_lambda': 160, 'max_depth': 8, 'min_child_weight': 14}. Best is trial 22 with value: 0.6356176702968227.\u001b[0m\n",
      "\u001b[32m[I 2024-04-11 06:41:49,887]\u001b[0m Trial 35 finished with value: 0.6368935422209285 and parameters: {'n_estimators': 1100, 'subsample': 1.0, 'colsample_bytree': 0.5, 'eta': 0.02463102532171, 'reg_alpha': 1, 'reg_lambda': 183, 'max_depth': 4, 'min_child_weight': 12}. Best is trial 22 with value: 0.6356176702968227.\u001b[0m\n",
      "\u001b[32m[I 2024-04-11 06:41:53,225]\u001b[0m Trial 36 finished with value: 0.659838253299662 and parameters: {'n_estimators': 1000, 'subsample': 1.0, 'colsample_bytree': 0.5, 'eta': 0.023362984203760477, 'reg_alpha': 27, 'reg_lambda': 200, 'max_depth': 4, 'min_child_weight': 12}. Best is trial 22 with value: 0.6356176702968227.\u001b[0m\n",
      "\u001b[32m[I 2024-04-11 06:41:55,670]\u001b[0m Trial 37 finished with value: 0.6836261414041455 and parameters: {'n_estimators': 800, 'subsample': 1.0, 'colsample_bytree': 0.6000000000000001, 'eta': 0.030398827759620703, 'reg_alpha': 55, 'reg_lambda': 166, 'max_depth': 4, 'min_child_weight': 14}. Best is trial 22 with value: 0.6356176702968227.\u001b[0m\n",
      "\u001b[32m[I 2024-04-11 06:42:03,175]\u001b[0m Trial 38 finished with value: 0.6379476279420341 and parameters: {'n_estimators': 1100, 'subsample': 0.9000000000000001, 'colsample_bytree': 0.8, 'eta': 0.020666221726254163, 'reg_alpha': 2, 'reg_lambda': 145, 'max_depth': 5, 'min_child_weight': 10}. Best is trial 22 with value: 0.6356176702968227.\u001b[0m\n",
      "\u001b[32m[I 2024-04-11 06:42:09,075]\u001b[0m Trial 39 finished with value: 0.6461960729136562 and parameters: {'n_estimators': 2000, 'subsample': 0.4, 'colsample_bytree': 0.2, 'eta': 0.03892443140673825, 'reg_alpha': 8, 'reg_lambda': 9, 'max_depth': 13, 'min_child_weight': 15}. Best is trial 22 with value: 0.6356176702968227.\u001b[0m\n",
      "\u001b[32m[I 2024-04-11 06:42:11,339]\u001b[0m Trial 40 finished with value: 0.6658710526539975 and parameters: {'n_estimators': 600, 'subsample': 0.6000000000000001, 'colsample_bytree': 0.5, 'eta': 0.012674403595579253, 'reg_alpha': 16, 'reg_lambda': 187, 'max_depth': 4, 'min_child_weight': 12}. Best is trial 22 with value: 0.6356176702968227.\u001b[0m\n",
      "\u001b[32m[I 2024-04-11 06:42:16,174]\u001b[0m Trial 41 finished with value: 0.6379698972574016 and parameters: {'n_estimators': 1200, 'subsample': 0.9000000000000001, 'colsample_bytree': 0.4, 'eta': 0.04719977966394708, 'reg_alpha': 8, 'reg_lambda': 174, 'max_depth': 6, 'min_child_weight': 20}. Best is trial 22 with value: 0.6356176702968227.\u001b[0m\n",
      "\u001b[32m[I 2024-04-11 06:42:22,663]\u001b[0m Trial 42 finished with value: 0.6455831603465865 and parameters: {'n_estimators': 1200, 'subsample': 1.0, 'colsample_bytree': 0.30000000000000004, 'eta': 0.07530879534448877, 'reg_alpha': 2, 'reg_lambda': 158, 'max_depth': 9, 'min_child_weight': 11}. Best is trial 22 with value: 0.6356176702968227.\u001b[0m\n",
      "\u001b[32m[I 2024-04-11 06:42:26,427]\u001b[0m Trial 43 finished with value: 0.6931471824645996 and parameters: {'n_estimators': 1600, 'subsample': 0.8, 'colsample_bytree': 0.4, 'eta': 0.03093067063494329, 'reg_alpha': 100, 'reg_lambda': 120, 'max_depth': 7, 'min_child_weight': 15}. Best is trial 22 with value: 0.6356176702968227.\u001b[0m\n",
      "\u001b[32m[I 2024-04-11 06:42:32,453]\u001b[0m Trial 44 finished with value: 0.6388646451218817 and parameters: {'n_estimators': 1400, 'subsample': 0.7, 'colsample_bytree': 0.6000000000000001, 'eta': 0.05416783550896402, 'reg_alpha': 10, 'reg_lambda': 189, 'max_depth': 11, 'min_child_weight': 13}. Best is trial 22 with value: 0.6356176702968227.\u001b[0m\n",
      "\u001b[32m[I 2024-04-11 06:42:37,629]\u001b[0m Trial 45 finished with value: 0.6424327824139756 and parameters: {'n_estimators': 1000, 'subsample': 0.9000000000000001, 'colsample_bytree': 0.5, 'eta': 0.04499215230274694, 'reg_alpha': 14, 'reg_lambda': 178, 'max_depth': 15, 'min_child_weight': 8}. Best is trial 22 with value: 0.6356176702968227.\u001b[0m\n",
      "\u001b[32m[I 2024-04-11 06:42:40,571]\u001b[0m Trial 46 finished with value: 0.6907533226397213 and parameters: {'n_estimators': 1100, 'subsample': 1.0, 'colsample_bytree': 0.4, 'eta': 0.028223667317286615, 'reg_alpha': 64, 'reg_lambda': 105, 'max_depth': 5, 'min_child_weight': 16}. Best is trial 22 with value: 0.6356176702968227.\u001b[0m\n",
      "\u001b[32m[I 2024-04-11 06:42:42,589]\u001b[0m Trial 47 finished with value: 0.6931471824645996 and parameters: {'n_estimators': 800, 'subsample': 0.8, 'colsample_bytree': 0.5, 'eta': 0.019683491486879534, 'reg_alpha': 78, 'reg_lambda': 162, 'max_depth': 8, 'min_child_weight': 19}. Best is trial 22 with value: 0.6356176702968227.\u001b[0m\n",
      "\u001b[32m[I 2024-04-11 06:42:53,027]\u001b[0m Trial 48 finished with value: 0.6687032756064363 and parameters: {'n_estimators': 1400, 'subsample': 1.0, 'colsample_bytree': 0.7, 'eta': 0.07757577157489665, 'reg_alpha': 1, 'reg_lambda': 140, 'max_depth': 6, 'min_child_weight': 10}. Best is trial 22 with value: 0.6356176702968227.\u001b[0m\n",
      "\u001b[32m[I 2024-04-11 06:42:54,021]\u001b[0m Trial 49 finished with value: 0.6765136467530424 and parameters: {'n_estimators': 300, 'subsample': 0.9000000000000001, 'colsample_bytree': 0.30000000000000004, 'eta': 0.05715790081987479, 'reg_alpha': 43, 'reg_lambda': 152, 'max_depth': 3, 'min_child_weight': 14}. Best is trial 22 with value: 0.6356176702968227.\u001b[0m\n",
      "\u001b[32m[I 2024-04-11 06:42:59,643]\u001b[0m Trial 50 finished with value: 0.656110862917548 and parameters: {'n_estimators': 1700, 'subsample': 0.2, 'colsample_bytree': 0.5, 'eta': 0.03275924674355036, 'reg_alpha': 5, 'reg_lambda': 173, 'max_depth': 11, 'min_child_weight': 8}. Best is trial 22 with value: 0.6356176702968227.\u001b[0m\n",
      "\u001b[32m[I 2024-04-11 06:43:14,345]\u001b[0m Trial 51 finished with value: 0.6353338621406748 and parameters: {'n_estimators': 1100, 'subsample': 0.9000000000000001, 'colsample_bytree': 1.0, 'eta': 0.022521770120350986, 'reg_alpha': 1, 'reg_lambda': 143, 'max_depth': 5, 'min_child_weight': 2}. Best is trial 51 with value: 0.6353338621406748.\u001b[0m\n",
      "\u001b[32m[I 2024-04-11 06:43:22,489]\u001b[0m Trial 52 finished with value: 0.6373273041424334 and parameters: {'n_estimators': 1200, 'subsample': 0.9000000000000001, 'colsample_bytree': 0.9000000000000001, 'eta': 0.014563686655496837, 'reg_alpha': 12, 'reg_lambda': 128, 'max_depth': 4, 'min_child_weight': 4}. Best is trial 51 with value: 0.6353338621406748.\u001b[0m\n",
      "\u001b[32m[I 2024-04-11 06:43:30,695]\u001b[0m Trial 53 finished with value: 0.6336516141691464 and parameters: {'n_estimators': 900, 'subsample': 0.9000000000000001, 'colsample_bytree': 1.0, 'eta': 0.014646079813621789, 'reg_alpha': 1, 'reg_lambda': 129, 'max_depth': 4, 'min_child_weight': 2}. Best is trial 53 with value: 0.6336516141691464.\u001b[0m\n",
      "\u001b[32m[I 2024-04-11 06:43:35,708]\u001b[0m Trial 54 finished with value: 0.6431552393324423 and parameters: {'n_estimators': 900, 'subsample': 0.9000000000000001, 'colsample_bytree': 1.0, 'eta': 0.014194967090716895, 'reg_alpha': 19, 'reg_lambda': 131, 'max_depth': 4, 'min_child_weight': 2}. Best is trial 53 with value: 0.6336516141691464.\u001b[0m\n",
      "\u001b[32m[I 2024-04-11 06:43:40,481]\u001b[0m Trial 55 finished with value: 0.6367838311115368 and parameters: {'n_estimators': 1000, 'subsample': 0.9000000000000001, 'colsample_bytree': 1.0, 'eta': 0.02340980162222347, 'reg_alpha': 12, 'reg_lambda': 94, 'max_depth': 3, 'min_child_weight': 2}. Best is trial 53 with value: 0.6336516141691464.\u001b[0m\n",
      "\u001b[32m[I 2024-04-11 06:43:46,262]\u001b[0m Trial 56 finished with value: 0.6364649742041659 and parameters: {'n_estimators': 1000, 'subsample': 0.8, 'colsample_bytree': 1.0, 'eta': 0.008898713240794012, 'reg_alpha': 6, 'reg_lambda': 90, 'max_depth': 3, 'min_child_weight': 2}. Best is trial 53 with value: 0.6336516141691464.\u001b[0m\n",
      "\u001b[32m[I 2024-04-11 06:43:51,895]\u001b[0m Trial 57 finished with value: 0.6369756911424982 and parameters: {'n_estimators': 1000, 'subsample': 0.8, 'colsample_bytree': 0.9000000000000001, 'eta': 0.009155032027770266, 'reg_alpha': 5, 'reg_lambda': 90, 'max_depth': 3, 'min_child_weight': 3}. Best is trial 53 with value: 0.6336516141691464.\u001b[0m\n",
      "\u001b[32m[I 2024-04-11 06:43:54,554]\u001b[0m Trial 58 finished with value: 0.6529183404157626 and parameters: {'n_estimators': 600, 'subsample': 0.9000000000000001, 'colsample_bytree': 1.0, 'eta': 0.010529737215632287, 'reg_alpha': 25, 'reg_lambda': 65, 'max_depth': 3, 'min_child_weight': 2}. Best is trial 53 with value: 0.6336516141691464.\u001b[0m\n",
      "\u001b[32m[I 2024-04-11 06:43:59,502]\u001b[0m Trial 59 finished with value: 0.6552834041566657 and parameters: {'n_estimators': 700, 'subsample': 0.8, 'colsample_bytree': 1.0, 'eta': 0.0054085787558110325, 'reg_alpha': 17, 'reg_lambda': 98, 'max_depth': 5, 'min_child_weight': 3}. Best is trial 53 with value: 0.6336516141691464.\u001b[0m\n",
      "\u001b[32m[I 2024-04-11 06:44:25,539]\u001b[0m Trial 60 finished with value: 0.6428697524054738 and parameters: {'n_estimators': 900, 'subsample': 0.9000000000000001, 'colsample_bytree': 0.9000000000000001, 'eta': 0.008332407368558779, 'reg_alpha': 12, 'reg_lambda': 87, 'max_depth': 20, 'min_child_weight': 5}. Best is trial 53 with value: 0.6336516141691464.\u001b[0m\n",
      "\u001b[32m[I 2024-04-11 06:44:31,387]\u001b[0m Trial 61 finished with value: 0.6385334624140053 and parameters: {'n_estimators': 1100, 'subsample': 1.0, 'colsample_bytree': 1.0, 'eta': 0.025283051201984458, 'reg_alpha': 6, 'reg_lambda': 78, 'max_depth': 3, 'min_child_weight': 2}. Best is trial 53 with value: 0.6336516141691464.\u001b[0m\n",
      "\u001b[32m[I 2024-04-11 06:44:41,124]\u001b[0m Trial 62 finished with value: 0.6370247137526537 and parameters: {'n_estimators': 1100, 'subsample': 0.9000000000000001, 'colsample_bytree': 1.0, 'eta': 0.02082179327558376, 'reg_alpha': 1, 'reg_lambda': 114, 'max_depth': 4, 'min_child_weight': 3}. Best is trial 53 with value: 0.6336516141691464.\u001b[0m\n",
      "\u001b[32m[I 2024-04-11 06:44:48,482]\u001b[0m Trial 63 finished with value: 0.6361050373955861 and parameters: {'n_estimators': 800, 'subsample': 1.0, 'colsample_bytree': 0.9000000000000001, 'eta': 0.017065573553935773, 'reg_alpha': 9, 'reg_lambda': 107, 'max_depth': 5, 'min_child_weight': 5}. Best is trial 53 with value: 0.6336516141691464.\u001b[0m\n",
      "\u001b[32m[I 2024-04-11 06:44:51,899]\u001b[0m Trial 64 finished with value: 0.6594696179332349 and parameters: {'n_estimators': 800, 'subsample': 0.9000000000000001, 'colsample_bytree': 0.9000000000000001, 'eta': 0.01657925516285084, 'reg_alpha': 32, 'reg_lambda': 105, 'max_depth': 5, 'min_child_weight': 5}. Best is trial 53 with value: 0.6336516141691464.\u001b[0m\n",
      "\u001b[32m[I 2024-04-11 06:44:56,191]\u001b[0m Trial 65 finished with value: 0.6421430744180744 and parameters: {'n_estimators': 500, 'subsample': 0.8, 'colsample_bytree': 0.8, 'eta': 0.018524993137767568, 'reg_alpha': 9, 'reg_lambda': 122, 'max_depth': 6, 'min_child_weight': 4}. Best is trial 53 with value: 0.6336516141691464.\u001b[0m\n",
      "\u001b[32m[I 2024-04-11 06:45:00,291]\u001b[0m Trial 66 finished with value: 0.6384514373620884 and parameters: {'n_estimators': 900, 'subsample': 1.0, 'colsample_bytree': 1.0, 'eta': 0.014128169366440478, 'reg_alpha': 13, 'reg_lambda': 66, 'max_depth': 3, 'min_child_weight': 2}. Best is trial 53 with value: 0.6336516141691464.\u001b[0m\n",
      "\u001b[32m[I 2024-04-11 06:45:04,293]\u001b[0m Trial 67 finished with value: 0.6573872276600574 and parameters: {'n_estimators': 700, 'subsample': 0.9000000000000001, 'colsample_bytree': 0.9000000000000001, 'eta': 0.007078823771525515, 'reg_alpha': 22, 'reg_lambda': 110, 'max_depth': 5, 'min_child_weight': 5}. Best is trial 53 with value: 0.6336516141691464.\u001b[0m\n",
      "\u001b[32m[I 2024-04-11 06:45:12,362]\u001b[0m Trial 68 finished with value: 0.6527828606583128 and parameters: {'n_estimators': 800, 'subsample': 0.8, 'colsample_bytree': 1.0, 'eta': 0.004416800204750917, 'reg_alpha': 5, 'reg_lambda': 135, 'max_depth': 7, 'min_child_weight': 4}. Best is trial 53 with value: 0.6336516141691464.\u001b[0m\n",
      "\u001b[32m[I 2024-04-11 06:45:17,931]\u001b[0m Trial 69 finished with value: 0.649626152867439 and parameters: {'n_estimators': 1000, 'subsample': 0.7, 'colsample_bytree': 1.0, 'eta': 0.010074595009652573, 'reg_alpha': 19, 'reg_lambda': 74, 'max_depth': 5, 'min_child_weight': 3}. Best is trial 53 with value: 0.6336516141691464.\u001b[0m\n",
      "\u001b[32m[I 2024-04-11 06:45:21,893]\u001b[0m Trial 70 finished with value: 0.6360300080288177 and parameters: {'n_estimators': 700, 'subsample': 1.0, 'colsample_bytree': 0.9000000000000001, 'eta': 0.022215458176889056, 'reg_alpha': 10, 'reg_lambda': 92, 'max_depth': 3, 'min_child_weight': 6}. Best is trial 53 with value: 0.6336516141691464.\u001b[0m\n",
      "\u001b[32m[I 2024-04-11 06:45:25,845]\u001b[0m Trial 71 finished with value: 0.6357249965403705 and parameters: {'n_estimators': 700, 'subsample': 1.0, 'colsample_bytree': 0.9000000000000001, 'eta': 0.022366371770830923, 'reg_alpha': 9, 'reg_lambda': 90, 'max_depth': 3, 'min_child_weight': 6}. Best is trial 53 with value: 0.6336516141691464.\u001b[0m\n",
      "\u001b[32m[I 2024-04-11 06:45:29,820]\u001b[0m Trial 72 finished with value: 0.6400642158801124 and parameters: {'n_estimators': 500, 'subsample': 1.0, 'colsample_bytree': 0.9000000000000001, 'eta': 0.012586025059148727, 'reg_alpha': 8, 'reg_lambda': 56, 'max_depth': 4, 'min_child_weight': 6}. Best is trial 53 with value: 0.6336516141691464.\u001b[0m\n",
      "\u001b[32m[I 2024-04-11 06:45:34,358]\u001b[0m Trial 73 finished with value: 0.6388279811647914 and parameters: {'n_estimators': 600, 'subsample': 1.0, 'colsample_bytree': 0.8, 'eta': 0.015598390761580375, 'reg_alpha': 4, 'reg_lambda': 86, 'max_depth': 4, 'min_child_weight': 7}. Best is trial 53 with value: 0.6336516141691464.\u001b[0m\n",
      "\u001b[32m[I 2024-04-11 06:45:41,059]\u001b[0m Trial 74 finished with value: 0.6357279789927821 and parameters: {'n_estimators': 700, 'subsample': 1.0, 'colsample_bytree': 0.9000000000000001, 'eta': 0.027769222532726255, 'reg_alpha': 7, 'reg_lambda': 100, 'max_depth': 6, 'min_child_weight': 6}. Best is trial 53 with value: 0.6336516141691464.\u001b[0m\n",
      "\u001b[32m[I 2024-04-11 06:45:44,972]\u001b[0m Trial 75 finished with value: 0.6359898852821965 and parameters: {'n_estimators': 700, 'subsample': 1.0, 'colsample_bytree': 0.9000000000000001, 'eta': 0.027078091320590334, 'reg_alpha': 9, 'reg_lambda': 101, 'max_depth': 3, 'min_child_weight': 6}. Best is trial 53 with value: 0.6336516141691464.\u001b[0m\n",
      "\u001b[32m[I 2024-04-11 06:45:50,642]\u001b[0m Trial 76 finished with value: 0.6379480269331261 and parameters: {'n_estimators': 700, 'subsample': 1.0, 'colsample_bytree': 0.8, 'eta': 0.027650625074622688, 'reg_alpha': 10, 'reg_lambda': 101, 'max_depth': 6, 'min_child_weight': 6}. Best is trial 53 with value: 0.6336516141691464.\u001b[0m\n",
      "\u001b[32m[I 2024-04-11 06:45:54,841]\u001b[0m Trial 77 finished with value: 0.6451434162639131 and parameters: {'n_estimators': 500, 'subsample': 1.0, 'colsample_bytree': 0.8, 'eta': 0.036812861413954394, 'reg_alpha': 16, 'reg_lambda': 108, 'max_depth': 17, 'min_child_weight': 7}. Best is trial 53 with value: 0.6336516141691464.\u001b[0m\n",
      "\u001b[32m[I 2024-04-11 06:45:58,038]\u001b[0m Trial 78 finished with value: 0.6533970737217257 and parameters: {'n_estimators': 800, 'subsample': 1.0, 'colsample_bytree': 0.9000000000000001, 'eta': 0.021210369199753908, 'reg_alpha': 24, 'reg_lambda': 96, 'max_depth': 5, 'min_child_weight': 7}. Best is trial 53 with value: 0.6336516141691464.\u001b[0m\n",
      "\u001b[32m[I 2024-04-11 06:46:01,715]\u001b[0m Trial 79 finished with value: 0.645602640209582 and parameters: {'n_estimators': 600, 'subsample': 1.0, 'colsample_bytree': 0.9000000000000001, 'eta': 0.0178400016996008, 'reg_alpha': 18, 'reg_lambda': 118, 'max_depth': 4, 'min_child_weight': 5}. Best is trial 53 with value: 0.6336516141691464.\u001b[0m\n",
      "\u001b[32m[I 2024-04-11 06:46:04,889]\u001b[0m Trial 80 finished with value: 0.6426666722401677 and parameters: {'n_estimators': 400, 'subsample': 1.0, 'colsample_bytree': 0.9000000000000001, 'eta': 0.03275446455416148, 'reg_alpha': 14, 'reg_lambda': 126, 'max_depth': 7, 'min_child_weight': 6}. Best is trial 53 with value: 0.6336516141691464.\u001b[0m\n",
      "\u001b[32m[I 2024-04-11 06:46:08,834]\u001b[0m Trial 81 finished with value: 0.6345553067406552 and parameters: {'n_estimators': 700, 'subsample': 1.0, 'colsample_bytree': 0.9000000000000001, 'eta': 0.022595792951255012, 'reg_alpha': 6, 'reg_lambda': 81, 'max_depth': 3, 'min_child_weight': 5}. Best is trial 53 with value: 0.6336516141691464.\u001b[0m\n",
      "\u001b[32m[I 2024-04-11 06:46:12,648]\u001b[0m Trial 82 finished with value: 0.6354767880383754 and parameters: {'n_estimators': 700, 'subsample': 1.0, 'colsample_bytree': 0.9000000000000001, 'eta': 0.02224380868352517, 'reg_alpha': 10, 'reg_lambda': 81, 'max_depth': 3, 'min_child_weight': 5}. Best is trial 53 with value: 0.6336516141691464.\u001b[0m\n",
      "\u001b[32m[I 2024-04-11 06:46:16,484]\u001b[0m Trial 83 finished with value: 0.6368534677180667 and parameters: {'n_estimators': 700, 'subsample': 1.0, 'colsample_bytree': 0.8, 'eta': 0.022221196831127353, 'reg_alpha': 3, 'reg_lambda': 71, 'max_depth': 3, 'min_child_weight': 4}. Best is trial 53 with value: 0.6336516141691464.\u001b[0m\n",
      "\u001b[32m[I 2024-04-11 06:46:19,361]\u001b[0m Trial 84 finished with value: 0.6357894701045631 and parameters: {'n_estimators': 500, 'subsample': 1.0, 'colsample_bytree': 0.9000000000000001, 'eta': 0.027212290119823936, 'reg_alpha': 7, 'reg_lambda': 79, 'max_depth': 3, 'min_child_weight': 6}. Best is trial 53 with value: 0.6336516141691464.\u001b[0m\n",
      "\u001b[32m[I 2024-04-11 06:46:23,760]\u001b[0m Trial 85 finished with value: 0.641659521226515 and parameters: {'n_estimators': 600, 'subsample': 1.0, 'colsample_bytree': 0.9000000000000001, 'eta': 0.02803299396393985, 'reg_alpha': 1, 'reg_lambda': 81, 'max_depth': 4, 'min_child_weight': 9}. Best is trial 53 with value: 0.6336516141691464.\u001b[0m\n",
      "\u001b[32m[I 2024-04-11 06:46:25,564]\u001b[0m Trial 86 finished with value: 0.6369009086949713 and parameters: {'n_estimators': 300, 'subsample': 1.0, 'colsample_bytree': 0.9000000000000001, 'eta': 0.025932713009047884, 'reg_alpha': 7, 'reg_lambda': 56, 'max_depth': 3, 'min_child_weight': 6}. Best is trial 53 with value: 0.6336516141691464.\u001b[0m\n",
      "\u001b[32m[I 2024-04-11 06:46:29,832]\u001b[0m Trial 87 finished with value: 0.6386475027907614 and parameters: {'n_estimators': 600, 'subsample': 0.9000000000000001, 'colsample_bytree': 0.8, 'eta': 0.03333133669222909, 'reg_alpha': 3, 'reg_lambda': 62, 'max_depth': 4, 'min_child_weight': 8}. Best is trial 53 with value: 0.6336516141691464.\u001b[0m\n",
      "\u001b[32m[I 2024-04-11 06:46:31,498]\u001b[0m Trial 88 finished with value: 0.6612134124208617 and parameters: {'n_estimators': 500, 'subsample': 0.30000000000000004, 'colsample_bytree': 0.7, 'eta': 0.04140499897612071, 'reg_alpha': 14, 'reg_lambda': 34, 'max_depth': 3, 'min_child_weight': 5}. Best is trial 53 with value: 0.6336516141691464.\u001b[0m\n",
      "\u001b[32m[I 2024-04-11 06:46:34,038]\u001b[0m Trial 89 finished with value: 0.6397556644758122 and parameters: {'n_estimators': 400, 'subsample': 0.5, 'colsample_bytree': 0.9000000000000001, 'eta': 0.030202644348657548, 'reg_alpha': 6, 'reg_lambda': 47, 'max_depth': 6, 'min_child_weight': 7}. Best is trial 53 with value: 0.6336516141691464.\u001b[0m\n",
      "\u001b[32m[I 2024-04-11 06:46:39,868]\u001b[0m Trial 90 finished with value: 0.6367412254114279 and parameters: {'n_estimators': 900, 'subsample': 0.9000000000000001, 'colsample_bytree': 1.0, 'eta': 0.025164641587212815, 'reg_alpha': 11, 'reg_lambda': 83, 'max_depth': 4, 'min_child_weight': 4}. Best is trial 53 with value: 0.6336516141691464.\u001b[0m\n",
      "\u001b[32m[I 2024-04-11 06:46:43,812]\u001b[0m Trial 91 finished with value: 0.6356281684549062 and parameters: {'n_estimators': 700, 'subsample': 1.0, 'colsample_bytree': 0.9000000000000001, 'eta': 0.01923995179315653, 'reg_alpha': 8, 'reg_lambda': 73, 'max_depth': 3, 'min_child_weight': 6}. Best is trial 53 with value: 0.6336516141691464.\u001b[0m\n",
      "\u001b[32m[I 2024-04-11 06:46:48,091]\u001b[0m Trial 92 finished with value: 0.6367779151705288 and parameters: {'n_estimators': 800, 'subsample': 1.0, 'colsample_bytree': 0.8, 'eta': 0.019574867857693357, 'reg_alpha': 7, 'reg_lambda': 75, 'max_depth': 3, 'min_child_weight': 7}. Best is trial 53 with value: 0.6336516141691464.\u001b[0m\n",
      "\u001b[32m[I 2024-04-11 06:46:53,837]\u001b[0m Trial 93 finished with value: 0.6377683499615465 and parameters: {'n_estimators': 700, 'subsample': 1.0, 'colsample_bytree': 0.9000000000000001, 'eta': 0.028584046239347106, 'reg_alpha': 3, 'reg_lambda': 84, 'max_depth': 4, 'min_child_weight': 5}. Best is trial 53 with value: 0.6336516141691464.\u001b[0m\n",
      "\u001b[32m[I 2024-04-11 06:46:56,655]\u001b[0m Trial 94 finished with value: 0.6381409304454022 and parameters: {'n_estimators': 500, 'subsample': 1.0, 'colsample_bytree': 0.9000000000000001, 'eta': 0.018364254463081375, 'reg_alpha': 4, 'reg_lambda': 71, 'max_depth': 3, 'min_child_weight': 8}. Best is trial 53 with value: 0.6336516141691464.\u001b[0m\n",
      "\u001b[32m[I 2024-04-11 06:47:01,613]\u001b[0m Trial 95 finished with value: 0.6391510744022844 and parameters: {'n_estimators': 700, 'subsample': 1.0, 'colsample_bytree': 0.9000000000000001, 'eta': 0.03520954659177645, 'reg_alpha': 10, 'reg_lambda': 101, 'max_depth': 5, 'min_child_weight': 6}. Best is trial 53 with value: 0.6336516141691464.\u001b[0m\n",
      "\u001b[32m[I 2024-04-11 06:47:09,404]\u001b[0m Trial 96 finished with value: 0.6390305923835542 and parameters: {'n_estimators': 900, 'subsample': 0.9000000000000001, 'colsample_bytree': 1.0, 'eta': 0.02313485431556437, 'reg_alpha': 1, 'reg_lambda': 76, 'max_depth': 4, 'min_child_weight': 4}. Best is trial 53 with value: 0.6336516141691464.\u001b[0m\n",
      "\u001b[32m[I 2024-04-11 06:47:12,898]\u001b[0m Trial 97 finished with value: 0.645705903056484 and parameters: {'n_estimators': 600, 'subsample': 0.9000000000000001, 'colsample_bytree': 0.9000000000000001, 'eta': 0.019498761158875975, 'reg_alpha': 15, 'reg_lambda': 70, 'max_depth': 5, 'min_child_weight': 9}. Best is trial 53 with value: 0.6336516141691464.\u001b[0m\n",
      "\u001b[32m[I 2024-04-11 06:47:14,647]\u001b[0m Trial 98 finished with value: 0.6537767587092098 and parameters: {'n_estimators': 300, 'subsample': 1.0, 'colsample_bytree': 0.8, 'eta': 0.015321096751202301, 'reg_alpha': 12, 'reg_lambda': 145, 'max_depth': 3, 'min_child_weight': 7}. Best is trial 53 with value: 0.6336516141691464.\u001b[0m\n",
      "\u001b[32m[I 2024-04-11 06:47:24,318]\u001b[0m Trial 99 finished with value: 0.634590670826451 and parameters: {'n_estimators': 800, 'subsample': 1.0, 'colsample_bytree': 0.9000000000000001, 'eta': 0.01341616295401177, 'reg_alpha': 8, 'reg_lambda': 80, 'max_depth': 6, 'min_child_weight': 3}. Best is trial 53 with value: 0.6336516141691464.\u001b[0m\n"
     ]
    }
   ],
   "source": [
    "study = optuna.create_study(direction=\"minimize\", study_name='Xgboost optimization')\n",
    "study.optimize(objective, n_trials=100)"
   ]
  },
  {
   "cell_type": "code",
   "execution_count": 13,
   "id": "nuclear-raleigh",
   "metadata": {
    "execution": {
     "iopub.execute_input": "2024-04-11T06:47:24.436257Z",
     "iopub.status.busy": "2024-04-11T06:47:24.435411Z",
     "iopub.status.idle": "2024-04-11T06:47:24.439423Z",
     "shell.execute_reply": "2024-04-11T06:47:24.438967Z",
     "shell.execute_reply.started": "2024-04-11T06:31:57.518842Z"
    },
    "papermill": {
     "duration": 0.060839,
     "end_time": "2024-04-11T06:47:24.439542",
     "exception": false,
     "start_time": "2024-04-11T06:47:24.378703",
     "status": "completed"
    },
    "tags": []
   },
   "outputs": [
    {
     "data": {
      "text/plain": [
       "{'n_estimators': 900,\n",
       " 'subsample': 0.9000000000000001,\n",
       " 'colsample_bytree': 1.0,\n",
       " 'eta': 0.014646079813621789,\n",
       " 'reg_alpha': 1,\n",
       " 'reg_lambda': 129,\n",
       " 'max_depth': 4,\n",
       " 'min_child_weight': 2}"
      ]
     },
     "execution_count": 13,
     "metadata": {},
     "output_type": "execute_result"
    }
   ],
   "source": [
    "study.best_params"
   ]
  },
  {
   "cell_type": "markdown",
   "id": "quantitative-kidney",
   "metadata": {
    "papermill": {
     "duration": 0.053759,
     "end_time": "2024-04-11T06:47:24.546766",
     "exception": false,
     "start_time": "2024-04-11T06:47:24.493007",
     "status": "completed"
    },
    "tags": []
   },
   "source": [
    "<h1 style = \"font-family: garamond; font-size: 40px; font-style: normal; letter-spcaing: 3px; background-color: #f6f5f5; color :#fe346e; border-radius: 100px 100px; text-align:center\">Re-train on the Entire Data</h1>"
   ]
  },
  {
   "cell_type": "code",
   "execution_count": 14,
   "id": "amber-antigua",
   "metadata": {
    "execution": {
     "iopub.execute_input": "2024-04-11T06:47:24.659660Z",
     "iopub.status.busy": "2024-04-11T06:47:24.659031Z",
     "iopub.status.idle": "2024-04-11T06:47:26.807062Z",
     "shell.execute_reply": "2024-04-11T06:47:26.806429Z",
     "shell.execute_reply.started": "2024-04-11T06:31:57.527222Z"
    },
    "papermill": {
     "duration": 2.207506,
     "end_time": "2024-04-11T06:47:26.807203",
     "exception": false,
     "start_time": "2024-04-11T06:47:24.599697",
     "status": "completed"
    },
    "tags": []
   },
   "outputs": [
    {
     "data": {
      "text/plain": [
       "XGBClassifier(base_score=0.5, booster='gbtree', colsample_bylevel=1,\n",
       "              colsample_bynode=1, colsample_bytree=1.0,\n",
       "              eta=0.014646079813621789, gamma=0, gpu_id=0,\n",
       "              importance_type='gain', interaction_constraints='',\n",
       "              learning_rate=0.0146460794, max_delta_step=0, max_depth=4,\n",
       "              min_child_weight=2, missing=nan, monotone_constraints='()',\n",
       "              n_estimators=900, n_jobs=4, num_parallel_tree=1, random_state=42,\n",
       "              reg_alpha=1, reg_lambda=129, scale_pos_weight=1,\n",
       "              subsample=0.9000000000000001, tree_method='gpu_hist',\n",
       "              validate_parameters=1, verbosity=None)"
      ]
     },
     "execution_count": 14,
     "metadata": {},
     "output_type": "execute_result"
    }
   ],
   "source": [
    "clf = xgb.XGBClassifier(**study.best_params, tree_method='gpu_hist', random_state=42)\n",
    "clf.fit(train[feature_cols], train[target_col], eval_metric='mlogloss')"
   ]
  },
  {
   "cell_type": "code",
   "execution_count": 15,
   "id": "compatible-batch",
   "metadata": {
    "execution": {
     "iopub.execute_input": "2024-04-11T06:47:26.922868Z",
     "iopub.status.busy": "2024-04-11T06:47:26.921991Z",
     "iopub.status.idle": "2024-04-11T06:47:26.928117Z",
     "shell.execute_reply": "2024-04-11T06:47:26.928633Z",
     "shell.execute_reply.started": "2024-04-11T06:31:59.388782Z"
    },
    "papermill": {
     "duration": 0.066839,
     "end_time": "2024-04-11T06:47:26.928798",
     "exception": false,
     "start_time": "2024-04-11T06:47:26.861959",
     "status": "completed"
    },
    "tags": []
   },
   "outputs": [],
   "source": [
    "test_predictions = clf.predict_proba(test[feature_cols])"
   ]
  },
  {
   "cell_type": "code",
   "execution_count": 16,
   "id": "joined-valentine",
   "metadata": {
    "execution": {
     "iopub.execute_input": "2024-04-11T06:47:27.043837Z",
     "iopub.status.busy": "2024-04-11T06:47:27.043157Z",
     "iopub.status.idle": "2024-04-11T06:47:27.045953Z",
     "shell.execute_reply": "2024-04-11T06:47:27.045410Z",
     "shell.execute_reply.started": "2024-04-11T06:31:59.399063Z"
    },
    "papermill": {
     "duration": 0.061886,
     "end_time": "2024-04-11T06:47:27.046087",
     "exception": false,
     "start_time": "2024-04-11T06:47:26.984201",
     "status": "completed"
    },
    "tags": []
   },
   "outputs": [],
   "source": [
    "predictions_df = pd.DataFrame(test_predictions, columns = [\"Class_1\", \"Class_2\"])\n",
    "predictions_df['CandidateID'] = sample['CandidateID']"
   ]
  },
  {
   "cell_type": "code",
   "execution_count": 17,
   "id": "certain-chocolate",
   "metadata": {
    "execution": {
     "iopub.execute_input": "2024-04-11T06:47:27.158357Z",
     "iopub.status.busy": "2024-04-11T06:47:27.157606Z",
     "iopub.status.idle": "2024-04-11T06:47:27.182743Z",
     "shell.execute_reply": "2024-04-11T06:47:27.182111Z",
     "shell.execute_reply.started": "2024-04-11T06:31:59.407906Z"
    },
    "papermill": {
     "duration": 0.08228,
     "end_time": "2024-04-11T06:47:27.182871",
     "exception": false,
     "start_time": "2024-04-11T06:47:27.100591",
     "status": "completed"
    },
    "tags": []
   },
   "outputs": [],
   "source": [
    "predictions_df.to_csv(\"xgboost.csv\", index = False)"
   ]
  },
  {
   "cell_type": "code",
   "execution_count": null,
   "id": "annoying-dress",
   "metadata": {
    "papermill": {
     "duration": 0.054468,
     "end_time": "2024-04-11T06:47:27.290999",
     "exception": false,
     "start_time": "2024-04-11T06:47:27.236531",
     "status": "completed"
    },
    "tags": []
   },
   "outputs": [],
   "source": []
  },
  {
   "cell_type": "markdown",
   "id": "stunning-brick",
   "metadata": {
    "papermill": {
     "duration": 0.053778,
     "end_time": "2024-04-11T06:47:27.399328",
     "exception": false,
     "start_time": "2024-04-11T06:47:27.345550",
     "status": "completed"
    },
    "tags": []
   },
   "source": [
    "![Upvote!](https://img.shields.io/badge/Upvote-If%20you%20like%20my%20work-07b3c8?style=for-the-badge&logo=kaggle)"
   ]
  }
 ],
 "metadata": {
  "kaggle": {
   "accelerator": "gpu",
   "dataSources": [
    {
     "databundleVersionId": 2139990,
     "sourceId": 26479,
     "sourceType": "competition"
    },
    {
     "datasetId": 4767705,
     "sourceId": 8078360,
     "sourceType": "datasetVersion"
    },
    {
     "datasetId": 4771583,
     "sourceId": 8083623,
     "sourceType": "datasetVersion"
    }
   ],
   "dockerImageVersionId": 30097,
   "isGpuEnabled": true,
   "isInternetEnabled": true,
   "language": "python",
   "sourceType": "notebook"
  },
  "kernelspec": {
   "display_name": "Python 3",
   "language": "python",
   "name": "python3"
  },
  "language_info": {
   "codemirror_mode": {
    "name": "ipython",
    "version": 3
   },
   "file_extension": ".py",
   "mimetype": "text/x-python",
   "name": "python",
   "nbconvert_exporter": "python",
   "pygments_lexer": "ipython3",
   "version": "3.7.10"
  },
  "papermill": {
   "default_parameters": {},
   "duration": 534.755296,
   "end_time": "2024-04-11T06:47:29.309445",
   "environment_variables": {},
   "exception": null,
   "input_path": "__notebook__.ipynb",
   "output_path": "__notebook__.ipynb",
   "parameters": {},
   "start_time": "2024-04-11T06:38:34.554149",
   "version": "2.3.3"
  }
 },
 "nbformat": 4,
 "nbformat_minor": 5
}
